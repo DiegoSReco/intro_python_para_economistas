{
  "nbformat": 4,
  "nbformat_minor": 0,
  "metadata": {
    "colab": {
      "provenance": [],
      "authorship_tag": "ABX9TyM57YKNJHwOyiPGjD3A5aKU",
      "include_colab_link": true
    },
    "kernelspec": {
      "name": "python3",
      "display_name": "Python 3"
    },
    "language_info": {
      "name": "python"
    }
  },
  "cells": [
    {
      "cell_type": "markdown",
      "metadata": {
        "id": "view-in-github",
        "colab_type": "text"
      },
      "source": [
        "<a href=\"https://colab.research.google.com/github/DiegoSReco/intro_python_para_economistas/blob/main/script_7_intro_encuestas_complejas.ipynb\" target=\"_parent\"><img src=\"https://colab.research.google.com/assets/colab-badge.svg\" alt=\"Open In Colab\"/></a>"
      ]
    },
    {
      "cell_type": "code",
      "execution_count": null,
      "metadata": {
        "id": "Y6erT-lGn7dB"
      },
      "outputs": [],
      "source": []
    },
    {
      "cell_type": "markdown",
      "source": [
        "## **Introducción al análisis de encuestas de diseño complejo **\n",
        "\n",
        "\n",
        "Los gobiernos, las empresas, ONGs, partidos políticos e investigadores necesitamos información de características, opiniones, preferencias y comportamiento de una población.\n",
        "\n",
        "- ¿Cuántas personas están desempleadas?\n",
        "\n",
        "- ¿Cuántas personas tienen acceso a eduación?\n",
        "\n",
        "- ¿Por qué partido se inclinan las preferencias en las próximas elecciones?\n",
        "\n",
        "- ¿Cuáles son las preferencias de los consumidores en cuanto a productos y servicios?\n",
        "\n",
        "- ¿Qué políticas consideran los votantes como prioritarias?\n",
        "\n",
        "Una opción para contestar estas preguntar es levantar censos:\n",
        "\n",
        "- Restricción de tiempo y costos\n",
        "\n",
        "- De acuerdo con el INEGI en el Censo Población y Vivienda 2020 se visitaron 55 millones de inmuebles y participaron 147 mil entrevistadores.\n",
        "\n",
        "Por lo tanto para contestar a estas preguntas recurrimos al uso de encuestas complejas o encuestas de diseño probabilístico.\n",
        "\n",
        "\n",
        "\n",
        "**¿Qué son las encuestas complejas?**\n",
        "\n",
        "Las encuestas complejas tienen un diseño de muestra probabilístico, en donde los encuestados son seleccionados de forma aleatoria de tal forma que los resultados deben representar de forma precisa y eficiente a la población de interés.\n",
        "\n",
        "\n",
        "![descarga.svg](data:image/svg+xml;base64,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)\n",
        "\n",
        "El muestreo probabilístico se caracteriza porque todos los individuos de la población tienen una probabilidad conocida y distinta de cero de ser seleccionados. Esto permite hacer inferencias estadísticas sobre la población.\n",
        "\n",
        "- **Muestreo aleatorio simple**: Cada miembro de la población tiene la misma probabilidad de ser seleccionado.\n",
        "\n",
        "$$ Probabilidad~de~ser~seleccionado = \\frac{1}{1,000,000} = 0.000001 $$\n",
        "\n",
        "\n",
        "\n",
        "Retos\n",
        "\n",
        "- Nos enfrentamos a la heterogeneidad de la población.\n",
        "-  Existen subgrupos con características diferentes, por lo tanto el muestreo aleatorio simple no siempre garantiza que todos estos subgrupos estén bien representados en la muestra y tengamos estimaciones precisas.\n",
        "\n",
        "\n",
        "\n",
        "### **Conceptos básicos de encuestas complejas**\n",
        "\n",
        "**Pesos o factores de expansión**\n",
        "\n",
        "Son factores aplicados a cada observación en la muestra para corregir las probabilidades de selección y asegurar que los resultados sean representativos de la población total.\n",
        "\n",
        "Ejemplo de cálculo de ponderadores:\n",
        "\n",
        "Si suponemos que el muestreo fue aletorio simple la probabilidad de selección será la misma y la definimos como $p_i$, el peso o ponderador será igual al inverso de la probabilidad:\n",
        "  $$ Peso Base (w_i) = \\frac{1}{p_i}$$\n",
        "\n",
        "  Población: 10,000 personas\n",
        "\n",
        "  Muestra seleccionada: 500 personas  \n",
        "\n",
        "$$p_i = \\frac{500}{10,000} = 0.05 $$\n",
        "\n",
        "$$\\therefore~~~w_i = \\frac{1}{0.05}=20$$\n",
        "\n",
        "\n",
        "- En la realidad no es tan simple y se deben considerar ajustes por no respuesta, ajuste porestratificación o clusterisación, normalización de ponderadores, etc.\n",
        "\n",
        "\n",
        "\n",
        "**Estimador puntual**\n",
        "\n",
        "La mejor aproximación de una característica poblacional utilizando datos de una muestra.\n",
        "\n",
        "**Error Estándar**\n",
        "\n",
        "Que tan seguro o preciso es nuestro estimador puntual. Cuanta variación hay en determinada carácterísticas. Buscamos el menor error estándar.\n",
        "\n",
        "\n",
        "**Interval de confianza**\n",
        "Si repitiéramos muchas veces el mismo estudio, el 95% de los intervalos construidos incluirían al verdadero valor.\n",
        "\n",
        "\"No sabemos el valor exacto, pero sabemos que está en un rango determinado\"\n",
        "\n",
        "\n",
        "\n",
        "Bibliografía\n",
        "- Klinger Angarita, R. (2024). Muestreo estadístico: métodos ásicos (1st ed.). Programa Editorial Universidad del Valle.\n",
        "- Lehtonen, R. & Pahkinen E. (2004). Practical Methods for Design and Analysis of Complex Surveys\n",
        "- Levy, P. S., & Lemeshow, S. (1993). Sampling of Populations: Methods and Applications.\n",
        "- Zimmer, S. A., Powell, R. J., & Velásquez, I. C. (2024). Exploring Complex Survey Data Analysis Using R: A Tidy Introduction with {srvyr} and {survey}. Chapman & Hall: CRC Press.**\n",
        "[Libro](https://tidy-survey-r.github.io/tidy-survey-book/index.html)\n",
        "\n",
        "\n",
        "### **¿Cómo podemos analizar estas encuestas?**\n",
        "\n",
        "*   Anteriormente sólo utilizábamos softwares como SPSS, SAS y Stata\n",
        "*   Software libre y de código abierto como R\n",
        "* ¿En Python podemos hacer análisis de encuestas complejas?"
      ],
      "metadata": {
        "id": "YL9rZUpNoQyr"
      }
    },
    {
      "cell_type": "code",
      "source": [
        "import os\n",
        "import tempfile\n",
        "import pyarrow as pa\n",
        "from zipfile import ZipFile\n",
        "from io import BytesIO\n",
        "import requests\n",
        "import pandas as pd\n",
        "import numpy as np\n",
        "\n",
        "#Función 1: enoe_load()\n",
        "def enoe_load(año, n_trim, tabla):\n",
        "    \"\"\"\n",
        "    enoe_load() realiza una descarga de una tabla de la base de datos de la ENOE y la procesa en un DataFrame de Pandas.\n",
        "    \"\"\"\n",
        "\n",
        "\n",
        "    url_gn_enoe = \"https://www.inegi.org.mx/contenidos/programas/enoe/15ymas/microdatos\"\n",
        "    last_two_digits = str(año)[-2:]\n",
        "\n",
        "    if (2005 <= año <= 2019) and (n_trim <= 4):\n",
        "        list_url = [f\"{url_gn_enoe}/{año}trim{n_trim}_csv.zip\",\n",
        "                    f\"{tabla if tabla.islower() else tabla.lower()}t{n_trim}{last_two_digits}.csv\"]\n",
        "    elif año == 2020 and n_trim == 1:\n",
        "        list_url = [\n",
        "            f\"{url_gn_enoe}/{año}trim{n_trim}_csv.zip\",\n",
        "            f\"ENOE_{tabla}T{n_trim}{last_two_digits}.csv\"]\n",
        "    elif año == 2020 and n_trim == 2:\n",
        "        etoe_link = \"https://www.inegi.org.mx/contenidos/investigacion/etoe\"\n",
        "        raise Exception(f\"Para este trimestre no existe versión ENOE. Prueba con ETOE 2020: {etoe_link}\")\n",
        "\n",
        "    elif (año == 2020 and n_trim == 3) or ((2021 <= año <= 2022) and (1 <= n_trim <= 4)):\n",
        "        list_url = [\n",
        "            f\"{url_gn_enoe}/enoe_n_{año}_trim{n_trim}_csv.zip\",\n",
        "            f\"ENOEN_{tabla}T{n_trim}{last_two_digits}.csv\"]\n",
        "    elif año == 2020 and n_trim == 4:\n",
        "        list_url = [\n",
        "            f\"{url_gn_enoe}/enoe_n_{año}_trim{n_trim}_csv.zip\",\n",
        "            f\"enoen_{tabla}T{n_trim}{last_two_digits}.csv\"]\n",
        "    elif año >= 2023 and n_trim >= 1:\n",
        "        list_url = [\n",
        "            f\"{url_gn_enoe}/enoe_{año}_trim{n_trim}_csv.zip\",\n",
        "            f\"ENOE_{tabla if tabla.isupper() else tabla.upper()}T{n_trim}{last_two_digits}.csv\"]\n",
        "    else:\n",
        "        print(\"URL incorrecto\")\n",
        "        return None\n",
        "    url_data = list_url[0]\n",
        "    modulo = list_url[1]\n",
        "    #Realizo la consulta\n",
        "    request_data = requests.get(url_data).content\n",
        "    #Guardo en zip file\n",
        "    zip_form = ZipFile(BytesIO(request_data))\n",
        "    #Cargamos datos\n",
        "    with zip_form.open(modulo) as file:\n",
        "         df_enoe = pd.read_csv(file, engine = \"pyarrow\" ,  encoding='latin-1') # na_values= [pd.NA, \" \"]\n",
        "\n",
        "    return df_enoe"
      ],
      "metadata": {
        "id": "h7Y1k8dKth3n"
      },
      "execution_count": null,
      "outputs": []
    },
    {
      "cell_type": "markdown",
      "source": [
        "Cargamos ENOE y tratamos los datos"
      ],
      "metadata": {
        "id": "bvng1Wo7uFmv"
      }
    },
    {
      "cell_type": "code",
      "source": [
        "#Cargamos\n",
        "df_enoe_sdem = enoe_load(2024, 4 , \"SDEM\")\n",
        "\n",
        "#Filtramos personas con entrevista completa y que son residentes habituales en las viviendas\n",
        "df_enoe_sdem = df_enoe_sdem[(df_enoe_sdem['r_def'] ==0) & ((df_enoe_sdem['c_res']==1) | (df_enoe_sdem['c_res']==3))]\n",
        "\n",
        "#Permanecen variables de interés\n",
        "df_enoe_sdem= df_enoe_sdem[[ 'cd_a', 'r_def',  'ent','con','v_sel','tipo','mes_cal', 'n_hog','h_mud','n_ren',  't_loc_tri', 'fac_tri', 'clase1', 'clase2', 'sex','emp_ppal', 'eda', 'scian', 'salario' ,'hrsocup', 'ingocup']]\n",
        "\n",
        "#Variable edad a numérico\n",
        "df_enoe_sdem['eda'] = df_enoe_sdem['eda'].replace(' ', np.nan)\n",
        "df_enoe_sdem['eda']  = pd.to_numeric(df_enoe_sdem['eda'])\n",
        "\n",
        "#Filtramos en edad de trabajar\n",
        "df_enoe_sdem = df_enoe_sdem[  (df_enoe_sdem[\"eda\"] >= 15) & (df_enoe_sdem[\"eda\"] < 99)  ]\n",
        "\n",
        "#Ocupado\n",
        "df_enoe_sdem['ocupado']= np.where((df_enoe_sdem['clase1']==1) & (df_enoe_sdem['clase2']==1) , 1,0)\n",
        "\n",
        "#Codifiación SCIAN\n",
        "scian_descripciones = { 1: \"Agricultura, Ganadería, etc\",2: \"Minería\", 3: \"Generación y distribución de electricidad, suministro de agua y gas\", 4: \"Construcción\",\n",
        "                        5: \"Industrias manufactureras\", 6: \"Comercio al por mayor\", 7: \"Comercio al por menor\", 8: \"Transportes, correos y almacenamiento\",\n",
        "                        9: \"Información en medios masivos\", 10: \"Servicios financieros y de seguros\", 11: \"Servicios inmobiliarios de alquiler de bienes\",\n",
        "                        12: \"Servicios profesionales, científicos y técnicos\",13: \"Corporativos\", 14: \"Servicios de apoyo a los negocios y manejo de desechos\",15: \"Servicios educativos\",\n",
        "                        16: \"Servicios de salud y de asistencia social\", 17: \"Servicios de esparcimiento culturales y deportivos\", 18: \"Servicios de hospedaje y preparación de alimentos y bebidas\",\n",
        "                        19: \"Otros servicios, excepto actividades gubernamentales\", 20: \"Actividades gubernamentales y de organismos internacionales\",21: \"No especificado\"}\n",
        "#Codificamos categorías\n",
        "df_enoe_sdem['SCIAN_b'] = df_enoe_sdem['scian'].map(scian_descripciones)\n",
        "\n",
        "#Codificación entidad con diccionario Entidades\n",
        "entidad_dict = { 1:\"AGS\", 2: \"BC\", 3: \"BCS\", 4: \"CAMP\", 5: \"COAH\", 6: \"COL\", 7: \"CHIS\", 8: \"CHIH\",\n",
        "                  9: \"CDMX\", 10: \"DGO\", 11: \"GTO\", 12: \"GRO\", 13: \"HGO\", 14: \"JAL\", 15: \"MEX\", 16: \"MICH\",\n",
        "                  17: \"MOR\", 18: \"NAY\", 19: \"NL\", 20: \"OAX\", 21: \"PUE\", 22: \"QRO\", 23: \"QR\", 24: \"SLP\",\n",
        "                  25: \"SIN\", 26: \"SON\", 27: \"TAB\", 28: \"TAMS\", 29: \"TLAX\", 30: \"VER\", 31: \"YUC\", 32: \"ZAC\"}\n",
        "#Entidad con nombre abreviados\n",
        "df_enoe_sdem[\"entidad_ab\"] = df_enoe_sdem[\"ent\"].map( entidad_dict)\n",
        "#Sexo\n",
        "df_enoe_sdem[\"clas_sexo\"] = df_enoe_sdem[\"sex\"].map({\"1\": \"Hombre\", \"2\": \"Mujer\"}).fillna(np.nan)\n",
        "#Identificación de informales\n",
        "df_enoe_sdem['informal'] = df_enoe_sdem['emp_ppal'].map({1:1, 2:0}).fillna(np.nan)\n"
      ],
      "metadata": {
        "colab": {
          "base_uri": "https://localhost:8080/"
        },
        "id": "UllUfjp3uNcf",
        "outputId": "c49533b5-1e62-4a09-b360-8aae14b8dcce"
      },
      "execution_count": null,
      "outputs": [
        {
          "output_type": "stream",
          "name": "stderr",
          "text": [
            "<ipython-input-5-e4c18f1beb3c>:18: SettingWithCopyWarning: \n",
            "A value is trying to be set on a copy of a slice from a DataFrame.\n",
            "Try using .loc[row_indexer,col_indexer] = value instead\n",
            "\n",
            "See the caveats in the documentation: https://pandas.pydata.org/pandas-docs/stable/user_guide/indexing.html#returning-a-view-versus-a-copy\n",
            "  df_enoe_sdem['ocupado']= np.where((df_enoe_sdem['clase1']==1) & (df_enoe_sdem['clase2']==1) , 1,0)\n",
            "<ipython-input-5-e4c18f1beb3c>:28: SettingWithCopyWarning: \n",
            "A value is trying to be set on a copy of a slice from a DataFrame.\n",
            "Try using .loc[row_indexer,col_indexer] = value instead\n",
            "\n",
            "See the caveats in the documentation: https://pandas.pydata.org/pandas-docs/stable/user_guide/indexing.html#returning-a-view-versus-a-copy\n",
            "  df_enoe_sdem['SCIAN_b'] = df_enoe_sdem['scian'].map(scian_descripciones)\n",
            "<ipython-input-5-e4c18f1beb3c>:36: SettingWithCopyWarning: \n",
            "A value is trying to be set on a copy of a slice from a DataFrame.\n",
            "Try using .loc[row_indexer,col_indexer] = value instead\n",
            "\n",
            "See the caveats in the documentation: https://pandas.pydata.org/pandas-docs/stable/user_guide/indexing.html#returning-a-view-versus-a-copy\n",
            "  df_enoe_sdem[\"entidad_ab\"] = df_enoe_sdem[\"ent\"].map( entidad_dict)\n"
          ]
        }
      ]
    },
    {
      "cell_type": "markdown",
      "source": [
        "## **Totales y sumas**\n",
        "\n",
        "\n",
        "De acuerdo con el INEGI para el Trimestre IV de 2024 la población ocupada fue de **59,487,546** mientras que la desocupada fue de **1,567,775**.\n",
        "\n",
        "Fuente: [Boletín ENOE Trimestre IV 2024](https://www.inegi.org.mx/contenidos/saladeprensa/boletines/2025/iooe/ioe2025_01_29.pdf)\n",
        "\n",
        "Ejemplo:\n",
        "\n",
        "- ¿Estimar la población ocupada y desocupada en Python?\n",
        "\n",
        "\n"
      ],
      "metadata": {
        "id": "_vsdnWaxuyLw"
      }
    },
    {
      "cell_type": "code",
      "source": [
        "#Filtro\n",
        "df_pea = df_enoe_sdem[df_enoe_sdem['clase1'] == 1]\n",
        "#Conteo muestral\n",
        "pea_samp = df_pea.groupby('ocupado').size()\n",
        "\n",
        "print(pea_samp)\n"
      ],
      "metadata": {
        "colab": {
          "base_uri": "https://localhost:8080/"
        },
        "id": "B3EH--mZvI8m",
        "outputId": "9dc29b82-9073-4176-f5ef-ad42177374c6"
      },
      "execution_count": null,
      "outputs": [
        {
          "output_type": "stream",
          "name": "stdout",
          "text": [
            "ocupado\n",
            "0      5054\n",
            "1    191738\n",
            "dtype: int64\n"
          ]
        }
      ]
    },
    {
      "cell_type": "code",
      "source": [
        "#Utilizamos el factor\n",
        "pea_pob = df_pea.groupby('ocupado')['fac_tri'].sum()\n",
        "print(pea_pob)"
      ],
      "metadata": {
        "colab": {
          "base_uri": "https://localhost:8080/"
        },
        "id": "MvyxoB4fvP9w",
        "outputId": "25dd4a57-08dd-4527-c1af-93d242358cfe"
      },
      "execution_count": null,
      "outputs": [
        {
          "output_type": "stream",
          "name": "stdout",
          "text": [
            "ocupado\n",
            "0     1567775\n",
            "1    59487546\n",
            "Name: fac_tri, dtype: int64\n"
          ]
        }
      ]
    },
    {
      "cell_type": "markdown",
      "source": [
        "**Por categorías**\n",
        "\n",
        "Podremos hacer de dos formas:\n",
        "\n",
        "* De acuerdo con el INEGI para el IV trimestre de 2024 los hombres ocupados fueron **34,924,786**, mientras que las mujeres **24,562,760**.\n"
      ],
      "metadata": {
        "id": "eco2GXdRyb_D"
      }
    },
    {
      "cell_type": "code",
      "source": [
        "pea_sexo = df_pea.groupby(['ocupado', 'clas_sexo']).size()\n",
        "\n",
        "print(pea_sexo)"
      ],
      "metadata": {
        "colab": {
          "base_uri": "https://localhost:8080/"
        },
        "id": "7rATCVEdyhhe",
        "outputId": "4fe76bb2-0dc6-4fc6-89ad-3612e6009245"
      },
      "execution_count": null,
      "outputs": [
        {
          "output_type": "stream",
          "name": "stdout",
          "text": [
            "ocupado  clas_sexo\n",
            "0        Hombre         2909\n",
            "         Mujer          2145\n",
            "1        Hombre       111371\n",
            "         Mujer         80367\n",
            "dtype: int64\n"
          ]
        }
      ]
    },
    {
      "cell_type": "code",
      "source": [
        "\n",
        "pea_sexo_pob = df_pea.groupby(['ocupado', 'clas_sexo'])['fac_tri'].sum()\n",
        "\n",
        "print(pea_sexo_pob)"
      ],
      "metadata": {
        "colab": {
          "base_uri": "https://localhost:8080/"
        },
        "id": "XsmRwDS0yihs",
        "outputId": "a1d285cd-4ef5-4355-85fe-ded049e727cf"
      },
      "execution_count": null,
      "outputs": [
        {
          "output_type": "stream",
          "name": "stdout",
          "text": [
            "ocupado  clas_sexo\n",
            "0        Hombre         942762\n",
            "         Mujer          625013\n",
            "1        Hombre       34924786\n",
            "         Mujer        24562760\n",
            "Name: fac_tri, dtype: int64\n"
          ]
        }
      ]
    },
    {
      "cell_type": "markdown",
      "source": [
        "Utilizando **`crosstab()`**"
      ],
      "metadata": {
        "id": "QPcrjyGDymMr"
      }
    },
    {
      "cell_type": "code",
      "source": [
        "pea_sexo_pob_c = pd.crosstab(\n",
        "                             index =   df_pea[\"clas_sexo\"],\n",
        "                             columns = df_pea['ocupado'],\n",
        "                             values =  df_pea['fac_tri'],\n",
        "                             aggfunc = np.sum\n",
        "                             )\n",
        "pea_sexo_pob_c"
      ],
      "metadata": {
        "colab": {
          "base_uri": "https://localhost:8080/",
          "height": 178
        },
        "id": "HxOuB-bbyyn6",
        "outputId": "317c25c2-8273-4eb2-ba7b-f590507b948a"
      },
      "execution_count": null,
      "outputs": [
        {
          "output_type": "stream",
          "name": "stderr",
          "text": [
            "<ipython-input-10-14e2738cac6a>:1: FutureWarning: The provided callable <function sum at 0x7dd90d100ea0> is currently using DataFrameGroupBy.sum. In a future version of pandas, the provided callable will be used directly. To keep current behavior pass the string \"sum\" instead.\n",
            "  pea_sexo_pob_c = pd.crosstab(\n"
          ]
        },
        {
          "output_type": "execute_result",
          "data": {
            "text/plain": [
              "ocupado         0         1\n",
              "clas_sexo                  \n",
              "Hombre     942762  34924786\n",
              "Mujer      625013  24562760"
            ],
            "text/html": [
              "\n",
              "  <div id=\"df-e9d99f18-d474-49d2-acda-c6178df392df\" class=\"colab-df-container\">\n",
              "    <div>\n",
              "<style scoped>\n",
              "    .dataframe tbody tr th:only-of-type {\n",
              "        vertical-align: middle;\n",
              "    }\n",
              "\n",
              "    .dataframe tbody tr th {\n",
              "        vertical-align: top;\n",
              "    }\n",
              "\n",
              "    .dataframe thead th {\n",
              "        text-align: right;\n",
              "    }\n",
              "</style>\n",
              "<table border=\"1\" class=\"dataframe\">\n",
              "  <thead>\n",
              "    <tr style=\"text-align: right;\">\n",
              "      <th>ocupado</th>\n",
              "      <th>0</th>\n",
              "      <th>1</th>\n",
              "    </tr>\n",
              "    <tr>\n",
              "      <th>clas_sexo</th>\n",
              "      <th></th>\n",
              "      <th></th>\n",
              "    </tr>\n",
              "  </thead>\n",
              "  <tbody>\n",
              "    <tr>\n",
              "      <th>Hombre</th>\n",
              "      <td>942762</td>\n",
              "      <td>34924786</td>\n",
              "    </tr>\n",
              "    <tr>\n",
              "      <th>Mujer</th>\n",
              "      <td>625013</td>\n",
              "      <td>24562760</td>\n",
              "    </tr>\n",
              "  </tbody>\n",
              "</table>\n",
              "</div>\n",
              "    <div class=\"colab-df-buttons\">\n",
              "\n",
              "  <div class=\"colab-df-container\">\n",
              "    <button class=\"colab-df-convert\" onclick=\"convertToInteractive('df-e9d99f18-d474-49d2-acda-c6178df392df')\"\n",
              "            title=\"Convert this dataframe to an interactive table.\"\n",
              "            style=\"display:none;\">\n",
              "\n",
              "  <svg xmlns=\"http://www.w3.org/2000/svg\" height=\"24px\" viewBox=\"0 -960 960 960\">\n",
              "    <path d=\"M120-120v-720h720v720H120Zm60-500h600v-160H180v160Zm220 220h160v-160H400v160Zm0 220h160v-160H400v160ZM180-400h160v-160H180v160Zm440 0h160v-160H620v160ZM180-180h160v-160H180v160Zm440 0h160v-160H620v160Z\"/>\n",
              "  </svg>\n",
              "    </button>\n",
              "\n",
              "  <style>\n",
              "    .colab-df-container {\n",
              "      display:flex;\n",
              "      gap: 12px;\n",
              "    }\n",
              "\n",
              "    .colab-df-convert {\n",
              "      background-color: #E8F0FE;\n",
              "      border: none;\n",
              "      border-radius: 50%;\n",
              "      cursor: pointer;\n",
              "      display: none;\n",
              "      fill: #1967D2;\n",
              "      height: 32px;\n",
              "      padding: 0 0 0 0;\n",
              "      width: 32px;\n",
              "    }\n",
              "\n",
              "    .colab-df-convert:hover {\n",
              "      background-color: #E2EBFA;\n",
              "      box-shadow: 0px 1px 2px rgba(60, 64, 67, 0.3), 0px 1px 3px 1px rgba(60, 64, 67, 0.15);\n",
              "      fill: #174EA6;\n",
              "    }\n",
              "\n",
              "    .colab-df-buttons div {\n",
              "      margin-bottom: 4px;\n",
              "    }\n",
              "\n",
              "    [theme=dark] .colab-df-convert {\n",
              "      background-color: #3B4455;\n",
              "      fill: #D2E3FC;\n",
              "    }\n",
              "\n",
              "    [theme=dark] .colab-df-convert:hover {\n",
              "      background-color: #434B5C;\n",
              "      box-shadow: 0px 1px 3px 1px rgba(0, 0, 0, 0.15);\n",
              "      filter: drop-shadow(0px 1px 2px rgba(0, 0, 0, 0.3));\n",
              "      fill: #FFFFFF;\n",
              "    }\n",
              "  </style>\n",
              "\n",
              "    <script>\n",
              "      const buttonEl =\n",
              "        document.querySelector('#df-e9d99f18-d474-49d2-acda-c6178df392df button.colab-df-convert');\n",
              "      buttonEl.style.display =\n",
              "        google.colab.kernel.accessAllowed ? 'block' : 'none';\n",
              "\n",
              "      async function convertToInteractive(key) {\n",
              "        const element = document.querySelector('#df-e9d99f18-d474-49d2-acda-c6178df392df');\n",
              "        const dataTable =\n",
              "          await google.colab.kernel.invokeFunction('convertToInteractive',\n",
              "                                                    [key], {});\n",
              "        if (!dataTable) return;\n",
              "\n",
              "        const docLinkHtml = 'Like what you see? Visit the ' +\n",
              "          '<a target=\"_blank\" href=https://colab.research.google.com/notebooks/data_table.ipynb>data table notebook</a>'\n",
              "          + ' to learn more about interactive tables.';\n",
              "        element.innerHTML = '';\n",
              "        dataTable['output_type'] = 'display_data';\n",
              "        await google.colab.output.renderOutput(dataTable, element);\n",
              "        const docLink = document.createElement('div');\n",
              "        docLink.innerHTML = docLinkHtml;\n",
              "        element.appendChild(docLink);\n",
              "      }\n",
              "    </script>\n",
              "  </div>\n",
              "\n",
              "\n",
              "<div id=\"df-08456907-82d1-4db7-8cbf-6baab3e2b6c4\">\n",
              "  <button class=\"colab-df-quickchart\" onclick=\"quickchart('df-08456907-82d1-4db7-8cbf-6baab3e2b6c4')\"\n",
              "            title=\"Suggest charts\"\n",
              "            style=\"display:none;\">\n",
              "\n",
              "<svg xmlns=\"http://www.w3.org/2000/svg\" height=\"24px\"viewBox=\"0 0 24 24\"\n",
              "     width=\"24px\">\n",
              "    <g>\n",
              "        <path d=\"M19 3H5c-1.1 0-2 .9-2 2v14c0 1.1.9 2 2 2h14c1.1 0 2-.9 2-2V5c0-1.1-.9-2-2-2zM9 17H7v-7h2v7zm4 0h-2V7h2v10zm4 0h-2v-4h2v4z\"/>\n",
              "    </g>\n",
              "</svg>\n",
              "  </button>\n",
              "\n",
              "<style>\n",
              "  .colab-df-quickchart {\n",
              "      --bg-color: #E8F0FE;\n",
              "      --fill-color: #1967D2;\n",
              "      --hover-bg-color: #E2EBFA;\n",
              "      --hover-fill-color: #174EA6;\n",
              "      --disabled-fill-color: #AAA;\n",
              "      --disabled-bg-color: #DDD;\n",
              "  }\n",
              "\n",
              "  [theme=dark] .colab-df-quickchart {\n",
              "      --bg-color: #3B4455;\n",
              "      --fill-color: #D2E3FC;\n",
              "      --hover-bg-color: #434B5C;\n",
              "      --hover-fill-color: #FFFFFF;\n",
              "      --disabled-bg-color: #3B4455;\n",
              "      --disabled-fill-color: #666;\n",
              "  }\n",
              "\n",
              "  .colab-df-quickchart {\n",
              "    background-color: var(--bg-color);\n",
              "    border: none;\n",
              "    border-radius: 50%;\n",
              "    cursor: pointer;\n",
              "    display: none;\n",
              "    fill: var(--fill-color);\n",
              "    height: 32px;\n",
              "    padding: 0;\n",
              "    width: 32px;\n",
              "  }\n",
              "\n",
              "  .colab-df-quickchart:hover {\n",
              "    background-color: var(--hover-bg-color);\n",
              "    box-shadow: 0 1px 2px rgba(60, 64, 67, 0.3), 0 1px 3px 1px rgba(60, 64, 67, 0.15);\n",
              "    fill: var(--button-hover-fill-color);\n",
              "  }\n",
              "\n",
              "  .colab-df-quickchart-complete:disabled,\n",
              "  .colab-df-quickchart-complete:disabled:hover {\n",
              "    background-color: var(--disabled-bg-color);\n",
              "    fill: var(--disabled-fill-color);\n",
              "    box-shadow: none;\n",
              "  }\n",
              "\n",
              "  .colab-df-spinner {\n",
              "    border: 2px solid var(--fill-color);\n",
              "    border-color: transparent;\n",
              "    border-bottom-color: var(--fill-color);\n",
              "    animation:\n",
              "      spin 1s steps(1) infinite;\n",
              "  }\n",
              "\n",
              "  @keyframes spin {\n",
              "    0% {\n",
              "      border-color: transparent;\n",
              "      border-bottom-color: var(--fill-color);\n",
              "      border-left-color: var(--fill-color);\n",
              "    }\n",
              "    20% {\n",
              "      border-color: transparent;\n",
              "      border-left-color: var(--fill-color);\n",
              "      border-top-color: var(--fill-color);\n",
              "    }\n",
              "    30% {\n",
              "      border-color: transparent;\n",
              "      border-left-color: var(--fill-color);\n",
              "      border-top-color: var(--fill-color);\n",
              "      border-right-color: var(--fill-color);\n",
              "    }\n",
              "    40% {\n",
              "      border-color: transparent;\n",
              "      border-right-color: var(--fill-color);\n",
              "      border-top-color: var(--fill-color);\n",
              "    }\n",
              "    60% {\n",
              "      border-color: transparent;\n",
              "      border-right-color: var(--fill-color);\n",
              "    }\n",
              "    80% {\n",
              "      border-color: transparent;\n",
              "      border-right-color: var(--fill-color);\n",
              "      border-bottom-color: var(--fill-color);\n",
              "    }\n",
              "    90% {\n",
              "      border-color: transparent;\n",
              "      border-bottom-color: var(--fill-color);\n",
              "    }\n",
              "  }\n",
              "</style>\n",
              "\n",
              "  <script>\n",
              "    async function quickchart(key) {\n",
              "      const quickchartButtonEl =\n",
              "        document.querySelector('#' + key + ' button');\n",
              "      quickchartButtonEl.disabled = true;  // To prevent multiple clicks.\n",
              "      quickchartButtonEl.classList.add('colab-df-spinner');\n",
              "      try {\n",
              "        const charts = await google.colab.kernel.invokeFunction(\n",
              "            'suggestCharts', [key], {});\n",
              "      } catch (error) {\n",
              "        console.error('Error during call to suggestCharts:', error);\n",
              "      }\n",
              "      quickchartButtonEl.classList.remove('colab-df-spinner');\n",
              "      quickchartButtonEl.classList.add('colab-df-quickchart-complete');\n",
              "    }\n",
              "    (() => {\n",
              "      let quickchartButtonEl =\n",
              "        document.querySelector('#df-08456907-82d1-4db7-8cbf-6baab3e2b6c4 button');\n",
              "      quickchartButtonEl.style.display =\n",
              "        google.colab.kernel.accessAllowed ? 'block' : 'none';\n",
              "    })();\n",
              "  </script>\n",
              "</div>\n",
              "\n",
              "  <div id=\"id_008ab160-9be0-4d50-a0bc-4eced1ca0fc4\">\n",
              "    <style>\n",
              "      .colab-df-generate {\n",
              "        background-color: #E8F0FE;\n",
              "        border: none;\n",
              "        border-radius: 50%;\n",
              "        cursor: pointer;\n",
              "        display: none;\n",
              "        fill: #1967D2;\n",
              "        height: 32px;\n",
              "        padding: 0 0 0 0;\n",
              "        width: 32px;\n",
              "      }\n",
              "\n",
              "      .colab-df-generate:hover {\n",
              "        background-color: #E2EBFA;\n",
              "        box-shadow: 0px 1px 2px rgba(60, 64, 67, 0.3), 0px 1px 3px 1px rgba(60, 64, 67, 0.15);\n",
              "        fill: #174EA6;\n",
              "      }\n",
              "\n",
              "      [theme=dark] .colab-df-generate {\n",
              "        background-color: #3B4455;\n",
              "        fill: #D2E3FC;\n",
              "      }\n",
              "\n",
              "      [theme=dark] .colab-df-generate:hover {\n",
              "        background-color: #434B5C;\n",
              "        box-shadow: 0px 1px 3px 1px rgba(0, 0, 0, 0.15);\n",
              "        filter: drop-shadow(0px 1px 2px rgba(0, 0, 0, 0.3));\n",
              "        fill: #FFFFFF;\n",
              "      }\n",
              "    </style>\n",
              "    <button class=\"colab-df-generate\" onclick=\"generateWithVariable('pea_sexo_pob_c')\"\n",
              "            title=\"Generate code using this dataframe.\"\n",
              "            style=\"display:none;\">\n",
              "\n",
              "  <svg xmlns=\"http://www.w3.org/2000/svg\" height=\"24px\"viewBox=\"0 0 24 24\"\n",
              "       width=\"24px\">\n",
              "    <path d=\"M7,19H8.4L18.45,9,17,7.55,7,17.6ZM5,21V16.75L18.45,3.32a2,2,0,0,1,2.83,0l1.4,1.43a1.91,1.91,0,0,1,.58,1.4,1.91,1.91,0,0,1-.58,1.4L9.25,21ZM18.45,9,17,7.55Zm-12,3A5.31,5.31,0,0,0,4.9,8.1,5.31,5.31,0,0,0,1,6.5,5.31,5.31,0,0,0,4.9,4.9,5.31,5.31,0,0,0,6.5,1,5.31,5.31,0,0,0,8.1,4.9,5.31,5.31,0,0,0,12,6.5,5.46,5.46,0,0,0,6.5,12Z\"/>\n",
              "  </svg>\n",
              "    </button>\n",
              "    <script>\n",
              "      (() => {\n",
              "      const buttonEl =\n",
              "        document.querySelector('#id_008ab160-9be0-4d50-a0bc-4eced1ca0fc4 button.colab-df-generate');\n",
              "      buttonEl.style.display =\n",
              "        google.colab.kernel.accessAllowed ? 'block' : 'none';\n",
              "\n",
              "      buttonEl.onclick = () => {\n",
              "        google.colab.notebook.generateWithVariable('pea_sexo_pob_c');\n",
              "      }\n",
              "      })();\n",
              "    </script>\n",
              "  </div>\n",
              "\n",
              "    </div>\n",
              "  </div>\n"
            ],
            "application/vnd.google.colaboratory.intrinsic+json": {
              "type": "dataframe",
              "variable_name": "pea_sexo_pob_c",
              "summary": "{\n  \"name\": \"pea_sexo_pob_c\",\n  \"rows\": 2,\n  \"fields\": [\n    {\n      \"column\": \"clas_sexo\",\n      \"properties\": {\n        \"dtype\": \"string\",\n        \"num_unique_values\": 2,\n        \"samples\": [\n          \"Mujer\",\n          \"Hombre\"\n        ],\n        \"semantic_type\": \"\",\n        \"description\": \"\"\n      }\n    },\n    {\n      \"column\": 0,\n      \"properties\": {\n        \"dtype\": \"number\",\n        \"std\": 224682,\n        \"min\": 625013,\n        \"max\": 942762,\n        \"num_unique_values\": 2,\n        \"samples\": [\n          625013,\n          942762\n        ],\n        \"semantic_type\": \"\",\n        \"description\": \"\"\n      }\n    },\n    {\n      \"column\": 1,\n      \"properties\": {\n        \"dtype\": \"number\",\n        \"std\": 7327058,\n        \"min\": 24562760,\n        \"max\": 34924786,\n        \"num_unique_values\": 2,\n        \"samples\": [\n          24562760,\n          34924786\n        ],\n        \"semantic_type\": \"\",\n        \"description\": \"\"\n      }\n    }\n  ]\n}"
            }
          },
          "metadata": {},
          "execution_count": 10
        }
      ]
    },
    {
      "cell_type": "markdown",
      "source": [
        "**Medias**\n",
        "\n",
        "Ejemplo:\n",
        "\n",
        "- Horas e Ingresos laborales"
      ],
      "metadata": {
        "id": "Z2B-hj_D2Gkn"
      }
    },
    {
      "cell_type": "code",
      "source": [
        "mean_ing = df_pea['ingocup'].mean()\n",
        "print(f\"Mean of hrs: {mean_ing:.2f}\")"
      ],
      "metadata": {
        "colab": {
          "base_uri": "https://localhost:8080/"
        },
        "id": "_pIm8Ii82MH4",
        "outputId": "936d8260-b786-4807-ce13-40b9a34d659b"
      },
      "execution_count": null,
      "outputs": [
        {
          "output_type": "stream",
          "name": "stdout",
          "text": [
            "Mean of hrs: 6536.72\n"
          ]
        }
      ]
    },
    {
      "cell_type": "code",
      "source": [
        "mean_ing_weighted = np.average(df_pea['ingocup'], weights=df_pea['fac_tri'])\n",
        "\n",
        "print(f\"Mean of hrs: {mean_ing_weighted:.2f}\")"
      ],
      "metadata": {
        "colab": {
          "base_uri": "https://localhost:8080/"
        },
        "id": "IMlVT4tI2dHX",
        "outputId": "72dd326d-ee24-4712-ce5b-0da4f0100868"
      },
      "execution_count": null,
      "outputs": [
        {
          "output_type": "stream",
          "name": "stdout",
          "text": [
            "Mean of hrs: 5878.85\n"
          ]
        }
      ]
    },
    {
      "cell_type": "code",
      "source": [
        "mean_hrs = df_pea['hrsocup'].mean()\n",
        "print(f\"Mean of hrs: {mean_hrs:.2f}\")\n",
        "\n",
        "mean_hrs_weighted = np.average(df_pea['hrsocup'], weights=df_pea['fac_tri'])\n",
        "\n",
        "print(f\"Mean of hrs: {mean_hrs_weighted:.2f}\")\n"
      ],
      "metadata": {
        "colab": {
          "base_uri": "https://localhost:8080/"
        },
        "id": "5PgwYFuH4Vti",
        "outputId": "3c56f188-e516-4a6d-8dd0-c1428c68cb4b"
      },
      "execution_count": null,
      "outputs": [
        {
          "output_type": "stream",
          "name": "stdout",
          "text": [
            "Mean of hrs: 39.82\n",
            "Mean of hrs: 39.92\n"
          ]
        }
      ]
    },
    {
      "cell_type": "markdown",
      "source": [
        "**Medias por categoría**\n",
        "\n"
      ],
      "metadata": {
        "id": "EXaFQjdH4saj"
      }
    },
    {
      "cell_type": "code",
      "source": [
        "df_pea.groupby('clas_sexo')['hrsocup'].mean()"
      ],
      "metadata": {
        "colab": {
          "base_uri": "https://localhost:8080/",
          "height": 178
        },
        "id": "ZeAHKM4s5TYy",
        "outputId": "528f6476-a488-4ae7-f1dc-61ad8b0c5eaf"
      },
      "execution_count": null,
      "outputs": [
        {
          "output_type": "execute_result",
          "data": {
            "text/plain": [
              "clas_sexo\n",
              "Hombre    42.702634\n",
              "Mujer     35.826619\n",
              "Name: hrsocup, dtype: float64"
            ],
            "text/html": [
              "<div>\n",
              "<style scoped>\n",
              "    .dataframe tbody tr th:only-of-type {\n",
              "        vertical-align: middle;\n",
              "    }\n",
              "\n",
              "    .dataframe tbody tr th {\n",
              "        vertical-align: top;\n",
              "    }\n",
              "\n",
              "    .dataframe thead th {\n",
              "        text-align: right;\n",
              "    }\n",
              "</style>\n",
              "<table border=\"1\" class=\"dataframe\">\n",
              "  <thead>\n",
              "    <tr style=\"text-align: right;\">\n",
              "      <th></th>\n",
              "      <th>hrsocup</th>\n",
              "    </tr>\n",
              "    <tr>\n",
              "      <th>clas_sexo</th>\n",
              "      <th></th>\n",
              "    </tr>\n",
              "  </thead>\n",
              "  <tbody>\n",
              "    <tr>\n",
              "      <th>Hombre</th>\n",
              "      <td>42.702634</td>\n",
              "    </tr>\n",
              "    <tr>\n",
              "      <th>Mujer</th>\n",
              "      <td>35.826619</td>\n",
              "    </tr>\n",
              "  </tbody>\n",
              "</table>\n",
              "</div><br><label><b>dtype:</b> float64</label>"
            ]
          },
          "metadata": {},
          "execution_count": 22
        }
      ]
    },
    {
      "cell_type": "code",
      "source": [
        "# Función para media ponderada\n",
        "def mean_fac(df, grupo, variable, peso):\n",
        "    media_pond = (\n",
        "        df.groupby(grupo)\n",
        "        .apply(lambda x: np.average(x[variable], weights=x[peso]))\n",
        "        .reset_index(name=f\"media_ponderada_{variable}\")\n",
        "        .sort_values(by=f\"media_ponderada_{variable}\", ascending=False))\n",
        "    return media_pond\n",
        "\n",
        "\n",
        "#Media de horas de trabajo semanales con factor de expansión\n",
        "mean_fac_hrs = mean_fac(df_pea, 'clas_sexo', 'hrsocup', 'fac_tri')\n",
        "print(mean_fac_hrs )"
      ],
      "metadata": {
        "colab": {
          "base_uri": "https://localhost:8080/"
        },
        "id": "MKozE-SE5gG2",
        "outputId": "bd0df17d-23dc-4a3b-ae68-2ab3b93f2b26"
      },
      "execution_count": 38,
      "outputs": [
        {
          "output_type": "stream",
          "name": "stdout",
          "text": [
            "  clas_sexo  media_ponderada_hrsocup\n",
            "0    Hombre                42.656709\n",
            "1     Mujer                36.011980\n"
          ]
        },
        {
          "output_type": "stream",
          "name": "stderr",
          "text": [
            "<ipython-input-38-eb0ce0fc96b0>:5: DeprecationWarning: DataFrameGroupBy.apply operated on the grouping columns. This behavior is deprecated, and in a future version of pandas the grouping columns will be excluded from the operation. Either pass `include_groups=False` to exclude the groupings or explicitly select the grouping columns after groupby to silence this warning.\n",
            "  .apply(lambda x: np.average(x[variable], weights=x[peso]))\n"
          ]
        }
      ]
    },
    {
      "cell_type": "markdown",
      "source": [
        "**Media de ingreso por entidad**\n",
        "\n",
        "- Muestra"
      ],
      "metadata": {
        "id": "JiBrLyqn8Zci"
      }
    },
    {
      "cell_type": "code",
      "source": [
        "mean_ing_ent = df_pea.groupby(['entidad_ab'])['ingocup'].mean()\n",
        "print(mean_ing_ent.sort_values(ascending=False))"
      ],
      "metadata": {
        "colab": {
          "base_uri": "https://localhost:8080/"
        },
        "id": "qpM6_sQ88hwS",
        "outputId": "99d954fa-a02e-4189-fd63-592995ef9eb7"
      },
      "execution_count": 35,
      "outputs": [
        {
          "output_type": "stream",
          "name": "stdout",
          "text": [
            "entidad_ab\n",
            "BCS     11248.183496\n",
            "COAH     9302.951177\n",
            "NL       9021.340009\n",
            "NAY      8640.191848\n",
            "CAMP     8426.552030\n",
            "SIN      8404.391207\n",
            "TAMS     8301.509170\n",
            "CHIH     8113.179722\n",
            "BC       7541.163441\n",
            "DGO      7526.063603\n",
            "QR       7508.612503\n",
            "YUC      7427.056832\n",
            "COL      7320.369732\n",
            "SON      7214.202633\n",
            "TAB      6721.315068\n",
            "MICH     6545.686072\n",
            "CHIS     6151.584014\n",
            "HGO      6091.719073\n",
            "ZAC      5777.712774\n",
            "JAL      5631.144724\n",
            "VER      5630.959885\n",
            "CDMX     5295.986194\n",
            "TLAX     5245.635257\n",
            "SLP      5213.350890\n",
            "GRO      5159.107584\n",
            "AGS      5079.154139\n",
            "GTO      4929.332695\n",
            "PUE      4909.819284\n",
            "OAX      4679.951872\n",
            "QRO      3792.460939\n",
            "MEX      3682.525633\n",
            "MOR      2724.720082\n",
            "Name: ingocup, dtype: float64\n"
          ]
        }
      ]
    },
    {
      "cell_type": "markdown",
      "source": [
        "- Estimación de la media poblacional del ingreso por entidad\n"
      ],
      "metadata": {
        "id": "pu0rMTH19mk1"
      }
    },
    {
      "cell_type": "code",
      "source": [
        "#Media de ingreso con factor\n",
        "mean_ing_fac = mean_fac(df_pea, 'entidad_ab', 'ingocup', 'fac_tri')\n",
        "\n",
        "print(mean_ing_fac)"
      ],
      "metadata": {
        "colab": {
          "base_uri": "https://localhost:8080/"
        },
        "id": "0rMKhqI98LoL",
        "outputId": "78061316-5e74-4e21-888c-93562c46d61c"
      },
      "execution_count": 39,
      "outputs": [
        {
          "output_type": "stream",
          "name": "stdout",
          "text": [
            "   entidad_ab  media_ponderada_ingocup\n",
            "2         BCS             12108.436600\n",
            "7        COAH              9225.943050\n",
            "18         NL              9219.141596\n",
            "17        NAY              8494.613801\n",
            "27       TAMS              8376.815570\n",
            "23        SIN              8193.201025\n",
            "21         QR              8097.351299\n",
            "5        CHIH              7905.272253\n",
            "3        CAMP              7806.201668\n",
            "1          BC              7522.870168\n",
            "30        YUC              7375.180536\n",
            "8         COL              7310.291629\n",
            "9         DGO              7254.440798\n",
            "25        SON              7042.774815\n",
            "15       MICH              6811.637120\n",
            "26        TAB              6329.682310\n",
            "4        CDMX              5935.661420\n",
            "13        JAL              5804.062701\n",
            "12        HGO              5665.976571\n",
            "31        ZAC              5472.851093\n",
            "0         AGS              5337.703676\n",
            "28       TLAX              5283.603785\n",
            "29        VER              5276.281985\n",
            "24        SLP              5215.467494\n",
            "6        CHIS              5200.852243\n",
            "20        PUE              4751.638411\n",
            "11        GTO              4650.424042\n",
            "10        GRO              4531.550437\n",
            "19        OAX              4249.830034\n",
            "22        QRO              3726.946754\n",
            "14        MEX              3240.193452\n",
            "16        MOR              2908.004910\n"
          ]
        },
        {
          "output_type": "stream",
          "name": "stderr",
          "text": [
            "<ipython-input-38-eb0ce0fc96b0>:5: DeprecationWarning: DataFrameGroupBy.apply operated on the grouping columns. This behavior is deprecated, and in a future version of pandas the grouping columns will be excluded from the operation. Either pass `include_groups=False` to exclude the groupings or explicitly select the grouping columns after groupby to silence this warning.\n",
            "  .apply(lambda x: np.average(x[variable], weights=x[peso]))\n"
          ]
        }
      ]
    },
    {
      "cell_type": "markdown",
      "source": [
        "\n",
        "##✅ **¿Qué sí se puede hacer en Python?**\n",
        "- Calcular estadísticos descriptivos ponderados (medias, totales) usando los pesos.\n",
        "\n",
        "**Limitaciones**\n",
        "\n",
        "En Python, no se pueden calcular de forma directa y automatizada los errores estándar ni los intervalos de confianza ajustados por el diseño complejo de encuestas (es decir, considerando estratificación, conglomerados y pesos simultáneamente), como sí se puede en R con el paquete survey.\n"
      ],
      "metadata": {
        "id": "AwQ0HE-6zL3b"
      }
    }
  ]
}