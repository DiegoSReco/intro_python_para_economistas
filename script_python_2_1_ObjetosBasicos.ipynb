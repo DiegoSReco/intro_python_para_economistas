{
  "cells": [
    {
      "cell_type": "markdown",
      "metadata": {
        "colab_type": "text",
        "id": "view-in-github"
      },
      "source": [
        "<a href=\"https://colab.research.google.com/github/DiegoSReco/python_para_economistas/blob/main/script_python_2_1_Objeto.ipynb\" target=\"_parent\"><img src=\"https://colab.research.google.com/assets/colab-badge.svg\" alt=\"Open In Colab\"/></a>"
      ]
    },
    {
      "cell_type": "markdown",
      "metadata": {
        "id": "2-10yUlrvl9i"
      },
      "source": [
        "# **2. Objetos básicos en Python**\n",
        "\n",
        "- **¿Qué es un objeto en Python?**\n",
        "\n",
        "  Un objeto es una unidad que combina datos (atributos) y las operaciones que   podemos realizar con esos datos (métodos). Como Python es un lenguaje de programación orientado a objetos, tipos de cosas básicas simples como números, cadenas de textos o listas son objetos.\n",
        "\n",
        "\n",
        "- **¿Qué características tienen los objetos en Python?**\n",
        "  \n",
        "  Todo objeto en Python tiene tres características fundamentales:\n",
        "\n",
        "     * **Identidad**: Un identificador único que lo distingue de otros objetos\n",
        "     * **Tipo**: Define qué operaciones podemos realizar con el objeto\n",
        "     * **Valor**: Los datos que contiene el objeto\n",
        "\n",
        "En este segmento, exploraremos en detalle cada uno de estos objetos básicos, sus propiedades y las operaciones que podemos realizar con ellos."
      ]
    },
    {
      "cell_type": "markdown",
      "metadata": {
        "id": "1V6d4SVz0Seh"
      },
      "source": [
        "## **2.1 Tipos de variables, su definición y operaciones básicas**\n",
        "\n",
        "**Creación de variables**\n",
        "\n",
        "La creación de variables en python es relativamente sencillo, para ello se tiene que seguir la siguiente estructura:\n",
        "```\n",
        "nombre_variable = \"valor\"\n",
        "\n",
        "```\n",
        "\n",
        " Por ejemplo, para asignar el resultado de la siguiente suma `5 + 678` en un variable que llamaremos `z`:"
      ]
    },
    {
      "cell_type": "code",
      "execution_count": null,
      "metadata": {
        "colab": {
          "base_uri": "https://localhost:8080/"
        },
        "id": "MwoLpSrM5n4S",
        "outputId": "d784f372-34e7-4816-8b91-5a0d557cbbad"
      },
      "outputs": [
        {
          "name": "stdout",
          "output_type": "stream",
          "text": [
            "683\n"
          ]
        }
      ],
      "source": [
        "#Creamos z\n",
        "z = 5 + 678\n",
        "#Imprimimos resultados\n",
        "print(z)"
      ]
    },
    {
      "cell_type": "markdown",
      "metadata": {
        "id": "L2fLSaJX6Ub8"
      },
      "source": [
        "* Si queremos modificar con otro valor, por ejemplo `0`, simplemente asignamos un nuevo valor a `z`:"
      ]
    },
    {
      "cell_type": "code",
      "execution_count": null,
      "metadata": {
        "colab": {
          "base_uri": "https://localhost:8080/"
        },
        "id": "nIlGnVtn59tx",
        "outputId": "ff674777-0d72-4eb8-88be-d9206bcbce19"
      },
      "outputs": [
        {
          "name": "stdout",
          "output_type": "stream",
          "text": [
            "0\n"
          ]
        }
      ],
      "source": [
        "z = 0\n",
        "print(z)"
      ]
    },
    {
      "cell_type": "markdown",
      "metadata": {
        "id": "KRlnXRuC6XyN"
      },
      "source": [
        "* Para eliminar una variable utilizaremos el comando `del`:"
      ]
    },
    {
      "cell_type": "code",
      "execution_count": null,
      "metadata": {
        "id": "XLZhZkRN6Wta"
      },
      "outputs": [],
      "source": [
        "del z"
      ]
    },
    {
      "cell_type": "markdown",
      "metadata": {
        "id": "2BOl8p4a6rpc"
      },
      "source": [
        "* Para saber el tipo de variable utilizamos la función base `type()`:"
      ]
    },
    {
      "cell_type": "code",
      "execution_count": null,
      "metadata": {
        "colab": {
          "base_uri": "https://localhost:8080/"
        },
        "id": "jiOLm_0969Dg",
        "outputId": "82dbb922-ec4b-49aa-e950-ca16ded149fb"
      },
      "outputs": [
        {
          "data": {
            "text/plain": [
              "int"
            ]
          },
          "execution_count": 5,
          "metadata": {},
          "output_type": "execute_result"
        }
      ],
      "source": [
        "#Defino z\n",
        "z = 5 + 678\n",
        "#Tipo de variable\n",
        "type(z)\n"
      ]
    },
    {
      "cell_type": "markdown",
      "metadata": {
        "id": "9x1nma0Z7EVX"
      },
      "source": [
        "### **Tipos de variables**\n",
        "\n",
        "En Python y en general en los lenguajes de programación dos escenciales tipos de variables numéricas son los:\n",
        "\n",
        "-  Enteros (int)\n",
        "\n",
        "  - Representación de números sin decimales\n",
        "  - Precisión ilimitada en Python 3\n",
        "  - Uso en contadores, índices y cálculos exactos\n",
        "\n",
        "\n",
        "- Punto Flotante (float)\n",
        "\n",
        "  - Representación de números decimales\n",
        "  - Precisión de hasta 15-17 dígitos decimales\n",
        "\n",
        "\n"
      ]
    },
    {
      "cell_type": "markdown",
      "metadata": {
        "id": "1sR6fKkp0v2K"
      },
      "source": [
        "#### **Numéricas**\n",
        "\n",
        "\n",
        "1 . **Enteros**"
      ]
    },
    {
      "cell_type": "code",
      "execution_count": null,
      "metadata": {
        "colab": {
          "base_uri": "https://localhost:8080/"
        },
        "id": "CtVYA33T9v-C",
        "outputId": "84644ebc-0517-4b5d-fee1-2f2791fb74b4"
      },
      "outputs": [
        {
          "name": "stdout",
          "output_type": "stream",
          "text": [
            "<class 'int'> <class 'int'> <class 'int'>\n"
          ]
        }
      ],
      "source": [
        "#Definir de enteros\n",
        "edad = 25\n",
        "temperatura_bajo_cero = -10\n",
        "n_grande = 1_000_0\n",
        "\n",
        "#Tipo de variable\n",
        "print(type(edad),\n",
        "      type(temperatura_bajo_cero),\n",
        "      type(n_grande))"
      ]
    },
    {
      "cell_type": "markdown",
      "metadata": {
        "id": "ZNtMtb0z9tOd"
      },
      "source": [
        "##### **Operaciones básicas con enteros**\n"
      ]
    },
    {
      "cell_type": "code",
      "execution_count": null,
      "metadata": {
        "colab": {
          "base_uri": "https://localhost:8080/"
        },
        "id": "kuNW9zoV8Tep",
        "outputId": "7c2ded9e-2fd3-4189-eebe-ba406ca105ab"
      },
      "outputs": [
        {
          "name": "stdout",
          "output_type": "stream",
          "text": [
            "Resultado suma: 8 \n",
            " Resultado multiplicación: 12 \n",
            " Resultado potencia: 8\n"
          ]
        }
      ],
      "source": [
        "#Definir operaciones\n",
        "suma = 5 + 3\n",
        "resta = 10 - 4\n",
        "multiplicacion = 3\n",
        "division_entera = 7 // 2\n",
        "modulo = 7 % 3      #  (resto de la división)\n",
        "potencia = 2 ** 3\n",
        "\n",
        "#Imprimir resultados\n",
        "print(\"Resultado suma:\", suma, \"\\n\",\n",
        "      \"Resultado multiplicación:\", multiplicacion, \"\\n\",\n",
        "      \"Resultado potencia:\", potencia)\n"
      ]
    },
    {
      "cell_type": "markdown",
      "metadata": {
        "id": "4rWxumx5-Zh6"
      },
      "source": [
        "2. **Números en coma flotante**\n",
        "\n",
        "    Los números flotantes son numeros reales que se escriben utilizando un punto para distinguir la parte entera y la parte decimal.\n"
      ]
    },
    {
      "cell_type": "code",
      "execution_count": null,
      "metadata": {
        "colab": {
          "base_uri": "https://localhost:8080/"
        },
        "id": "iyBSA_7p_rTk",
        "outputId": "830c0d4a-38f4-41c4-ecb0-47e1557f8531"
      },
      "outputs": [
        {
          "name": "stdout",
          "output_type": "stream",
          "text": [
            "<class 'float'> <class 'float'> <class 'float'>\n"
          ]
        }
      ],
      "source": [
        "#Definir de flotantes\n",
        "x = 2.0\n",
        "y = 48.15162342\n",
        "z = 3.2e12 #podemos utilizar notación científica\n",
        "\n",
        "#Tipos flotantes\n",
        "print(type(x), type(y), type(z))"
      ]
    },
    {
      "cell_type": "markdown",
      "metadata": {
        "id": "Lc0tclVrAvRM"
      },
      "source": [
        " ##### Operaciones básicas con flotantes"
      ]
    },
    {
      "cell_type": "code",
      "execution_count": null,
      "metadata": {
        "colab": {
          "base_uri": "https://localhost:8080/"
        },
        "id": "i5X_6EvJ_1py",
        "outputId": "755e79f1-91d8-4991-ff24-d3dd49c2a032"
      },
      "outputs": [
        {
          "name": "stdout",
          "output_type": "stream",
          "text": [
            "Resultado suma: 50.15162342 \n",
            " Resultado multiplicación: 96.30324684 \n",
            " Resultado potencia: 8.0\n",
            "<class 'float'>\n"
          ]
        }
      ],
      "source": [
        "#Definir operaciones\n",
        "suma = x + y\n",
        "resta = x - y\n",
        "multiplicacion = x * y\n",
        "division_entera = 7.0 // 2.0\n",
        "modulo = 7.0 % 3.0\n",
        "potencia = 2.0 ** 3.0\n",
        "\n",
        "\n",
        "#Imprimir resultados\n",
        "print(\"Resultado suma:\", suma, \"\\n\",\n",
        "      \"Resultado multiplicación:\", multiplicacion, \"\\n\",\n",
        "      \"Resultado potencia:\", potencia)\n",
        "\n",
        "#Tipo de variables\n",
        "print(type(potencia))"
      ]
    },
    {
      "cell_type": "markdown",
      "metadata": {
        "id": "_eljJ00bBgLq"
      },
      "source": [
        "#### **Cadenas de texto (*strings*)**\n",
        "\n",
        "Los tipo de variables cadenas de texto o texto son sucesiones de carácteres como letras, palabras, números, signos de puntuación, etc.  Para definir este tipo de variables en python podemos utilizar comillas sencillas `'string'`, comillas dobles `\"string\"` o comillas triples `'''string'''`.\n",
        "\n",
        "* Por ejemplo:\n",
        "\n"
      ]
    },
    {
      "cell_type": "code",
      "execution_count": null,
      "metadata": {
        "colab": {
          "base_uri": "https://localhost:8080/"
        },
        "id": "Udx0AGxKdKiG",
        "outputId": "8987ec43-97e6-4745-c324-6854dead542d"
      },
      "outputs": [
        {
          "name": "stdout",
          "output_type": "stream",
          "text": [
            "10000 <class 'str'>\n"
          ]
        }
      ],
      "source": [
        "# Diferentes formas de crear strings\n",
        "nombre = \"Ana Ramirez Garcia\"\n",
        "calificación = \"MB\"\n",
        "mensaje = '''Este es un texto\n",
        "             que ocupa múltiples\n",
        "              líneas'''\n",
        "n_string = \"10000\"\n",
        "\n",
        "#Imprimir tipo\n",
        "print(n_string, type(n_string))"
      ]
    },
    {
      "cell_type": "markdown",
      "metadata": {
        "id": "w-d_YSaJes-O"
      },
      "source": [
        "##### **Operaciones básicas con cadenas**\n",
        "\n",
        "**1. Concatenación**\n",
        "\n",
        "Para la unión de cadenas Python ofrece varias alternativas. Las forma más comun es utilizar el signo `+` como los siguientes ejemplos:"
      ]
    },
    {
      "cell_type": "code",
      "execution_count": null,
      "metadata": {
        "colab": {
          "base_uri": "https://localhost:8080/"
        },
        "id": "3KIIqNqCe0Bw",
        "outputId": "814ec399-d176-4614-dae8-d95c6c158fdb"
      },
      "outputs": [
        {
          "name": "stdout",
          "output_type": "stream",
          "text": [
            "Casa  abierta  al  tiempo \n"
          ]
        }
      ],
      "source": [
        "#Deinir concatenación\n",
        "lema = \"Casa \" + \" abierta \" + \" al \" + \" tiempo \"\n",
        "print(lema)"
      ]
    },
    {
      "cell_type": "markdown",
      "metadata": {
        "id": "7-Jlw7bUhVAp"
      },
      "source": [
        "  Podemos utilizar paréntesis para realizar concatenaciones `()`:"
      ]
    },
    {
      "cell_type": "code",
      "execution_count": null,
      "metadata": {
        "colab": {
          "base_uri": "https://localhost:8080/"
        },
        "id": "X_foqMhng8Jx",
        "outputId": "a407f62c-9f1f-4529-f33b-3a9a1979a497"
      },
      "outputs": [
        {
          "name": "stdout",
          "output_type": "stream",
          "text": [
            "Casa  abierta  al  tiempo \n"
          ]
        }
      ],
      "source": [
        "#Deinir concatenación\n",
        "lema_1 = (\"Casa \" \" abierta \" \" al \" \" tiempo \")\n",
        "print(lema_1)"
      ]
    },
    {
      "cell_type": "markdown",
      "metadata": {
        "id": "7BXzKAgli0JX"
      },
      "source": [
        "Además, es posible agregar variables a una cadena utilizando corchetes (`{}`) dentro de la cadena y la función`format()`:"
      ]
    },
    {
      "cell_type": "code",
      "execution_count": null,
      "metadata": {
        "colab": {
          "base_uri": "https://localhost:8080/"
        },
        "id": "aqGGYHbXkOyJ",
        "outputId": "6c0df359-118c-4797-ddbc-695531ce657e"
      },
      "outputs": [
        {
          "name": "stdout",
          "output_type": "stream",
          "text": [
            "Me gusta comer sushi y chilaquiles\n"
          ]
        }
      ],
      "source": [
        "#Definir string con {}\n",
        "string_1 = \"Me gusta comer {} y {}\"\n",
        "#Definir variables\n",
        "p1 = \"hamburguesa\"\n",
        "p2 = \"chilaquiles\"\n",
        "p3 = \"sushi\"\n",
        "#Utilizo función format\n",
        "print(string_1.format(p3,p2))\n"
      ]
    },
    {
      "cell_type": "markdown",
      "metadata": {
        "id": "9v8Cbg3PmuJ6"
      },
      "source": [
        "**2. Acceso a elementos de una cadena**\n",
        "\n",
        "Para particionar las cadenas utilizamos la indexación de éstas. Es decir, los elementos de cada cadena que definamos tiene un **índice o posición** `(i)` que utilizaremos dentro de corchetes ( `[i]` ) para acceder a un elemento específico.\n",
        "\n",
        "> **Observación 1**: En Python a diferencia de otros lenguajes de programación el índice de cualquier objeto comienza en 0.  \n",
        "\n",
        "\n",
        "* Primero, debemos conocer la longitud de la cadena y para ello utilizaremos la\n",
        "  función `len('string')`:"
      ]
    },
    {
      "cell_type": "code",
      "execution_count": null,
      "metadata": {
        "colab": {
          "base_uri": "https://localhost:8080/"
        },
        "id": "Ds-doyxVoq50",
        "outputId": "b77a9db9-97eb-44b0-bb64-e04d7f03d866"
      },
      "outputs": [
        {
          "name": "stdout",
          "output_type": "stream",
          "text": [
            "5\n"
          ]
        }
      ],
      "source": [
        "#Elementos en una cadena (longitud de la cadena)\n",
        "long_string = len(p3)\n",
        "print(long_string)\n"
      ]
    },
    {
      "cell_type": "markdown",
      "metadata": {
        "id": "RRAFAmSjqaXa"
      },
      "source": [
        "* Para acceder al primero y último elemento de la cadena:"
      ]
    },
    {
      "cell_type": "code",
      "execution_count": null,
      "metadata": {
        "colab": {
          "base_uri": "https://localhost:8080/"
        },
        "id": "pS7fLiJwqlYn",
        "outputId": "5b5064d0-7dfa-461d-cc53-5ffaa8e1aa71"
      },
      "outputs": [
        {
          "name": "stdout",
          "output_type": "stream",
          "text": [
            "s\n",
            "i\n",
            "i\n"
          ]
        }
      ],
      "source": [
        "#Primer elemento\n",
        "print(p3[0])\n",
        "\n",
        "#Ultimo elemento\n",
        "print(p3[4])\n",
        "\n",
        "#Otra forma de acceder al último elemento\n",
        "print(p3[-1])"
      ]
    },
    {
      "cell_type": "markdown",
      "metadata": {
        "id": "rMOMDRodsN5W"
      },
      "source": [
        "* Para tomar un rango de índices de la cadena utilizaremos la estructura `var[inicio,final]`\n",
        "\n",
        " Ejemplo:"
      ]
    },
    {
      "cell_type": "code",
      "execution_count": null,
      "metadata": {
        "colab": {
          "base_uri": "https://localhost:8080/"
        },
        "id": "HV8JzP2zsNWQ",
        "outputId": "051126c6-b99e-45e7-c352-2efb1d10db35"
      },
      "outputs": [
        {
          "name": "stdout",
          "output_type": "stream",
          "text": [
            "ush\n",
            "sush\n",
            "ushi\n"
          ]
        }
      ],
      "source": [
        "#Acceder a un rango de elementos\n",
        "p3_r = p3[1:4]\n",
        "print(p3_r)\n",
        "\n",
        "#No se especifica el inicio (toma desde el inicio hasta el final definido )\n",
        "p3_r = p3[:4]\n",
        "print(p3_r)\n",
        "\n",
        "#No se especifica el final (toma desde el i definido al final)\n",
        "p3_r = p3[1:]\n",
        "print(p3_r)"
      ]
    },
    {
      "cell_type": "markdown",
      "metadata": {
        "id": "_XFsY93puU9d"
      },
      "source": [
        "* Podemos arreglar los elementos de la cadena del final al incio, de tal forma que volteemos la cadena\n",
        "\n",
        "   Utilizaremos `::-1` dentro del corchete:"
      ]
    },
    {
      "cell_type": "code",
      "execution_count": null,
      "metadata": {
        "colab": {
          "base_uri": "https://localhost:8080/"
        },
        "id": "Xs4oWXYquatq",
        "outputId": "cb68e718-5166-4cf6-cfc3-ce462bfb7d54"
      },
      "outputs": [
        {
          "name": "stdout",
          "output_type": "stream",
          "text": [
            "amor\n"
          ]
        }
      ],
      "source": [
        "#Definimos cadena\n",
        "x = 'roma'\n",
        "#Arreglar elementos de fin a inicio (-1 representa el elemento final)\n",
        "x_fin_inicio = x[::-1]\n",
        "\n",
        "print(x_fin_inicio)"
      ]
    },
    {
      "cell_type": "markdown",
      "metadata": {
        "id": "2mETX4GgrDrT"
      },
      "source": [
        "\n",
        "> **Error Común 2** (**IndexError**): El índice computado está fuera del rango permitido."
      ]
    },
    {
      "cell_type": "code",
      "execution_count": null,
      "metadata": {
        "colab": {
          "base_uri": "https://localhost:8080/",
          "height": 159
        },
        "id": "8xdQPjoorcbg",
        "outputId": "bfd4fbd5-9fd9-488f-e8a1-cbfe23b810f4"
      },
      "outputs": [
        {
          "ename": "IndexError",
          "evalue": "string index out of range",
          "output_type": "error",
          "traceback": [
            "\u001b[0;31m---------------------------------------------------------------------------\u001b[0m",
            "\u001b[0;31mIndexError\u001b[0m                                Traceback (most recent call last)",
            "\u001b[0;32m<ipython-input-36-e59ad3ec2215>\u001b[0m in \u001b[0;36m<cell line: 2>\u001b[0;34m()\u001b[0m\n\u001b[1;32m      1\u001b[0m \u001b[0;31m#Index Erro\u001b[0m\u001b[0;34m\u001b[0m\u001b[0;34m\u001b[0m\u001b[0m\n\u001b[0;32m----> 2\u001b[0;31m \u001b[0mprint\u001b[0m\u001b[0;34m(\u001b[0m\u001b[0mx\u001b[0m\u001b[0;34m[\u001b[0m\u001b[0;36m5\u001b[0m\u001b[0;34m]\u001b[0m\u001b[0;34m)\u001b[0m\u001b[0;34m\u001b[0m\u001b[0;34m\u001b[0m\u001b[0m\n\u001b[0m",
            "\u001b[0;31mIndexError\u001b[0m: string index out of range"
          ]
        }
      ],
      "source": [
        "#Index Erro\n",
        "print(x[5])\n"
      ]
    },
    {
      "cell_type": "markdown",
      "metadata": {
        "id": "i6-dfXO0lomC"
      },
      "source": [
        " **3. Funciones aplicadas a cadenas**\n",
        "\n",
        "\n",
        "Python  tiene una serie de funciones o métodos predefinidos que se utilizan exclusivamente en cadenas. Para ello seguiremos la siguiente sintáxis:\n",
        "\n",
        "```\n",
        "\"var_cadena\".\"nombre_función\"()\n",
        "```\n",
        "* Conversión a mayúsculas, minúculas, capitalización y título\n",
        "\n"
      ]
    },
    {
      "cell_type": "code",
      "execution_count": null,
      "metadata": {
        "colab": {
          "base_uri": "https://localhost:8080/"
        },
        "id": "JFKMPEDqgpkb",
        "outputId": "e188ff80-1019-41eb-da56-c792052d4fc4"
      },
      "outputs": [
        {
          "name": "stdout",
          "output_type": "stream",
          "text": [
            "ESTADO DE MÉXICO\n",
            "estado de méxico\n",
            "Estado de méxico\n",
            "Estado De México\n"
          ]
        }
      ],
      "source": [
        "#Definir cadena\n",
        "c1_est = \"Estado de México\"\n",
        "\n",
        "#Convertir a mayúsculas\n",
        "c1_est = c1_est.upper()\n",
        "print(c1_est)\n",
        "\n",
        "#Convertir a minúsculas\n",
        "c1_est = c1_est.lower()\n",
        "print(c1_est)\n",
        "\n",
        "#Convertir primera letra en mayúscula\n",
        "c1_est = c1_est.capitalize()\n",
        "print(c1_est)\n",
        "\n",
        "#Convertir a formato de título\n",
        "c1_est = c1_est.title()\n",
        "print(c1_est)"
      ]
    },
    {
      "cell_type": "markdown",
      "metadata": {
        "id": "fVbTxU68iXlu"
      },
      "source": [
        "* Separación y unión de cadenas\n",
        "\n",
        "   Para dividir una cadena en multiples se utiliza la función `split()` y en este caso para que el método se ejecute la función necesita la entrada de un argumento que será el patrón por el que dividiremos la cadena:\n",
        "   \n",
        "   ```\n",
        "   var_cadena.split(\"patrón\")\n",
        "   ```\n",
        "   Para la unión de cadenas de una lista la sintáxis será al revés:\n",
        "\n",
        "   ```\n",
        "   \"patrón\".join(var_cadena)\n",
        "   ```\n",
        "   \n",
        "   Ejemplo:"
      ]
    },
    {
      "cell_type": "code",
      "execution_count": null,
      "metadata": {
        "colab": {
          "base_uri": "https://localhost:8080/"
        },
        "id": "qOJXPEkmjXqZ",
        "outputId": "b1df479b-ac86-48e1-ab16-a64996e52e77"
      },
      "outputs": [
        {
          "name": "stdout",
          "output_type": "stream",
          "text": [
            "['Estado', 'De', 'México']\n",
            "Estado,De,México\n"
          ]
        }
      ],
      "source": [
        "#Dividir cadena por espacio\n",
        "list_cadena = c1_est.split(' ') #El resultado será una lista de cadenas\n",
        "print(list_cadena)\n",
        "\n",
        "#Unir cadenas de una lista\n",
        "c1_est_join = \",\".join(list_cadena)\n",
        "print(c1_est_join)\n"
      ]
    },
    {
      "cell_type": "markdown",
      "metadata": {
        "id": "g-h_SwCTmhFa"
      },
      "source": [
        "* **Limpieza de cadenas**\n",
        "\n",
        "  La limpieza es una tarea cotidiana en el análisis de datos, ya que   nos podemos econtrar con inconsistencias como prefijos o sufijos en   blanco, saltos de líneas, espacios adicionales, carácteres incorrectos, etc.\n",
        "  \n",
        "  Para la eliminar las inconsistencias mencionadas se utiliza la función `strip()`.\n",
        "\n",
        "  Ejemplo:\n"
      ]
    },
    {
      "cell_type": "code",
      "execution_count": null,
      "metadata": {
        "colab": {
          "base_uri": "https://localhost:8080/"
        },
        "id": "ihCW4YsQqmXx",
        "outputId": "deb15bdd-9ebf-4595-cc53-3f506c0a0983"
      },
      "outputs": [
        {
          "name": "stdout",
          "output_type": "stream",
          "text": [
            " Tlanepantla de Baz \n",
            "Tlanepantla de Baz\n"
          ]
        }
      ],
      "source": [
        "#Eliminación de espacios\n",
        "c3_est = \" Tlanepantla de Baz \"\n",
        "print(c3_est)\n",
        "#Sin espacios\n",
        "print(c3_est.strip(\" \"))"
      ]
    },
    {
      "cell_type": "code",
      "execution_count": null,
      "metadata": {
        "colab": {
          "base_uri": "https://localhost:8080/"
        },
        "id": "0HB90sX4y3U3",
        "outputId": "e2a5ceba-865a-4a0e-95ea-f0d5edb7e383"
      },
      "outputs": [
        {
          "name": "stdout",
          "output_type": "stream",
          "text": [
            "150.2\n"
          ]
        }
      ],
      "source": [
        "#Patrones específicos\n",
        "c4_pib_Ags = \"{150.2}\"\n",
        "#Aplicar strip para limpiar la cifra\n",
        "c4_pib_Ags = c4_pib_Ags.strip(\"{}\")\n",
        "print(c4_pib_Ags )"
      ]
    },
    {
      "cell_type": "markdown",
      "metadata": {
        "id": "j2hhOe0h1lNz"
      },
      "source": [
        "   \n",
        "   * Para el reemplazo de carácteres incorrectos por los correctos    utilizamos la función `replace()` con la siguiente sintáxis:\n",
        "   \n",
        "   ```\n",
        "    cadena_incorrecta.replace('patrón incorrecto', 'patrón correcto')\n",
        "   ```\n",
        "\n"
      ]
    },
    {
      "cell_type": "code",
      "execution_count": null,
      "metadata": {
        "colab": {
          "base_uri": "https://localhost:8080/"
        },
        "id": "vyWe3z_z1kGi",
        "outputId": "67a8071a-09bb-4fe6-9bef-edeb86d02aa3"
      },
      "outputs": [
        {
          "name": "stdout",
          "output_type": "stream",
          "text": [
            "El PIB de Aguascalientes en 2023 ascendió a 170.3 miles de millones de pesos\n"
          ]
        }
      ],
      "source": [
        "#Definir cadena\n",
        "c4_pib_Ags = \"El PIB de Aguascalientes en 2023 ascendió a 150.2 miles de millones de pesos\"\n",
        "\n",
        "#Aplicar función\n",
        "c4_pib_Ags_buena = c4_pib_Ags.replace('150.2 ', \"170.3 \")\n",
        "\n",
        "print(c4_pib_Ags_buena)"
      ]
    },
    {
      "cell_type": "code",
      "execution_count": null,
      "metadata": {
        "colab": {
          "base_uri": "https://localhost:8080/"
        },
        "id": "kiL7x9FA3HG9",
        "outputId": "24315440-bfdb-45ef-ef17-403097c36e90"
      },
      "outputs": [
        {
          "name": "stdout",
          "output_type": "stream",
          "text": [
            "El\n",
            "PIB de Aguascalientes\n",
            "en 2023 ascendió a\n",
            "150.2 miles\n",
            "de millones de pesos \n",
            "\n",
            "El PIB de Aguascalientes en 2023 ascendió a 150.2 miles de millones de pesos\n"
          ]
        }
      ],
      "source": [
        "#Con saltos de línes\n",
        "c5_pib_Ags = \"El\\nPIB de Aguascalientes\\nen 2023 ascendió a\\n150.2 miles\\nde millones de pesos\"\n",
        "print(c5_pib_Ags, \"\\n\" )\n",
        "\n",
        "#Reemplazar con espacios\n",
        "c5_pib_Ags_buena = c5_pib_Ags.replace(\"\\n\", \" \")\n",
        "print(c5_pib_Ags_buena)\n"
      ]
    },
    {
      "cell_type": "markdown",
      "metadata": {
        "id": "kXLj17m570qu"
      },
      "source": [
        "* Para encontrar la posición de patrones específicos en una cadena utilizamos la función `find()`\n",
        "\n",
        "   Sintáxis:\n",
        "   \n",
        "   ```\n",
        "   cadena.find('patrón')\n",
        "   ```\n",
        "   Si el patrón especificado se localiza en la cadena el resultado será el índice `(i)` inicial de esa patrón. El resultado es útil para realizar extracciones de patrones por índice.\n",
        "   \n",
        "   Si no se encuentra el patrón en la cadena el resultado será -1\n",
        "   \n",
        "   Ejemplo:"
      ]
    },
    {
      "cell_type": "code",
      "execution_count": null,
      "metadata": {
        "colab": {
          "base_uri": "https://localhost:8080/"
        },
        "id": "cc4mTvnT8cNy",
        "outputId": "8f9db0b8-88cf-4e48-962b-d56695d662fa"
      },
      "outputs": [
        {
          "name": "stdout",
          "output_type": "stream",
          "text": [
            "3\n",
            "PIB\n"
          ]
        },
        {
          "data": {
            "text/plain": [
              "-1"
            ]
          },
          "execution_count": 82,
          "metadata": {},
          "output_type": "execute_result"
        }
      ],
      "source": [
        "#Cadena\n",
        "c4_pib_Ags = \"El PIB de Aguascalientes en 2023 ascendió a 150.2 miles de millones de pesos\"\n",
        "#Encontrar patrón PIB\n",
        "index_PIB = c4_pib_Ags.find(\"PIB\")\n",
        "#Imprimir resultado\n",
        "print(index_PIB)\n",
        "\n",
        "#Extracción de patrón\n",
        "len_path = len(\"PIB\") #Tamaño de patrón\n",
        "#Extracción por índice\n",
        "print(c4_pib_Ags[index_PIB : index_PIB + len_path])\n",
        "\n",
        "\n",
        "#Buscar patrón que no está en la cadena\n",
        "c4_pib_Ags.find(\"CDMX\")"
      ]
    },
    {
      "cell_type": "markdown",
      "metadata": {
        "id": "XqWGvH2-AL3j"
      },
      "source": [
        "\n",
        "En la siguiente tabla se muestra el resumen de funciones básicas aplicadas a cadenas y adicionales como son las de verificación de contenido.\n",
        "\n",
        "**Resumen de funciones aplicadas a cadena**\n",
        "\n",
        "| Método | Descripción | Ejemplo | Resultado |\n",
        "|--------|-------------|----------|-----------|\n",
        "| `lower()` | Convierte a minúsculas | `\"HOLA\".lower()` | `\"hola\"` |\n",
        "| `upper()` | Convierte a mayúsculas | `\"hola\".upper()` | `\"HOLA\"` |\n",
        "| `strip()` | Elimina espacios inicio/final | `\"  hola  \".strip()` | `\"hola\"` |\n",
        "| `replace()` | Reemplaza texto | `\"hola mundo\".replace(\"o\",\"0\")` | `\"h0la mund0\"` |\n",
        "| `split()` | Divide en lista | `\"a,b,c\".split(\",\")` | `[\"a\",\"b\",\"c\"]` |\n",
        "| `join()` | Une lista en string | `\",\".join([\"a\",\"b\"])` | `\"a,b\"` |\n",
        "| `startswith()` | Verifica inicio | `\"hola\".startswith(\"ho\")` | `True` |\n",
        "| `endswith()` | Verifica final | `\"hola.txt\".endswith(\".txt\")` | `True` |\n",
        "| `find()` | Busca posición | `\"hola mundo\".find(\"mundo\")` | `5` |\n",
        "| `count()` | Cuenta ocurrencias | `\"banana\".count(\"a\")` | `3` |\n",
        "| `capitalize()` | Primera mayúscula | `\"hola\".capitalize()` | `\"Hola\"` |\n",
        "| `title()` | Capitaliza palabras | `\"hola mundo\".title()` | `\"Hola Mundo\"` |\n",
        "| `isdigit()` | Verifica si son dígitos | `\"123\".isdigit()` | `True` |\n",
        "| `isalpha()` | Verifica si son letras | `\"abc\".isalpha()` | `True` |\n",
        "| `isalnum()` | Verifica alfanumérico | `\"abc123\".isalnum()` | `True` |"
      ]
    },
    {
      "cell_type": "markdown",
      "metadata": {
        "id": "BslMUevIB8g-"
      },
      "source": [
        "**4. Conversión variables de cadenas de texto a enteros o flotantes**\n",
        "\n",
        "En el análisis de datos, es común encontrar valores numéricos almacenados como cadenas de texto. Esto puede suceder, por ejemplo, al importar datos desde archivos CSV o al interactuar con APIs. Para realizar cálculos o análisis, necesitamos convertir estas cadenas a tipos de datos numéricos como enteros (int) o flotantes (float).\n",
        "\n",
        "*  **4.1. Conversión básica con `int()` y` float()`**\n",
        "   \n",
        "   La función `int() `convierte una cadena que representa un número entero a un tipo     de dato entero.\n",
        "\n",
        "   La función `float()` convierte una cadena que representa un número decimal a un     tipo de dato flotante.\n",
        "    \n",
        "\n"
      ]
    },
    {
      "cell_type": "code",
      "execution_count": null,
      "metadata": {
        "colab": {
          "base_uri": "https://localhost:8080/"
        },
        "id": "CkLPfqHmFd2z",
        "outputId": "55cbdacb-e829-4afc-9b14-3ba943f72cb6"
      },
      "outputs": [
        {
          "name": "stdout",
          "output_type": "stream",
          "text": [
            "25000\n",
            "<class 'int'>\n"
          ]
        }
      ],
      "source": [
        "#Convertir a entero\n",
        "ingreso_mensual_str = \"25000\"\n",
        "ingreso_mensual = int(ingreso_mensual_str)\n",
        "\n",
        "print(type(ingreso_mensual))  # Salida: <class 'int'>"
      ]
    },
    {
      "cell_type": "code",
      "execution_count": null,
      "metadata": {
        "colab": {
          "base_uri": "https://localhost:8080/"
        },
        "id": "UG6cYN0hGAlP",
        "outputId": "b09d8a1a-12bb-4990-d339-01253a1f9623"
      },
      "outputs": [
        {
          "name": "stdout",
          "output_type": "stream",
          "text": [
            "<class 'float'>\n"
          ]
        }
      ],
      "source": [
        "#Convertir a flotante\n",
        "pib_str = \"2450.75\"\n",
        "pib = float(pib_str)\n",
        "\n",
        "print(type(pib))  # Salida: <class 'float'>"
      ]
    },
    {
      "cell_type": "code",
      "execution_count": null,
      "metadata": {
        "colab": {
          "base_uri": "https://localhost:8080/",
          "height": 176
        },
        "id": "H0i5IaVjGWyf",
        "outputId": "82291456-0ca2-46ce-d266-5a9f8fa06f6a"
      },
      "outputs": [
        {
          "ename": "ValueError",
          "evalue": "invalid literal for int() with base 10: 'veinte'",
          "output_type": "error",
          "traceback": [
            "\u001b[0;31m---------------------------------------------------------------------------\u001b[0m",
            "\u001b[0;31mValueError\u001b[0m                                Traceback (most recent call last)",
            "\u001b[0;32m<ipython-input-87-2524cdd13315>\u001b[0m in \u001b[0;36m<cell line: 4>\u001b[0;34m()\u001b[0m\n\u001b[1;32m      2\u001b[0m \u001b[0medad_str\u001b[0m \u001b[0;34m=\u001b[0m \u001b[0;34m\"veinte\"\u001b[0m\u001b[0;34m\u001b[0m\u001b[0;34m\u001b[0m\u001b[0m\n\u001b[1;32m      3\u001b[0m \u001b[0;31m# Esto genera un ValueError\u001b[0m\u001b[0;34m\u001b[0m\u001b[0;34m\u001b[0m\u001b[0m\n\u001b[0;32m----> 4\u001b[0;31m \u001b[0medad\u001b[0m \u001b[0;34m=\u001b[0m \u001b[0mint\u001b[0m\u001b[0;34m(\u001b[0m\u001b[0medad_str\u001b[0m\u001b[0;34m)\u001b[0m\u001b[0;34m\u001b[0m\u001b[0;34m\u001b[0m\u001b[0m\n\u001b[0m",
            "\u001b[0;31mValueError\u001b[0m: invalid literal for int() with base 10: 'veinte'"
          ]
        }
      ],
      "source": [
        "#Convertir valor alpha a entero\n",
        "edad_str = \"veinte\"\n",
        "# Esto genera un ValueError\n",
        "edad = int(edad_str)"
      ]
    },
    {
      "cell_type": "markdown",
      "metadata": {
        "id": "IrCL665lH7dv"
      },
      "source": [
        "\n",
        "> **Error Común 3** (**ValueError**):  Sucede cuando una función recibe un argumento del tipo correcto pero con un valor inapropiado. Por ejemplo, la función `int()` espera una cadena de un valor númerico pero recibe una cadena con un valor alpha. Aunque recibe un argumento del tipo que espera, el valor en sí no es válido para lo que la función no está diseñada."
      ]
    },
    {
      "cell_type": "markdown",
      "metadata": {
        "id": "q9xpOGGIDWhO"
      },
      "source": [
        "#### **Variables de Fecha y Tiempo**\n",
        "Otro tipo de variable en el análisis de datos son las fechas y el tiempo. En Python para definir este tipo de variables se utiliza el modulo **datetime**.\n",
        "\n",
        "Para definir una fecha se sigue la siguiente sintaxis:\n",
        "\n",
        "```\n",
        "date(year, month , day)\n",
        "```\n",
        "Ejemplo:\n",
        "\n",
        "- Definir primero de enero de 2025:"
      ]
    },
    {
      "cell_type": "code",
      "execution_count": null,
      "metadata": {
        "colab": {
          "base_uri": "https://localhost:8080/"
        },
        "id": "dlQSxVAh0WGg",
        "outputId": "da05f2f9-3be0-4544-faf7-c8d13b09a0de"
      },
      "outputs": [
        {
          "name": "stdout",
          "output_type": "stream",
          "text": [
            "Fecha 2025-01-01 es una variable tipo <class 'datetime.date'>\n"
          ]
        }
      ],
      "source": [
        "#Importamos modulo\n",
        "from datetime import date\n",
        "#Definimos fecha\n",
        "day_1 = date(year = 2025, month = 1, day = 1)\n",
        "#Tipo de variable\n",
        "type_day_1 = type(day_1)\n",
        "\n",
        "print( \"Fecha\", day_1, \"es una variable tipo\", type_day_1 )"
      ]
    },
    {
      "cell_type": "markdown",
      "metadata": {
        "id": "KDiAc5be6j_p"
      },
      "source": [
        "- Se puede acceder los atributos de este tipo de variable que serán el año, el mes y el día."
      ]
    },
    {
      "cell_type": "code",
      "execution_count": null,
      "metadata": {
        "colab": {
          "base_uri": "https://localhost:8080/"
        },
        "id": "etiRKPoD6Z0f",
        "outputId": "43b69b4e-375d-425b-c349-0f16a13b5b93"
      },
      "outputs": [
        {
          "name": "stdout",
          "output_type": "stream",
          "text": [
            "2025\n",
            "1\n",
            "1\n"
          ]
        }
      ],
      "source": [
        "#Año\n",
        "print(day_1.year)\n",
        "print(day_1.month)\n",
        "print(day_1.day)"
      ]
    },
    {
      "cell_type": "markdown",
      "metadata": {
        "id": "hgM9zB0i7LD0"
      },
      "source": [
        "- Se puede aplicar funciones especiales para este tipo de variables.\n",
        "\n",
        "  Por ejemplo, si se requiere el día de la seman en el que ocurrió un específico se utiliza `weeday()`. En donde el lunes será 0 y el domingo 6."
      ]
    },
    {
      "cell_type": "code",
      "execution_count": null,
      "metadata": {
        "colab": {
          "base_uri": "https://localhost:8080/"
        },
        "id": "-2lHS2Ew76Zf",
        "outputId": "275c1144-4602-440c-fbd4-840ba8152e71"
      },
      "outputs": [
        {
          "name": "stdout",
          "output_type": "stream",
          "text": [
            "2\n"
          ]
        }
      ],
      "source": [
        "#Día de la semana\n",
        "print(day_1.weekday())"
      ]
    },
    {
      "cell_type": "markdown",
      "metadata": {
        "id": "Me_pltZI8rSg"
      },
      "source": [
        "* Si se requiere transformar la fecha a formato de texto se utiliza `strftime()`, la cual toma como argumento el formato de fecha:\n",
        "\n",
        "  `fecha.strftime(\"formato_fecha\")`\n",
        "\n",
        "   Ejemplos:"
      ]
    },
    {
      "cell_type": "code",
      "execution_count": null,
      "metadata": {
        "colab": {
          "base_uri": "https://localhost:8080/"
        },
        "id": "UQGsmdWN9JJq",
        "outputId": "26d3b395-7844-4f9c-d207-1b6272b1d883"
      },
      "outputs": [
        {
          "name": "stdout",
          "output_type": "stream",
          "text": [
            "01-01-2025\n",
            "2025-01-01\n",
            "Jan\n",
            "January\n",
            "Wed Jan  1 00:00:00 2025\n"
          ]
        }
      ],
      "source": [
        "#Formato 1: fecha completa\n",
        "print(day_1.strftime(\"%d-%m-%Y\"))\n",
        "\n",
        "#Formato 2: fecha volteada\n",
        "print(day_1.strftime(\"%Y-%m-%d\"))\n",
        "\n",
        "#Formato 3: Mes abreviado\n",
        "print(day_1.strftime(\"%b\"))\n",
        "\n",
        "#Formato 4: Mes\n",
        "print(day_1.strftime(\"%B\"))\n",
        "\n",
        "#Formato 5: completa en abreviaciones\n",
        "print(day_1.strftime(\"%c\"))\n"
      ]
    },
    {
      "cell_type": "markdown",
      "metadata": {
        "id": "EyluduuPAAwC"
      },
      "source": [
        "Para consultar la lista completa de los diferentes formatos consultar disponibles consultar: [Lista de strftime formatos](https://strftime.org/) .\n",
        "\n",
        "\n"
      ]
    },
    {
      "cell_type": "markdown",
      "metadata": {
        "id": "vD6DzfPdBsSz"
      },
      "source": [
        "**Fecha con tiempo (*date-time*)**\n",
        "\n",
        "Para crear un varaible de fecha incluido el tiempo en horas, minutos y segundos se utiliza datetime."
      ]
    },
    {
      "cell_type": "code",
      "execution_count": null,
      "metadata": {
        "colab": {
          "base_uri": "https://localhost:8080/"
        },
        "id": "xQoqrlzQAFQ-",
        "outputId": "b7abfc87-fa0c-43e6-e964-77f6cb4d50d5"
      },
      "outputs": [
        {
          "name": "stdout",
          "output_type": "stream",
          "text": [
            "Fecha 2025-01-01 12:30:55 es una variable tipo <class 'datetime.datetime'>\n"
          ]
        }
      ],
      "source": [
        "#Importar modulo\n",
        "from datetime import datetime\n",
        "\n",
        "#Definir fecha con tiempo\n",
        "day_comp = datetime(year = 2025, month = 1, day = 1,\n",
        "                    hour = 12, minute = 30, second = 55 )\n",
        "#Tipo de variable\n",
        "type_day_comp = type(day_comp)\n",
        "\n",
        "print( \"Fecha\", day_comp, \"es una variable tipo\", type_day_comp )"
      ]
    },
    {
      "cell_type": "markdown",
      "metadata": {
        "id": "kETZXxreDvcC"
      },
      "source": [
        "**Funciones y operaciones con variables fecha-tiempo**\n",
        "\n",
        "Otras funciones adicionales que son útiles son `today()` o `now()` , las cuales devuelven el día y la hora exacta con base al sistema de tu pc en formato *datetime*.\n",
        "\n",
        "Ejemplo:"
      ]
    },
    {
      "cell_type": "code",
      "execution_count": null,
      "metadata": {
        "colab": {
          "base_uri": "https://localhost:8080/"
        },
        "id": "fJ2F-3o4Ecvh",
        "outputId": "c7a644aa-2422-4dce-fa2d-2b0bde362ffd"
      },
      "outputs": [
        {
          "name": "stdout",
          "output_type": "stream",
          "text": [
            "2025-01-03 05:46:38.986199\n",
            "<class 'datetime.datetime'>\n"
          ]
        }
      ],
      "source": [
        "#Importar modulo\n",
        "import datetime as dt\n",
        "\n",
        "#Definir la función now\n",
        "tiempo_actual = dt.datetime.now()\n",
        "#Resultado\n",
        "print(tiempo_actual)\n",
        "#Definir la función today\n",
        "fecha_hoy = dt.datetime.today()\n",
        "#Resultado\n",
        "print(type(fecha_hoy))\n"
      ]
    },
    {
      "cell_type": "markdown",
      "metadata": {
        "id": "wQhzpy4uGM4W"
      },
      "source": [
        "**Timestamp**\n",
        "\n",
        "En diversas bases de datos y sistema podemos encontrar variables tipo **timestamp** que representan el número de segundos transcurridos desde el \"epoch\" de Unix (1 de enero de 1970, 00:00:00 UTC). Estas variables son útiles para almacenar, registrar y realizar calculos de entre períodos de tiempo de forma eficiente.\n",
        "\n",
        "- Para definir una variable timestamp usamos la sintáxis:\n",
        "\n",
        "  `datatime.timestamp(fecha)`\n",
        "  \n",
        "  Ejemplo:"
      ]
    },
    {
      "cell_type": "code",
      "execution_count": null,
      "metadata": {
        "colab": {
          "base_uri": "https://localhost:8080/"
        },
        "id": "LbpIrIJ3GTBY",
        "outputId": "d4cd5874-7bf0-4497-8662-d11f6277e4d9"
      },
      "outputs": [
        {
          "name": "stdout",
          "output_type": "stream",
          "text": [
            "Fecha de hoy en timestamp: 1735856241.578291\n",
            "<class 'float'>\n"
          ]
        }
      ],
      "source": [
        "#Definir fecha en timestamp\n",
        "fecha_hoy_tstamp = dt.datetime.timestamp(fecha_hoy)\n",
        "print(f\"Fecha de hoy en timestamp: {fecha_hoy_tstamp}\")\n",
        "\n",
        "#Definir tipo\n",
        "tipo_fecha_hoy_tstamp = type(fecha_hoy_tstamp)\n",
        "print(tipo_fecha_hoy_tstamp)"
      ]
    },
    {
      "cell_type": "markdown",
      "metadata": {
        "id": "OOpnoZCeJXpr"
      },
      "source": [
        "* Para convertir una variable tipo stimestamp a fecha se utiliza la función `fromtimestamp()`:"
      ]
    },
    {
      "cell_type": "code",
      "execution_count": null,
      "metadata": {
        "colab": {
          "base_uri": "https://localhost:8080/"
        },
        "id": "WeV8DLCVIwDk",
        "outputId": "2acd1856-2eb6-4381-c45f-7dd5a597c2ae"
      },
      "outputs": [
        {
          "name": "stdout",
          "output_type": "stream",
          "text": [
            "Fecha de hoy: 2025-01-02 22:17:21.578291\n"
          ]
        }
      ],
      "source": [
        "#Transformar timestamp a fecha\n",
        "fecha_hoy = dt.datetime.fromtimestamp(fecha_hoy_tstamp)\n",
        "print(f\"Fecha de hoy: {fecha_hoy}\")"
      ]
    },
    {
      "cell_type": "markdown",
      "metadata": {
        "id": "YEqjLyI5Lpsd"
      },
      "source": [
        " ##### **Operaciones con fecha-tiempo**\n",
        "\n",
        "Con variables tipo fecha o tiempo podemos medir el tiempo ya sea en años, meses, días, horas, minutos o segundos.\n",
        "\n",
        "Por ejemplo:\n",
        "\n",
        "- ¿Cuántos días faltan para mi cumpleaños?"
      ]
    },
    {
      "cell_type": "code",
      "execution_count": null,
      "metadata": {
        "colab": {
          "base_uri": "https://localhost:8080/"
        },
        "id": "Do0bx6lssIYI",
        "outputId": "c7bbe53d-3ee4-47ed-ab27-77b44a591dc2"
      },
      "outputs": [
        {
          "name": "stdout",
          "output_type": "stream",
          "text": [
            "Para mi cumpleaños faltan 68 days, 0:00:00\n"
          ]
        }
      ],
      "source": [
        "#Definir fecha inicial\n",
        "day_hoy = dt.date.today()\n",
        "\n",
        "#Definir fecha final\n",
        "day_cumpleaños = date(year = 2025, month = 3, day = 12)\n",
        "\n",
        "#Diferencia\n",
        "day_dif = day_cumpleaños - day_hoy\n",
        "\n",
        "print(\"Para mi cumpleaños faltan\", day_dif)\n"
      ]
    },
    {
      "cell_type": "markdown",
      "metadata": {
        "id": "gd-8IC-GwOoX"
      },
      "source": [
        "- ¿Cuánto tiempo tarda en ejecutarse un algoritmo o modelo estadístico?"
      ]
    },
    {
      "cell_type": "code",
      "execution_count": null,
      "metadata": {
        "colab": {
          "base_uri": "https://localhost:8080/"
        },
        "id": "7ts9ZWywwhZE",
        "outputId": "dd3b7b65-1825-4522-97c5-38980ad3acfa"
      },
      "outputs": [
        {
          "name": "stdout",
          "output_type": "stream",
          "text": [
            "Tiempo de ejecución: 0:00:00.000065\n"
          ]
        }
      ],
      "source": [
        "#Definir inicio de ejecución\n",
        "inicio_ejecución = dt.datetime.now()\n",
        "\n",
        "#Ejecutar algoritmo o modelo\n",
        "\n",
        "#Definir tiempo transcurrido de la ejecución\n",
        "tiempo_ejecución =  dt.datetime.now()  - inicio_ejecución\n",
        "\n",
        "print(f\"Tiempo de ejecución: {tiempo_ejecución}\")\n"
      ]
    },
    {
      "cell_type": "markdown",
      "metadata": {
        "id": "aMmgJnsUJ-QK"
      },
      "source": [
        "####**Booleanos**\n",
        "*Las* **variables booleanas** son fundamentales en programación, ya representan valores de **verdadero o falso** lo cual es de gran utilidad en la toma de decisión, definición de características y la creación de control de flujos en programación.\n",
        "\n",
        "En Python las variables booleansas se declaran como `True` y `False `. En este caso es obligatorio utilizar la pimera letra como mayúscula.\n",
        "\n",
        "En el análisis de datos utilizamos las variables booleanas para definir caráterísticas"
      ]
    },
    {
      "cell_type": "code",
      "execution_count": null,
      "metadata": {
        "id": "brCt0mYxuND4"
      },
      "outputs": [],
      "source": [
        "#Ejemplos\n",
        "estudiante_activo = True\n",
        "mujer = False\n",
        "trabajadro_informal = True"
      ]
    },
    {
      "cell_type": "markdown",
      "metadata": {
        "id": "vA1J1hKt0j8w"
      },
      "source": [
        "Otra carácterística de las variables booleanas en programción es el valor númerico que toman:\n",
        "\n",
        " * `True = 1 `\n",
        " * `False = 0`\n",
        "\n",
        "Lo anterior debido a la herencia histórica de algunos lenguajes de programación, lo cuales no tenían un tipo de variable boolean y utilizaban 0 y 1 para represetnar falsos y verdaderos.\n",
        "\n",
        "\n"
      ]
    },
    {
      "cell_type": "code",
      "execution_count": null,
      "metadata": {
        "colab": {
          "base_uri": "https://localhost:8080/"
        },
        "id": "exNgOLMS12Qp",
        "outputId": "f683abe8-c4c3-44a5-9749-5f0d61e8164d"
      },
      "outputs": [
        {
          "name": "stdout",
          "output_type": "stream",
          "text": [
            "El valor númerico de True será 1 mientras que el False es 0\n"
          ]
        }
      ],
      "source": [
        "# Conversión directa a entero\n",
        "num_true = int(True)\n",
        "num_false = int(False)\n",
        "print(\"El valor númerico de True será\", num_true, \",mientras que el False es\", num_false)"
      ]
    },
    {
      "cell_type": "markdown",
      "metadata": {
        "id": "N8vhOjFV2OW5"
      },
      "source": [
        "##### **Operadores de Comparación**\n",
        "\n",
        "Cuando trabajamos con lenguajes de programación y realizamos comparaciones matemáticas el resultado será un valor booleano. En Python, podemos realizar las siguientes comparaciones:\n",
        "\n",
        "- Igualdad: `==`\n",
        "- Desigualdad: `!=`\n",
        "- Mayor que: `>`\n",
        "- Menor que: `<`\n",
        "- Mayor o igual que: `>=`\n",
        "- Menor o igual que: `<=`\n",
        "- Contiene   `in`\n",
        "- No contiene  `not in`\n",
        "\n",
        "Ejemplos:"
      ]
    },
    {
      "cell_type": "code",
      "execution_count": null,
      "metadata": {
        "colab": {
          "base_uri": "https://localhost:8080/"
        },
        "id": "SaJRBn413aJg",
        "outputId": "ebba520c-df5c-4db5-c7be-73ea8f3dde5b"
      },
      "outputs": [
        {
          "name": "stdout",
          "output_type": "stream",
          "text": [
            "True\n",
            "False\n",
            "False\n",
            "True\n",
            "True\n",
            "False\n"
          ]
        }
      ],
      "source": [
        "# Definir comparaciones\n",
        "mayor_que = 5 > 3\n",
        "print(mayor_que)\n",
        "\n",
        "menor_que = 5 < 3\n",
        "print(menor_que)\n",
        "\n",
        "igual_a = 5 == 3\n",
        "print(igual_a)\n",
        "\n",
        "diferente_de = 5 != 3\n",
        "print(diferente_de)\n",
        "\n",
        "mayor_igual = 5 >= 5\n",
        "print(mayor_igual)\n",
        "\n",
        "menor_igual = 5 <= 4\n",
        "print(menor_igual)"
      ]
    },
    {
      "cell_type": "code",
      "execution_count": null,
      "metadata": {
        "colab": {
          "base_uri": "https://localhost:8080/"
        },
        "id": "C81ku2483jcY",
        "outputId": "3a58f0a6-e8e9-4d91-c168-77548160a5e3"
      },
      "outputs": [
        {
          "name": "stdout",
          "output_type": "stream",
          "text": [
            "True\n",
            "False\n"
          ]
        }
      ],
      "source": [
        "#Definir  comparaciones 2\n",
        "edad = 18\n",
        "mayor_de_edad = edad >= 18\n",
        "print(mayor_de_edad)\n",
        "\n",
        "num = 999\n",
        "par = num % 2 == 0\n",
        "print(par)"
      ]
    },
    {
      "cell_type": "markdown",
      "metadata": {
        "id": "S11GIC2n4gpO"
      },
      "source": [
        "Operadores Lógicos\n",
        "\n",
        "Adicional a los operadores de comparación, otros elementos fundamentles son los operadors lógicos. En Python se definen los **operadores lógicos** de la siguiente forma `and`, `or` y `not`.\n",
        "\n",
        "Para entender como se relacionan los operadores lógicos con los valores booleanos (`True` o `False`) se utilizan las tablas de la verdad:\n"
      ]
    },
    {
      "cell_type": "code",
      "execution_count": null,
      "metadata": {
        "colab": {
          "base_uri": "https://localhost:8080/"
        },
        "id": "hagkLXvk6gPa",
        "outputId": "7036137c-6750-4e5c-f8b1-403896f635cc"
      },
      "outputs": [
        {
          "name": "stdout",
          "output_type": "stream",
          "text": [
            "True\n",
            "False\n",
            "False\n",
            "False\n"
          ]
        }
      ],
      "source": [
        "#Aplicar operador and\n",
        "print(True and True)\n",
        "print(True and False)\n",
        "print(False and True)\n",
        "print(False and False)"
      ]
    },
    {
      "cell_type": "code",
      "execution_count": null,
      "metadata": {
        "colab": {
          "base_uri": "https://localhost:8080/"
        },
        "id": "QE1cqZmE7K-x",
        "outputId": "ccbece70-bef3-4f79-e7f3-e0ab548358e0"
      },
      "outputs": [
        {
          "name": "stdout",
          "output_type": "stream",
          "text": [
            "True\n",
            "True\n",
            "True\n",
            "False\n"
          ]
        }
      ],
      "source": [
        "#Aplicar operador or\n",
        "print(True  or True)\n",
        "print(True  or False)\n",
        "print(False or True)\n",
        "print(False or False)"
      ]
    },
    {
      "cell_type": "code",
      "execution_count": null,
      "metadata": {
        "colab": {
          "base_uri": "https://localhost:8080/"
        },
        "id": "vREub57y7TXL",
        "outputId": "e3598a84-4f1d-4468-df08-1e5cb6cebb64"
      },
      "outputs": [
        {
          "name": "stdout",
          "output_type": "stream",
          "text": [
            "False\n",
            "True\n"
          ]
        }
      ],
      "source": [
        "#Aplicar operador not\n",
        "print(not(True))\n",
        "print(not(False))"
      ]
    },
    {
      "cell_type": "code",
      "execution_count": null,
      "metadata": {
        "id": "7KsH6pbS7eLc"
      },
      "outputs": [],
      "source": [
        "#Ejercicio\n",
        "#1. ¿Cuál es el resultado de las siguientes declaraciones?\n",
        "r1 = not(True) or False\n",
        "r2 = not(False) or not(False)\n",
        "\n",
        "#print(r1,r2)"
      ]
    },
    {
      "cell_type": "markdown",
      "metadata": {
        "id": "TL5w7BjU4xK2"
      },
      "source": [
        "Tanto los operadores de comparación así como los operados lógicos son fundamentales en programación y se utilizan constantemente para:\n",
        "\n",
        "- Tomar decisiones en estructuras condicionales como `if`, `elif`, `else`\n",
        "- Controlar bucles mientras se cumple una condición\n",
        "- Validar datos y entrada del usuario\n",
        "- Realizar verificaciones lógicas en el código"
      ]
    }
  ],
  "metadata": {
    "colab": {
      "authorship_tag": "ABX9TyOw6EUi5zmbMVyPOq9lUe8I",
      "include_colab_link": true,
      "provenance": [],
      "toc_visible": true
    },
    "kernelspec": {
      "display_name": "Python 3",
      "name": "python3"
    },
    "language_info": {
      "name": "python"
    }
  },
  "nbformat": 4,
  "nbformat_minor": 0
}
