{
  "cells": [
    {
      "cell_type": "markdown",
      "metadata": {
        "id": "view-in-github",
        "colab_type": "text"
      },
      "source": [
        "<a href=\"https://colab.research.google.com/github/DiegoSReco/intro_python_para_economistas/blob/main/script_python_2_2_Estructuras_Datos.ipynb\" target=\"_parent\"><img src=\"https://colab.research.google.com/assets/colab-badge.svg\" alt=\"Open In Colab\"/></a>"
      ]
    },
    {
      "cell_type": "markdown",
      "metadata": {
        "id": "Fg2VI9p82ss9"
      },
      "source": [
        "# **3. Estructuras de Datos**\n",
        "\n",
        "Python ofrece un conjunto de flexibles de estructuras que permiten organizar, almacenar y manipular datos de manera efectiva, convirtiendo información aparentemente caótica en sistemas ordenados y manejables. En esta sección exploraremos estruturas enfocadas en el analisis de datos las cuales son: **listas, conjuntos, arreglos, tuplas, diccionarios y dataframes.**\n",
        "\n",
        "**¿Por qué es importante entender el funcionamiento de cada uno de éstas?**\n",
        "\n",
        "- Manipular grandes volúmenes de información\n",
        "- Gestionar la memoria de forma efectiva\n",
        "- Optimizar el rendimiento de nuestros modelos o programas\n",
        "- Resolver problemas  de forma eficiente"
      ]
    },
    {
      "cell_type": "markdown",
      "metadata": {
        "id": "pnYzMMYO5zKX"
      },
      "source": [
        "## Listas (`list`)\n",
        "### **¿Qué són las listas?**\n",
        "\n",
        "Una secuencia mutable que puede contener elementos de diferentes tipos ya sea númericos, cadenas de texto, booleanos, fechas o la mezcla de ellos. Por éstas características las listas son estructuras de datos flexibles.\n",
        "\n",
        "**Sintáxis**\n",
        "\n",
        "Para definir una lista en Python usaremos dos corchetes y los elementos dentro se separan por comas:\n",
        "\n",
        "  ```python\n",
        "lista = [e_1, e_2, e_3,...,n]  \n",
        "  ```\n",
        "Por ejemplo:"
      ]
    },
    {
      "cell_type": "code",
      "execution_count": 1,
      "metadata": {
        "colab": {
          "base_uri": "https://localhost:8080/"
        },
        "id": "HTZqxBwBtTpK",
        "outputId": "e4e47ac0-0d05-41e4-d2fc-19b5c216e426"
      },
      "outputs": [
        {
          "output_type": "stream",
          "name": "stdout",
          "text": [
            "[3.4, 2.7, 2.4, 2.0, 3.7, 2.1, 1.6, 2.5, 4.0, 2.8, 2.9, 1.0, 2.4, 2.2, 3.3, 1.7, 1.6, 2.2, 2.6, 1.2, 2.3, 2.7, 2.6, 2.6, 2.4, 3.6, 4.0, 3.4, 2.4, 2.0, 1.8, 2.9] \n",
            " ¿Qué clase objeto es list_lenguajes? <class 'list'>\n"
          ]
        }
      ],
      "source": [
        "# Definir lLista de tasas de desocupación segundo trimestre 2024 (Fuente: INEGI https://www.inegi.org.mx/app/saladeprensa/noticia/9251)\n",
        "list_tasas_desc = [ 3.4, 2.7, 2.4, 2.0, 3.7, 2.1, 1.6, 2.5, 4.0,\n",
        "                   2.8, 2.9, 1.0, 2.4, 2.2, 3.3, 1.7, 1.6, 2.2,\n",
        "                   2.6, 1.2, 2.3, 2.7, 2.6, 2.6, 2.4, 3.6, 4.0,\n",
        "                   3.4, 2.4, 2.0, 1.8, 2.9 ]\n",
        "\n",
        "#Definir lista de estados\n",
        "list_estados = [\"Aguascalientes\", \"Baja California\", \"Baja California Sur\", \"Campeche\",\n",
        "                 \"Coahuila de Zaragoza\", \"Colima\", \"Chiapas\", \"Chihuahua\", \"Ciudad de México\",\n",
        "                 \"Durango\", \"Guanajuato\", \"Guerrero\", \"Hidalgo\", \"Jalisco\", \"México\",\n",
        "                 \"Michoacán de Ocampo\", \"Morelos\", \"Nayarit\", \"Nuevo León\", \"Oaxaca\",\n",
        "                 \"Puebla\", \"Querétaro\", \"Quintana Roo\", \"San Luis Potosí\", \"Sinaloa\",\n",
        "                 \"Sonora\", \"Tabasco\", \"Tamaulipas\", \"Tlaxcala\",\n",
        "                 \"Veracruz de Ignacio de la Llave\", \"Yucatán\", \"Zacatecas\"]\n",
        "#Imprimir contenido\n",
        "print(  list_tasas_desc, \"\\n\" , \"¿Qué clase objeto es list_lenguajes?\", type(list_estados))\n"
      ]
    },
    {
      "cell_type": "markdown",
      "metadata": {
        "id": "qIs-M_N0tTpO"
      },
      "source": [
        "* Las listas pueden contener distintos tipos de variables:"
      ]
    },
    {
      "cell_type": "code",
      "execution_count": 2,
      "metadata": {
        "colab": {
          "base_uri": "https://localhost:8080/"
        },
        "id": "-XN_TVlCtTpO",
        "outputId": "8b82aa9e-43a2-4f58-8372-76b05a3089ab"
      },
      "outputs": [
        {
          "output_type": "stream",
          "name": "stdout",
          "text": [
            "['Aguascalientes', 3.4, 'Baja California', 2.7]\n"
          ]
        }
      ],
      "source": [
        "#Definir lista\n",
        "list_ags = [\"Aguascalientes\", 3.4, \"Baja California\", 2.7]\n",
        "#Imprimir contenido\n",
        "\n",
        "print(list_ags)"
      ]
    },
    {
      "cell_type": "markdown",
      "metadata": {
        "id": "0tZ1_vqQtTpP"
      },
      "source": [
        "* Incluso pueden contener listas por lo que podemos anidar listas en listas:\n"
      ]
    },
    {
      "cell_type": "code",
      "execution_count": 3,
      "metadata": {
        "colab": {
          "base_uri": "https://localhost:8080/"
        },
        "id": "DBeX51y1tTpQ",
        "outputId": "0353a8f9-79b2-453c-f09d-4170f8953a0f"
      },
      "outputs": [
        {
          "output_type": "stream",
          "name": "stdout",
          "text": [
            "[[3.4, 2.7, 2.4, 2.0, 3.7, 2.1, 1.6, 2.5, 4.0, 2.8, 2.9, 1.0, 2.4, 2.2, 3.3, 1.7, 1.6, 2.2, 2.6, 1.2, 2.3, 2.7, 2.6, 2.6, 2.4, 3.6, 4.0, 3.4, 2.4, 2.0, 1.8, 2.9], ['Aguascalientes', 'Baja California', 'Baja California Sur', 'Campeche', 'Coahuila de Zaragoza', 'Colima', 'Chiapas', 'Chihuahua', 'Ciudad de México', 'Durango', 'Guanajuato', 'Guerrero', 'Hidalgo', 'Jalisco', 'México', 'Michoacán de Ocampo', 'Morelos', 'Nayarit', 'Nuevo León', 'Oaxaca', 'Puebla', 'Querétaro', 'Quintana Roo', 'San Luis Potosí', 'Sinaloa', 'Sonora', 'Tabasco', 'Tamaulipas', 'Tlaxcala', 'Veracruz de Ignacio de la Llave', 'Yucatán', 'Zacatecas']]\n"
          ]
        }
      ],
      "source": [
        "#Definir lita anidadad\n",
        "list_estados_estados = [list_tasas_desc, list_estados]\n",
        "\n",
        "print(list_estados_estados)"
      ]
    },
    {
      "cell_type": "markdown",
      "metadata": {
        "id": "rexeTt-BtTpQ"
      },
      "source": [
        "### **Manejo y operaciones en listas**\n",
        "\n",
        "Por ser uno de los objetos más flexibles las listas permiten realizar una serie de acciones sobre sus elementos como: el ordenamiento, reemplazo, modificación, operaciones aritméticas, etc.\n",
        "\n",
        "#### **Extracción de elementos  y modificación**\n",
        "\n",
        "* El tamaño o número de elementos en una lista los podemos calcular con la función ```len()```"
      ]
    },
    {
      "cell_type": "code",
      "execution_count": 4,
      "metadata": {
        "colab": {
          "base_uri": "https://localhost:8080/"
        },
        "id": "W3NZZZ1DtTpR",
        "outputId": "c3929aba-0a6c-45d5-ac1c-c1ca1dbe1fb5"
      },
      "outputs": [
        {
          "output_type": "stream",
          "name": "stdout",
          "text": [
            "32\n"
          ]
        }
      ],
      "source": [
        "#Tamaño lista\n",
        "n_tasas = len(list_estados)\n",
        "n_estados = len(list_tasas_desc)\n",
        "\n",
        "print(n_tasas)"
      ]
    },
    {
      "cell_type": "markdown",
      "metadata": {
        "id": "0YtlKE3htTpS"
      },
      "source": [
        "##### **Extracción**\n",
        "\n",
        "* Para la extracción de ciertos elementos de una lista usaremos la idexación:\n",
        "\n",
        "  ```lista[i]```\n",
        "  \n",
        "  Ejemplo:"
      ]
    },
    {
      "cell_type": "code",
      "execution_count": 5,
      "metadata": {
        "colab": {
          "base_uri": "https://localhost:8080/"
        },
        "id": "KshvuoiUtTpS",
        "outputId": "d5a4765c-6ec7-4622-dfff-4c5098f0991d"
      },
      "outputs": [
        {
          "output_type": "stream",
          "name": "stdout",
          "text": [
            "El primer elemento es 3.4  y el último es 2.9\n"
          ]
        }
      ],
      "source": [
        "#Extraer primer elemento de la lista de tasas\n",
        "e_1 = list_tasas_desc[0]\n",
        "\n",
        "#Extraer último\n",
        "e_n = list_tasas_desc[-1]\n",
        "\n",
        "#Otra forma de calcular último elemento\n",
        "e_n = list_tasas_desc[n_tasas - 1 ]\n",
        "\n",
        "print(f\"El primer elemento es {e_1}  y el último es {e_n}\")"
      ]
    },
    {
      "cell_type": "markdown",
      "metadata": {
        "id": "EKncQ5BltTpT"
      },
      "source": [
        "* Es posible extraer un rango de elementos a partir de los índices separados por ```:``` :"
      ]
    },
    {
      "cell_type": "code",
      "execution_count": 8,
      "metadata": {
        "colab": {
          "base_uri": "https://localhost:8080/"
        },
        "id": "I6hlEXfptTpU",
        "outputId": "09119717-276a-44b6-b79c-2d620b5396e3"
      },
      "outputs": [
        {
          "output_type": "stream",
          "name": "stdout",
          "text": [
            "[3.4, 2.7, 2.4, 2.0, 3.7]\n",
            "[2.7, 2.4, 2.0, 3.7, 2.1, 1.6, 2.5, 4.0, 2.8, 2.9, 1.0, 2.4, 2.2, 3.3, 1.7, 1.6, 2.2, 2.6, 1.2, 2.3, 2.7, 2.6, 2.6, 2.4, 3.6, 4.0, 3.4, 2.4, 2.0, 1.8, 2.9]\n",
            "[3.4, 2.4, 2.0, 1.8, 2.9]\n",
            "[3.4, 2.4, 2.0, 1.8, 2.9]\n"
          ]
        }
      ],
      "source": [
        "#Extraer primeros 5 elementos\n",
        "print(list_tasas_desc[0:5])\n",
        "\n",
        "#Extraer primeros 5 elementos (otra opción)\n",
        "print(list_tasas_desc[1:])\n",
        "\n",
        "#Extraer ultimos 5 elementos  (otra opción)\n",
        "print(list_tasas_desc[-5:])\n",
        "print(list_tasas_desc[n_tasas - 5:])\n",
        "\n"
      ]
    },
    {
      "cell_type": "markdown",
      "metadata": {
        "id": "fpmARaP1tTpU"
      },
      "source": [
        "##### **Modificación**\n",
        "\n",
        "\n",
        "Otra de las características de las listas es la **mutabilidad**, es decir, podemos modificar el contenido de una lista que ya está creada. Por lo que es posible reemplazar, borrar y agregar elementos a una lista.\n",
        "\n",
        "**Borrar elementos**\n",
        "\n",
        "Para borrar elementos de una lista se puede utiliza dos métodos:\n",
        "\n",
        "* Valor de elemento\n",
        "   \n",
        "    ```remove()```"
      ]
    },
    {
      "cell_type": "code",
      "execution_count": 10,
      "metadata": {
        "colab": {
          "base_uri": "https://localhost:8080/"
        },
        "id": "fmQlSOpWtTpV",
        "outputId": "71342e1d-9d99-4b71-895a-5b835bbc6787"
      },
      "outputs": [
        {
          "output_type": "stream",
          "name": "stdout",
          "text": [
            "['Aguascalientes', 'Baja California', 'Baja California Sur', 'Coahuila de Zaragoza', 'Colima', 'Chiapas', 'Chihuahua', 'Ciudad de México', 'Durango', 'Guanajuato', 'Guerrero', 'Hidalgo', 'Jalisco', 'México', 'Michoacán de Ocampo', 'Morelos', 'Nayarit', 'Nuevo León', 'Oaxaca', 'Puebla', 'Querétaro', 'Quintana Roo', 'San Luis Potosí', 'Sinaloa', 'Sonora', 'Tabasco', 'Tamaulipas', 'Tlaxcala', 'Veracruz de Ignacio de la Llave', 'Yucatán', 'Zacatecas']\n",
            "['Baja California', 'Baja California Sur', 'Coahuila de Zaragoza', 'Colima', 'Chiapas', 'Chihuahua', 'Ciudad de México', 'Durango', 'Guanajuato', 'Guerrero', 'Hidalgo', 'Jalisco', 'México', 'Michoacán de Ocampo', 'Morelos', 'Nayarit', 'Nuevo León', 'Oaxaca', 'Puebla', 'Querétaro', 'Quintana Roo', 'San Luis Potosí', 'Sinaloa', 'Sonora', 'Tabasco', 'Tamaulipas', 'Tlaxcala', 'Veracruz de Ignacio de la Llave', 'Yucatán', 'Zacatecas']\n"
          ]
        }
      ],
      "source": [
        "#Lista de estados\n",
        "print(list_estados)\n",
        "\n",
        "#Aplicar remove para eliminar Aguascalientes\n",
        "list_estados.remove(\"Aguascalientes\")\n",
        "\n",
        "print(list_estados)\n"
      ]
    },
    {
      "cell_type": "markdown",
      "metadata": {
        "id": "EPL2pSEEtTpV"
      },
      "source": [
        " * Para hacerlo el índice utilizamos:\n",
        "     \n",
        "   ```del```"
      ]
    },
    {
      "cell_type": "code",
      "execution_count": 13,
      "metadata": {
        "colab": {
          "base_uri": "https://localhost:8080/"
        },
        "id": "cSTSDUP6tTpV",
        "outputId": "ebc5e426-9b75-4462-939b-aee68a5e7dde"
      },
      "outputs": [
        {
          "output_type": "stream",
          "name": "stdout",
          "text": [
            "Baja California Sur\n",
            "Veracruz de Ignacio de la Llave\n"
          ]
        }
      ],
      "source": [
        "#Imprimir primero elemento\n",
        "print(list_estados[0])\n",
        "\n",
        "#Borrar primero elemento\n",
        "del list_estados[-1]\n",
        "\n",
        "#Imprimier nuevo primero elemento\n",
        "print(list_estados[-1])"
      ]
    },
    {
      "cell_type": "markdown",
      "metadata": {
        "id": "s7YM3DEjtTpW"
      },
      "source": [
        "**Reemplazar elementos**\n",
        "\n",
        "Para reemplazar elementos utilizaremos los índices, es decir, por su posición en lista de un elemento.\n",
        "\n",
        "> **Nota**: Para encontrar la posición de algún elemento en la lista usamos la función ```index()```. Con la siguiente sintáxis ```lista.index(\"Valor\")```\n"
      ]
    },
    {
      "cell_type": "code",
      "execution_count": 15,
      "metadata": {
        "colab": {
          "base_uri": "https://localhost:8080/"
        },
        "id": "tFyBp9YctTpW",
        "outputId": "476bc96b-4f8a-4ce9-a398-6f7c79e0361b"
      },
      "outputs": [
        {
          "output_type": "stream",
          "name": "stdout",
          "text": [
            "5\n",
            "['Baja California Sur', 'Coahuila de Zaragoza', 'Colima', 'Chiapas', 'Chihuahua', 'CDMX', 'Durango', 'Guanajuato', 'Guerrero', 'Hidalgo', 'Jalisco', 'México', 'Michoacán de Ocampo', 'Morelos', 'Nayarit', 'Nuevo León', 'Oaxaca', 'Puebla', 'Querétaro', 'Quintana Roo', 'San Luis Potosí', 'Sinaloa', 'Sonora', 'Tabasco', 'Tamaulipas', 'Tlaxcala', 'Veracruz de Ignacio de la Llave']\n"
          ]
        }
      ],
      "source": [
        "#Encontrar Ciudad de México\n",
        "posi_cdmx = list_estados.index(\"Ciudad de México\")\n",
        "\n",
        "print(posi_cdmx)\n",
        "\n",
        "list_estados[posi_cdmx] = \"CDMX\"\n",
        "\n",
        "#Imprimir lista modificada\n",
        "print(list_estados)"
      ]
    },
    {
      "cell_type": "markdown",
      "metadata": {
        "id": "N6UKMvrntTpX"
      },
      "source": [
        "**Agregar elementos**\n",
        "\n",
        "Agregar elementos a una lista es sencillo y se usa la funciones:\n",
        "\n",
        "*  ``append()`` cuando se agrega un elemento al final de la lista\n"
      ]
    },
    {
      "cell_type": "code",
      "execution_count": 17,
      "metadata": {
        "colab": {
          "base_uri": "https://localhost:8080/"
        },
        "id": "_EHRcQQhtTpX",
        "outputId": "067d18b4-ccd1-4b8a-eb08-7f5be49b39e3"
      },
      "outputs": [
        {
          "output_type": "stream",
          "name": "stdout",
          "text": [
            "['Baja California Sur', 'Coahuila de Zaragoza', 'Colima', 'Chiapas', 'Chihuahua', 'CDMX', 'Durango', 'Guanajuato', 'Guerrero', 'Hidalgo', 'Jalisco', 'México', 'Michoacán de Ocampo', 'Morelos', 'Nayarit', 'Nuevo León', 'Oaxaca', 'Puebla', 'Querétaro', 'Quintana Roo', 'San Luis Potosí', 'Sinaloa', 'Sonora', 'Tabasco', 'Tamaulipas', 'Tlaxcala', 'Veracruz de Ignacio de la Llave', 'Aguascalientes', 44]\n"
          ]
        }
      ],
      "source": [
        "#Agregar al final\n",
        "list_estados.append(44)\n",
        "\n",
        "print(list_estados)"
      ]
    },
    {
      "cell_type": "markdown",
      "metadata": {
        "id": "bFWBKzdStTpY"
      },
      "source": [
        "*  ``` insert()``` cuando se agrega element a alguna posición específica"
      ]
    },
    {
      "cell_type": "code",
      "execution_count": 19,
      "metadata": {
        "colab": {
          "base_uri": "https://localhost:8080/"
        },
        "id": "H1KN_eYutTpY",
        "outputId": "0b658916-8e40-4329-92d3-a63e3c550906"
      },
      "outputs": [
        {
          "output_type": "stream",
          "name": "stdout",
          "text": [
            "['CDMX', 'Aguascalientes', 'Baja California Sur', 'Coahuila de Zaragoza', 'Colima', 'Chiapas', 'Chihuahua', 'CDMX', 'Durango', 'Guanajuato', 'Guerrero', 'Hidalgo', 'Jalisco', 'México', 'Michoacán de Ocampo', 'Morelos', 'Nayarit', 'Nuevo León', 'Oaxaca', 'Puebla', 'Querétaro', 'Quintana Roo', 'San Luis Potosí', 'Sinaloa', 'Sonora', 'Tabasco', 'Tamaulipas', 'Tlaxcala', 'Veracruz de Ignacio de la Llave', 'Aguascalientes', 44]\n"
          ]
        }
      ],
      "source": [
        "#Agregar en posición específica\n",
        "list_estados.insert(0,\"CDMX\")\n",
        "print(list_estados)"
      ]
    },
    {
      "cell_type": "markdown",
      "metadata": {
        "id": "cpaB3rTbtTpZ"
      },
      "source": [
        "#### **Ordenamiento y otras operaciones**\n",
        "\n",
        "Las listas también pueden ser ordenadas ya sea alfabéticamente si contienen valores strings, o por el valor del elemento sin son numéricos. Además podemos saber cuales son los valores más altos o más bajos contenidos en una lista.\n",
        "\n",
        "##### **Ordenamiento**\n",
        "\n",
        "Para ordenar una lista se utiliza la función ```sort()```:\n"
      ]
    },
    {
      "cell_type": "code",
      "execution_count": 21,
      "metadata": {
        "colab": {
          "base_uri": "https://localhost:8080/"
        },
        "id": "qhNSq0R6tTpZ",
        "outputId": "7461de94-df9d-4567-b5c0-b21c01d3fa7a"
      },
      "outputs": [
        {
          "output_type": "stream",
          "name": "stdout",
          "text": [
            "[1.0, 1.2, 1.6, 1.6, 1.7, 1.8, 2.0, 2.0, 2.1, 2.2, 2.2, 2.3, 2.4, 2.4, 2.4, 2.4, 2.5, 2.6, 2.6, 2.6, 2.7, 2.7, 2.8, 2.9, 2.9, 3.3, 3.4, 3.4, 3.6, 3.7, 4.0, 4.0]\n"
          ]
        }
      ],
      "source": [
        "#Ordernar lista de forma ascendente\n",
        "list_tasas_desc.sort() # Ordena descendente\n",
        "print(list_tasas_desc)"
      ]
    },
    {
      "cell_type": "code",
      "execution_count": 22,
      "metadata": {
        "colab": {
          "base_uri": "https://localhost:8080/"
        },
        "id": "rap9ncw3tTpZ",
        "outputId": "9acd3774-d2c3-4199-ed46-2ee87efedb12"
      },
      "outputs": [
        {
          "output_type": "stream",
          "name": "stdout",
          "text": [
            "[4.0, 4.0, 3.7, 3.6, 3.4, 3.4, 3.3, 2.9, 2.9, 2.8, 2.7, 2.7, 2.6, 2.6, 2.6, 2.5, 2.4, 2.4, 2.4, 2.4, 2.3, 2.2, 2.2, 2.1, 2.0, 2.0, 1.8, 1.7, 1.6, 1.6, 1.2, 1.0]\n"
          ]
        }
      ],
      "source": [
        "#Ordernar lista de forma descendente\n",
        "list_tasas_desc.sort(reverse = True ) # Ordena descendente\n",
        "print(list_tasas_desc)"
      ]
    },
    {
      "cell_type": "markdown",
      "metadata": {
        "id": "6bEvtHJ8tTpZ"
      },
      "source": [
        "##### **Obtener elementos máximos y mínimos**\n",
        "\n",
        "Para saber cuales son los elementos de mayor valor en una lista ya sea númerico o alfabético utilizamos las funciones  ```min()``` y ```max()```:"
      ]
    },
    {
      "cell_type": "code",
      "execution_count": 24,
      "metadata": {
        "colab": {
          "base_uri": "https://localhost:8080/"
        },
        "id": "OYyIy4TntTpZ",
        "outputId": "d12b187c-e4bf-4e76-e517-fb8a6f494efc"
      },
      "outputs": [
        {
          "output_type": "stream",
          "name": "stdout",
          "text": [
            "1.0\n",
            "4.0\n"
          ]
        }
      ],
      "source": [
        "#Computar valor mínimo\n",
        "n_min = min(list_tasas_desc)\n",
        "print(n_min)\n",
        "\n",
        "#Computar valor máximo\n",
        "n_max = max(list_tasas_desc)\n",
        "print(n_max)"
      ]
    },
    {
      "cell_type": "code",
      "source": [
        "list_estados.remove(44)"
      ],
      "metadata": {
        "id": "Ixr4nTQdx6Ad"
      },
      "execution_count": 27,
      "outputs": []
    },
    {
      "cell_type": "code",
      "execution_count": 28,
      "metadata": {
        "colab": {
          "base_uri": "https://localhost:8080/"
        },
        "id": "kSHGrnFItTpa",
        "outputId": "78566b57-0ef1-4c8c-81fc-b1aca700e558"
      },
      "outputs": [
        {
          "output_type": "stream",
          "name": "stdout",
          "text": [
            "Aguascalientes\n",
            "Veracruz de Ignacio de la Llave\n"
          ]
        }
      ],
      "source": [
        "#Computar valor mínimo\n",
        "n_min = min(list_estados)\n",
        "print(n_min)\n",
        "\n",
        "#Computar valor máximo\n",
        "n_max = max(list_estados)\n",
        "print(n_max)"
      ]
    },
    {
      "cell_type": "markdown",
      "metadata": {
        "id": "1xq6fosbtTpa"
      },
      "source": [
        "##### **Otras Operaciones**\n",
        "\n",
        "Además podemos realizar ciertas operaciones aritméticas con listas o sus elememntos.\n",
        "\n",
        "**Suma de listas**\n",
        "\n",
        "Las suma de listas es una concatenación de los elementos de las listas que sumemos.\n",
        "\n"
      ]
    },
    {
      "cell_type": "code",
      "execution_count": 29,
      "metadata": {
        "colab": {
          "base_uri": "https://localhost:8080/"
        },
        "id": "fksnlFWHtTpb",
        "outputId": "73a13374-b151-40d6-8515-7c650f4630a2"
      },
      "outputs": [
        {
          "output_type": "stream",
          "name": "stdout",
          "text": [
            "62\n"
          ]
        }
      ],
      "source": [
        "#Suma de lista\n",
        "suma_list = list_tasas_desc + list_estados\n",
        "\n",
        "print(len(suma_list))"
      ]
    },
    {
      "cell_type": "markdown",
      "metadata": {
        "id": "RscsPD9WtTpb"
      },
      "source": [
        "**Suma de los elementos de una lista**\n",
        "\n",
        "Si tenemos un lista con valores numéricos podemos realizar la suma se sus elementos con la función ```sum()```"
      ]
    },
    {
      "cell_type": "code",
      "execution_count": 30,
      "metadata": {
        "colab": {
          "base_uri": "https://localhost:8080/"
        },
        "id": "FkS5BiIhtTpb",
        "outputId": "7bc5859c-6f7c-4906-88bb-6667cd067a0c"
      },
      "outputs": [
        {
          "output_type": "stream",
          "name": "stdout",
          "text": [
            "80.99999999999999\n"
          ]
        }
      ],
      "source": [
        "#Suma de las tasas de desocupación\n",
        "sum_tasas_desocup = sum(list_tasas_desc)\n",
        "#Imprimir\n",
        "print(sum_tasas_desocup)"
      ]
    },
    {
      "cell_type": "markdown",
      "metadata": {
        "id": "bjoFDAlltTpc"
      },
      "source": [
        "Es útil cuando queremos realizar ciertas operaciones que utilizan la suma, como podría ser un promedio.\n",
        "\n",
        "Por ejemplo:\n",
        "\n",
        "* ¿Cuáles el promedio de la tasa de desocupación en México para el segundo trimestre de 2024?"
      ]
    },
    {
      "cell_type": "code",
      "execution_count": 31,
      "metadata": {
        "colab": {
          "base_uri": "https://localhost:8080/"
        },
        "id": "ul640F2KtTpc",
        "outputId": "aab03749-4ac1-459e-b188-95e2b28e9fac"
      },
      "outputs": [
        {
          "output_type": "stream",
          "name": "stdout",
          "text": [
            "El promedio es 2.6999999999999997\n"
          ]
        }
      ],
      "source": [
        "#Calcular promedio\n",
        "promedio_tasas =  sum_tasas_desocup/len(list_estados)\n",
        "\n",
        "print(\"El promedio es\", promedio_tasas)"
      ]
    },
    {
      "cell_type": "markdown",
      "metadata": {
        "id": "lkuheXMqtTpc"
      },
      "source": [
        "**Verificación de elementos**\n",
        "\n",
        "Un operador que podemos utilizar en listas es  ```in```, que sirva para verificar si existe un determinado elemento:\n",
        "\n",
        "Por ejemplo:\n"
      ]
    },
    {
      "cell_type": "code",
      "execution_count": 34,
      "metadata": {
        "colab": {
          "base_uri": "https://localhost:8080/"
        },
        "id": "gMOohm70tTpc",
        "outputId": "1a7dfdfb-f3b3-4a74-828d-43b7a8e79fc2"
      },
      "outputs": [
        {
          "output_type": "stream",
          "name": "stdout",
          "text": [
            "True\n",
            "False\n"
          ]
        }
      ],
      "source": [
        "#Aplicar operador in\n",
        "print(\"Ciudad de México\"  not in list_estados) #El resultado será un booleano (True)\n",
        "\n",
        "print(\"CDMX\" not in list_estados) #El resultado será un booleano (False)"
      ]
    },
    {
      "cell_type": "markdown",
      "metadata": {
        "id": "ZT9EKqfe7jSB"
      },
      "source": [
        "## Tuplas (`tuple`)"
      ]
    },
    {
      "cell_type": "markdown",
      "metadata": {
        "id": "s_FOm1d0tTpd"
      },
      "source": [
        "### **¿Qués son las tuplas?**\n",
        "\n",
        "Las tuplas son una una secuencia ordenada de elementos separados por comas. Al igual que las listas, las tuplas permiten la combinación de diferentes tipos de elementos en una misma, pero a diferencia de las listas,  las tuplas son **inmutables**. Por tanto, una vez creada una tupla no se puede modificar.\n",
        "\n",
        "**Sintáxis**\n",
        "\n",
        "Para definir un tupla en Python podemos hacerlo de dos formas:\n",
        "\n",
        "1. Separando los elemento por comas:\n",
        "\n",
        "```python\n",
        "tuple_1 = e_1, e_2, e_3,...,n  \n",
        "\n",
        "```\n",
        "2. Separando los elemento por comas y encerrándolos en paréntesis:\n",
        "\n",
        "```python\n",
        "tuple_1 = (e_1, e_2, e_3,...,n  )\n",
        "```\n"
      ]
    },
    {
      "cell_type": "code",
      "execution_count": 35,
      "metadata": {
        "colab": {
          "base_uri": "https://localhost:8080/"
        },
        "id": "cSeXYFLrtTpi",
        "outputId": "8432ca66-8c06-41ee-92ca-94386b4c2227"
      },
      "outputs": [
        {
          "output_type": "stream",
          "name": "stdout",
          "text": [
            "Tipo de elemento <class 'tuple'>\n"
          ]
        }
      ],
      "source": [
        "#Definir tupla\n",
        "tuple_tasas =  3.4, 2.7, 2.4, 2.0, 3.7\n",
        "\n",
        "print(\"Tipo de elemento\", type(tuple_tasas))"
      ]
    },
    {
      "cell_type": "markdown",
      "metadata": {
        "id": "CKMihVnZtTpi"
      },
      "source": [
        "### **Manejo y operaciones en tupla**\n",
        "\n",
        "El manejo y operaciones con tuplas es más restrictivo dado su condición de inmutabilidad.\n"
      ]
    },
    {
      "cell_type": "markdown",
      "metadata": {
        "id": "t-ENBrK8tTpj"
      },
      "source": [
        "#### **Extracción de elementos  y modificación**\n",
        "\n",
        "##### **Extracción**\n",
        "\n",
        "La extracción de elementos en una tupla de realiza de la misma forma que en las listas, a partir de la posición del elemento.\n"
      ]
    },
    {
      "cell_type": "code",
      "execution_count": null,
      "metadata": {
        "id": "GK-veTu5tTpj",
        "outputId": "fea88922-5fa2-4148-a5c5-d88c943225a7"
      },
      "outputs": [
        {
          "name": "stdout",
          "output_type": "stream",
          "text": [
            "5\n"
          ]
        }
      ],
      "source": [
        "#Definimos tamaño de la tupla\n",
        "n_tasas  = len(tuple_tasas)\n",
        "\n",
        "print(n_tasas)"
      ]
    },
    {
      "cell_type": "code",
      "execution_count": null,
      "metadata": {
        "id": "UKRPWvj3tTpj",
        "outputId": "048bbb53-1f71-4801-b31d-a1eba998b300"
      },
      "outputs": [
        {
          "name": "stdout",
          "output_type": "stream",
          "text": [
            "El primer elemento es 3.4  y el último es 3.7\n"
          ]
        }
      ],
      "source": [
        "#Extraer primer elemento de la tupla de tasas\n",
        "e_1 = tuple_tasas[0]\n",
        "\n",
        "#Extraer último\n",
        "e_n = tuple_tasas[-1]\n",
        "\n",
        "#Otra forma de calcular último elemento\n",
        "e_n =  tuple_tasas[n_tasas - 1 ]\n",
        "\n",
        "print(f\"El primer elemento es {e_1}  y el último es {e_n}\")"
      ]
    },
    {
      "cell_type": "markdown",
      "metadata": {
        "id": "ATNGjhPCtTpk"
      },
      "source": [
        "##### **Modificación**\n",
        "Dado su condición de inmutabilidad no podemos modificar tuplas, por lo tanto no podemos reemplazar elementos, agregar o borrar elementos. Lo que obtendremos será un error tipo  `TypeError`, en este caso el tipo de dato es incorrecto porque una tupla es inalterable.\n",
        "\n",
        "Ejemplo:\n"
      ]
    },
    {
      "cell_type": "code",
      "execution_count": 36,
      "metadata": {
        "colab": {
          "base_uri": "https://localhost:8080/",
          "height": 159
        },
        "id": "CCcXFP8ntTpk",
        "outputId": "60eaf981-4559-4638-ba28-800dccae4ec2"
      },
      "outputs": [
        {
          "output_type": "error",
          "ename": "TypeError",
          "evalue": "'tuple' object does not support item assignment",
          "traceback": [
            "\u001b[0;31m---------------------------------------------------------------------------\u001b[0m",
            "\u001b[0;31mTypeError\u001b[0m                                 Traceback (most recent call last)",
            "\u001b[0;32m<ipython-input-36-ae747e8b16ae>\u001b[0m in \u001b[0;36m<cell line: 0>\u001b[0;34m()\u001b[0m\n\u001b[1;32m      1\u001b[0m \u001b[0;31m#Reemplazar el primer elemento\u001b[0m\u001b[0;34m\u001b[0m\u001b[0;34m\u001b[0m\u001b[0m\n\u001b[0;32m----> 2\u001b[0;31m \u001b[0mtuple_tasas\u001b[0m\u001b[0;34m[\u001b[0m\u001b[0;36m0\u001b[0m\u001b[0;34m]\u001b[0m \u001b[0;34m=\u001b[0m \u001b[0;36m5.4\u001b[0m\u001b[0;34m\u001b[0m\u001b[0;34m\u001b[0m\u001b[0m\n\u001b[0m",
            "\u001b[0;31mTypeError\u001b[0m: 'tuple' object does not support item assignment"
          ]
        }
      ],
      "source": [
        "#Reemplazar el primer elemento\n",
        "tuple_tasas[0] = 5.4"
      ]
    },
    {
      "cell_type": "markdown",
      "metadata": {
        "id": "tLsgXcTBtTpk"
      },
      "source": [
        "#### **Otras operaciones**\n",
        "\n",
        "\n",
        "##### **Obtener elementos máximos y mínimos**\n",
        "\n",
        "Para saber cuales son los elementos de mayor valor en una lista ya sea númerico o alfabético utilizamos las funciones  ```min()``` y ```max()```:"
      ]
    },
    {
      "cell_type": "code",
      "execution_count": null,
      "metadata": {
        "id": "7K31ITertTpk",
        "outputId": "49bf9543-d39e-4809-aa0e-6d47d2b5858c"
      },
      "outputs": [
        {
          "name": "stdout",
          "output_type": "stream",
          "text": [
            "2.0\n",
            "3.7\n"
          ]
        }
      ],
      "source": [
        "#Computar valor mínimo\n",
        "n_min = min(tuple_tasas)\n",
        "print(n_min)\n",
        "\n",
        "#Computar valor máximo\n",
        "n_max = max(tuple_tasas)\n",
        "print(n_max)"
      ]
    },
    {
      "cell_type": "markdown",
      "metadata": {
        "id": "hqAzAHuatTpk"
      },
      "source": [
        "##### **Desempaquetado de tuplas**\n",
        "\n",
        "Unas de las utilidades de las tuplas es que se pueden asignar sus elementos a variables, por eso es que muchos de los resultados o salidas en Python son tuplas.\n",
        "\n",
        "Ejemplo:"
      ]
    },
    {
      "cell_type": "code",
      "execution_count": 39,
      "metadata": {
        "colab": {
          "base_uri": "https://localhost:8080/"
        },
        "id": "7TWm21R0tTpl",
        "outputId": "cb62a927-47f9-4f4e-9df8-59dfcb0e740f"
      },
      "outputs": [
        {
          "output_type": "stream",
          "name": "stdout",
          "text": [
            "La coordenada x será 10 y la y 20\n"
          ]
        },
        {
          "output_type": "execute_result",
          "data": {
            "text/plain": [
              "20"
            ]
          },
          "metadata": {},
          "execution_count": 39
        }
      ],
      "source": [
        "#Definir tupla de coordenadas\n",
        "coordenadas = (10, 20, 40)\n",
        "#Asignar a variables\n",
        "x, y, z = coordenadas\n",
        "print(f\"La coordenada x será {x} y la y {y}\")\n",
        "\n",
        "x\n",
        "y"
      ]
    },
    {
      "cell_type": "markdown",
      "metadata": {
        "id": "4DOges27tTpl"
      },
      "source": [
        "##### **¿En qué situaciones son útiles las tuplas?**\n",
        "\n",
        "Las tuplas son especialmente útiles cuando:\n",
        "\n",
        "* Se necesita garantizar que los datos no cambiarán\n",
        "* Queremos representar colecciones de datos relacionados (como coordenadas)\n",
        "* Buscamos mejor rendimiento que con listas\n",
        "* Necesitamos usar la estructura como clave en un diccionario\n",
        "* Trabajamos con valores de retorno múltiples en funciones"
      ]
    },
    {
      "cell_type": "markdown",
      "metadata": {
        "id": "DhlZpRtStTpl"
      },
      "source": [
        "## Conjuntos (`set`)"
      ]
    },
    {
      "cell_type": "markdown",
      "metadata": {
        "id": "VAwUM_7C7maS"
      },
      "source": [
        "### **¿Qué son los conjuntos?**\n",
        "Un conjunto en Python es una colección desordenada de elemento únicos. Dado que un conjunto no está ordenado, sus elementos no tienen posición única por lo que no se puede acceder a los elementos de un conjunto pero si se puede agregar y eliminar elementos.\n",
        "\n",
        "**Sintáxis**\n",
        "\n",
        "Para definir un conjunto se utilizan corchetes  ```{}``` y utilizar la función  ```set() ``` de la siguienete forma:\n",
        "\n",
        "*  `set_1 = set({e_3, e_2, e_1, ... e_n})`\n"
      ]
    },
    {
      "cell_type": "code",
      "execution_count": 40,
      "metadata": {
        "colab": {
          "base_uri": "https://localhost:8080/"
        },
        "id": "Zh_-yXtetTpl",
        "outputId": "537a81a0-61b9-44a8-9517-955fa96c21b6"
      },
      "outputs": [
        {
          "output_type": "stream",
          "name": "stdout",
          "text": [
            "¿Qué tipo de elemento es set estados <class 'set'>\n"
          ]
        }
      ],
      "source": [
        "#Definir set de estados\n",
        "set_estados = set({\"Aguascalientes\", \"Baja California\", \"Baja California Sur\", \"Campeche\",\n",
        "                 \"Coahuila de Zaragoza\", \"Colima\", \"Chiapas\", \"Chihuahua\", \"Ciudad de México\",\n",
        "                 \"Durango\", \"Guanajuato\", \"Guerrero\", \"Hidalgo\", \"Jalisco\", \"México\",\n",
        "                 \"Michoacán de Ocampo\", \"Morelos\", \"Nayarit\", \"Nuevo León\", \"Oaxaca\", \"Oaxaca\",\"Oaxaca\",\"Oaxaca\"\n",
        "                 \"Puebla\", \"Querétaro\", \"Quintana Roo\", \"San Luis Potosí\", \"Sinaloa\",\n",
        "                 \"Sonora\", \"Tabasco\", \"Tamaulipas\", \"Tlaxcala\",\n",
        "                 \"Veracruz de Ignacio de la Llave\", \"Yucatán\", \"Zacatecas\"})\n",
        "\n",
        "print(\"¿Qué tipo de elemento es set estados\", type(set_estados))"
      ]
    },
    {
      "cell_type": "markdown",
      "metadata": {
        "id": "hmpt5xX-tTpm"
      },
      "source": [
        "### **Manejo y operaciones en conjuntos**\n",
        "\n",
        "A pesar de que los elementos de un conjunto no están ordenados y no podemos acceder a ellos mediante una posición específica, los conjuntos son estructuras dinámicas que permiten modificaciones. Además, podemos realizar operaciones propias de la Teoría de Conjuntos, como la unión, intersección, diferencia y otras, para analizar y manipular datos de manera eficiente.\n",
        "\n",
        "#### **Modificación de conjuntos**\n",
        "\n",
        "\n",
        "**Tamaño  de conjunto**\n",
        "\n",
        "* El tamaño o número de elementos en un conjunto los podemos calcular con la función ```len()```"
      ]
    },
    {
      "cell_type": "code",
      "execution_count": 41,
      "metadata": {
        "colab": {
          "base_uri": "https://localhost:8080/"
        },
        "id": "XXdFzlIwtTpm",
        "outputId": "d30e5976-e4c4-447d-d3aa-d7405878bbed"
      },
      "outputs": [
        {
          "output_type": "stream",
          "name": "stdout",
          "text": [
            "32\n"
          ]
        }
      ],
      "source": [
        "#Tamaño de conjunto\n",
        "len_set = len(set_estados)\n",
        "\n",
        "print(len_set)"
      ]
    },
    {
      "cell_type": "markdown",
      "metadata": {
        "id": "61rY3T56tTpn"
      },
      "source": [
        "**Borrar elementos**\n",
        "\n",
        "Para borrar elementos de una conjunto se utiliza la función `remove(valor)` y utiliza el valor a eliminar como argumento de la función."
      ]
    },
    {
      "cell_type": "code",
      "execution_count": null,
      "metadata": {
        "id": "7GvGcmo5tTpn",
        "outputId": "35a60fe7-397d-48cb-b360-b03453ad0850"
      },
      "outputs": [
        {
          "name": "stdout",
          "output_type": "stream",
          "text": [
            "{'Baja California', 'OaxacaPuebla', 'Tlaxcala', 'Sinaloa', 'Baja California Sur', 'Chiapas', 'Morelos', 'Guerrero', 'Coahuila de Zaragoza', 'Tamaulipas', 'Michoacán de Ocampo', 'Nuevo León', 'Veracruz de Ignacio de la Llave', 'San Luis Potosí', 'Hidalgo', 'Oaxaca', 'Nayarit', 'Yucatán', 'Colima', 'Jalisco', 'Campeche', 'Quintana Roo', 'México', 'Tabasco', 'Chihuahua', 'Durango', 'Querétaro', 'Aguascalientes', 'Sonora', 'Ciudad de México', 'Guanajuato'}\n"
          ]
        }
      ],
      "source": [
        "#Eliminar Zacatecas\n",
        "set_estados.remove('Zacatecas')\n",
        "\n",
        "#Imprimir set\n",
        "print(set_estados, len(set_estados))"
      ]
    },
    {
      "cell_type": "markdown",
      "metadata": {
        "id": "vOb2sFcUtTpo"
      },
      "source": [
        "**Agregar elementos**\n",
        "\n",
        "Para agregar elementos a un conjunto se puede utiliza dos métodos se utiliza la función `add(valor)` y utiliza el valor que se agregará como argumento de la función."
      ]
    },
    {
      "cell_type": "code",
      "execution_count": 42,
      "metadata": {
        "colab": {
          "base_uri": "https://localhost:8080/"
        },
        "id": "lpRE1v26tTpo",
        "outputId": "f3e2fd61-9eed-4076-a4be-5c1ba69bdce5"
      },
      "outputs": [
        {
          "output_type": "stream",
          "name": "stdout",
          "text": [
            "{'Nuevo León', 'Colima', 'Baja California Sur', 'México', 'Morelos', 'Tabasco', 'Chiapas', 'Veracruz de Ignacio de la Llave', 'Oaxaca', 'Sonora', 'Campeche', 'OaxacaPuebla', 'Guanajuato', 'Baja California', 'Guerrero', 'Ciudad de México', 'Michoacán de Ocampo', 'Zacatecas', 'Aguascalientes', 'Yucatán', 'Coahuila de Zaragoza', 'Nayarit', 'Durango', 'Tamaulipas', 'Tlaxcala', 'Chihuahua', 'San Luis Potosí', 'Quintana Roo', 'Hidalgo', 'Querétaro', 'Jalisco', 'Sinaloa'}\n",
            "32\n"
          ]
        }
      ],
      "source": [
        "#Eliminar Zacatecas\n",
        "set_estados.add('Zacatecas')\n",
        "\n",
        "#Imprimir set y tamaño del set\n",
        "print(set_estados)\n",
        "print(len(set_estados))"
      ]
    },
    {
      "cell_type": "markdown",
      "metadata": {
        "id": "4CQ0C0RHtTpp"
      },
      "source": [
        "#### **Operaciones de conjuntos**\n",
        "\n",
        "Las operaciones de conjuntos son útiles para comparar y analizar datos, como encontrar similitudes o diferencias entre colecciones de elementos.\n",
        "\n"
      ]
    },
    {
      "cell_type": "markdown",
      "metadata": {
        "id": "DNB9O3zctTpq"
      },
      "source": [
        "#### **Unión**\n",
        "\n",
        "Permite combinar elementos de dos conjuntos sin duplicados y para definir esta operación en Python se utilizan dos métodos:\n",
        "\n",
        "- Símbolo | :\n",
        "\n",
        "  ```union = set_1 | set_2```\n",
        "\n",
        "- Función union:\n",
        "  \n",
        "  ```union = set_1.union(set_2)```\n",
        "   \n",
        "\n",
        "Ejemplo:"
      ]
    },
    {
      "cell_type": "code",
      "execution_count": 43,
      "metadata": {
        "colab": {
          "base_uri": "https://localhost:8080/"
        },
        "id": "J8YS36nwtTpq",
        "outputId": "27f352e2-fd6d-496a-dedb-8410b68224ff"
      },
      "outputs": [
        {
          "output_type": "stream",
          "name": "stdout",
          "text": [
            "5\n",
            "5\n"
          ]
        }
      ],
      "source": [
        "#Definir set 1\n",
        "set_top5_pib = set({'Ciudad de México', 'Estado de México', 'Nuevo León', 'Jalisco', 'Guanajuato'})\n",
        "print(len(set_top5_pib))\n",
        "\n",
        "#Definir set 2\n",
        "set_top5_mayor_desocup = set({'Tabasco', 'Coahuila de Zaragoza', 'Ciudad de México', 'Sonora', 'Aguascalientes'})\n",
        "print(len(set_top5_pib))"
      ]
    },
    {
      "cell_type": "code",
      "execution_count": 44,
      "metadata": {
        "colab": {
          "base_uri": "https://localhost:8080/"
        },
        "id": "2fvPhl3UtTpr",
        "outputId": "1dc55d95-371a-4e25-b9d5-0c32062a6ea7"
      },
      "outputs": [
        {
          "output_type": "stream",
          "name": "stdout",
          "text": [
            "{'Nuevo León', 'Estado de México', 'Tabasco', 'Aguascalientes', 'Sonora', 'Coahuila de Zaragoza', 'Guanajuato', 'Ciudad de México', 'Jalisco'}\n",
            "¿Cuántos elementos tiene el conjunto unión? 9\n"
          ]
        }
      ],
      "source": [
        "#Unión\n",
        "#1\n",
        "print(set_top5_pib | set_top5_mayor_desocup)\n",
        "\n",
        "#2\n",
        "set_union = set_top5_pib.union(set_top5_mayor_desocup)\n",
        "\n",
        "print( \"¿Cuántos elementos tiene el conjunto unión?\", len(set_union))"
      ]
    },
    {
      "cell_type": "markdown",
      "metadata": {
        "id": "OF4UtRXktTpr"
      },
      "source": [
        "##### **Intersección**\n",
        "\n",
        "La intersección permite obtener elementos que coinciden entre dos conjuntos.\n",
        "\n",
        "**Sintáxis**\n",
        "\n",
        "Para definir la intersección se pueden utilizar dos métodos:\n",
        "\n",
        "- Signo & :\n",
        "\n",
        "  ```intersect = set_1 & set_2```\n",
        "\n",
        "- Función intersection():\n",
        "  \n",
        "  ```intersect = set_1.union(set_2)```\n",
        "   \n",
        "\n",
        "Ejemplo:"
      ]
    },
    {
      "cell_type": "code",
      "execution_count": 45,
      "metadata": {
        "colab": {
          "base_uri": "https://localhost:8080/"
        },
        "id": "41OCXohetTpr",
        "outputId": "e655306f-9602-4e8a-e26d-0fd48e2f9cc6"
      },
      "outputs": [
        {
          "output_type": "stream",
          "name": "stdout",
          "text": [
            "{'Ciudad de México'}\n",
            "¿Cuántos elementos tiene el conjunto intersección? 1\n"
          ]
        }
      ],
      "source": [
        "#Unión\n",
        "#1\n",
        "print(set_top5_pib & set_top5_mayor_desocup)\n",
        "\n",
        "#2\n",
        "set_intersect = set_top5_pib.intersection(set_top5_mayor_desocup)\n",
        "\n",
        "print( \"¿Cuántos elementos tiene el conjunto intersección?\", len(set_intersect))"
      ]
    },
    {
      "cell_type": "markdown",
      "metadata": {
        "id": "MMXn35yctTps"
      },
      "source": [
        "##### **Diferencia**\n",
        "\n",
        "La operación diferencia permite conocer los elementos que no se encuentran en determinado conjunto.\n",
        "\n",
        "**Sintáxis**\n",
        "\n",
        "Para definir la diferencia de dos conjuntos se pueden utilizar dos métodos:\n",
        "\n",
        "- Signo - :\n",
        "\n",
        "  ```diff = set_1 - set_2```\n",
        "\n",
        "- Función difference():\n",
        "  \n",
        "  ```diff = set_1.difference(set_2)```\n",
        "   \n",
        "\n",
        "Ejemplo:"
      ]
    },
    {
      "cell_type": "code",
      "execution_count": 48,
      "metadata": {
        "colab": {
          "base_uri": "https://localhost:8080/"
        },
        "id": "1Z7x83YUtTps",
        "outputId": "ca64b71e-e2f1-40e4-86de-da8f2bf77ca1"
      },
      "outputs": [
        {
          "output_type": "stream",
          "name": "stdout",
          "text": [
            "{'Tabasco', 'Aguascalientes', 'Sonora', 'Coahuila de Zaragoza'}\n",
            "¿Cuántos elementos no contiene en el conjunto 1 (top 5 mayor PIB)? 4\n"
          ]
        }
      ],
      "source": [
        "#Diferencia\n",
        "#1\n",
        "print(set_top5_mayor_desocup - set_top5_pib )\n",
        "\n",
        "#2\n",
        "set_diff = set_top5_mayor_desocup.difference(set_top5_pib)\n",
        "\n",
        "print( \"¿Cuántos elementos no contiene en el conjunto 1 (top 5 mayor PIB)?\", len(set_diff))"
      ]
    },
    {
      "cell_type": "markdown",
      "metadata": {
        "id": "B-KTaqoItTps"
      },
      "source": [
        "##### **Subconjunto**\n",
        "\n",
        "También podremos saber si un conjunto es subconjunto de otro más grande.\n",
        "\n",
        "**Sintáxis**\n",
        "\n",
        "Se pueden aplicar dos tipos de sintáxis para validar si un conjunto es subcounto de otro más grande.\n",
        "\n",
        "- Operador <= :\n",
        "\n",
        "  ```es_subconjunto = set_pequeño <= set_grande```\n",
        "\n",
        "- Función difference():\n",
        "  \n",
        "  ```es_subconjunto = set_pequeño.issubset(set_grande)```\n",
        "   \n",
        "\n",
        "Ejemplo:"
      ]
    },
    {
      "cell_type": "code",
      "execution_count": 50,
      "metadata": {
        "colab": {
          "base_uri": "https://localhost:8080/"
        },
        "id": "IlHgnOjVtTps",
        "outputId": "0f9d2c59-b27c-467a-eae6-11e747976e78"
      },
      "outputs": [
        {
          "output_type": "stream",
          "name": "stdout",
          "text": [
            "3\n",
            "True\n",
            "¿El conjunto top 3 es subconjunto  del top 5? True\n"
          ]
        }
      ],
      "source": [
        "#Definir conjunto\n",
        "set_top3_pib = set({'Ciudad de México', 'Estado de México', 'Nuevo León'})\n",
        "print(len(set_top3_pib))\n",
        "\n",
        "#Es subconjunto\n",
        "#1\n",
        "print(set_top3_pib  <= set_top5_pib )\n",
        "#2\n",
        "is_subset = set_top3_pib.issubset(set_top5_pib)\n",
        "\n",
        "print( \"¿El conjunto top 3 es subconjunto  del top 5?\", is_subset)"
      ]
    },
    {
      "cell_type": "markdown",
      "metadata": {
        "id": "elba3JK5tTps"
      },
      "source": [
        "## Diccionarios (`dict`):\n",
        ""
      ]
    },
    {
      "cell_type": "markdown",
      "metadata": {
        "id": "SvtXgBUytTpt"
      },
      "source": [
        "### **¿Qué son los diccionarios?**\n",
        "\n",
        "Un diccionario en Python es un objeto con estructura de **clave-valor**, en el que los valores están indexados a la clave.\n",
        "\n",
        "**Sintáxis**\n",
        "\n",
        "Para definir un diccionario se utilizan `{}`  y se separan los pares de clave-valor por   `:`, y cada par debe ser separado por comas de la siguienete forma:\n",
        "\n",
        "  ```Python\n",
        "  dict_1  = {'clave_1': 'valor_1',\n",
        "             'clave_2': 'valor_2',\n",
        "             'clave_3': 'valor_3',\n",
        "                     ...         ,\n",
        "             'clave_n': 'valor_n'}\n",
        "\n",
        "```\n",
        "Ejemplo:\n",
        "\n",
        "* Para definir un diccionario vacío sólo utilizamos `{}`:"
      ]
    },
    {
      "cell_type": "code",
      "execution_count": 53,
      "metadata": {
        "colab": {
          "base_uri": "https://localhost:8080/"
        },
        "id": "782riOX2tTpt",
        "outputId": "586ad831-1d81-417a-f832-ee3be71f03c7"
      },
      "outputs": [
        {
          "output_type": "stream",
          "name": "stdout",
          "text": [
            "<class 'dict'>\n"
          ]
        }
      ],
      "source": [
        "#Definir  diccionario vacío\n",
        "dict_vacío =  {}\n",
        "\n",
        "print(type(dict_vacío))"
      ]
    },
    {
      "cell_type": "markdown",
      "metadata": {
        "id": "AumASjFNtTpt"
      },
      "source": [
        "* Se define un diccionario de la siguiente forma:"
      ]
    },
    {
      "cell_type": "code",
      "execution_count": 54,
      "metadata": {
        "colab": {
          "base_uri": "https://localhost:8080/"
        },
        "id": "aNRi5x5YtTpu",
        "outputId": "14832952-c560-4d9d-f88e-cace9a1b8c79"
      },
      "outputs": [
        {
          "output_type": "stream",
          "name": "stdout",
          "text": [
            "{'India': 6.8, 'Indonesia': 5.1, 'China': 4.9, 'Russia': 3.9, 'Türkiye': 3.5, 'Brazil': 3.2, 'Spain': 3.0, 'United States': 2.8, 'Korea': 2.3, 'México': 1.4, 'Canada': 1.1, 'Australia': 1.1, 'France': 1.1, 'Saudi Arabia': 1.0, 'South Africa': 1.0, 'United Kingdom': 0.9, 'Euro area': 0.8, 'Italy': 0.5, 'Germany': 0.0, 'Japan': -0.3, 'Argentina': -3.8}\n",
            "<class 'dict'>\n"
          ]
        }
      ],
      "source": [
        "#Definir diccionario de proyecciones de crecimient de la OCDE para el año 2024 (Fuente: https://web-archive.oecd.org/espanol/index.htm)\n",
        "\n",
        "dict_growth_2024 = { \"India\": 6.8,\n",
        "                     \"Indonesia\": 5.1,\n",
        "                     \"China\": 4.9,\n",
        "                     \"Russia\": 3.9,\n",
        "                     \"Türkiye\": 3.5,\n",
        "                     \"Brazil\": 3.2,\n",
        "                     \"Spain\": 3.0,\n",
        "                     \"United States\": 2.8,\n",
        "                     \"Korea\": 2.3,\n",
        "                     \"México\": 1.4,\n",
        "                     \"Canada\": 1.1,\n",
        "                     \"Australia\": 1.1,\n",
        "                     \"France\": 1.1,\n",
        "                     \"Saudi Arabia\": 1.0,\n",
        "                     \"South Africa\": 1.0,\n",
        "                     \"United Kingdom\": 0.9,\n",
        "                     \"Euro area\": 0.8,\n",
        "                     \"Italy\": 0.5,\n",
        "                     \"Germany\": 0.0,\n",
        "                     \"Japan\": -0.3,\n",
        "                     \"Argentina\": -3.8 }\n",
        "#Imprimir diccionario\n",
        "print(dict_growth_2024)\n",
        "#Imprimir tipo de clase que es dict_growth_2024\n",
        "print(type(dict_growth_2024))"
      ]
    },
    {
      "cell_type": "markdown",
      "metadata": {
        "id": "olVXjzCrtTpv"
      },
      "source": [
        "### **Manejo y operaciones en diccionarios**\n"
      ]
    },
    {
      "cell_type": "markdown",
      "metadata": {
        "id": "uSSs78ostTpv"
      },
      "source": [
        "**Tamaño de un diccionario**\n",
        "\n",
        "Al igual que en las listas, tuplas conjuntos para saber el tamaño de un diccionario, en este caso el número de pares clave-valor que contiene se utiliza la función `len()`."
      ]
    },
    {
      "cell_type": "code",
      "execution_count": 55,
      "metadata": {
        "colab": {
          "base_uri": "https://localhost:8080/"
        },
        "id": "2SarqK_ftTpv",
        "outputId": "fe0ce172-40e0-4934-a25d-b03df333ae64"
      },
      "outputs": [
        {
          "output_type": "stream",
          "name": "stdout",
          "text": [
            "21\n"
          ]
        }
      ],
      "source": [
        "#Tamaño de un diccionario\n",
        "print(len(dict_growth_2024))"
      ]
    },
    {
      "cell_type": "markdown",
      "metadata": {
        "id": "Do7S40n0tTpw"
      },
      "source": [
        "#### **Acceso a elementos de un diccionario**\n",
        "\n",
        "Como se mencionó los diccionarios contiene pares de claves y valores por lo que podemos tener acceso a estos elementos.\n",
        "\n",
        "Para ello utilizaremos las funciones `key(), value(), items()` con la siguiente sintáxis:\n",
        "\n",
        "   * Para acceder a las claves:\n",
        "    \n",
        "     `dict_1.key()`\n",
        "\n",
        "     Ejemplo:\n",
        "\n",
        ""
      ]
    },
    {
      "cell_type": "code",
      "execution_count": 56,
      "metadata": {
        "colab": {
          "base_uri": "https://localhost:8080/"
        },
        "id": "cu_PB91EtTpw",
        "outputId": "6d74f58c-c190-4c25-f2be-27dc5886a64f"
      },
      "outputs": [
        {
          "output_type": "stream",
          "name": "stdout",
          "text": [
            "dict_keys(['India', 'Indonesia', 'China', 'Russia', 'Türkiye', 'Brazil', 'Spain', 'United States', 'Korea', 'México', 'Canada', 'Australia', 'France', 'Saudi Arabia', 'South Africa', 'United Kingdom', 'Euro area', 'Italy', 'Germany', 'Japan', 'Argentina'])\n",
            "<class 'dict_keys'>\n"
          ]
        }
      ],
      "source": [
        "#Definir claves de diccionario\n",
        "claves = dict_growth_2024.keys()\n",
        "\n",
        "print(claves)\n",
        "print(type(claves))\n"
      ]
    },
    {
      "cell_type": "markdown",
      "metadata": {
        "id": "9VNb3FH2tTpw"
      },
      "source": [
        "* Para acceder a los valores:\n",
        "    \n",
        "     `dict_1.values()`\n",
        "\n",
        "     Ejemplo:"
      ]
    },
    {
      "cell_type": "code",
      "execution_count": 57,
      "metadata": {
        "colab": {
          "base_uri": "https://localhost:8080/"
        },
        "id": "jKeSYmwutTpw",
        "outputId": "faaddaf7-dc69-4585-8868-d7ef7c870b1d"
      },
      "outputs": [
        {
          "output_type": "stream",
          "name": "stdout",
          "text": [
            "dict_values([6.8, 5.1, 4.9, 3.9, 3.5, 3.2, 3.0, 2.8, 2.3, 1.4, 1.1, 1.1, 1.1, 1.0, 1.0, 0.9, 0.8, 0.5, 0.0, -0.3, -3.8])\n",
            "<class 'dict_values'>\n"
          ]
        }
      ],
      "source": [
        "#Definir valores del diccionario\n",
        "valores = dict_growth_2024.values()\n",
        "\n",
        "print(valores)\n",
        "print(type(valores))"
      ]
    },
    {
      "cell_type": "markdown",
      "metadata": {
        "id": "UN-gZI6ItTpw"
      },
      "source": [
        "* Para acceder tanto a las claves como valores en forma de tuplas:\n",
        "    \n",
        "     `dict_1.items()`\n",
        "\n",
        "     Ejemplo:"
      ]
    },
    {
      "cell_type": "code",
      "execution_count": 58,
      "metadata": {
        "colab": {
          "base_uri": "https://localhost:8080/"
        },
        "id": "8Tk7EzgTtTpx",
        "outputId": "d37f0bf7-a38e-48c9-9e18-e29a2e334efc"
      },
      "outputs": [
        {
          "output_type": "stream",
          "name": "stdout",
          "text": [
            "dict_items([('India', 6.8), ('Indonesia', 5.1), ('China', 4.9), ('Russia', 3.9), ('Türkiye', 3.5), ('Brazil', 3.2), ('Spain', 3.0), ('United States', 2.8), ('Korea', 2.3), ('México', 1.4), ('Canada', 1.1), ('Australia', 1.1), ('France', 1.1), ('Saudi Arabia', 1.0), ('South Africa', 1.0), ('United Kingdom', 0.9), ('Euro area', 0.8), ('Italy', 0.5), ('Germany', 0.0), ('Japan', -0.3), ('Argentina', -3.8)])\n",
            "<class 'dict_items'>\n"
          ]
        }
      ],
      "source": [
        "#Definir valores del diccionario\n",
        "clave_valor = dict_growth_2024.items()\n",
        "\n",
        "print(clave_valor)\n",
        "print(type(clave_valor))"
      ]
    },
    {
      "cell_type": "markdown",
      "metadata": {
        "id": "xNtSCdN0tTpx"
      },
      "source": [
        "#### **Extracción de valores específicos**\n",
        "\n",
        "Como la listas, los valores de los diccionarios están indexados pero en este caso por las claves, por lo tanto podemos utilizar las claves para extraer a algún valor específico.\n",
        "\n",
        "**Sintáxis**\n",
        "\n",
        "Al igual que en las listas se utilizan corchetes cuadrados y como argumento las claves.\n",
        "\n",
        " `dict_1['clave']`\n",
        "\n",
        " Ejemplo:\n"
      ]
    },
    {
      "cell_type": "code",
      "execution_count": 61,
      "metadata": {
        "colab": {
          "base_uri": "https://localhost:8080/"
        },
        "id": "7kx2-g3itTpx",
        "outputId": "17bd1a33-6909-4033-d550-0d986e7450fc"
      },
      "outputs": [
        {
          "output_type": "stream",
          "name": "stdout",
          "text": [
            "1.4 \n",
            " -3.8\n"
          ]
        }
      ],
      "source": [
        "#Extraer valores específicos\n",
        "tasa_mex = dict_growth_2024['México']\n",
        "\n",
        "tasa_argentina = dict_growth_2024['Argentina']\n",
        "\n",
        "print(tasa_mex,\"\\n\", tasa_argentina)"
      ]
    },
    {
      "cell_type": "markdown",
      "metadata": {
        "id": "qVFYsxmNtTpx"
      },
      "source": [
        "También podemos utilizar la función `get()`:"
      ]
    },
    {
      "cell_type": "code",
      "execution_count": 64,
      "metadata": {
        "colab": {
          "base_uri": "https://localhost:8080/"
        },
        "id": "v02JJfWbtTpx",
        "outputId": "9d3508e7-0807-4f77-cff3-1aeb2095fb01"
      },
      "outputs": [
        {
          "output_type": "stream",
          "name": "stdout",
          "text": [
            "1.4 \n",
            " -3.8\n"
          ]
        }
      ],
      "source": [
        "#Extraer valor específico con función get\n",
        "tasa_mex = dict_growth_2024.get('México')\n",
        "tasa_argentina = dict_growth_2024.get('Argentina')\n",
        "\n",
        "print(tasa_mex,\"\\n\", tasa_argentina)"
      ]
    },
    {
      "cell_type": "markdown",
      "metadata": {
        "id": "JvbIe0IRtTpy"
      },
      "source": [
        "#### **Reemplazo y eliminación de valores específicos**\n",
        "\n",
        "Los diccionarios también son un objeto mutable por lo que podemos eliminar, agregar y reemplazar pares de claves y valores.\n"
      ]
    },
    {
      "cell_type": "markdown",
      "metadata": {
        "id": "4nIqWSKDtTpz"
      },
      "source": [
        "#####  **Reemplazo**\n",
        "\n",
        "Para reemplazar o actualizar el valor de una clave en específico utilizamos lo siguiente.\n",
        "\n",
        "**Sintáxis**\n",
        "\n",
        "1. `del`\n",
        "\n",
        "   ```Python  \n",
        "    dict_1['clave'] = 'nuevo_valor'\n",
        "   ```\n",
        "Ejemplo:"
      ]
    },
    {
      "cell_type": "code",
      "execution_count": 68,
      "metadata": {
        "colab": {
          "base_uri": "https://localhost:8080/"
        },
        "id": "-F3Sr_i8tTp0",
        "outputId": "8fe2f5c9-eab8-4903-dd46-b0a8c8e634e1"
      },
      "outputs": [
        {
          "output_type": "stream",
          "name": "stdout",
          "text": [
            "-2.9\n",
            "{'India': 6.8, 'Indonesia': 5.1, 'China': 4.9, 'Russia': 3.9, 'Türkiye': 3.5, 'Brazil': 3.2, 'Spain': 3.0, 'United States': 2.8, 'Korea': 2.3, 'México': 1.4, 'Canada': 1.1, 'Australia': 1.1, 'France': 1.1, 'Saudi Arabia': 1.0, 'South Africa': 1.0, 'United Kingdom': 0.9, 'Euro area': 0.8, 'Italy': 0.5, 'Germany': 0.0, 'Japan': -0.3, 'Argentina': -2.9}\n"
          ]
        }
      ],
      "source": [
        "#¿Cuál es la tasa de crecimiento proyectada para Argentina?\n",
        "print(dict_growth_2024['Argentina'])\n",
        "\n",
        "#Reemplazar el valor de Argentina\n",
        "dict_growth_2024['Argentina'] = -2.9\n",
        "\n",
        "#Comprobar si se modificó\n",
        "print(dict_growth_2024)"
      ]
    },
    {
      "cell_type": "markdown",
      "metadata": {
        "id": "3iH-0GUbtTp0"
      },
      "source": [
        "#####  **Eliminación**\n",
        "\n",
        "Existen diversas formas de eliminar elementos en una listas, las más comunes son las siguientes.\n",
        "\n",
        "**Sintáxis**\n",
        "\n",
        "1. `del`\n",
        "\n",
        "   ```Python  \n",
        "    del dict_1['clave']\n",
        "   ```\n",
        "\n",
        "1. `pop()`\n",
        "\n",
        "    ```Python  \n",
        "    dict_1.pop('clave')\n",
        "    ```\n",
        "\n",
        "\n",
        " Ejemplo:"
      ]
    },
    {
      "cell_type": "code",
      "execution_count": 70,
      "metadata": {
        "colab": {
          "base_uri": "https://localhost:8080/"
        },
        "id": "pa-hNWo9tTp1",
        "outputId": "a9d95887-1bb9-47f3-9860-73bbbee5731e"
      },
      "outputs": [
        {
          "output_type": "stream",
          "name": "stdout",
          "text": [
            "{'India': 6.8, 'Indonesia': 5.1, 'China': 4.9, 'Russia': 3.9, 'Türkiye': 3.5, 'Brazil': 3.2, 'Spain': 3.0, 'United States': 2.8, 'Korea': 2.3, 'Canada': 1.1, 'Australia': 1.1, 'France': 1.1, 'Saudi Arabia': 1.0, 'South Africa': 1.0, 'United Kingdom': 0.9, 'Euro area': 0.8, 'Italy': 0.5, 'Germany': 0.0, 'Japan': -0.3, 'Argentina': -2.9}\n",
            "{'India': 6.8, 'Indonesia': 5.1, 'Russia': 3.9, 'Türkiye': 3.5, 'Brazil': 3.2, 'Spain': 3.0, 'United States': 2.8, 'Korea': 2.3, 'Canada': 1.1, 'Australia': 1.1, 'France': 1.1, 'Saudi Arabia': 1.0, 'South Africa': 1.0, 'United Kingdom': 0.9, 'Euro area': 0.8, 'Italy': 0.5, 'Germany': 0.0, 'Japan': -0.3, 'Argentina': -2.9}\n"
          ]
        }
      ],
      "source": [
        "#Aplicar función del\n",
        "del dict_growth_2024['México']\n",
        "\n",
        "print(dict_growth_2024)\n",
        "\n",
        "#Aplicar pop\n",
        "dict_growth_2024.pop('China')\n",
        "\n",
        "print(dict_growth_2024)"
      ]
    },
    {
      "cell_type": "markdown",
      "metadata": {
        "id": "zA9vYuA8tTp1"
      },
      "source": [
        "#####  **Agregar elemento**\n",
        "\n",
        "Para agregar elementos a las listas se utiliza la función `update()`.\n",
        "\n",
        "**Sintáxis**\n",
        "``` Python\n",
        "dict_1.update(dict_2)\n",
        " ```\n",
        "\n",
        " Ejemplo:"
      ]
    },
    {
      "cell_type": "code",
      "execution_count": 72,
      "metadata": {
        "colab": {
          "base_uri": "https://localhost:8080/"
        },
        "id": "00i-rHtXtTp1",
        "outputId": "af02f9c4-5b9c-4c81-b88d-ed8587061f1c"
      },
      "outputs": [
        {
          "output_type": "stream",
          "name": "stdout",
          "text": [
            "{'India': 6.8, 'Indonesia': 5.1, 'Russia': 3.9, 'Türkiye': 3.5, 'Brazil': 3.2, 'Spain': 3.0, 'United States': 2.8, 'Korea': 2.3, 'Canada': 1.1, 'Australia': 1.1, 'France': 1.1, 'Saudi Arabia': 1.0, 'South Africa': 1.0, 'United Kingdom': 0.9, 'Euro area': 0.8, 'Italy': 0.5, 'Germany': 0.0, 'Japan': -0.3, 'Argentina': -2.9, 'México': 4.1, 'China': 6.3}\n"
          ]
        }
      ],
      "source": [
        "#Definir nuevo diccionario\n",
        "dict_nuevo = {'México': 4.1,\n",
        "              'China' : 6.3 }\n",
        "\n",
        "dict_growth_2024.update(dict_nuevo)\n",
        "\n",
        "print(dict_growth_2024)"
      ]
    },
    {
      "cell_type": "markdown",
      "metadata": {
        "id": "LaW2_9TitTp1"
      },
      "source": [
        "#####  **Validar presencia de elementos**\n",
        "\n",
        "Para veririficar la presencia de un elemento por su clave en un diccionario se utiliza el operador `in`.\n",
        "\n",
        "**Sintáxis**\n",
        "``` Python\n",
        "'elemento_a_validar' in claves\n",
        " ```\n",
        "\n",
        " Ejemplo:"
      ]
    },
    {
      "cell_type": "code",
      "execution_count": 74,
      "metadata": {
        "colab": {
          "base_uri": "https://localhost:8080/"
        },
        "id": "Mk1z22KjtTp2",
        "outputId": "6c592be7-919a-44c9-d77e-3d571fd8a500"
      },
      "outputs": [
        {
          "output_type": "stream",
          "name": "stdout",
          "text": [
            "False\n",
            "True\n"
          ]
        }
      ],
      "source": [
        "#Definir claves de un diccionario\n",
        "\n",
        "claves = dict_growth_2024.keys()\n",
        "\n",
        "#Verificar si encontramos una clave\n",
        "print('Estados Unidos' in claves )\n",
        "\n",
        "print('United States' in claves )\n",
        "\n"
      ]
    },
    {
      "cell_type": "markdown",
      "metadata": {
        "id": "STlB_zRttTp3"
      },
      "source": [
        "#####  **Copiar diccionarios**\n",
        "\n",
        "Para hacer una copia de un diccionario se utiliza la función `copy()`\n",
        "\n",
        "**Sintáxis**\n",
        "\n",
        "``` Python\n",
        "dict_copia = dict_1.copy()\n",
        " ```\n",
        "\n",
        " Ejemplo:"
      ]
    },
    {
      "cell_type": "code",
      "execution_count": null,
      "metadata": {
        "id": "9EEiTs9AtTp4"
      },
      "outputs": [],
      "source": [
        "#Definir nuevo diccionario\n",
        "dict_growth_2024_copy = dict_growth_2024.copy()"
      ]
    },
    {
      "cell_type": "markdown",
      "metadata": {
        "id": "aZE0D1ootTp5"
      },
      "source": [
        "#### **Diccionarios con listas como valores**\n",
        "\n",
        "Lo valores de los diccionarios también pueden ser listas que contengan una serie de valores del mismo tipo o bien de diferentes tipos de valores.\n",
        "\n",
        "**Sintáxis**\n",
        "\n",
        "Para definir un diccionario se utilizan `{}`  y se separan los pares de clave-valor por   `:`, y el valor en este caso será una lista que se define por los `[]`:\n",
        "\n",
        "  ```Python\n",
        "  dict_1  = {'clave_1': lista_1,\n",
        "             'clave_2': lista_2,\n",
        "             'clave_3': lista_3,\n",
        "                     ...         ,\n",
        "             'clave_n': lista_n}\n",
        "\n",
        "```\n",
        "\n",
        "Ejemplo:\n",
        "\n",
        "* El diccionario de proyecciones de crecimiento de los países de la OCDE para el año 2024, ahora también tendrá las proyecciones para el año 2025."
      ]
    },
    {
      "cell_type": "code",
      "execution_count": 75,
      "metadata": {
        "colab": {
          "base_uri": "https://localhost:8080/"
        },
        "id": "tmH8Qj45tTp5",
        "outputId": "5af31cbb-7e61-4c90-8e7e-1dfc37e1d2c0"
      },
      "outputs": [
        {
          "output_type": "stream",
          "name": "stdout",
          "text": [
            "{'India': [6.8, 6.9], 'Indonesia': [5.1, 5.2], 'China': [4.9, 4.7], 'Russia': [3.9, 1.1], 'Türkiye': [3.5, 2.6], 'G20': [3.3, 3.3], 'Brazil': [3.2, 2.3], 'Spain': [3.0, 2.3], 'United States': [2.8, 2.4], 'Korea': [2.3, 2.1], 'Mexico': [1.4, 1.2], 'Canada': [1.1, 2.0], 'Australia': [1.1, 1.9], 'France': [1.1, 0.9], 'Saudi Arabia': [1.0, 3.6], 'South Africa': [1.0, 1.5], 'United Kingdom': [0.9, 1.7], 'Euro area': [0.8, 1.3], 'Italy': [0.5, 0.9], 'Germany': [0.0, 0.7], 'Japan': [-0.3, 1.5], 'Argentina': [-3.8, 3.6]}\n"
          ]
        }
      ],
      "source": [
        "#Definir diccionario de proyecciones de crecimient de la OCDE (Fuente: https://web-archive.oecd.org/espanol/index.htm)\n",
        "dict_growth_2024_2025 = {\n",
        "    'India': [6.8, 6.9],\n",
        "    'Indonesia': [5.1, 5.2],\n",
        "    'China': [4.9, 4.7],\n",
        "    'Russia': [3.9, 1.1],\n",
        "    'Türkiye': [3.5, 2.6],\n",
        "    'G20': [3.3, 3.3],\n",
        "    'Brazil': [3.2, 2.3],\n",
        "    'Spain': [3.0, 2.3],\n",
        "    'United States': [2.8, 2.4],\n",
        "    'Korea': [2.3, 2.1],\n",
        "    'Mexico': [1.4, 1.2],\n",
        "    'Canada': [1.1, 2.0],\n",
        "    'Australia': [1.1, 1.9],\n",
        "    'France': [1.1, 0.9],\n",
        "    'Saudi Arabia': [1.0, 3.6],\n",
        "    'South Africa': [1.0, 1.5],\n",
        "    'United Kingdom': [0.9, 1.7],\n",
        "    'Euro area': [0.8, 1.3],\n",
        "    'Italy': [0.5, 0.9],\n",
        "    'Germany': [0.0, 0.7],\n",
        "    'Japan': [-0.3, 1.5],\n",
        "    'Argentina': [-3.8, 3.6] }\n",
        "\n",
        "print(dict_growth_2024_2025)\n"
      ]
    },
    {
      "cell_type": "markdown",
      "metadata": {
        "id": "tWk9wz1ctTp5"
      },
      "source": [
        "Cuando un diccionario contenga listas como valores se podrá aplicar todas las funciones y operaciones que vimos hasta el momento.\n",
        "\n",
        "Ejemplo:\n",
        "\n",
        "* Extraer claves y valores:"
      ]
    },
    {
      "cell_type": "code",
      "execution_count": 76,
      "metadata": {
        "colab": {
          "base_uri": "https://localhost:8080/"
        },
        "id": "gObkOdyctTp5",
        "outputId": "26bc99bb-5e2e-49d5-ebd6-0c37b62e1413"
      },
      "outputs": [
        {
          "output_type": "stream",
          "name": "stdout",
          "text": [
            "dict_keys(['India', 'Indonesia', 'China', 'Russia', 'Türkiye', 'G20', 'Brazil', 'Spain', 'United States', 'Korea', 'Mexico', 'Canada', 'Australia', 'France', 'Saudi Arabia', 'South Africa', 'United Kingdom', 'Euro area', 'Italy', 'Germany', 'Japan', 'Argentina'])\n",
            "dict_values([[6.8, 6.9], [5.1, 5.2], [4.9, 4.7], [3.9, 1.1], [3.5, 2.6], [3.3, 3.3], [3.2, 2.3], [3.0, 2.3], [2.8, 2.4], [2.3, 2.1], [1.4, 1.2], [1.1, 2.0], [1.1, 1.9], [1.1, 0.9], [1.0, 3.6], [1.0, 1.5], [0.9, 1.7], [0.8, 1.3], [0.5, 0.9], [0.0, 0.7], [-0.3, 1.5], [-3.8, 3.6]])\n"
          ]
        }
      ],
      "source": [
        "#Extraer claves\n",
        "claves = dict_growth_2024_2025.keys()\n",
        "print(claves)\n",
        "\n",
        "#Extraer valores\n",
        "valores_2024_2025 = dict_growth_2024_2025.values()\n",
        "\n",
        "print(valores_2024_2025)\n"
      ]
    },
    {
      "cell_type": "markdown",
      "metadata": {
        "id": "9GFvqhwutTp6"
      },
      "source": [
        "* Extraer valores de determinada clave:"
      ]
    },
    {
      "cell_type": "code",
      "execution_count": 77,
      "metadata": {
        "colab": {
          "base_uri": "https://localhost:8080/"
        },
        "id": "yLSPtSXDtTp7",
        "outputId": "fcb0f5de-9805-431f-80fa-500317a3e2e1"
      },
      "outputs": [
        {
          "output_type": "stream",
          "name": "stdout",
          "text": [
            "Tipo de objeto [3.2, 2.3] es <class 'list'> \n"
          ]
        }
      ],
      "source": [
        "#Extraer tasas de Brasil\n",
        "tasas_Brazil = dict_growth_2024_2025['Brazil']\n",
        "\n",
        "print(f\"Tipo de objeto {tasas_Brazil} es {type(tasas_Brazil)} \")"
      ]
    },
    {
      "cell_type": "markdown",
      "metadata": {
        "id": "vRnTeFgA7zXI"
      },
      "source": [
        "## Arreglos (`array` del módulo `array`):\n",
        "   - Descripción: Una versión más compacta y eficiente de las listas, almacenando elementos del mismo tipo.\n",
        "   - Ejemplo:\n",
        "     ```python\n",
        "     from array import array\n",
        "     my_array = array(\"i\", [1, 2, 3])\n",
        "     ```\n"
      ]
    },
    {
      "cell_type": "markdown",
      "metadata": {
        "id": "jC6x-cor8E3o"
      },
      "source": [
        "## Dataframes (`Dataframes`):\n",
        "   - Descripción: Una colección de pares clave-valor, donde cada valor está asociado con una clave única.\n",
        "   - Ejemplo:\n",
        "\n",
        "\n",
        "\n",
        "``` python\n",
        "    data = {\n",
        "    'nombre': ['Ana', 'Juan', 'María'],\n",
        "    'edad': [25, 30, 35],\n",
        "    'ciudad': ['Madrid', 'Barcelona', 'Sevilla']\n",
        "}\n",
        "\n",
        "df = pd.DataFrame(data)\n",
        "```\n",
        "\n",
        "\n"
      ]
    }
  ],
  "metadata": {
    "colab": {
      "provenance": [],
      "toc_visible": true,
      "include_colab_link": true
    },
    "kernelspec": {
      "display_name": "Python 3",
      "name": "python3"
    },
    "language_info": {
      "codemirror_mode": {
        "name": "ipython",
        "version": 3
      },
      "file_extension": ".py",
      "mimetype": "text/x-python",
      "name": "python",
      "nbconvert_exporter": "python",
      "pygments_lexer": "ipython3",
      "version": "3.12.1"
    }
  },
  "nbformat": 4,
  "nbformat_minor": 0
}