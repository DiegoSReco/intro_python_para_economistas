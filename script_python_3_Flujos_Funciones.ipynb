{
 "cells": [
  {
   "cell_type": "markdown",
   "metadata": {},
   "source": [
    "# **3. Controles de Flujo y Funciones en Python**\n",
    "\n",
    "\n"
   ]
  },
  {
   "cell_type": "markdown",
   "metadata": {},
   "source": [
    "##  **3.1  Estructuras de Control**\n",
    "\n",
    "Cuando estamos realizando análisis de datos es necesario crear programas cortos para iterar, categorizar, tomar decisiones, realizar tareas repetitivas, etc. Para ésto es necesario utilizar estructuras de control o controles de flujo como son los condiciones, bucles y rompimientos."
   ]
  },
  {
   "cell_type": "markdown",
   "metadata": {},
   "source": [
    "### **3.1.1 Condicionales (`if`, `elif`, `else`)**\n",
    "\n",
    "\n",
    "Los condicionales es uno de los controles de flujos básicos, ya que sirve para evaluar declaraciones según se cumplan o no ciertas condiciones, lo que generará una o varias instrucciones. \n",
    "\n",
    "**Sintáxis**\n",
    "\n",
    "Para definir un condicional o un serie de condicionales se utilizan los operadores `if`, `elif`, `else` en **bloques de código** para que la validación funcione correctamente:\n",
    "\n",
    "> **Nota:** Los bloques de código son grupos de declaraciones en líneas de código anidadas, en donde se utiliza la **identación** para generar los bloques.\n",
    ">```Python\n",
    "> línea 1 bloque 1\n",
    "> línea 2 bloque 1\n",
    ">   línea 3 bloque 2\n",
    ">   línea 4 bloque 2\n",
    "> línea 4 bloque 1  \n",
    "> ```\n",
    "\n",
    "* Para evaluar unicamente que la condición se cumpla la sintáxis será: \n",
    "\n",
    "  ```Python \n",
    "  if condición:\n",
    "     instrucción   \n",
    "  ``` \n",
    "\n",
    "  Ejemplo:\n"
   ]
  },
  {
   "cell_type": "code",
   "execution_count": 5,
   "metadata": {},
   "outputs": [
    {
     "name": "stdout",
     "output_type": "stream",
     "text": [
      "Alumno  aprobado con 68 puntos\n"
     ]
    }
   ],
   "source": [
    "#Definir variable \n",
    "y = 68\n",
    "#Definir condición\n",
    "if y >= 59: \n",
    "   print(f\"Alumno  aprobado con {y} puntos\")"
   ]
  },
  {
   "cell_type": "markdown",
   "metadata": {},
   "source": [
    "* Para evaluar  que la condición se cumpla pero también se pueden definir intrucciones en el escenario que no se  la condición para ello agregaremos `else` y la sintáxis será:\n",
    "\n",
    "  ```Python \n",
    "  if condición:\n",
    "     instrucciones\n",
    "  else: \n",
    "     otras instrucciones\n",
    "     \n",
    "  ``` \n",
    "\n",
    "  Ejemplo:"
   ]
  },
  {
   "cell_type": "code",
   "execution_count": 8,
   "metadata": {},
   "outputs": [
    {
     "name": "stdout",
     "output_type": "stream",
     "text": [
      "Alumna reprobado con 59\n"
     ]
    }
   ],
   "source": [
    "#Definir \n",
    "y = 59\n",
    "#Definir condición\n",
    "if y >= 60 : \n",
    "   print(f\"Alumno aprobado con {y} puntos\")\n",
    "else: \n",
    "   print(f\"Alumna reprobado con {y}\")"
   ]
  },
  {
   "cell_type": "markdown",
   "metadata": {},
   "source": [
    "* En el escenario en el que no se cumpla la primera condición podemos pasar por una serie de condiciones excluyentes en la que cada una tendrá asignada instrucciones, para ello se agregará `elif` después de utilizar `if`  y la sintáxis será la siguiente:\n",
    "\n",
    "  ```Python \n",
    "  if condición 1 :\n",
    "     instrucciones 1\n",
    "  elif condición 2:\n",
    "     instrucciones 2\n",
    "  elif condición 3:\n",
    "     instrucciones  3\n",
    "  else: \n",
    "     otras instrucciones\n",
    "  ``` \n",
    "\n",
    "  Ejemplos:\n",
    "\n",
    "  1. Aplicando condicionales"
   ]
  },
  {
   "cell_type": "code",
   "execution_count": 53,
   "metadata": {},
   "outputs": [
    {
     "name": "stdout",
     "output_type": "stream",
     "text": [
      "Alumno aprobado con S\n"
     ]
    }
   ],
   "source": [
    "#Definir nota\n",
    "y = 60\n",
    "#Definir programa de condicionales \n",
    "if y >= 90:\n",
    "    print(\"Alumno aprobado con MB\")\n",
    "elif y >= 75:\n",
    "    print(\"Alumno aprobado con B\")\n",
    "elif y >= 60:\n",
    "    print(\"Alumno aprobado con S\")\n",
    "else:\n",
    "    print(\"NA\")"
   ]
  },
  {
   "cell_type": "markdown",
   "metadata": {},
   "source": [
    "2. Condicionales en listas y diccionarios \n",
    "\n",
    "   * Tomando los datos de proyecciones de crecimiento de la OCDE, ¿El crecimiento de España mejorará en 2025 respecto a 2024?"
   ]
  },
  {
   "cell_type": "code",
   "execution_count": 3,
   "metadata": {},
   "outputs": [],
   "source": [
    "#Definir diccionario de proyecciones de crecimient de la OCDE (Fuente: https://web-archive.oecd.org/espanol/index.htm)\n",
    "dict_growth_2024_2025 = {\n",
    "    'India': [6.8, 6.9],\n",
    "    'Indonesia': [5.1, 5.2],\n",
    "    'China': [4.9, 4.7],\n",
    "    'Russia': [3.9, 1.1],\n",
    "    'Türkiye': [3.5, 2.6],\n",
    "    'G20': [3.3, 3.3],\n",
    "    'Brazil': [3.2, 2.3],\n",
    "    'Spain': [3.0, 2.3],\n",
    "    'United States': [2.8, 2.4],\n",
    "    'Korea': [2.3, 2.1],\n",
    "    'Mexico': [1.4, 1.2],\n",
    "    'Canada': [1.1, 2.0],\n",
    "    'Australia': [1.1, 1.9],\n",
    "    'France': [1.1, 0.9],\n",
    "    'Saudi Arabia': [1.0, 3.6],\n",
    "    'South Africa': [1.0, 1.5],\n",
    "    'United Kingdom': [0.9, 1.7],\n",
    "    'Euro area': [0.8, 1.3],\n",
    "    'Italy': [0.5, 0.9],\n",
    "    'Germany': [0.0, 0.7],\n",
    "    'Japan': [-0.3, 1.5],\n",
    "    'Argentina': [-3.8, 3.6] }\n"
   ]
  },
  {
   "cell_type": "code",
   "execution_count": 10,
   "metadata": {},
   "outputs": [
    {
     "name": "stdout",
     "output_type": "stream",
     "text": [
      "3.0\n",
      "2.3\n"
     ]
    }
   ],
   "source": [
    "# Verificar si un país mejora en 2025\n",
    "pais = \"Spain\"\n",
    "\n",
    "#Crecimiento en 2024\n",
    "tasa_cre_2024 = dict_growth_2024_2025[pais][0]\n",
    "print(tasa_cre_2024)\n",
    "\n",
    "#Crecimiemnto en 2025\n",
    "tasa_cre_2025 = dict_growth_2024_2025[pais][1]\n",
    "print(tasa_cre_2025)\n"
   ]
  },
  {
   "cell_type": "code",
   "execution_count": 11,
   "metadata": {},
   "outputs": [
    {
     "name": "stdout",
     "output_type": "stream",
     "text": [
      "Spain no mejora su crecimiento en 2025\n"
     ]
    }
   ],
   "source": [
    "#Definir condicionales \n",
    "if tasa_cre_2025 > tasa_cre_2024 :\n",
    "\n",
    "    print(f\"{pais} mejora su crecimiento en 2025\")\n",
    "\n",
    "elif tasa_cre_2025 < tasa_cre_2024:\n",
    "\n",
    "    print(f\"{pais} no mejora su crecimiento en 2025\")\n",
    "    \n",
    "else:\n",
    "    print(f\"{pais} se queda igual su crecimiento en 2025\")"
   ]
  },
  {
   "cell_type": "markdown",
   "metadata": {},
   "source": [
    "+ **¿Cómo se podría repetir este programa de condicionales para todos los país sin tener que modificar el código o agregar un bloque para cada país?**"
   ]
  },
  {
   "cell_type": "markdown",
   "metadata": {},
   "source": [
    "### **3.1.2 Bucles (`for`, `while`)**\n",
    "\n",
    "En el análisis de datos, frecuentemente nos enfrentamos a tareas que requieren operaciones repetitivas: procesar miles de registros, realizar cálculos sobre múltiples períodos, o ejecutar operaciones hasta que se cumpla cierta condición. Por ejemplo, podríamos necesitar:\n",
    "\n",
    "\n",
    "* Analizar datos financieros hasta encontrar una anomalía\n",
    "* Procesar información hasta alcanzar un umbral específico\n",
    "* Transformar datos para todos los registros en una base de \n",
    "\n",
    " Es aquí donde los **bucles** entran en acción para automatizar tareas repetitivas. Se revisará el funcionamiento de dos tipos de bucles: `for` y `while`."
   ]
  },
  {
   "cell_type": "markdown",
   "metadata": {},
   "source": [
    "#### **3.1.2.1 For**\n",
    "\n",
    "Los bucles con `for` los utilizaremos cuando se necesite iterar por una estructura de datos y en este caso se sepa previamente cuantas iteracciones se realizarán.\n",
    "\n",
    "**Sintáxis**\n",
    "\n",
    "Las sintáxis para ejecutar un bucle estará conformada por los operadores `for` e `in`; la **variable** que comunmente se define como una `i` o `j`; los **posibles valores** que tomará la variable, y las **instrucciones** a ejecturar para cada valor posible.\n",
    "\n",
    " ```Python\n",
    "for variable in valores_posibles\n",
    "\n",
    "     instrucciones  \n",
    "\n",
    " ```\n",
    "\n",
    ">**Nota:** Una función que es de gran utilidad para definir de forma sencila los valores posibles en un for es `range()`. Esta función toma como argumento un valor >númerico inicial y un final de la siguiente forma:\n",
    ">\n",
    ">**Sintáxis**\n",
    ">\n",
    ">`range(valor inicial, valor final)`\n",
    "\n",
    "Ejemplo:\n",
    "\n",
    "1. Quiero calcular el cuadrado del número 0 hasta el 15"
   ]
  },
  {
   "cell_type": "code",
   "execution_count": 20,
   "metadata": {},
   "outputs": [
    {
     "name": "stdout",
     "output_type": "stream",
     "text": [
      "El cuadrado de 0 es 0\n",
      "El cuadrado de 1 es 1\n",
      "El cuadrado de 2 es 4\n",
      "El cuadrado de 3 es 9\n",
      "El cuadrado de 4 es 16\n",
      "El cuadrado de 5 es 25\n",
      "El cuadrado de 6 es 36\n",
      "El cuadrado de 7 es 49\n",
      "El cuadrado de 8 es 64\n",
      "El cuadrado de 9 es 81\n",
      "El cuadrado de 10 es 100\n",
      "El cuadrado de 11 es 121\n",
      "El cuadrado de 12 es 144\n",
      "El cuadrado de 13 es 169\n",
      "El cuadrado de 14 es 196\n",
      "El cuadrado de 15 es 225\n"
     ]
    }
   ],
   "source": [
    "#Definir bucle \n",
    "for i in range(0, 15+1): \n",
    "    print( f'El cuadrado de {i} es {i**2}')"
   ]
  },
  {
   "cell_type": "markdown",
   "metadata": {},
   "source": [
    "2. Para utilizar **condicionales** dentro del bucle podemos tomar el siguiente ejemplo: \n",
    "    * Construir un bucle que evalúe todos los números del 1 al 30 y me devuelva un mensaje si es multiplo de 3 o no es.\n"
   ]
  },
  {
   "cell_type": "code",
   "execution_count": 24,
   "metadata": {},
   "outputs": [
    {
     "name": "stdout",
     "output_type": "stream",
     "text": [
      "1 no es multipo de 3\n",
      "2 no es multipo de 3\n",
      "3 es multipo de 3\n",
      "4 no es multipo de 3\n",
      "5 no es multipo de 3\n",
      "6 es multipo de 3\n",
      "7 no es multipo de 3\n",
      "8 no es multipo de 3\n",
      "9 es multipo de 3\n",
      "10 no es multipo de 3\n",
      "11 no es multipo de 3\n",
      "12 es multipo de 3\n",
      "13 no es multipo de 3\n",
      "14 no es multipo de 3\n",
      "15 es multipo de 3\n",
      "16 no es multipo de 3\n",
      "17 no es multipo de 3\n",
      "18 es multipo de 3\n",
      "19 no es multipo de 3\n",
      "20 no es multipo de 3\n",
      "21 es multipo de 3\n",
      "22 no es multipo de 3\n",
      "23 no es multipo de 3\n",
      "24 es multipo de 3\n",
      "25 no es multipo de 3\n",
      "26 no es multipo de 3\n",
      "27 es multipo de 3\n",
      "28 no es multipo de 3\n",
      "29 no es multipo de 3\n"
     ]
    }
   ],
   "source": [
    "#Definir bucle \n",
    "for i in range(1,30): \n",
    "    #Evaluar condiciones \n",
    "    if i%3 == 0:\n",
    "       print(f'{i} es multipo de 3')\n",
    "    else: \n",
    "       print(f'{i} no es multipo de 3')\n",
    "\n",
    "      "
   ]
  },
  {
   "cell_type": "markdown",
   "metadata": {},
   "source": [
    "3. Tomando en cuenta el ejemplo anterior, en lugar de imprimir cada iteración, se requiere una lista con los números que sin son multiplos de 3 y una con los que no son multiplos de 3: "
   ]
  },
  {
   "cell_type": "code",
   "execution_count": 1,
   "metadata": {},
   "outputs": [
    {
     "name": "stdout",
     "output_type": "stream",
     "text": [
      "Los multiplos de 3 del número 1 al 30 son: [3, 6, 9, 12, 15, 18, 21, 24, 27, 30]\n"
     ]
    }
   ],
   "source": [
    "# 1. Definir listas vacías \n",
    "list_si_multi = []\n",
    "list_no_multi = []\n",
    "\n",
    "#Definir bucle \n",
    "for i in range(1, 30 + 1): \n",
    "    #Evaluar condiciones \n",
    "    if i%3 == 0:\n",
    "       list_si_multi.append(i)\n",
    "    else: \n",
    "       list_no_multi.append(i)\n",
    "\n",
    "print(\"Los multiplos de 3 del número 1 al 30 son:\",list_si_multi)       \n"
   ]
  },
  {
   "cell_type": "markdown",
   "metadata": {},
   "source": [
    "##### **3.1.2.1.1 For en estructuras de datos**\n",
    "\n",
    "Los bucles `for` los podemos utilizar para iterar por los elementos de listas, conjuntos, diccionarios, etc. \n",
    "\n",
    "Ejemplo: \n",
    "\n",
    " * Regresemos al ejemplo de evaluación del mejoramiento de la tasa de crecimiento para España visto en la sección de condicionales.\n",
    "\n",
    "   Ahora se requiere saber, **¿Cuáles países mejoraran su tasa de crecimiento en 2025?**\n",
    "    \n",
    "   * En este caso vamos a iterar por claves de los países que representan a cada país.\n",
    "\n"
   ]
  },
  {
   "cell_type": "code",
   "execution_count": 11,
   "metadata": {},
   "outputs": [
    {
     "name": "stdout",
     "output_type": "stream",
     "text": [
      "India\n",
      "Indonesia\n",
      "China\n",
      "Russia\n",
      "Türkiye\n",
      "G20\n",
      "Brazil\n",
      "Spain\n",
      "United States\n",
      "Korea\n",
      "Mexico\n",
      "Canada\n",
      "Australia\n",
      "France\n",
      "Saudi Arabia\n",
      "South Africa\n",
      "United Kingdom\n",
      "Euro area\n",
      "Italy\n",
      "Germany\n",
      "Japan\n",
      "Argentina\n"
     ]
    }
   ],
   "source": [
    "# Bucle iterar cada país\n",
    "for pais in dict_growth_2024_2025.keys():\n",
    "    print(pais)"
   ]
  },
  {
   "cell_type": "code",
   "execution_count": 8,
   "metadata": {},
   "outputs": [
    {
     "name": "stdout",
     "output_type": "stream",
     "text": [
      "India MEJORA su crecimiento en 2025\n",
      "Indonesia MEJORA su crecimiento en 2025\n",
      "China NO MEJORA su crecimiento en 2025\n",
      "Russia NO MEJORA su crecimiento en 2025\n",
      "Türkiye NO MEJORA su crecimiento en 2025\n",
      "G20 mantiene el mismo crecimiento en 2025\n",
      "Brazil NO MEJORA su crecimiento en 2025\n",
      "Spain NO MEJORA su crecimiento en 2025\n",
      "United States NO MEJORA su crecimiento en 2025\n",
      "Korea NO MEJORA su crecimiento en 2025\n",
      "Mexico NO MEJORA su crecimiento en 2025\n",
      "Canada MEJORA su crecimiento en 2025\n",
      "Australia MEJORA su crecimiento en 2025\n",
      "France NO MEJORA su crecimiento en 2025\n",
      "Saudi Arabia MEJORA su crecimiento en 2025\n",
      "South Africa MEJORA su crecimiento en 2025\n",
      "United Kingdom MEJORA su crecimiento en 2025\n",
      "Euro area MEJORA su crecimiento en 2025\n",
      "Italy MEJORA su crecimiento en 2025\n",
      "Germany MEJORA su crecimiento en 2025\n",
      "Japan MEJORA su crecimiento en 2025\n",
      "Argentina MEJORA su crecimiento en 2025\n"
     ]
    }
   ],
   "source": [
    "#Definir for loop para comprar las tasas de cada país\n",
    "for pais in dict_growth_2024_2025:\n",
    "    # Analizar 2024 vs 2025 para cada país\n",
    "    tasa_2024 = dict_growth_2024_2025[pais][0]\n",
    "    tasa_2025 = dict_growth_2024_2025[pais][1]\n",
    "\n",
    "    #Condicionales \n",
    "    if tasa_2025 > tasa_2024:\n",
    "        print(f\"{pais} MEJORA su crecimiento en 2025\")\n",
    "    elif tasa_2025 < tasa_2024:\n",
    "        print(f\"{pais} NO MEJORA su crecimiento en 2025\")\n",
    "    else:\n",
    "        print(f\"{pais} mantiene el mismo crecimiento en 2025\")"
   ]
  },
  {
   "cell_type": "markdown",
   "metadata": {},
   "source": [
    "##### **3.1.2.1.2 For anidados**\n",
    "\n",
    "En el análisis de datos, frecuentemente necesitamos realizar operaciones que requieren múltiples niveles de iteración  por lo que es posible crear bucles dentro de otros bucles.\n",
    "\n",
    "\n",
    "**Sintáxis**\n",
    "\n",
    "Las estructura para la creación de bucles anidados es la siguiente:\n",
    "\n",
    " ```Python\n",
    "for variable_1 in valores_posibles_1: \n",
    "\n",
    "    instrucciones_1\n",
    "\n",
    "    for variable_2 in valores_posibles_2:\n",
    "\n",
    "        instrucciones_2\n",
    " ```\n",
    "\n",
    " Ejemplo: \n",
    "\n",
    " 1. Crear tablas de mutiplicar de los del número 7 al 9:\n"
   ]
  },
  {
   "cell_type": "code",
   "execution_count": 21,
   "metadata": {},
   "outputs": [
    {
     "name": "stdout",
     "output_type": "stream",
     "text": [
      "1. Tablas de multiplicar:\n",
      "7 x 1 = 7\n",
      "7 x 2 = 14\n",
      "7 x 3 = 21\n",
      "7 x 4 = 28\n",
      "7 x 5 = 35\n",
      "7 x 6 = 42\n",
      "7 x 7 = 49\n",
      "7 x 8 = 56\n",
      "7 x 9 = 63\n",
      "7 x 10 = 70\n",
      "\n",
      "8 x 1 = 8\n",
      "8 x 2 = 16\n",
      "8 x 3 = 24\n",
      "8 x 4 = 32\n",
      "8 x 5 = 40\n",
      "8 x 6 = 48\n",
      "8 x 7 = 56\n",
      "8 x 8 = 64\n",
      "8 x 9 = 72\n",
      "8 x 10 = 80\n",
      "\n",
      "9 x 1 = 9\n",
      "9 x 2 = 18\n",
      "9 x 3 = 27\n",
      "9 x 4 = 36\n",
      "9 x 5 = 45\n",
      "9 x 6 = 54\n",
      "9 x 7 = 63\n",
      "9 x 8 = 72\n",
      "9 x 9 = 81\n",
      "9 x 10 = 90\n",
      "\n"
     ]
    }
   ],
   "source": [
    "print(\"1. Tablas de multiplicar:\")\n",
    "for i in range(7, 9 + 1):\n",
    "    for j in range(1, 10 +1):\n",
    "        print(f\"{i} x {j} = {i*j}\")\n",
    "    print()  # Línea en blanco entre tablas\n",
    "\n"
   ]
  },
  {
   "cell_type": "markdown",
   "metadata": {},
   "source": [
    " 1. Supongamos que se tiene una lista que contiene datos de estudiantes y sus calificaciones en tres materias: \n",
    "\n",
    "    ```Python\n",
    "    list_estudiantes = [ [\"Ana\", [90, 85, 82]], [\"Juan\", [78, 88, 94]], [\"Luis\", [92, 81, 79]]] \n",
    "    ```\n",
    "\n",
    "\n",
    " * Como el sistema tiene un error todas las califaciones están mal y para que estén correctas hay que agregarles un punto.\n",
    "\n"
   ]
  },
  {
   "cell_type": "code",
   "execution_count": 44,
   "metadata": {},
   "outputs": [
    {
     "name": "stdout",
     "output_type": "stream",
     "text": [
      "Calificaciones correctas de Ana:\n",
      " - 91\n",
      " - 86\n",
      " - 83\n",
      "Calificaciones correctas de Juan:\n",
      " - 79\n",
      " - 89\n",
      " - 95\n",
      "Calificaciones correctas de Rodolfo:\n",
      " - 93\n",
      " - 82\n",
      " - 80\n"
     ]
    }
   ],
   "source": [
    "# Iterar sobre la lista de estudiantes\n",
    "list_estudiantes = [ [\"Ana\", [90, 85, 82]],\n",
    "                     [\"Juan\", [78, 88, 94]],\n",
    "                     [\"Rodolfo\", [92, 81, 79]] ]\n",
    "\n",
    "for estudiante in list_estudiantes:\n",
    "    nombre = estudiante[0]  # Nombre del estudiante\n",
    "    list_calificaciones = estudiante[1]  # Lista de calificaciones\n",
    "    print(f\"Calificaciones correctas de {nombre}:\")\n",
    "    #Iterar sobre la lista de calificaciones para corregir \n",
    "    for calificacion in list_calificaciones:\n",
    "        print(f\" - {calificacion + 1}\")"
   ]
  },
  {
   "cell_type": "markdown",
   "metadata": {},
   "source": [
    "####  **3.1.2.2 While**\n",
    "El otro método para realizar un *loop* es con el operador `while()`, este método a diferencia de del `for()`, realizará cierta instrucción de un bloque de código mientras una condición se cumpla. En este caso, en cada iteración se evaluará la condició y seguirá iterando mientras la condición sea un `True`. \n",
    "\n",
    "**Sintáxis**\n",
    "La sintáxis de un bucle `while` en Python es la siguiente:\n",
    "\n",
    " ```Python\n",
    "while condición: \n",
    "\n",
    "    instrucciones \n",
    " ```\n",
    "\n",
    " Ejemplo:\n",
    "\n",
    " 1. Suma de n hasta un límite"
   ]
  },
  {
   "cell_type": "code",
   "execution_count": 59,
   "metadata": {},
   "outputs": [
    {
     "name": "stdout",
     "output_type": "stream",
     "text": [
      "Suma actual: 5\n",
      "Suma actual: 10\n",
      "Suma actual: 15\n",
      "Suma actual: 20\n",
      "Suma actual: 25\n",
      "Suma actual: 30\n",
      "Suma actual: 35\n",
      "Suma actual: 40\n",
      "Suma actual: 45\n",
      "Suma actual: 50\n"
     ]
    }
   ],
   "source": [
    "#Definir suma \n",
    "suma = 0\n",
    "#Definir el valor adicional en cada iteración\n",
    "n = 5\n",
    "#Definir while con la condición\n",
    "while suma < 50:\n",
    "    suma += n\n",
    "    print(f\"Suma actual: {suma}\")\n",
    "\n"
   ]
  },
  {
   "cell_type": "markdown",
   "metadata": {},
   "source": [
    " 2. Sunponga que un inversor tiene un capital inicial de $1000 y quiere alcanzar $1500:\n",
    " \n",
    "    * Si recibe un interés mensual del 5% sobre su capital, ¿Cuántos meses necesitará para alcanzar su objetivo?"
   ]
  },
  {
   "cell_type": "code",
   "execution_count": 63,
   "metadata": {},
   "outputs": [
    {
     "name": "stdout",
     "output_type": "stream",
     "text": [
      "Mes 1: Capital actual $1050.00\n",
      "Mes 2: Capital actual $1102.50\n",
      "Mes 3: Capital actual $1157.62\n",
      "Mes 4: Capital actual $1215.51\n",
      "Mes 5: Capital actual $1276.28\n",
      "Mes 6: Capital actual $1340.10\n",
      "Mes 7: Capital actual $1407.10\n",
      "Mes 8: Capital actual $1477.46\n",
      "Mes 9: Capital actual $1551.33\n",
      "Se alcanzó el objetivo en 9 meses\n"
     ]
    }
   ],
   "source": [
    "#Definir capital, interés, objetivo\n",
    "capital = 1000\n",
    "tasa_interes = 0.05  # 5% mensual\n",
    "objetivo = 1500\n",
    "#Contador de meses \n",
    "meses = 0\n",
    "#Definir bucle\n",
    "while capital < objetivo:\n",
    "    interes = capital * tasa_interes\n",
    "    capital += interes\n",
    "    meses += 1\n",
    "    print(f\"Mes {meses}: Capital actual ${capital:.2f}\")\n",
    "    \n",
    "print(f\"Se alcanzó el objetivo en {meses} meses\")"
   ]
  },
  {
   "cell_type": "markdown",
   "metadata": {},
   "source": [
    "##  **3.2  Funciones en Python**\n",
    "\n",
    "Python ofrecen una gran cantidad de modulos que contienen de funciones de base incorporadas en el lenguaje y la posibilidad de importar funciones adicionales a través de módulos especializados como NumPy, Pandas o Matplotlib. Sin embargo, es posible crear nuestras propias funciones personalizadas, diseñadas específicamente para resolver problemas únicos en nuestros análisis de datos.\n"
   ]
  },
  {
   "cell_type": "markdown",
   "metadata": {},
   "source": [
    "### **3.2.1 Definición y uso**\n",
    "\n",
    "Las **funciones** son bloques de código en los que podemos combinar el uso de estructuras de datos, condicionales, bucles, etc, para llevar a cabo tareas específicas. El uso de funciones en Python es útil para: \n",
    "  * Organizar\n",
    "  * Reutilizar \n",
    "  * Colaborar\n",
    "\n",
    "**Sintáxis**\n",
    "\n",
    "Para definir una función se utiliza el operador `def` de la siguiente forma:\n",
    "\n",
    "```Python \n",
    "  def nombre_función(parámetros):\n",
    "      #cuerpo de la función\n",
    "      #......\n",
    "      return resultados\n",
    "```\n",
    "Una vez definida la función se puede utilizar, y se ejecutará de la siguiente forma:\n",
    "\n",
    "```Python \n",
    " nombre_función(parámetros)\n",
    "```\n",
    "\n",
    "Ejemplo: \n",
    "\n",
    "1. Elevar un número a la potencia 9"
   ]
  },
  {
   "cell_type": "code",
   "execution_count": 4,
   "metadata": {},
   "outputs": [
    {
     "name": "stdout",
     "output_type": "stream",
     "text": [
      "El número 9 a elevado a la cuarta potenica será 6561\n"
     ]
    }
   ],
   "source": [
    "#Definir función\n",
    "def potencia_4(x):  \n",
    "    #x es un parámetro\n",
    "    resultado = x**4\n",
    "\n",
    "    return resultado\n",
    "\n",
    "#Ejecutar función\n",
    "n_cuarta = potencia_4(9) \n",
    "\n",
    "print(f\"El número {9} a elevado a la cuarta potenica será {n_cuarta}\")"
   ]
  },
  {
   "cell_type": "markdown",
   "metadata": {},
   "source": [
    "2. TLas funciones también pueden tomar estructuras de datos\n",
    "   * Calcular media de una lista de edades  "
   ]
  },
  {
   "cell_type": "code",
   "execution_count": 5,
   "metadata": {},
   "outputs": [
    {
     "name": "stdout",
     "output_type": "stream",
     "text": [
      "La media de edad es: 34.0\n"
     ]
    }
   ],
   "source": [
    "list_edades = [25, 30, 35, 40, 45,35,28]\n",
    "#Definir función\n",
    "def promedia(lista): \n",
    "    media = sum(lista) / len(lista)\n",
    "    return media\n",
    "\n",
    "print(\"La media de edad es:\", promedia(list_edades))\n",
    "\n"
   ]
  },
  {
   "cell_type": "markdown",
   "metadata": {},
   "source": [
    "---\n",
    "> ⚠️ **Importante:**\n",
    ">\n",
    "> Una buena práctica al codificar en Python es agregar una pequeña descripción de la tarea que realiza la función, para esto utilizaremos `\"\"\"` de la siguiente forma:\n",
    ">\n",
    ">```Python \n",
    ">def nombre_función(lista): \n",
    ">     \"\"\" Descripción \"\"\"\n",
    ">     #Cuerpo de de la función \n",
    ">     return resultado\n",
    ">```\n",
    ">\n",
    "\n",
    "\n",
    "\n",
    "---"
   ]
  },
  {
   "cell_type": "code",
   "execution_count": 13,
   "metadata": {},
   "outputs": [],
   "source": [
    "#Definir descripción en la función\n",
    "def media(lista): \n",
    "    \"\"\"El resultado es el promedio de una lista de valores numéricos\"\"\"\n",
    "\n",
    "    media = sum(lista) / len(lista)\n",
    "    return media"
   ]
  },
  {
   "cell_type": "markdown",
   "metadata": {},
   "source": [
    "### **3.2.2 Argumentos y retornos**\n",
    "\n",
    "En la estructura de una función es importante disntinguir entre los parámetros y los argumentos de una función. La diferencia escencial se encuentra en el momento y contexto en el que los utilizamos."
   ]
  },
  {
   "cell_type": "markdown",
   "metadata": {},
   "source": [
    "####  **3.2.2.1 Argumentos**\n",
    "\n",
    "Los argumentos son las variables que se definen en la declaración de una función. Representan \"lugares reservados\" que la función utiliza para recibir valores al ser llamada.\n",
    "Estos se especifican cuando se define la función y son nombres que representan los parámetros que la función espera recibir.\n",
    "\n",
    "Tomando como referencia el ejemplo de la media, `lista` será un argumento que espera recibir un elemento, en este casi una lista, cuando se ejecute la función. \n",
    "\n",
    "```Python \n",
    "def media(lista): \n",
    "    media = sum(lista) / len(lista)\n",
    "    return media\n",
    "```\n",
    "\n",
    "Siguiendo con con el ejemplo de la media, `lista_edades` será el input de la función y tomará el lugar del parámetro `lista`.\n",
    "\n",
    "```Python \n",
    "media(list_edades)\n",
    "```\n",
    "\n"
   ]
  },
  {
   "cell_type": "markdown",
   "metadata": {},
   "source": [
    "\n",
    "\n",
    "   * **Argumentos de  posición**\n",
    "\n",
    "     Existen distintos tipos de argumentos con los que se puede ejecutar una función. Uno de ellos son los argumentos posicionales que dependen del orden en que se establecen en la función.  \n",
    "      \n",
    "     ```python\n",
    "\n",
    "     def nombre_funcion(arg_1, arg_2):\n",
    "\n",
    "         cuerpo_función(arg_1, arg_2) \n",
    "\n",
    "         return resultado\n",
    "\n",
    "     ``` \n",
    "\n",
    "     Ejemplo:\n",
    "\n",
    "     Supongamos que tenemos una función de utilidad Cobb-Douglas: \n",
    "\n",
    "\n",
    "     $$ u(x_1,x_2) = x_1^{\\alpha_1}x_2^{\\alpha_2}$$\n",
    "\n",
    "\n",
    "     Se puede crear de la siguiente forma:"
   ]
  },
  {
   "cell_type": "code",
   "execution_count": 5,
   "metadata": {},
   "outputs": [],
   "source": [
    "def utilidad_cobb_douglas(x1, x2, alpha1, alpha2):\n",
    "    \"\"\"\n",
    "    Calcula la utilidad del consumidor usando la función tipo Cobb-Douglas\n",
    "    \n",
    "    Args:\n",
    "        x1 (float): Cantidad del bien 1\n",
    "        x2 (float): Cantidad del bien 2\n",
    "        alpha (float): Preferencia por el bien 1\n",
    "        beta (float): Preferencia por el bien 2\n",
    "    \n",
    "    Returns:\n",
    "        float: Nivel de utilidad\n",
    "    \"\"\"\n",
    "    \n",
    "\n",
    "    #utilidad = (x1 ** alpha1) * (x2 ** alpha2)\n",
    "    return (x1 ** alpha1) * (x2 ** alpha2)"
   ]
  },
  {
   "cell_type": "markdown",
   "metadata": {},
   "source": [
    "Para ejecutar la función se tienen que agregar los valores que tomará cada argumento por la posición que fueron asignados:\n",
    "\n"
   ]
  },
  {
   "cell_type": "code",
   "execution_count": 8,
   "metadata": {},
   "outputs": [
    {
     "name": "stdout",
     "output_type": "stream",
     "text": [
      "2.4494897427831783\n"
     ]
    }
   ],
   "source": [
    "#Definir valores que tomarán los argumentos\n",
    "utilidad1 = utilidad_cobb_douglas(2, 3, alpha1=0.5, alpha2=0.5)\n",
    "print(utilidad1)"
   ]
  },
  {
   "cell_type": "markdown",
   "metadata": {},
   "source": [
    "**Argumentos por palabra clave**\n",
    "\n",
    "  También existen los argumentos por palabra clave que definirán con la asignación de algún valor por default a una variable que será la palabra clave.\n",
    "      \n",
    "   ```python\n",
    "\n",
    "   def nombre_funcion(arg_1, arg_2, arg_palabra_clave = valor):\n",
    "\n",
    "       cuerpo_función(arg_1, arg_2,  arg_palabra_clave) \n",
    "\n",
    "       return resultado\n",
    "\n",
    "   ``` \n",
    "\n",
    "Ejemplo:\n",
    "\n",
    "Continuando con el ejemplo de la función de utilidad Cobb-Douglas:\n",
    "\n",
    "  * Los argumentos $\\alpha_1$  y $\\alpha_2$ serán del tipo por palabra clave que tendrán por valores 0.5 y 0.5, respectivamente."
   ]
  },
  {
   "cell_type": "code",
   "execution_count": 10,
   "metadata": {},
   "outputs": [],
   "source": [
    "def utilidad_cobb_douglas(x1, x2, alpha1 = 0.5, alpha2= 0.5):\n",
    "    \"\"\"\n",
    "    Calcula la utilidad del consumidor usando la función tipo Cobb-Douglas\n",
    "    \n",
    "    Args:\n",
    "        x1 (float): Cantidad del bien 1\n",
    "        x2 (float): Cantidad del bien 2\n",
    "        alpha (float): Preferencia por el bien 1\n",
    "        beta (float): Preferencia por el bien 2\n",
    "    \n",
    "    Returns:\n",
    "        float: Nivel de utilidad\n",
    "    \"\"\"\n",
    "    \n",
    "\n",
    "    #utilidad = (x1 ** alpha1) * (x2 ** alpha2)\n",
    "    return (x1 ** alpha1) * (x2 ** alpha2)"
   ]
  },
  {
   "cell_type": "markdown",
   "metadata": {},
   "source": [
    "*  Por default $\\alpha_1$  y $\\alpha_2$, así que sólo será necesario declararlos si se requiere:"
   ]
  },
  {
   "cell_type": "code",
   "execution_count": 11,
   "metadata": {},
   "outputs": [
    {
     "name": "stdout",
     "output_type": "stream",
     "text": [
      "2.4494897427831783\n"
     ]
    }
   ],
   "source": [
    "#Definir valores que tomarán los argumentos\n",
    "utilidad1 = utilidad_cobb_douglas(2, 3)\n",
    "print(utilidad1)"
   ]
  },
  {
   "cell_type": "markdown",
   "metadata": {},
   "source": [
    "* Si se quiere cambiar los valores asignados por default se declararán los valores requeridos:"
   ]
  },
  {
   "cell_type": "code",
   "execution_count": 15,
   "metadata": {},
   "outputs": [
    {
     "name": "stdout",
     "output_type": "stream",
     "text": [
      "2.6564024798866686\n",
      "2.6564024798866686\n",
      "3.496840952072147\n"
     ]
    }
   ],
   "source": [
    "#1. Definir valores que tomarán los argumentos\n",
    "utilidad1 = utilidad_cobb_douglas(2, 3, alpha1 = 0.3, alpha2=0.7 )\n",
    "print(utilidad1)\n",
    "\n",
    "#2. Si se quiere omitir las palabras clave, se tiene que respetar el orden\n",
    "utilidad1 = utilidad_cobb_douglas(2, 3,  0.3, 0.7)\n",
    "print(utilidad1)\n",
    "\n",
    "#3. Si se quiere omitir el orden tenemos que declaran los nombres de todos los argumentos\n",
    "utilidad1 = utilidad_cobb_douglas(alpha1 = 0.3, alpha2=0.7, x1= 5 , x2=3 )\n",
    "print(utilidad1)"
   ]
  },
  {
   "cell_type": "markdown",
   "metadata": {},
   "source": [
    "**Número variable de argumentos**\n",
    "\n",
    "Existen una forma de agregar argumentos de una forma flexible en donde la función acepte cualquier número de argumento. Para realizar esta declaración de argumentos se utiliza el signo `*` de la siguiente forma: \n",
    "\n",
    "\n",
    "   ```python\n",
    "\n",
    "   def nombre_funcion(*args):\n",
    "\n",
    "       cuerpo_función(args) \n",
    "\n",
    "       return resultado\n",
    "\n",
    "   ``` \n",
    "\n",
    "   Esta forma de declarar argumentos es de gran utilidad cuando no se sabe cuántos argumentos se necesitarán para realizar una tareas, ejemplo:\n",
    "\n",
    "   * Generar una función que calcule el promedio de las notas de determindo alumno."
   ]
  },
  {
   "cell_type": "code",
   "execution_count": 17,
   "metadata": {},
   "outputs": [],
   "source": [
    "#Definir función \n",
    "def calcular_promedio(nombre, *notas):\n",
    "    cantidad = len(notas)\n",
    "    if cantidad == 0:\n",
    "        return f\"{nombre} no tiene notas registradas\"\n",
    "    \n",
    "    promedio = sum(notas)/cantidad\n",
    "\n",
    "    return f\"{nombre} tiene un promedio de {promedio:.2f} de {cantidad} notas\"\n"
   ]
  },
  {
   "cell_type": "code",
   "execution_count": 19,
   "metadata": {},
   "outputs": [
    {
     "name": "stdout",
     "output_type": "stream",
     "text": [
      "Rodolfo tiene un promedio de 8.00 de 3 notas\n",
      "Andrea tiene un promedio de 6.50 de 2 notas\n",
      "Angela tiene un promedio de 4.00 de 1 notas\n"
     ]
    }
   ],
   "source": [
    "#Ejecutar función\n",
    "print(calcular_promedio(\"Rodolfo\", 7, 8, 9))       # 3 notas\n",
    "print(calcular_promedio(\"Andrea\", 6, 7))         # 2 notas\n",
    "print(calcular_promedio(\"Angela\",4))              # sin notas"
   ]
  },
  {
   "cell_type": "markdown",
   "metadata": {},
   "source": [
    "* Crear una función que tome recibe las variables de un modelo de regresión."
   ]
  },
  {
   "cell_type": "code",
   "execution_count": 48,
   "metadata": {},
   "outputs": [
    {
     "name": "stdout",
     "output_type": "stream",
     "text": [
      "ingreso = beta_1 + beta_1 años_educ + beta_2 años_experiencia\n"
     ]
    }
   ],
   "source": [
    "#Definir función\n",
    "def generar_formula( variable_y, *regresores):\n",
    "    formula = f\"{variable_y} = beta_1\"\n",
    "    \n",
    "    for i, var in enumerate(regresores, 1):\n",
    "        formula += f\" + beta_{i} {var}\"\n",
    "    \n",
    "    return formula\n",
    "\n",
    "#Ejecutar función \n",
    "print(generar_formula( \"ingreso\", \"años_educ\", \"años_experiencia\"))"
   ]
  },
  {
   "cell_type": "markdown",
   "metadata": {},
   "source": [
    "### **3.2.3 Variables locales y globales**\n",
    "En Python, las variables locales y variables globales se definen de acuerdo a su ámbito o alcance dentro del código:\n",
    "\n",
    "* **Variables locales**: Son aquellas que se definen dentro de una función y solo están disponibles (o \"vivas\") mientras se ejecuta esa función. Estas variables no pueden ser accedidas fuera de la función porque su alcance está limitado al bloque de código de la función.\n",
    "\n",
    "  ``` Python\n",
    "  # Definir función con variable local\n",
    "  def nombre_func():\n",
    "      local_var = \"Variable local\"\n",
    "      local_var += \" modificada en la función\"\n",
    "      return local_var  #Variable local modificada\n",
    "  \n",
    "  ```\n",
    "\n",
    "\n",
    "* **Variables globales**: Son aquellas que se definen fuera de cualquier función y pueden ser accedidas desde cualquier parte del programa, incluidas las funciones (a menos que una función declare una variable local con el mismo nombre).\n",
    "\n",
    "  ``` Python\n",
    "  # Definir una variable global\n",
    "  global_var = \"Variable global\"\n",
    "  # Definir  con variable global\n",
    "  def nombre_func():\n",
    "      global global_var  # Declarar que se usará la variable global\n",
    "      global_var += \" modificada en la función\"\n",
    "      return global_var\n",
    "  \n",
    "  ```\n",
    "\n",
    "Ejemplo:"
   ]
  },
  {
   "cell_type": "code",
   "execution_count": 57,
   "metadata": {},
   "outputs": [
    {
     "name": "stdout",
     "output_type": "stream",
     "text": [
      "variable global: 10\n",
      "variable local: 5\n",
      "resultado de la operación: 100000\n"
     ]
    }
   ],
   "source": [
    "# Definir variable global\n",
    "x_global = 10\n",
    "# Definir función\n",
    "def operar_numeros():\n",
    "    # Definir variable local\n",
    "    x_local = 5\n",
    "\n",
    "    # Operar con variables local y global\n",
    "    resultado = x_global ** x_local \n",
    "    # Mostrar los valores\n",
    "    print(\"variable global:\", x_global)\n",
    "    print(\"variable local:\", x_local)\n",
    "    print(\"resultado de la operación:\", resultado)\n",
    "#Ejecutar función\n",
    "operar_numeros()\n",
    "\n"
   ]
  },
  {
   "cell_type": "markdown",
   "metadata": {},
   "source": [
    "\n",
    "\n",
    "# Ejemplo 3: Comparación de canastas\n",
    "def comparar_canastas(canasta1, canasta2, **preferencias):\n",
    "    \"\"\"\n",
    "    Compara la utilidad de dos canastas de consumo\n",
    "    \n",
    "    Args:\n",
    "        canasta1 (tuple): Cantidades (x1,x2) de la primera canasta\n",
    "        canasta2 (tuple): Cantidades (x1,x2) de la segunda canasta\n",
    "        **preferencias: Parámetros alpha y beta\n",
    "    \"\"\"\n",
    "    u1 = utilidad_cobb_douglas(canasta1[0], canasta1[1], **preferencias)\n",
    "    u2 = utilidad_cobb_douglas(canasta2[0], canasta2[1], **preferencias)\n",
    "    \n",
    "    print(\"\\nComparación de Canastas:\")\n",
    "    print(f\"Utilidad Canasta 1 {canasta1}: {u1:.2f}\")\n",
    "    print(f\"Utilidad Canasta 2 {canasta2}: {u2:.2f}\")\n",
    "    print(f\"La canasta {1 if u1 > u2 else 2} proporciona mayor utilidad\")\n",
    "\n",
    "# Uso de la función de comparación\n",
    "comparar_canastas(\n",
    "    (10, 5),        # Primera canasta\n",
    "    (7, 8),         # Segunda canasta\n",
    "    alpha=0.6,      # Preferencias como keyword arguments\n",
    "    beta=0.4\n",
    ")"
   ]
  },
  {
   "cell_type": "markdown",
   "metadata": {},
   "source": [
    "### **3.2.3 Tipos de funciones**"
   ]
  }
 ],
 "metadata": {
  "kernelspec": {
   "display_name": "Python 3",
   "language": "python",
   "name": "python3"
  },
  "language_info": {
   "codemirror_mode": {
    "name": "ipython",
    "version": 3
   },
   "file_extension": ".py",
   "mimetype": "text/x-python",
   "name": "python",
   "nbconvert_exporter": "python",
   "pygments_lexer": "ipython3",
   "version": "3.12.1"
  }
 },
 "nbformat": 4,
 "nbformat_minor": 2
}
