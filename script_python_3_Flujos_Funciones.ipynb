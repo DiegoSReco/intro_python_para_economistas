{
 "cells": [
  {
   "cell_type": "markdown",
   "metadata": {},
   "source": [
    "# **3. Control de Flujo y Funciones en Python**\n",
    "\n",
    "\n"
   ]
  },
  {
   "cell_type": "markdown",
   "metadata": {},
   "source": [
    "##  **3.1  Estructuras de Control**\n",
    "\n",
    "Cuando estamos realizando análisis de datos es necesario crear programas cortos para iterar, categorizar, tomar decisiones, realizar tareas repetitivas, etc. Para ésto es necesario utilizar estructuras de control o controles de flujo como son los condiciones, bucles y rompimientos."
   ]
  },
  {
   "cell_type": "markdown",
   "metadata": {},
   "source": [
    "### **3.1.1 Condicionales (`if`, `elif`, `else`)**\n",
    "\n",
    "\n",
    "Los condicionales es uno de los controles de flujos básicos, ya que sirve para evaluar declaraciones según se cumplan o no ciertas condiciones, lo que generará una o varias instrucciones. \n",
    "\n",
    "**Sintáxis**\n",
    "\n",
    "Para definir un condicional o un serie de condicionales se utilizan los operadores `if`, `elif`, `else` en **bloques de código** para que la validación funcione correctamente:\n",
    "\n",
    "> **Nota:** Los bloques de código son grupos de declaraciones en líneas de código anidadas, en donde se utiliza la **identación** para generar los bloques.\n",
    ">```Python\n",
    "> línea 1 bloque 1\n",
    "> línea 2 bloque 1\n",
    ">   línea 3 bloque 2\n",
    ">   línea 4 bloque 2\n",
    "> línea 4 bloque 1  \n",
    "> ```\n",
    "\n",
    "* Para evaluar unicamente que la condición se cumpla la sintáxis será: \n",
    "\n",
    "  ```Python \n",
    "  if condición:\n",
    "     instrucción   \n",
    "  ``` \n",
    "\n",
    "  Ejemplo:\n"
   ]
  },
  {
   "cell_type": "code",
   "execution_count": 5,
   "metadata": {},
   "outputs": [
    {
     "name": "stdout",
     "output_type": "stream",
     "text": [
      "Alumno  aprobado con 68 puntos\n"
     ]
    }
   ],
   "source": [
    "#Definir variable \n",
    "y = 68\n",
    "#Definir condición\n",
    "if y >= 59: \n",
    "   print(f\"Alumno  aprobado con {y} puntos\")"
   ]
  },
  {
   "cell_type": "markdown",
   "metadata": {},
   "source": [
    "* Para evaluar  que la condición se cumpla pero también se pueden definir intrucciones en el escenario que no se  la condición para ello agregaremos `else` y la sintáxis será:\n",
    "\n",
    "  ```Python \n",
    "  if condición:\n",
    "     instrucciones\n",
    "  else: \n",
    "     otras instrucciones\n",
    "     \n",
    "  ``` \n",
    "\n",
    "  Ejemplo:"
   ]
  },
  {
   "cell_type": "code",
   "execution_count": 8,
   "metadata": {},
   "outputs": [
    {
     "name": "stdout",
     "output_type": "stream",
     "text": [
      "Alumna reprobado con 59\n"
     ]
    }
   ],
   "source": [
    "#Definir \n",
    "y = 59\n",
    "#Definir condición\n",
    "if y >= 60 : \n",
    "   print(f\"Alumno aprobado con {y} puntos\")\n",
    "else: \n",
    "   print(f\"Alumna reprobado con {y}\")"
   ]
  },
  {
   "cell_type": "markdown",
   "metadata": {},
   "source": [
    "* En el escenario en el que no se cumpla la primera condición podemos pasar por una serie de condiciones excluyentes en la que cada una tendrá asignada instrucciones, para ello se agregará `elif` después de utilizar `if`  y la sintáxis será la siguiente:\n",
    "\n",
    "  ```Python \n",
    "  if condición 1 :\n",
    "     instrucciones 1\n",
    "  elif condición 2:\n",
    "     instrucciones 2\n",
    "  elif condición 3:\n",
    "     instrucciones  3\n",
    "  else: \n",
    "     otras instrucciones\n",
    "  ``` \n",
    "\n",
    "  Ejemplos:\n",
    "\n",
    "  1. Aplicando condicionales"
   ]
  },
  {
   "cell_type": "code",
   "execution_count": 53,
   "metadata": {},
   "outputs": [
    {
     "name": "stdout",
     "output_type": "stream",
     "text": [
      "Alumno aprobado con S\n"
     ]
    }
   ],
   "source": [
    "#Definir nota\n",
    "y = 60\n",
    "#Definir programa de condicionales \n",
    "if y >= 90:\n",
    "    print(\"Alumno aprobado con MB\")\n",
    "elif y >= 75:\n",
    "    print(\"Alumno aprobado con B\")\n",
    "elif y >= 60:\n",
    "    print(\"Alumno aprobado con S\")\n",
    "else:\n",
    "    print(\"NA\")"
   ]
  },
  {
   "cell_type": "markdown",
   "metadata": {},
   "source": [
    "2. Condicionales en listas y diccionarios \n",
    "\n",
    "   * Tomando los datos de proyecciones de crecimiento de la OCDE, ¿El crecimiento de España mejorará en 2025 respecto a 2024?"
   ]
  },
  {
   "cell_type": "code",
   "execution_count": 1,
   "metadata": {},
   "outputs": [],
   "source": [
    "#Definir diccionario de proyecciones de crecimient de la OCDE (Fuente: https://web-archive.oecd.org/espanol/index.htm)\n",
    "dict_growth_2024_2025 = {\n",
    "    'India': [6.8, 6.9],\n",
    "    'Indonesia': [5.1, 5.2],\n",
    "    'China': [4.9, 4.7],\n",
    "    'Russia': [3.9, 1.1],\n",
    "    'Türkiye': [3.5, 2.6],\n",
    "    'G20': [3.3, 3.3],\n",
    "    'Brazil': [3.2, 2.3],\n",
    "    'Spain': [3.0, 2.3],\n",
    "    'United States': [2.8, 2.4],\n",
    "    'Korea': [2.3, 2.1],\n",
    "    'Mexico': [1.4, 1.2],\n",
    "    'Canada': [1.1, 2.0],\n",
    "    'Australia': [1.1, 1.9],\n",
    "    'France': [1.1, 0.9],\n",
    "    'Saudi Arabia': [1.0, 3.6],\n",
    "    'South Africa': [1.0, 1.5],\n",
    "    'United Kingdom': [0.9, 1.7],\n",
    "    'Euro area': [0.8, 1.3],\n",
    "    'Italy': [0.5, 0.9],\n",
    "    'Germany': [0.0, 0.7],\n",
    "    'Japan': [-0.3, 1.5],\n",
    "    'Argentina': [-3.8, 3.6] }\n"
   ]
  },
  {
   "cell_type": "code",
   "execution_count": 10,
   "metadata": {},
   "outputs": [
    {
     "name": "stdout",
     "output_type": "stream",
     "text": [
      "3.0\n",
      "2.3\n"
     ]
    }
   ],
   "source": [
    "# Verificar si un país mejora en 2025\n",
    "pais = \"Spain\"\n",
    "\n",
    "#Crecimiento en 2024\n",
    "tasa_cre_2024 = dict_growth_2024_2025[pais][0]\n",
    "print(tasa_cre_2024)\n",
    "\n",
    "#Crecimiemnto en 2025\n",
    "tasa_cre_2025 = dict_growth_2024_2025[pais][1]\n",
    "print(tasa_cre_2025)\n"
   ]
  },
  {
   "cell_type": "code",
   "execution_count": 11,
   "metadata": {},
   "outputs": [
    {
     "name": "stdout",
     "output_type": "stream",
     "text": [
      "Spain no mejora su crecimiento en 2025\n"
     ]
    }
   ],
   "source": [
    "#Definir condicionales para contestar pregunta\n",
    "if tasa_cre_2025 > tasa_cre_2024 :\n",
    "\n",
    "    print(f\"{pais} mejora su crecimiento en 2025\")\n",
    "\n",
    "elif tasa_cre_2025 < tasa_cre_2024:\n",
    "\n",
    "    print(f\"{pais} no mejora su crecimiento en 2025\")\n",
    "    \n",
    "else:\n",
    "    print(f\"{pais} se queda igual su crecimiento en 2025\")"
   ]
  },
  {
   "cell_type": "markdown",
   "metadata": {},
   "source": [
    "+ **¿Cómo se podría repetir este programa de condicionales para todos los país sin tener que modificar el código o agregar un bloque para cada país?**"
   ]
  },
  {
   "cell_type": "markdown",
   "metadata": {},
   "source": [
    "### **3.1.2 Bucles y Repetición (`for`, `while`)**"
   ]
  },
  {
   "cell_type": "markdown",
   "metadata": {},
   "source": []
  },
  {
   "cell_type": "markdown",
   "metadata": {},
   "source": [
    "### **3.1.3 Continuidad y rompimiento de procesos (`break`, `continue`)**"
   ]
  },
  {
   "cell_type": "markdown",
   "metadata": {},
   "source": [
    "##  **3.2  Funciones en Python**\n"
   ]
  },
  {
   "cell_type": "markdown",
   "metadata": {},
   "source": [
    "### **3.2.1 Definición y uso**"
   ]
  },
  {
   "cell_type": "markdown",
   "metadata": {},
   "source": [
    "### **3.2.2 Parámetros, argumentos y retornos**"
   ]
  },
  {
   "cell_type": "markdown",
   "metadata": {},
   "source": [
    "### **3.2.3 Tipos de funciones**"
   ]
  }
 ],
 "metadata": {
  "kernelspec": {
   "display_name": "Python 3",
   "language": "python",
   "name": "python3"
  },
  "language_info": {
   "codemirror_mode": {
    "name": "ipython",
    "version": 3
   },
   "file_extension": ".py",
   "mimetype": "text/x-python",
   "name": "python",
   "nbconvert_exporter": "python",
   "pygments_lexer": "ipython3",
   "version": "3.12.1"
  }
 },
 "nbformat": 4,
 "nbformat_minor": 2
}
