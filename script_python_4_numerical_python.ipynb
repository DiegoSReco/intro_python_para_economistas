{
 "cells": [
  {
   "cell_type": "markdown",
   "metadata": {},
   "source": [
    "# **4. Introducción a `numpy`**\n",
    "\n",
    "`Numpy` (o *Numerical Python*) es uno de los modulos más importantes en Python, ya que muchos otros sistemas o modulos utilizan  arreglos de N-dimensiones  (`ndarray`) los cuales son la estrcutura de datos proncipal en este paquete. Además, este tipo de estrucutras son la base para casi todos los ecosistemas de computación científica en Python como son los modulos de procesamiento de datos, áljebra lineal, modelos estadísticos, machine learning y deep learning. \n"
   ]
  },
  {
   "cell_type": "markdown",
   "metadata": {},
   "source": [
    "## **4.1 Arreglos en `numpy`**\n",
    "\n",
    "Los arreglos son estructuras de datos conformadas por una o multiples listas con valores homogéneos que permiten realizar operaciones matemáticas y estadísticas eficientemente. \n",
    "\n",
    "Para definir un arreglo debemos tener importar el modulo numpy de la siguiente forma:"
   ]
  },
  {
   "cell_type": "code",
   "execution_count": 1,
   "metadata": {},
   "outputs": [],
   "source": [
    "import numpy as np"
   ]
  },
  {
   "cell_type": "markdown",
   "metadata": {},
   "source": [
    "El modulo`numpy` se define con la palabra clave `np`. \n",
    "\n",
    "**Sintáxis**\n",
    "\n",
    "Para definir un arregalo utilizaremos la función `array()` con la palabra clave :\n",
    "```Python \n",
    "np.array(lista)\n",
    "```\n",
    "\n",
    "Lo anterior de define como arreglo de una , pero se puede tener tener arreglos de dos dimensiones:\n",
    "\n",
    "```Python \n",
    "np.array([lista_1, lista_2, lista_3,...,lista_n])\n",
    "```\n",
    "\n",
    "Los arreglos de dos dimensiones se consideran **matrices** y son gran utilidad para la construcción de modelos estadísticos que utilicen vectores y matrices para su construcción\n",
    "\n",
    "Ejemplos de definición de arreglos:\n",
    "\n",
    "* Arreglo de una dimensión"
   ]
  },
  {
   "cell_type": "code",
   "execution_count": 2,
   "metadata": {},
   "outputs": [
    {
     "name": "stdout",
     "output_type": "stream",
     "text": [
      "[ 100  404  404   55   44   55  150  700 1000   38] <class 'numpy.ndarray'>\n"
     ]
    }
   ],
   "source": [
    "#Definir arreglo \n",
    "array_1 = np.array( [100, 404, 404, 55, 44, 55, 150, 700, 1000, 38])\n",
    "#Imprimir\n",
    "print(array_1, type(array_1))"
   ]
  },
  {
   "cell_type": "markdown",
   "metadata": {},
   "source": [
    "* Arreglo de dos dimensiones"
   ]
  },
  {
   "cell_type": "code",
   "execution_count": 3,
   "metadata": {},
   "outputs": [
    {
     "name": "stdout",
     "output_type": "stream",
     "text": [
      "[[ 3  4  4]\n",
      " [ 4 10 32]\n",
      " [24 33 43]]\n"
     ]
    }
   ],
   "source": [
    "#Crear arreglo\n",
    "array_2 = np.array([ [3,4,4] , \n",
    "                     [4,10,32],\n",
    "                     [24,33,43] ])\n",
    "\n",
    "print(array_2)"
   ]
  },
  {
   "cell_type": "markdown",
   "metadata": {},
   "source": [
    "Una de las características más importante de los arreglos es que sólo recibe **valores homogéneos** en las listas, y si no son homogéneos los transforma. Por ejemplo."
   ]
  },
  {
   "cell_type": "code",
   "execution_count": 4,
   "metadata": {},
   "outputs": [
    {
     "name": "stdout",
     "output_type": "stream",
     "text": [
      "[[ 1  0  1]\n",
      " [ 4 10 32]\n",
      " [24 33 43]]\n"
     ]
    }
   ],
   "source": [
    "#Crear arreglo\n",
    "array_3 = np.array([ [True,False, True] , \n",
    "                     [4,10,32],\n",
    "                     [24,33,43] ])\n",
    "\n",
    "\n",
    "print(array_3)"
   ]
  },
  {
   "cell_type": "markdown",
   "metadata": {},
   "source": [
    "### **4.1.1 Creación y manejo de arreglos**"
   ]
  },
  {
   "cell_type": "markdown",
   "metadata": {},
   "source": [
    "### **4.1.1.1 Creación de arreglos**\n",
    "En `numpy` existen una serie de funciones para crear arreglos que contengan ceros, unos, números generados de forma aleatoria, muestras a partir de distribuciones de probabilidad discretas y continuas, etc.\n",
    "\n",
    "1. Para crear arreglos con zeros se utiliza la función `np.zeros(shape)` , en donde el argumento será el tamaño del arreglo de ceros de una dimensión:\n"
   ]
  },
  {
   "cell_type": "code",
   "execution_count": 5,
   "metadata": {},
   "outputs": [
    {
     "name": "stdout",
     "output_type": "stream",
     "text": [
      "[0. 0. 0. 0. 0.]\n"
     ]
    }
   ],
   "source": [
    "#Crear arreglos de ceros 1D\n",
    "array_ceros_1d = np.zeros(5)\n",
    "\n",
    "print(array_ceros_1d)\n",
    "\n"
   ]
  },
  {
   "cell_type": "markdown",
   "metadata": {},
   "source": [
    "  * Para crear una matriz o arreglo de dos dimensiones:"
   ]
  },
  {
   "cell_type": "code",
   "execution_count": 6,
   "metadata": {},
   "outputs": [
    {
     "name": "stdout",
     "output_type": "stream",
     "text": [
      "[[0. 0. 0. 0. 0.]\n",
      " [0. 0. 0. 0. 0.]\n",
      " [0. 0. 0. 0. 0.]\n",
      " [0. 0. 0. 0. 0.]\n",
      " [0. 0. 0. 0. 0.]]\n"
     ]
    }
   ],
   "source": [
    "#Crear arreglos de ceros de 2D \n",
    "array_ceros_2d = np.zeros((5,5))\n",
    "\n",
    "print(array_ceros_2d)"
   ]
  },
  {
   "cell_type": "markdown",
   "metadata": {},
   "source": [
    "2. Para crear arreglos con el número uno se utiliza la función `np.ones(shape)` con la misma sintáxis que en la de los ceros:\n"
   ]
  },
  {
   "cell_type": "code",
   "execution_count": 7,
   "metadata": {},
   "outputs": [
    {
     "name": "stdout",
     "output_type": "stream",
     "text": [
      "[1. 1. 1. 1. 1.]\n",
      "[[1. 1. 1. 1. 1.]\n",
      " [1. 1. 1. 1. 1.]\n",
      " [1. 1. 1. 1. 1.]\n",
      " [1. 1. 1. 1. 1.]\n",
      " [1. 1. 1. 1. 1.]]\n"
     ]
    }
   ],
   "source": [
    "#Crear arreglos de unos 1D\n",
    "array_unos_1d = np.ones(5)\n",
    "\n",
    "print(array_unos_1d)\n",
    "\n",
    "#Crear arreglos de ceros de 2D \n",
    "array_unos_2d = np.ones((5,5))\n",
    "\n",
    "print(array_unos_2d)"
   ]
  },
  {
   "cell_type": "markdown",
   "metadata": {},
   "source": [
    "3. Creación de arreglos de números aleatorios:\n",
    "\n",
    "   La sintáxis será la siguiente: \n",
    "\n",
    "   ```Python  \n",
    "   np.random.randint(inicio, final, tamaño)\n",
    "   ```\n",
    " \n"
   ]
  },
  {
   "cell_type": "code",
   "execution_count": 8,
   "metadata": {},
   "outputs": [
    {
     "name": "stdout",
     "output_type": "stream",
     "text": [
      "Arreglo de una dimensión:\n",
      " [8 5 0 6 7]\n",
      "Arreglo de dos dimensiones o matriz:\n",
      " [[8 9 2 5 3]\n",
      " [2 4 3 2 4]\n",
      " [5 9 2 4 3]\n",
      " [5 0 5 8 9]\n",
      " [4 5 5 7 2]]\n"
     ]
    }
   ],
   "source": [
    "#Definir arreglo 1D\n",
    "array_random_1D = np.random.randint(0, 10, 5)\n",
    "#Resultado\n",
    "print( f\"Arreglo de una dimensión:\\n {array_random_1D}\" )\n",
    "\n",
    "#Definir arreglo 2D\n",
    "array_random_2D = np.random.randint(0, 10, (5,5))\n",
    "#Resultado\n",
    "print( f\"Arreglo de dos dimensiones o matriz:\\n {array_random_2D}\" )"
   ]
  },
  {
   "cell_type": "markdown",
   "metadata": {},
   "source": [
    "3. Creación de un arreglo con muestra de variables alteorias a partir de una distribución binomial:\n",
    "\n",
    "   La sintáxis será la siguiente: \n",
    "\n",
    "   ```Python  \n",
    "   random.binomial(n, p, size=None)\n",
    "   ```\n",
    "   Donde: \n",
    "\n",
    "   `n`: Número de ensayos por experimento.\n",
    "\n",
    "   `p`: Probabilidad de éxito en cada ensayo.\n",
    "\n",
    "   `tamaño`: Número de experimentos independientes que se realizarán.\n"
   ]
  },
  {
   "cell_type": "code",
   "execution_count": 9,
   "metadata": {},
   "outputs": [
    {
     "name": "stdout",
     "output_type": "stream",
     "text": [
      "Arreglo de una dimensión :\n",
      " [3 4 4 5]\n",
      "Arreglo de dos dimensiones :\n",
      " [[6 4 3 3 9]\n",
      " [3 4 7 6 7]\n",
      " [5 7 4 7 7]\n",
      " [7 3 6 5 4]]\n"
     ]
    }
   ],
   "source": [
    "#Creación de arreglo\n",
    "array_binom_1d = np.random.binomial(10, .5, size= 4)\n",
    "#Imprimir resultado\n",
    "print( f\"Arreglo de una dimensión :\\n {array_binom_1d}\" )\n",
    "\n",
    "#Creación de arreglo\n",
    "array_binom_2d = np.random.binomial(10, .5, size= (4,5))\n",
    "#Imprimir resultado\n",
    "\n",
    "print( f\"Arreglo de dos dimensiones :\\n {array_binom_2d}\" )"
   ]
  },
  {
   "cell_type": "markdown",
   "metadata": {},
   "source": [
    "Numpy ofrece una gran cantidad de funciones para crear muestreos de variables a aleatorias a partir de cierta distribución de probabilidad (las veremos más adelante). Para consultar todas las funciones disponibles:   [NumPy](https://numpy.org/)"
   ]
  },
  {
   "cell_type": "markdown",
   "metadata": {},
   "source": [
    "### **4.1.1.2 Manejo de arreglos**\n",
    "\n",
    "Como mencionamos, los arreglos en numpy se crean a  partir de listas por lo que heredan las caráterísticas de **mutabilidad**. En otras palabras, podemos acceder, sustituir, agregar y eliminar elementos de un arreglo en numpy.\n",
    "\n",
    "**Tamaño del arreglo y dimensión**\n",
    "\n",
    "Para saber el tamaño (número de elementos) y las dimensiones que tiene los arreglos con los que trabajamos se utilizan una serie de funciones de de base así como del modulo numpy.\n",
    "\n",
    "* Las funciones `size` y  `np.size()` muestran el número de elementos independientemente si trabajamos con arreglos de una o más dimensiones. \n",
    "\n",
    "  Ejemplo:\n"
   ]
  },
  {
   "cell_type": "code",
   "execution_count": 35,
   "metadata": {},
   "outputs": [
    {
     "name": "stdout",
     "output_type": "stream",
     "text": [
      "4\n",
      "20\n"
     ]
    }
   ],
   "source": [
    "#Tamaño del arreglo\n",
    "print(array_binom_1d.size)\n",
    "\n",
    "#Tamaño del arreglo\n",
    "print(np.size(array_binom_2d))"
   ]
  },
  {
   "cell_type": "markdown",
   "metadata": {},
   "source": [
    "* La función `shape` regresa una tupla que indica la dimensión del arreglo.\n",
    "   \n",
    "   Ejemplo:"
   ]
  },
  {
   "cell_type": "code",
   "execution_count": 37,
   "metadata": {},
   "outputs": [
    {
     "name": "stdout",
     "output_type": "stream",
     "text": [
      "(4,)\n",
      "(4, 5)\n"
     ]
    }
   ],
   "source": [
    "#Tamaño del arreglo\n",
    "print(array_binom_1d.shape)\n",
    "\n",
    "#Tamaño del arreglo\n",
    "print(array_binom_2d.shape)"
   ]
  },
  {
   "cell_type": "markdown",
   "metadata": {},
   "source": [
    "**Acceso a elementos**\n",
    "\n",
    "Para acceder a los elementos de un arreglo usamos la misma sintáxis que en las lista. Especificamente, se utilizan los corchetes cuadrados:\n",
    "\n",
    "\n",
    "* Arreglo de una dimensión \n",
    "\n",
    "   ```Python\n",
    "   array_1d[posición]\n",
    "   \n",
    "   ```\n",
    "\n",
    "* Para el arreglo de dos dimensiones (matriz) se utiliza la posición fila, columna para extraer el elemento de interes\n",
    "\n",
    "   ```Python\n",
    "   matriz[posición_fila, posición_col]\n",
    "   \n",
    "   ```\n",
    "Ejemplo:"
   ]
  },
  {
   "cell_type": "code",
   "execution_count": 21,
   "metadata": {},
   "outputs": [
    {
     "name": "stdout",
     "output_type": "stream",
     "text": [
      "3\n",
      "6\n"
     ]
    }
   ],
   "source": [
    "#Acceder primer valor de arrelo de una dimensión \n",
    "print(array_binom_1d[0])\n",
    "#Acceder primer elemento de una matriz\n",
    "print(array_binom_2d[0,0])"
   ]
  },
  {
   "cell_type": "markdown",
   "metadata": {},
   "source": [
    "Para acceder a multiples elementos, al igual que en las listas, se utilizan `:` con los cuales definiremos el rango de elementos a lque queremos acceder."
   ]
  },
  {
   "cell_type": "markdown",
   "metadata": {},
   "source": [
    "* Arreglo de una dimensión \n",
    "\n",
    "   ```Python\n",
    "\n",
    "   array_1d[posición_inicial : posición_final ]\n",
    "   \n",
    "   ```\n",
    "\n",
    "* Para el arreglo de dos dimensiones (matriz) se utiliza la posición fila, columna para extraer el elemento de interes\n",
    "\n",
    "   ```Python\n",
    "   matriz[posición_fila_inicial : posición_fila_final , posición_col_inicial :posición_col_final ]\n",
    "   \n",
    "   ```\n",
    "\n",
    "   Ejemplo:"
   ]
  },
  {
   "cell_type": "code",
   "execution_count": 47,
   "metadata": {},
   "outputs": [
    {
     "name": "stdout",
     "output_type": "stream",
     "text": [
      "[3 4]\n",
      "[[6 4 3 3 9]\n",
      " [3 4 7 6 7]]\n"
     ]
    }
   ],
   "source": [
    "#Acceder a primeros dos valores \n",
    "print(array_binom_1d[0:2])\n",
    "\n",
    "#Acceder a primeras dos filas completas\n",
    "print(array_binom_2d[0:2, 0:])"
   ]
  },
  {
   "cell_type": "code",
   "execution_count": 46,
   "metadata": {},
   "outputs": [
    {
     "data": {
      "text/plain": [
       "array([[6, 4, 3, 3, 9],\n",
       "       [3, 4, 7, 6, 7]], dtype=int32)"
      ]
     },
     "execution_count": 46,
     "metadata": {},
     "output_type": "execute_result"
    }
   ],
   "source": [
    "#Otra forma de acceder a arreglos es por listas anidadas \n",
    "array_binom_2d[[0,1], :]"
   ]
  },
  {
   "cell_type": "markdown",
   "metadata": {},
   "source": [
    "**Sustitución de elementos**\n",
    "\n",
    "Dado que un arreglo es mutable podemos reemplazar sus elementos  a partir de la selección de un elemento o un rango de elementos y asignando nuevos valores con el signo =.\n",
    "\n",
    "**Sintáxis** \n",
    "\n",
    "```Python\n",
    "   array[elemento] = [elemento_nuevo]\n",
    "   ```\n",
    "Ejemplo:"
   ]
  },
  {
   "cell_type": "code",
   "execution_count": 53,
   "metadata": {},
   "outputs": [
    {
     "name": "stdout",
     "output_type": "stream",
     "text": [
      "Seguimos con el arreglo de muestreo de una distribución binomial [4 4 4 5]\n",
      "[4 4 4 5]\n"
     ]
    }
   ],
   "source": [
    "print(\"Seguimos con el arreglo de muestreo de una distribución binomial\", array_binom_1d)\n",
    "#Remplazar valor 1 con un 4\n",
    "array_binom_1d[0] = 4\n",
    "print(array_binom_1d)"
   ]
  },
  {
   "cell_type": "code",
   "execution_count": 62,
   "metadata": {},
   "outputs": [
    {
     "name": "stdout",
     "output_type": "stream",
     "text": [
      "Seguimos con el arreglo de muestreo de una distribución binomial \n",
      " [[6 4 3 3 9]\n",
      " [0 0 0 0 0]\n",
      " [5 7 4 7 7]\n",
      " [7 3 6 5 4]]\n",
      "[[6 4 3 3 9]\n",
      " [1 1 1 1 1]\n",
      " [5 7 4 7 7]\n",
      " [7 3 6 5 4]]\n"
     ]
    }
   ],
   "source": [
    "print(\"Seguimos con el arreglo de muestreo de una distribución binomial \\n\",  array_binom_2d)\n",
    "\n",
    "#Reemplazar fila dos por 1 \n",
    "array_binom_2d[1,:] = 1\n",
    "#array_binom_2d[1,:] = [1,1,1,1,1]\n",
    "print(array_binom_2d)\n"
   ]
  },
  {
   "cell_type": "code",
   "execution_count": 63,
   "metadata": {},
   "outputs": [
    {
     "name": "stdout",
     "output_type": "stream",
     "text": [
      "[[0 0 0 0 0]\n",
      " [0 0 0 0 0]\n",
      " [0 0 0 0 0]\n",
      " [0 0 0 0 0]]\n"
     ]
    }
   ],
   "source": [
    "#Reemplazar todo con 0 \n",
    "array_binom_2d[:] = 0\n",
    "print(array_binom_2d)"
   ]
  },
  {
   "cell_type": "markdown",
   "metadata": {},
   "source": [
    "**Agregar elementos**\n",
    "\n",
    "Para agregar elementos nuevos a un arreglo se utiliza la función `np.append()` es la versión numpy de la que utilizamos con las listas (`append()`).\n",
    "\n",
    "**Sintáxis** \n",
    "```Python\n",
    "   array_new = np.append(array_old, 1)\n",
    "   ```\n",
    "Ejemplo:"
   ]
  },
  {
   "cell_type": "code",
   "execution_count": 65,
   "metadata": {},
   "outputs": [
    {
     "name": "stdout",
     "output_type": "stream",
     "text": [
      "Seguimos con el arreglo de muestreo de una distribución binomial [4 4 4 5]\n",
      "[4 4 4 5 0]\n"
     ]
    }
   ],
   "source": [
    "print(\"Seguimos con el arreglo de muestreo de una distribución binomial\", array_binom_1d)\n",
    "#Agregar un valor 0 al arreglo\n",
    "array_binom_1d = np.append(array_binom_1d,0)\n",
    "print(array_binom_1d)"
   ]
  },
  {
   "cell_type": "markdown",
   "metadata": {},
   "source": [
    "PAra "
   ]
  },
  {
   "cell_type": "markdown",
   "metadata": {},
   "source": [
    "### **4.1.2 Aljebra lineal con numpy**"
   ]
  },
  {
   "cell_type": "markdown",
   "metadata": {},
   "source": [
    "### **4.1.3 Funciones estadísticas aplicadas a los arreglos**"
   ]
  }
 ],
 "metadata": {
  "kernelspec": {
   "display_name": "Python 3",
   "language": "python",
   "name": "python3"
  },
  "language_info": {
   "codemirror_mode": {
    "name": "ipython",
    "version": 3
   },
   "file_extension": ".py",
   "mimetype": "text/x-python",
   "name": "python",
   "nbconvert_exporter": "python",
   "pygments_lexer": "ipython3",
   "version": "3.12.1"
  }
 },
 "nbformat": 4,
 "nbformat_minor": 2
}
