{
  "cells": [
    {
      "cell_type": "markdown",
      "metadata": {
        "id": "view-in-github",
        "colab_type": "text"
      },
      "source": [
        "<a href=\"https://colab.research.google.com/github/DiegoSReco/intro_python_para_economistas/blob/main/script_python_4_numerical_python.ipynb\" target=\"_parent\"><img src=\"https://colab.research.google.com/assets/colab-badge.svg\" alt=\"Open In Colab\"/></a>"
      ]
    },
    {
      "cell_type": "markdown",
      "metadata": {
        "id": "0QzL9VUfHgPd"
      },
      "source": [
        "# **4. Introducción a `numpy`**\n",
        "\n",
        "`Numpy` (o *Numerical Python*) es uno de los modulos más importantes en Python, ya que muchos otros sistemas o modulos utilizan  arreglos de N-dimensiones  (`ndarray`) los cuales son la estrcutura de datos proncipal en este paquete. Además, este tipo de estrucutras son la base para casi todos los ecosistemas de computación científica en Python como son los modulos de procesamiento de datos, áljebra lineal, modelos estadísticos, machine learning y deep learning.\n"
      ]
    },
    {
      "cell_type": "markdown",
      "metadata": {
        "id": "sydMweDFHgPg"
      },
      "source": [
        "## **4.1 Arreglos en `numpy`**\n",
        "\n",
        "Los arreglos son estructuras de datos conformadas por una o multiples listas con valores homogéneos que permiten realizar operaciones matemáticas y estadísticas eficientemente.\n",
        "\n",
        "Para definir un arreglo debemos tener importar el modulo numpy de la siguiente forma:"
      ]
    },
    {
      "cell_type": "code",
      "execution_count": null,
      "metadata": {
        "id": "2vS3-GonHgPh"
      },
      "outputs": [],
      "source": [
        "import numpy as np"
      ]
    },
    {
      "cell_type": "markdown",
      "metadata": {
        "id": "3jNPhsxiHgPj"
      },
      "source": [
        "El modulo`numpy` se define con la palabra clave `np`.\n",
        "\n",
        "**Sintáxis**\n",
        "\n",
        "Para definir un arregalo utilizaremos la función `array()` con la palabra clave :\n",
        "```Python\n",
        "np.array(lista)\n",
        "```\n",
        "\n",
        "Lo anterior de define como arreglo de una , pero se puede tener tener arreglos de dos dimensiones:\n",
        "\n",
        "```Python\n",
        "np.array([lista_1, lista_2, lista_3,...,lista_n])\n",
        "```\n",
        "\n",
        "Los arreglos de dos dimensiones se consideran **matrices** y son gran utilidad para la construcción de modelos estadísticos que utilicen vectores y matrices para su construcción\n",
        "\n",
        "Ejemplos de definición de arreglos:\n",
        "\n",
        "* Arreglo de una dimensión"
      ]
    },
    {
      "cell_type": "code",
      "execution_count": null,
      "metadata": {
        "id": "nWBCpOyYHgPj",
        "outputId": "b410d3fc-361c-4a9f-c78a-a41dcc52a6ec"
      },
      "outputs": [
        {
          "name": "stdout",
          "output_type": "stream",
          "text": [
            "[ 100  404  404   55   44   55  150  700 1000   38] <class 'numpy.ndarray'>\n"
          ]
        }
      ],
      "source": [
        "#Definir arreglo\n",
        "array_1 = np.array( [100, 404, 404, 55, 44, 55, 150, 700, 1000, 38])\n",
        "#Imprimir\n",
        "print(array_1, type(array_1))"
      ]
    },
    {
      "cell_type": "markdown",
      "metadata": {
        "id": "Q8x8qMTDHgPl"
      },
      "source": [
        "* Arreglo de dos dimensiones"
      ]
    },
    {
      "cell_type": "code",
      "execution_count": null,
      "metadata": {
        "id": "bTej1R06HgPl",
        "outputId": "5cf4cb8c-6a3a-42de-9a4c-f55dc92d2114"
      },
      "outputs": [
        {
          "name": "stdout",
          "output_type": "stream",
          "text": [
            "[[ 3  4  4]\n",
            " [ 4 10 32]\n",
            " [24 33 43]]\n"
          ]
        }
      ],
      "source": [
        "#Crear arreglo\n",
        "array_2 = np.array([ [3,4,4] ,\n",
        "                     [4,10,32],\n",
        "                     [24,33,43] ])\n",
        "\n",
        "print(array_2)"
      ]
    },
    {
      "cell_type": "markdown",
      "metadata": {
        "id": "nj4ibGLpHgPl"
      },
      "source": [
        "Una de las características más importante de los arreglos es que sólo recibe **valores homogéneos** en las listas, y si no son homogéneos los transforma. Por ejemplo."
      ]
    },
    {
      "cell_type": "code",
      "execution_count": null,
      "metadata": {
        "id": "AiqndML2HgPm",
        "outputId": "7253b9ca-fda4-4564-de11-da4c7f0440bc"
      },
      "outputs": [
        {
          "name": "stdout",
          "output_type": "stream",
          "text": [
            "[[ 1  0  1]\n",
            " [ 4 10 32]\n",
            " [24 33 43]]\n"
          ]
        }
      ],
      "source": [
        "#Crear arreglo\n",
        "array_3 = np.array([ [True,False, True] ,\n",
        "                     [4,10,32],\n",
        "                     [24,33,43] ])\n",
        "\n",
        "\n",
        "print(array_3)"
      ]
    },
    {
      "cell_type": "markdown",
      "metadata": {
        "id": "GCWuoDmEHgPm"
      },
      "source": [
        "### **4.1.1 Creación y manejo de arreglos**"
      ]
    },
    {
      "cell_type": "markdown",
      "metadata": {
        "id": "gAHsdRs8HgPn"
      },
      "source": [
        "### **4.1.1.1 Creación de arreglos**\n",
        "En `numpy` existen una serie de funciones para crear arreglos que contengan ceros, unos, números generados de forma aleatoria, muestras a partir de distribuciones de probabilidad discretas y continuas, etc.\n",
        "\n",
        "1. Para crear arreglos con zeros se utiliza la función `np.zeros(shape)` , en donde el argumento será el tamaño del arreglo de ceros de una dimensión:\n"
      ]
    },
    {
      "cell_type": "code",
      "execution_count": null,
      "metadata": {
        "id": "Gr_sthpuHgPn",
        "outputId": "02e8dcfa-3e13-4849-dac7-e7c7c2cff49e"
      },
      "outputs": [
        {
          "name": "stdout",
          "output_type": "stream",
          "text": [
            "[0. 0. 0. 0. 0.]\n"
          ]
        }
      ],
      "source": [
        "#Crear arreglos de ceros 1D\n",
        "array_ceros_1d = np.zeros(5)\n",
        "\n",
        "print(array_ceros_1d)"
      ]
    },
    {
      "cell_type": "markdown",
      "metadata": {
        "id": "UK8gSNnRHgPn"
      },
      "source": [
        "  * Para crear una matriz o arreglo de dos dimensiones:"
      ]
    },
    {
      "cell_type": "code",
      "execution_count": null,
      "metadata": {
        "id": "8weVBE9sHgPn",
        "outputId": "714270ad-5f3a-4df9-d907-6c2d202bd95f"
      },
      "outputs": [
        {
          "name": "stdout",
          "output_type": "stream",
          "text": [
            "[[0. 0. 0. 0. 0.]\n",
            " [0. 0. 0. 0. 0.]\n",
            " [0. 0. 0. 0. 0.]\n",
            " [0. 0. 0. 0. 0.]\n",
            " [0. 0. 0. 0. 0.]]\n"
          ]
        }
      ],
      "source": [
        "#Crear arreglos de ceros de 2D\n",
        "array_ceros_2d = np.zeros((5,5))\n",
        "\n",
        "print(array_ceros_2d)"
      ]
    },
    {
      "cell_type": "markdown",
      "metadata": {
        "id": "MsWHOzpMHgPo"
      },
      "source": [
        "2. Para crear arreglos con el número uno se utiliza la función `np.ones(shape)` con la misma sintáxis que en la de los ceros:\n"
      ]
    },
    {
      "cell_type": "code",
      "execution_count": null,
      "metadata": {
        "id": "LAxqknMEHgPo",
        "outputId": "acb68707-ed7e-401b-fc9f-4663ca27792f"
      },
      "outputs": [
        {
          "name": "stdout",
          "output_type": "stream",
          "text": [
            "[1. 1. 1. 1. 1.]\n",
            "[[1. 1. 1. 1. 1.]\n",
            " [1. 1. 1. 1. 1.]\n",
            " [1. 1. 1. 1. 1.]\n",
            " [1. 1. 1. 1. 1.]\n",
            " [1. 1. 1. 1. 1.]]\n"
          ]
        }
      ],
      "source": [
        "#Crear arreglos de unos 1D\n",
        "array_unos_1d = np.ones(5)\n",
        "\n",
        "print(array_unos_1d)\n",
        "\n",
        "#Crear arreglos de ceros de 2D\n",
        "array_unos_2d = np.ones((5,5))\n",
        "\n",
        "print(array_unos_2d)"
      ]
    },
    {
      "cell_type": "markdown",
      "metadata": {
        "id": "9_XqUEvDHgPo"
      },
      "source": [
        "3. Creación de arreglos de números aleatorios:\n",
        "\n",
        "   La sintáxis será la siguiente:\n",
        "\n",
        "   ```Python  \n",
        "   np.random.randint(inicio, final, tamaño)\n",
        "   ```\n",
        "\n"
      ]
    },
    {
      "cell_type": "code",
      "execution_count": null,
      "metadata": {
        "id": "NYU_Xzn8HgPo",
        "outputId": "7a9a668f-07d9-49f9-d69b-e7ec94fc61f2"
      },
      "outputs": [
        {
          "name": "stdout",
          "output_type": "stream",
          "text": [
            "Arreglo de una dimensión:\n",
            " [0 9 2 4 2]\n",
            "Arreglo de dos dimensiones o matriz:\n",
            " [[9 9 5 2 2]\n",
            " [8 0 0 4 1]\n",
            " [7 5 3 4 4]\n",
            " [4 4 1 3 5]\n",
            " [6 2 2 6 3]]\n"
          ]
        }
      ],
      "source": [
        "#Definir arreglo 1D\n",
        "array_random_1D = np.random.randint(0, 10, 5)\n",
        "#Resultado\n",
        "print( f\"Arreglo de una dimensión:\\n {array_random_1D}\" )\n",
        "\n",
        "#Definir arreglo 2D\n",
        "array_random_2D = np.random.randint(0, 10, (5,5))\n",
        "#Resultado\n",
        "print( f\"Arreglo de dos dimensiones o matriz:\\n {array_random_2D}\" )"
      ]
    },
    {
      "cell_type": "markdown",
      "metadata": {
        "id": "Q5I3gvwNHgPp"
      },
      "source": [
        "3. Creación de un arreglo con muestra de variables alteorias a partir de una distribución binomial:\n",
        "\n",
        "   La sintáxis será la siguiente:\n",
        "\n",
        "   ```Python  \n",
        "   random.binomial(n, p, size=None)\n",
        "   ```\n",
        "   Donde:\n",
        "\n",
        "   `n`: Número de ensayos por experimento.\n",
        "\n",
        "   `p`: Probabilidad de éxito en cada ensayo.\n",
        "\n",
        "   `tamaño`: Número de experimentos independientes que se realizarán.\n"
      ]
    },
    {
      "cell_type": "code",
      "execution_count": null,
      "metadata": {
        "id": "L82RmsiJHgPp",
        "outputId": "7bfc75aa-7b95-429e-ffd4-13f3882a07c7"
      },
      "outputs": [
        {
          "name": "stdout",
          "output_type": "stream",
          "text": [
            "Arreglo de una dimensión :\n",
            " [3 8 5 4]\n",
            "Arreglo de dos dimensiones :\n",
            " [[7 6 3 7 5]\n",
            " [5 2 7 5 5]\n",
            " [8 3 4 6 6]\n",
            " [4 6 6 7 7]]\n"
          ]
        }
      ],
      "source": [
        "#Creación de arreglo\n",
        "array_binom_1d = np.random.binomial(10, .5, size= 4)\n",
        "#Imprimir resultado\n",
        "print( f\"Arreglo de una dimensión :\\n {array_binom_1d}\" )\n",
        "\n",
        "#Creación de arreglo\n",
        "array_binom_2d = np.random.binomial(10, .5, size= (4,5))\n",
        "#Imprimir resultado\n",
        "\n",
        "print( f\"Arreglo de dos dimensiones :\\n {array_binom_2d}\" )"
      ]
    },
    {
      "cell_type": "markdown",
      "metadata": {
        "id": "PWPuWd81HgPp"
      },
      "source": [
        "Numpy ofrece una gran cantidad de funciones para crear muestreos de variables a aleatorias a partir de cierta distribución de probabilidad (las veremos más adelante). Para consultar todas las funciones disponibles:   [NumPy](https://numpy.org/)"
      ]
    },
    {
      "cell_type": "markdown",
      "metadata": {
        "id": "HFMXWF96HgPp"
      },
      "source": [
        "### **4.1.1.2 Manejo de arreglos**\n",
        "\n",
        "Como mencionamos, los arreglos en numpy se crean a  partir de listas por lo que heredan las caráterísticas de **mutabilidad**. En otras palabras, podemos acceder, sustituir, agregar y eliminar elementos de un arreglo en numpy.\n",
        "\n",
        "**Tamaño del arreglo y dimensión**\n",
        "\n",
        "Para saber el tamaño (número de elementos) y las dimensiones que tiene los arreglos con los que trabajamos se utilizan una serie de funciones de de base así como del modulo numpy.\n",
        "\n",
        "* Las funciones `size` y  `np.size()` muestran el número de elementos independientemente si trabajamos con arreglos de una o más dimensiones.\n",
        "\n",
        "  Ejemplo:\n"
      ]
    },
    {
      "cell_type": "code",
      "execution_count": null,
      "metadata": {
        "id": "mpdzywhHHgPq",
        "outputId": "ca79b0f7-0bae-4cc4-d272-78c261da0835"
      },
      "outputs": [
        {
          "name": "stdout",
          "output_type": "stream",
          "text": [
            "4\n",
            "20\n"
          ]
        }
      ],
      "source": [
        "#Tamaño del arreglo\n",
        "print(array_binom_1d.size)\n",
        "\n",
        "#Tamaño del arreglo\n",
        "print(np.size(array_binom_2d))"
      ]
    },
    {
      "cell_type": "markdown",
      "metadata": {
        "id": "I4O2sDn1HgPq"
      },
      "source": [
        "* La función `shape` regresa una tupla que indica la dimensión del arreglo.\n",
        "   \n",
        "   Ejemplo:"
      ]
    },
    {
      "cell_type": "code",
      "execution_count": null,
      "metadata": {
        "id": "lKuqcHysHgPq",
        "outputId": "b14e6b9e-1820-40f1-fa95-2e7bfa1ba69f"
      },
      "outputs": [
        {
          "name": "stdout",
          "output_type": "stream",
          "text": [
            "(4,)\n",
            "(4, 5)\n"
          ]
        }
      ],
      "source": [
        "#Tamaño del arreglo\n",
        "print(array_binom_1d.shape)\n",
        "\n",
        "#Tamaño del arreglo\n",
        "print(array_binom_2d.shape)"
      ]
    },
    {
      "cell_type": "markdown",
      "metadata": {
        "id": "-5yP17v_HgPq"
      },
      "source": [
        "**Acceso a elementos**\n",
        "\n",
        "Para acceder a los elementos de un arreglo usamos la misma sintáxis que en las lista. Especificamente, se utilizan los corchetes cuadrados:\n",
        "\n",
        "\n",
        "* Arreglo de una dimensión\n",
        "\n",
        "   ```Python\n",
        "   array_1d[posición]\n",
        "   \n",
        "   ```\n",
        "\n",
        "* Para el arreglo de dos dimensiones (matriz) se utiliza la posición fila, columna para extraer el elemento de interes\n",
        "\n",
        "   ```Python\n",
        "   matriz[posición_fila, posición_col]\n",
        "   \n",
        "   ```\n",
        "  Ejemplo:"
      ]
    },
    {
      "cell_type": "code",
      "execution_count": null,
      "metadata": {
        "id": "TTz02_ooHgPr",
        "outputId": "b86d98c4-8f88-4780-957c-90119838c3b6"
      },
      "outputs": [
        {
          "name": "stdout",
          "output_type": "stream",
          "text": [
            "3\n",
            "7\n"
          ]
        }
      ],
      "source": [
        "#Acceder primer valor de arrelo de una dimensión\n",
        "print(array_binom_1d[0])\n",
        "#Acceder primer elemento de una matriz\n",
        "print(array_binom_2d[0,0])"
      ]
    },
    {
      "cell_type": "markdown",
      "metadata": {
        "id": "mgGK_7bHHgPr"
      },
      "source": [
        "Para acceder a multiples elementos, al igual que en las listas, se utilizan `:` con los cuales definiremos el rango de elementos a lque queremos acceder."
      ]
    },
    {
      "cell_type": "markdown",
      "metadata": {
        "id": "YF4_qfelHgPr"
      },
      "source": [
        "* Arreglo de una dimensión\n",
        "\n",
        "   ```Python\n",
        "\n",
        "   array_1d[posición_inicial : posición_final ]\n",
        "   \n",
        "   ```\n",
        "\n",
        "* Para el arreglo de dos dimensiones (matriz) se utiliza la posición fila, columna para extraer el elemento de interes\n",
        "\n",
        "   ```Python\n",
        "   matriz[posición_fila_inicial : posición_fila_final , posición_col_inicial :posición_col_final ]\n",
        "   \n",
        "   ```\n",
        "\n",
        "   Ejemplo:"
      ]
    },
    {
      "cell_type": "code",
      "execution_count": null,
      "metadata": {
        "id": "QfsygMPLHgPr",
        "outputId": "9796e859-c11d-484f-c0ef-735ed55881a9"
      },
      "outputs": [
        {
          "name": "stdout",
          "output_type": "stream",
          "text": [
            "[3 8]\n",
            "[[7 6 3 7 5]\n",
            " [5 2 7 5 5]]\n"
          ]
        }
      ],
      "source": [
        "#Acceder a primeros dos valores\n",
        "print(array_binom_1d[0:2])\n",
        "\n",
        "#Acceder a primeras dos filas completas\n",
        "print(array_binom_2d[0:2, 0:])"
      ]
    },
    {
      "cell_type": "code",
      "execution_count": null,
      "metadata": {
        "id": "UxYEAm_VHgPr",
        "outputId": "97d64275-9e3c-43c0-d71d-7f783f58985e"
      },
      "outputs": [
        {
          "data": {
            "text/plain": [
              "array([[7, 6, 3, 7, 5],\n",
              "       [5, 2, 7, 5, 5]], dtype=int32)"
            ]
          },
          "execution_count": 19,
          "metadata": {},
          "output_type": "execute_result"
        }
      ],
      "source": [
        "#Otra forma de acceder a arreglos es por listas anidadas\n",
        "array_binom_2d[[0,1], :]"
      ]
    },
    {
      "cell_type": "markdown",
      "metadata": {
        "id": "GT8kSLatHgPs"
      },
      "source": [
        "**Sustitución de elementos**\n",
        "\n",
        "Dado que un arreglo es mutable podemos reemplazar sus elementos  a partir de la selección de un elemento o un rango de elementos y asignando nuevos valores con el signo =.\n",
        "\n",
        "**Sintáxis**\n",
        "\n",
        "```Python\n",
        "   array[elemento] = [elemento_nuevo]\n",
        "   ```\n",
        "Ejemplo:"
      ]
    },
    {
      "cell_type": "code",
      "execution_count": null,
      "metadata": {
        "id": "-ZC7mhI1HgPs",
        "outputId": "44fa03b8-a349-4af3-a92f-ebc49ed417e0"
      },
      "outputs": [
        {
          "name": "stdout",
          "output_type": "stream",
          "text": [
            "Seguimos con el arreglo de muestreo de una distribución binomial [3 8 5 4]\n",
            "[4 8 5 4]\n"
          ]
        }
      ],
      "source": [
        "print(\"Seguimos con el arreglo de muestreo de una distribución binomial\", array_binom_1d)\n",
        "#Remplazar valor 1 con un 4\n",
        "array_binom_1d[0] = 4\n",
        "print(array_binom_1d)"
      ]
    },
    {
      "cell_type": "code",
      "execution_count": null,
      "metadata": {
        "id": "KO5ts1mzHgPs",
        "outputId": "5c5b3dd4-5b58-49ba-b8b1-a546a0047445"
      },
      "outputs": [
        {
          "name": "stdout",
          "output_type": "stream",
          "text": [
            "Seguimos con el arreglo de muestreo de una distribución binomial \n",
            " [[7 6 3 7 5]\n",
            " [5 2 7 5 5]\n",
            " [8 3 4 6 6]\n",
            " [4 6 6 7 7]]\n",
            "[[7 6 3 7 5]\n",
            " [1 1 1 1 1]\n",
            " [8 3 4 6 6]\n",
            " [4 6 6 7 7]]\n"
          ]
        }
      ],
      "source": [
        "print(\"Seguimos con el arreglo de muestreo de una distribución binomial \\n\",  array_binom_2d)\n",
        "\n",
        "#Reemplazar fila dos por 1\n",
        "array_binom_2d[1,:] = 1\n",
        "#array_binom_2d[1,:] = [1,1,1,1,1]\n",
        "print(array_binom_2d)\n"
      ]
    },
    {
      "cell_type": "code",
      "execution_count": null,
      "metadata": {
        "id": "4doBGk4aHgPs",
        "outputId": "9a7210aa-f4fd-41d1-bb7f-3d46b499fd13"
      },
      "outputs": [
        {
          "name": "stdout",
          "output_type": "stream",
          "text": [
            "[[0 0 0 0 0]\n",
            " [0 0 0 0 0]\n",
            " [0 0 0 0 0]\n",
            " [0 0 0 0 0]]\n"
          ]
        }
      ],
      "source": [
        "#Reemplazar todo con 0\n",
        "array_binom_2d[:] = 0\n",
        "print(array_binom_2d)"
      ]
    },
    {
      "cell_type": "markdown",
      "metadata": {
        "id": "N-2k6An5HgPs"
      },
      "source": [
        "**Agregar elementos**\n",
        "\n",
        "Para agregar elementos nuevos a un arreglo se utiliza la función `np.append()` es la versión numpy de la que utilizamos con las listas (`append()`).\n",
        "\n",
        "**Sintáxis**\n",
        "```Python\n",
        "   array_new = np.append(array_old, valor_nuevo)\n",
        "   ```\n",
        "Ejemplo:"
      ]
    },
    {
      "cell_type": "code",
      "execution_count": null,
      "metadata": {
        "id": "a8VC9geuHgPt",
        "outputId": "7b457e9c-1c34-4528-9a6d-2d762a111a02"
      },
      "outputs": [
        {
          "name": "stdout",
          "output_type": "stream",
          "text": [
            "Seguimos con el arreglo de muestreo de una distribución binomial [4 4 6 5]\n",
            "[4 4 6 5 0]\n"
          ]
        }
      ],
      "source": [
        "print(\"Seguimos con el arreglo de muestreo de una distribución binomial\", array_binom_1d)\n",
        "#Agregar un valor 0 al arreglo\n",
        "array_binom_1d = np.append(array_binom_1d,0)\n",
        "print(array_binom_1d)"
      ]
    },
    {
      "cell_type": "markdown",
      "metadata": {
        "id": "Hz8n5-OxHgPt"
      },
      "source": [
        "* Para agregar en una posición específica se utiliza la función `np.insert()` de la siguiente forma:"
      ]
    },
    {
      "cell_type": "code",
      "execution_count": null,
      "metadata": {
        "id": "3Y1knV-kHgPt",
        "outputId": "2f5e089a-6c71-470c-d78f-6c45e815809b"
      },
      "outputs": [
        {
          "name": "stdout",
          "output_type": "stream",
          "text": [
            "[0 4 4 6 5 0]\n"
          ]
        }
      ],
      "source": [
        "#Agregar un valor 0  en la primera posición\n",
        "array_binom_1d = np.insert(array_binom_1d,0,0 )\n",
        "print(array_binom_1d)"
      ]
    },
    {
      "cell_type": "markdown",
      "metadata": {
        "id": "eDDtZxmJHgPt"
      },
      "source": [
        "Para los arreglos de dos dimensiones o matrices la sintáxis es diferente, ya que podemos agregar filas o columnas completas:\n",
        "\n",
        "* Columnas\n",
        "  \n",
        "   Para las columnas se utiliza la función append con la siguiente sitnáxis:\n",
        "    ```Python\n",
        "    matriz_new = np.append(matriz_old, col_new, axis=1)\n",
        "    ```\n"
      ]
    },
    {
      "cell_type": "code",
      "execution_count": null,
      "metadata": {
        "id": "CKz9WaRyHgPu",
        "outputId": "0fdcd9a0-d31a-474e-d187-db505fe30176"
      },
      "outputs": [
        {
          "name": "stdout",
          "output_type": "stream",
          "text": [
            "[[0 0 0 0 0 1]\n",
            " [0 0 0 0 0 1]\n",
            " [0 0 0 0 0 1]\n",
            " [0 0 0 0 0 1]]\n"
          ]
        }
      ],
      "source": [
        "#Agregar el siguiente arreglo como columna\n",
        "array_col = np.array([[1], [1], [1], [1]])\n",
        "\n",
        "#Agregamos arreglo como columna\n",
        "array_binom_2d  =  np.append(array_binom_2d, array_col , axis = 1)\n",
        "\n",
        "#Imrpimir resultado\n",
        "print(array_binom_2d)"
      ]
    },
    {
      "cell_type": "markdown",
      "metadata": {
        "id": "0tp1klC5HgPu"
      },
      "source": [
        "* Filas\n",
        "\n",
        "   Para agregar toda una fila a una matriz utilizaremos la función  `np.vstack()` con la siguiente sintáxis:\n",
        "    ```Python\n",
        "    matriz_new = np.vstack([ matriz_old, row_new])\n",
        "    ```"
      ]
    },
    {
      "cell_type": "code",
      "execution_count": null,
      "metadata": {
        "id": "y5cf2FOdHgPu",
        "outputId": "fbfcf52c-6a59-4f7d-e053-01855add4b44"
      },
      "outputs": [
        {
          "name": "stdout",
          "output_type": "stream",
          "text": [
            "[[0 0 0 0 0 1]\n",
            " [0 0 0 0 0 1]\n",
            " [0 0 0 0 0 1]\n",
            " [0 0 0 0 0 1]\n",
            " [1 1 1 1 1 1]]\n"
          ]
        }
      ],
      "source": [
        "#Agregar el siguiente arreglo como fila\n",
        "array_row = np.array([1,1,1,1,1,1])\n",
        "\n",
        "#Agregamos arreglo como columna\n",
        "array_binom_2d  =  np.vstack([array_binom_2d,array_row])\n",
        "\n",
        "#Imrpimir resultado\n",
        "print(array_binom_2d)"
      ]
    },
    {
      "cell_type": "markdown",
      "metadata": {
        "id": "LdjHMHvTHgPu"
      },
      "source": [
        "**Eliminar elementos de un arreglo**\n",
        "\n",
        "Para eliminar elementos de un arreglo se utiliza la función `np.delete()` de la siguiente forma:\n",
        "\n",
        "**Sintáxis**\n",
        "\n",
        "* Eliminar un elemento\n",
        "  ```Python\n",
        "    array_new = np.delete(array_old,(posición_elemento))\n",
        "  ```\n",
        "\n",
        "* Eliminar más de un elemento\n",
        "  ```Python\n",
        "    array_new = np.delete(array_old, [posición_0,..., posición_n])\n",
        "   ```\n",
        "Ejemplo:\n",
        "\n",
        "Eliminar ultimo elemento:"
      ]
    },
    {
      "cell_type": "code",
      "execution_count": null,
      "metadata": {
        "id": "5Utd-yAlHgPu",
        "outputId": "f8585fa5-984a-4263-f1e9-89ecc6073a73"
      },
      "outputs": [
        {
          "name": "stdout",
          "output_type": "stream",
          "text": [
            "[4 8 5 4] \n",
            " [4 8 5]\n",
            "[4 8 5] \n",
            " [5]\n"
          ]
        }
      ],
      "source": [
        "#Eliminar último\n",
        "array_binom_n =  np.delete(array_binom_1d, (-1))\n",
        "print(array_binom_1d,\"\\n\", array_binom_n)\n",
        "\n",
        "#Eliminar los dos primeros\n",
        "array_binom_n1 =  np.delete(array_binom_n, [0,1])\n",
        "print(array_binom_n,\"\\n\", array_binom_n1)\n"
      ]
    },
    {
      "cell_type": "markdown",
      "metadata": {
        "id": "Do-ciKtHHgPu"
      },
      "source": [
        "Cuando tenemos un matriz podemos eliminar filas o columnas con la siguiente sintáxis:\n",
        "\n",
        "\n",
        "* Eliminar columna\n",
        "\n",
        "  ```Python\n",
        "    matriz_new = np.delete( matriz_old ,(posición_fila), axis=1 )\n",
        "  ```\n",
        "\n",
        "* Eliminar filas\n",
        "  ```Python\n",
        "    matriz_new = np.delete( matriz_old ,(posición_fila), axis=0 )\n",
        "   ```\n",
        "\n",
        "\n",
        ">Nota: Cuando trabajamos con estructura de datos de dos dimensiones como arreglos o data frames el `axis = 1` siempre se usa para indicar que la función se aplicará a las columnas. mientras que `axis = 0` se utilizá para trabajar en las filas.\n",
        "\n",
        "  \n",
        "\n",
        "Ejemplo:\n",
        "\n",
        "* Eliminar última columna"
      ]
    },
    {
      "cell_type": "code",
      "execution_count": null,
      "metadata": {
        "id": "RP7yK-bFHgPv",
        "outputId": "dd08bf05-ce8f-4b47-df12-971d80ef4d03"
      },
      "outputs": [
        {
          "name": "stdout",
          "output_type": "stream",
          "text": [
            "[[0 0 0 0 0 1]\n",
            " [0 0 0 0 0 1]\n",
            " [0 0 0 0 0 1]\n",
            " [0 0 0 0 0 1]\n",
            " [1 1 1 1 1 1]] \n",
            "\n",
            " [[0 0 0 0 0]\n",
            " [0 0 0 0 0]\n",
            " [0 0 0 0 0]\n",
            " [0 0 0 0 0]\n",
            " [1 1 1 1 1]]\n"
          ]
        }
      ],
      "source": [
        "#Eliminar última columna\n",
        "matriz_n =  np.delete(array_binom_2d, (-1), axis=1)\n",
        "\n",
        "print(array_binom_2d, 2*\"\\n\", matriz_n)\n"
      ]
    },
    {
      "cell_type": "markdown",
      "metadata": {
        "id": "KzlWvwqzHgPv"
      },
      "source": [
        "* Eliminar primera fila"
      ]
    },
    {
      "cell_type": "code",
      "execution_count": null,
      "metadata": {
        "id": "DGw9fWyFHgPv",
        "outputId": "0be1e247-8bd1-47ec-8ad5-851dbcfe5a02"
      },
      "outputs": [
        {
          "name": "stdout",
          "output_type": "stream",
          "text": [
            "[[0 0 0 0 0 1]\n",
            " [0 0 0 0 0 1]\n",
            " [0 0 0 0 0 1]\n",
            " [0 0 0 0 0 1]\n",
            " [1 1 1 1 1 1]] \n",
            "\n",
            " [[0 0 0 0 1]\n",
            " [0 0 0 0 1]\n",
            " [0 0 0 0 1]\n",
            " [0 0 0 0 1]\n",
            " [1 1 1 1 1]]\n"
          ]
        }
      ],
      "source": [
        "#Eliminar primera fila\n",
        "matriz_n1 =  np.delete(array_binom_2d, (0), axis=1)\n",
        "\n",
        "print(array_binom_2d,2*\"\\n\", matriz_n1)"
      ]
    },
    {
      "cell_type": "markdown",
      "metadata": {
        "id": "NpVfkgPkHgPv"
      },
      "source": [
        "**Ordenar arreglos**\n",
        "\n",
        "El ordenamiento es otro de los cambios aplicables a los arreglos. Para ello se utiliza la función `np.sort()` de la siguiente forma:\n",
        "\n",
        "* Arreglo de una dimensión:\n",
        "\n",
        "  ```Python\n",
        "  np.sort(array)\n",
        "  ```"
      ]
    },
    {
      "cell_type": "code",
      "execution_count": null,
      "metadata": {
        "id": "bktLkTh5HgPv",
        "outputId": "88f562fb-0868-41da-e300-81a0a41690bc"
      },
      "outputs": [
        {
          "name": "stdout",
          "output_type": "stream",
          "text": [
            "[4 4 5 8]\n"
          ]
        }
      ],
      "source": [
        "#Ordenar arreglo\n",
        "array_sort = np.sort(array_binom_1d)\n",
        "\n",
        "print(array_sort)"
      ]
    },
    {
      "cell_type": "code",
      "execution_count": null,
      "metadata": {
        "id": "1ls72315HgPw",
        "outputId": "89e2ae0e-3dfc-4fbc-c298-04b826c731d8"
      },
      "outputs": [
        {
          "name": "stdout",
          "output_type": "stream",
          "text": [
            "[8 5 4 4]\n"
          ]
        }
      ],
      "source": [
        "#Ordenar descendente\n",
        "array_sort_desc = np.sort(array_binom_1d)[::-1]\n",
        "\n",
        "print(array_sort_desc)"
      ]
    },
    {
      "cell_type": "markdown",
      "metadata": {
        "id": "tXKDbs1CHgPw"
      },
      "source": [
        "Para arreglos de dos dimensiones:\n",
        "\n",
        "* Se utiliza para ordenar por columna\n",
        "  ```Python\n",
        "  matriz_sort = np.sort(matriz_old, axis = 0)\n",
        "  ```\n",
        "\n",
        "* Se utiliza para ordenar por fila\n",
        "  ```Python\n",
        "  matriz_sort = np.sort(matriz_old axis = 1)\n",
        "  ```"
      ]
    },
    {
      "cell_type": "code",
      "execution_count": null,
      "metadata": {
        "id": "hbL8DvrvHgPw",
        "outputId": "29570bc5-a3db-4a44-a9e5-7894a4268f56"
      },
      "outputs": [
        {
          "name": "stdout",
          "output_type": "stream",
          "text": [
            "[[6 5 3 5 7]\n",
            " [4 4 4 7 5]\n",
            " [6 2 5 5 7]\n",
            " [4 4 7 7 6]] \n",
            "\n",
            " [[4 2 3 5 5]\n",
            " [4 4 4 5 6]\n",
            " [6 4 5 7 7]\n",
            " [6 5 7 7 7]]\n"
          ]
        }
      ],
      "source": [
        "#Definimos  matriz\n",
        "matriz_binom  = np.random.binomial(10, .5, size= (4,5))\n",
        "\n",
        "#Matriz ordenada\n",
        "matriz_sort = np.sort(matriz_binom, axis = 0)\n",
        "\n",
        "print(matriz_binom, 2*\"\\n\", matriz_sort)\n"
      ]
    },
    {
      "cell_type": "markdown",
      "metadata": {
        "id": "luKuGgvYHgPw"
      },
      "source": [
        "### **4.1.2 Funciones matemáticas y estadísticas para arreglos**\n",
        "\n",
        "Las funciones matemáticas y estadísticas para arreglos en Python son herramientas fundamentales que nos permiten realizar cálculos y análisis sobre conjuntos de datos de manera eficiente. Python, especialmente a través de bibliotecas como NumPy, proporciona una amplia gama de funciones predefinidas que simplifican el procesamiento de datos numéricos en arreglos.\n",
        "\n",
        "Estas funciones son especialmente útiles cuando trabajamos con grandes conjuntos de datos, ya que están optimizadas para operar sobre arreglos completos sin necesidad de escribir bucles explícitos. Esto no solo hace que nuestro código sea más limpio y legible, sino que también mejora significativamente el rendimiento de nuestras aplicaciones.\n",
        "\n",
        "Entre las operaciones más comunes que podemos realizar encontramos:\n",
        "\n",
        "* Cálculos básicos como suma, resta, multiplicación y división de arreglos\n",
        "* Funciones estadísticas como media, mediana, moda y desviación estándar\n",
        "* Operaciones de agregación y reducción\n",
        "* Transformaciones matemáticas como exponenciales, logaritmos y funciones trigonométricas\n",
        "\n"
      ]
    },
    {
      "cell_type": "markdown",
      "metadata": {
        "id": "CYtUPbYaHgPx"
      },
      "source": [
        "#### **4.1.2.1 Operaciones básicas entre arreglos**\n",
        "\n",
        "Numpy ofrece una amplía variedad de funciones que realizan operaciones matemáticas aplicables a arreglos. En la siguiente tabla se presentan algunas operaciones entre arreglos:\n",
        "\n",
        "| Operación | Sintáxis | Descripción de la acción |\n",
        "|-----------|---------------------------|------------------------|\n",
        "| **Suma** | `x + y` o `np.add(x, y)` | Suma elemento por elemento de los arrays |\n",
        "| **Resta** | `x - y` o `np.subtract(x, y)` | Resta elemento por elemento de los arrays |\n",
        "| **Multiplicación** | `x * y` o `np.multiply(x, y)` | Multiplica elemento por elemento |\n",
        "| **División** | `x / y` o `np.divide(x, y)` | Divide elemento por elemento |\n",
        "| **Potencia** | `x ** 2` o `np.square(x)` | Eleva cada elemento a una potencia |\n",
        "\n",
        "Para operar entre arreglo se tienen que cumplir  algunas reglas parecidas a las que se aplican para operar entre vectores y matrices en álgebra lineal, pero para los arreglos son más flexibles. A esta operación entre arreglos se le conoce como  ***broadcasting***.\n",
        "\n",
        "**Caso 1: Array 1D con escalar**"
      ]
    },
    {
      "cell_type": "code",
      "execution_count": null,
      "metadata": {
        "id": "3QikLWpcHgPx",
        "outputId": "5c11af7d-d551-4c3f-b70d-c0a7a67808aa"
      },
      "outputs": [
        {
          "name": "stdout",
          "output_type": "stream",
          "text": [
            "[ 7 14  9]\n",
            "[12 40 20]\n"
          ]
        }
      ],
      "source": [
        "#Arreglos y escalar\n",
        "import numpy as np\n",
        "a = np.array([3, 10,5])           # 1D array (3,)\n",
        "b = 4\n",
        "\n",
        "print(np.add(a,b))\n",
        "print(np.multiply(a,b))"
      ]
    },
    {
      "cell_type": "markdown",
      "metadata": {
        "id": "eyr3dPhdHgPx"
      },
      "source": [
        "**Caso 2: Array 1D con Array de 1D**"
      ]
    },
    {
      "cell_type": "code",
      "execution_count": null,
      "metadata": {
        "id": "HTY-U4ZUHgPx",
        "outputId": "b3d1efb1-9146-4186-fdb2-5e453132ed68"
      },
      "outputs": [
        {
          "name": "stdout",
          "output_type": "stream",
          "text": [
            "[ 4 11  6] \n",
            "\n",
            "[ 3 10  5]\n"
          ]
        }
      ],
      "source": [
        "#Arreglos de\n",
        "a = np.array([3, 10,5])           # 1D array (3,)\n",
        "c = np.array([1, 1, 1])\n",
        "\n",
        "print(np.add(a,c), '\\n')\n",
        "print(np.multiply(a,c))"
      ]
    },
    {
      "cell_type": "markdown",
      "metadata": {
        "id": "cY3VwqEjHgPy"
      },
      "source": [
        "**Caso 3: Array 1D con Array de 2D**"
      ]
    },
    {
      "cell_type": "code",
      "execution_count": null,
      "metadata": {
        "id": "MFCRII38HgPy",
        "outputId": "80e2192e-6c23-45c0-9b96-56abf3b20a0c"
      },
      "outputs": [
        {
          "name": "stdout",
          "output_type": "stream",
          "text": [
            "[[ 4 12  8]\n",
            " [ 7 15 11]] \n",
            "\n",
            "[[ 3 20 15]\n",
            " [12 50 30]]\n"
          ]
        }
      ],
      "source": [
        "a_arr2d = np.array([[1, 2, 3],\n",
        "                  [4, 5, 6]])\n",
        "\n",
        "print(np.add(a, a_arr2d), '\\n')\n",
        "print(np.multiply(a,a_arr2d))"
      ]
    },
    {
      "cell_type": "markdown",
      "metadata": {
        "id": "lTkdAiu3HgPy"
      },
      "source": [
        "**Caso 4: Array 2D con Array de 2D**"
      ]
    },
    {
      "cell_type": "code",
      "execution_count": null,
      "metadata": {
        "id": "ySLVHf0eHgPy",
        "outputId": "4b632b99-6a58-4ed7-9527-22bc0213443c"
      },
      "outputs": [
        {
          "name": "stdout",
          "output_type": "stream",
          "text": [
            "[[11 36 48]\n",
            " [19 26 38]] \n",
            "\n",
            "[[ 10  68 135]\n",
            " [ 60 105 192]]\n"
          ]
        }
      ],
      "source": [
        "b_arr2d = np.array([[10, 34, 45],\n",
        "                    [15, 21, 32]])\n",
        "\n",
        "print(np.add(a_arr2d, b_arr2d), '\\n')\n",
        "\n",
        "print(np.multiply(a_arr2d, b_arr2d))"
      ]
    },
    {
      "cell_type": "markdown",
      "metadata": {
        "id": "7xI8zSJ-HgPy"
      },
      "source": [
        "**Casos 5: No válidos**\n",
        "\n",
        "Para que se pueda realizar la operación entre arreglos se tiene que cumplir :\n",
        "\n",
        "* Igualdad en el tamaño del arreglo\n",
        "* Uno de ellos sea n = 1\n",
        "* Uno de ellos no existe\n",
        "\n",
        "Ejemplo de operación no válida :\n"
      ]
    },
    {
      "cell_type": "code",
      "execution_count": null,
      "metadata": {
        "id": "psFRiUwgHgPz",
        "outputId": "e42ea73e-a2ff-4688-932d-70c2a1e3a53a"
      },
      "outputs": [
        {
          "ename": "ValueError",
          "evalue": "operands could not be broadcast together with shapes (3,) (1,4) ",
          "output_type": "error",
          "traceback": [
            "\u001b[1;31m---------------------------------------------------------------------------\u001b[0m",
            "\u001b[1;31mValueError\u001b[0m                                Traceback (most recent call last)",
            "Cell \u001b[1;32mIn[8], line 5\u001b[0m\n\u001b[0;32m      2\u001b[0m a \u001b[38;5;241m=\u001b[39m np\u001b[38;5;241m.\u001b[39marray([\u001b[38;5;241m1\u001b[39m, \u001b[38;5;241m2\u001b[39m, \u001b[38;5;241m3\u001b[39m])           \u001b[38;5;66;03m# (1,)\u001b[39;00m\n\u001b[0;32m      3\u001b[0m b \u001b[38;5;241m=\u001b[39m np\u001b[38;5;241m.\u001b[39marray([[\u001b[38;5;241m1\u001b[39m, \u001b[38;5;241m2\u001b[39m , \u001b[38;5;241m3\u001b[39m, \u001b[38;5;241m4\u001b[39m]])    \u001b[38;5;66;03m# (4,)\u001b[39;00m\n\u001b[1;32m----> 5\u001b[0m \u001b[38;5;28mprint\u001b[39m(\u001b[43mnp\u001b[49m\u001b[38;5;241;43m.\u001b[39;49m\u001b[43madd\u001b[49m\u001b[43m(\u001b[49m\u001b[43ma\u001b[49m\u001b[43m,\u001b[49m\u001b[43m \u001b[49m\u001b[43mb\u001b[49m\u001b[43m)\u001b[49m, \u001b[38;5;124m'\u001b[39m\u001b[38;5;130;01m\\n\u001b[39;00m\u001b[38;5;124m'\u001b[39m) \n\u001b[0;32m      7\u001b[0m \u001b[38;5;28mprint\u001b[39m(np\u001b[38;5;241m.\u001b[39mmultiply(a, b))\n",
            "\u001b[1;31mValueError\u001b[0m: operands could not be broadcast together with shapes (3,) (1,4) "
          ]
        }
      ],
      "source": [
        "a = np.array([1, 2, 3])           # (1,)\n",
        "b = np.array([[1, 2 , 3, 4]])    # (4,)\n",
        "\n",
        "print(np.add(a, b), '\\n')\n",
        "\n",
        "print(np.multiply(a, b))"
      ]
    },
    {
      "cell_type": "markdown",
      "metadata": {
        "id": "VVRISJLcHgPz"
      },
      "source": [
        "Como buena práctica se puede utilizar la combinación de las funciones `shape` y `np.broadcast_shapes()` par veririficar si es posible operar diferentes arreglos:\n",
        "\n",
        "**Sintáxis**\n",
        " ```Python\n",
        "    np.broadcast_shapes(shape(array1), shape(array2))\n",
        " ```\n",
        "Ejemplo:"
      ]
    },
    {
      "cell_type": "code",
      "execution_count": null,
      "metadata": {
        "id": "Yl7RKuYCHgPz",
        "outputId": "0ac2266f-5f6b-4a3f-8cfc-be0b866bcb87"
      },
      "outputs": [
        {
          "ename": "ValueError",
          "evalue": "shape mismatch: objects cannot be broadcast to a single shape.  Mismatch is between arg 0 with shape (3,) and arg 1 with shape (1, 4).",
          "output_type": "error",
          "traceback": [
            "\u001b[1;31m---------------------------------------------------------------------------\u001b[0m",
            "\u001b[1;31mValueError\u001b[0m                                Traceback (most recent call last)",
            "Cell \u001b[1;32mIn[10], line 6\u001b[0m\n\u001b[0;32m      2\u001b[0m a \u001b[38;5;241m=\u001b[39m np\u001b[38;5;241m.\u001b[39marray([\u001b[38;5;241m1\u001b[39m, \u001b[38;5;241m2\u001b[39m, \u001b[38;5;241m3\u001b[39m])           \u001b[38;5;66;03m# (1,)\u001b[39;00m\n\u001b[0;32m      4\u001b[0m b \u001b[38;5;241m=\u001b[39m np\u001b[38;5;241m.\u001b[39marray([[\u001b[38;5;241m4\u001b[39m,\u001b[38;5;241m5\u001b[39m,\u001b[38;5;241m3\u001b[39m,\u001b[38;5;241m5\u001b[39m]])    \u001b[38;5;66;03m# (4,)\u001b[39;00m\n\u001b[1;32m----> 6\u001b[0m \u001b[43mnp\u001b[49m\u001b[38;5;241;43m.\u001b[39;49m\u001b[43mbroadcast_shapes\u001b[49m\u001b[43m(\u001b[49m\u001b[43ma\u001b[49m\u001b[38;5;241;43m.\u001b[39;49m\u001b[43mshape\u001b[49m\u001b[43m,\u001b[49m\u001b[43m \u001b[49m\u001b[43mb\u001b[49m\u001b[38;5;241;43m.\u001b[39;49m\u001b[43mshape\u001b[49m\u001b[43m)\u001b[49m\n",
            "File \u001b[1;32mc:\\Users\\Diego\\AppData\\Local\\Programs\\Python\\Python312\\Lib\\site-packages\\numpy\\lib\\_stride_tricks_impl.py:482\u001b[0m, in \u001b[0;36mbroadcast_shapes\u001b[1;34m(*args)\u001b[0m\n\u001b[0;32m    444\u001b[0m \u001b[38;5;250m\u001b[39m\u001b[38;5;124;03m\"\"\"\u001b[39;00m\n\u001b[0;32m    445\u001b[0m \u001b[38;5;124;03mBroadcast the input shapes into a single shape.\u001b[39;00m\n\u001b[0;32m    446\u001b[0m \n\u001b[1;32m   (...)\u001b[0m\n\u001b[0;32m    479\u001b[0m \u001b[38;5;124;03m(5, 6, 7)\u001b[39;00m\n\u001b[0;32m    480\u001b[0m \u001b[38;5;124;03m\"\"\"\u001b[39;00m\n\u001b[0;32m    481\u001b[0m arrays \u001b[38;5;241m=\u001b[39m [np\u001b[38;5;241m.\u001b[39mempty(x, dtype\u001b[38;5;241m=\u001b[39m[]) \u001b[38;5;28;01mfor\u001b[39;00m x \u001b[38;5;129;01min\u001b[39;00m args]\n\u001b[1;32m--> 482\u001b[0m \u001b[38;5;28;01mreturn\u001b[39;00m \u001b[43m_broadcast_shape\u001b[49m\u001b[43m(\u001b[49m\u001b[38;5;241;43m*\u001b[39;49m\u001b[43marrays\u001b[49m\u001b[43m)\u001b[49m\n",
            "File \u001b[1;32mc:\\Users\\Diego\\AppData\\Local\\Programs\\Python\\Python312\\Lib\\site-packages\\numpy\\lib\\_stride_tricks_impl.py:431\u001b[0m, in \u001b[0;36m_broadcast_shape\u001b[1;34m(*args)\u001b[0m\n\u001b[0;32m    426\u001b[0m \u001b[38;5;250m\u001b[39m\u001b[38;5;124;03m\"\"\"Returns the shape of the arrays that would result from broadcasting the\u001b[39;00m\n\u001b[0;32m    427\u001b[0m \u001b[38;5;124;03msupplied arrays against each other.\u001b[39;00m\n\u001b[0;32m    428\u001b[0m \u001b[38;5;124;03m\"\"\"\u001b[39;00m\n\u001b[0;32m    429\u001b[0m \u001b[38;5;66;03m# use the old-iterator because np.nditer does not handle size 0 arrays\u001b[39;00m\n\u001b[0;32m    430\u001b[0m \u001b[38;5;66;03m# consistently\u001b[39;00m\n\u001b[1;32m--> 431\u001b[0m b \u001b[38;5;241m=\u001b[39m \u001b[43mnp\u001b[49m\u001b[38;5;241;43m.\u001b[39;49m\u001b[43mbroadcast\u001b[49m\u001b[43m(\u001b[49m\u001b[38;5;241;43m*\u001b[39;49m\u001b[43margs\u001b[49m\u001b[43m[\u001b[49m\u001b[43m:\u001b[49m\u001b[38;5;241;43m32\u001b[39;49m\u001b[43m]\u001b[49m\u001b[43m)\u001b[49m\n\u001b[0;32m    432\u001b[0m \u001b[38;5;66;03m# unfortunately, it cannot handle 32 or more arguments directly\u001b[39;00m\n\u001b[0;32m    433\u001b[0m \u001b[38;5;28;01mfor\u001b[39;00m pos \u001b[38;5;129;01min\u001b[39;00m \u001b[38;5;28mrange\u001b[39m(\u001b[38;5;241m32\u001b[39m, \u001b[38;5;28mlen\u001b[39m(args), \u001b[38;5;241m31\u001b[39m):\n\u001b[0;32m    434\u001b[0m     \u001b[38;5;66;03m# ironically, np.broadcast does not properly handle np.broadcast\u001b[39;00m\n\u001b[0;32m    435\u001b[0m     \u001b[38;5;66;03m# objects (it treats them as scalars)\u001b[39;00m\n\u001b[0;32m    436\u001b[0m     \u001b[38;5;66;03m# use broadcasting to avoid allocating the full array\u001b[39;00m\n",
            "\u001b[1;31mValueError\u001b[0m: shape mismatch: objects cannot be broadcast to a single shape.  Mismatch is between arg 0 with shape (3,) and arg 1 with shape (1, 4)."
          ]
        }
      ],
      "source": [
        "#Verificar si es posible el broadcast\n",
        "a = np.array([1, 2, 3])           # (1,)\n",
        "\n",
        "b = np.array([[4,5,3,5]])    # (4,)\n",
        "\n",
        "#Verificar\n",
        "np.broadcast_shapes(a.shape, b.shape)"
      ]
    },
    {
      "cell_type": "code",
      "execution_count": null,
      "metadata": {
        "id": "GYhsXIQOHgPz",
        "outputId": "d0e641c5-85b3-41e8-8f66-58215c84dc6c"
      },
      "outputs": [
        {
          "name": "stdout",
          "output_type": "stream",
          "text": [
            "(1, 3)\n"
          ]
        }
      ],
      "source": [
        "#Verificar si es posible el broadcast\n",
        "a = np.array([1,2,3])           # (1,)\n",
        "c = np.array([4,4,3])\n",
        "\n",
        "\n",
        "print(np.broadcast_shapes(a.shape, c.shape))"
      ]
    },
    {
      "cell_type": "markdown",
      "metadata": {
        "id": "6q579IhcHgPz"
      },
      "source": [
        "#### **4.1.2.2 Funciones matemáticas básicas aplicadas a arreglos**\n",
        "\n",
        "Numpy tiene funciones que se pueden aplicar a cada elemento de un arreglo o bien hacer una operación con todos los elementos del arreglo.\n",
        "\n",
        "\n",
        "\n",
        "| Operación | Sintáxis | Descripción de la acción |\n",
        "|-----------|---------------------------|------------------------|\n",
        "| **Raíz Cuadrada** | `np.sqrt(x)` | Calcula raíz cuadrada de cada elemento |\n",
        "| **Exponencial** | `np.exp(x)` | Calcula e elevado a cada elemento |\n",
        "| **Logaritmo** | `np.log(x)` | Calcula logaritmo natural de cada elemento |\n",
        "| **Valor Absoluto** | `np.abs(x)` | Obtiene valor absoluto de cada elemento |\n",
        "| **Redondeo** | `np.round(x)` | Redondea cada elemento al entero más cercano |\n",
        "| **Suma Total** | `np.sum(x)` | Suma todos los elementos del array |\n",
        "| **Máximo** | `np.max(x)` | Encuentra el valor máximo del array |\n",
        "| **Mínimo** | `np.min(x)` | Encuentra el valor mínimo del array |\n",
        "| **Producto** | `np.prod(x)` | Multiplica todos los elementos |\n",
        "| **Acumulado** | `np.cumsum(x)` | Suma acumulativa de elementos |\n",
        "| **Producto Acumulado** | `np.cumprod(x)` | Producto acumulativo de elementos |\n",
        "| **Ordenar** | `np.sort(x)` | Ordena los elementos del array |\n",
        "\n",
        "\n",
        "\n",
        "Como  ejemplo se utilizan las funciones `np.sqrt()` para calcular la raiz cuadrada de cada elementos o utilizar `np.log()` para calcular el logaritmo natural de cada elemento:\n"
      ]
    },
    {
      "cell_type": "code",
      "execution_count": null,
      "metadata": {
        "id": "3iGU6NHNHgP0",
        "outputId": "24f006c9-1189-4cb1-a1f1-8675dd1abe8a"
      },
      "outputs": [
        {
          "name": "stdout",
          "output_type": "stream",
          "text": [
            "[54.77225575 59.16079783 63.2455532  67.08203932 70.71067812 74.16198487\n",
            " 52.91502622 56.56854249 60.        ]\n",
            "[8.00636757 8.16051825 8.29404964 8.41183268 8.51719319 8.61250337\n",
            " 7.9373747  8.07090609 8.18868912]\n"
          ]
        }
      ],
      "source": [
        "#Definir arreglo\n",
        "salarios_empre = np.array([3000, 3500, 4000 , 4500, 5000, 5500, 2800, 3200, 3600])\n",
        "#Aplicar raíz cuadrada\n",
        "sqrt_salarios = np.sqrt(salarios_empre)\n",
        "print(sqrt_salarios)\n",
        "\n",
        "#Aplicar logarítmo\n",
        "ln_salarios = np.log(salarios_empre)\n",
        "print(ln_salarios)\n"
      ]
    },
    {
      "cell_type": "markdown",
      "metadata": {
        "id": "Oa5nANh6HgP0"
      },
      "source": [
        "Como ejemplo de funciones que operan todos los elemenots de un arreglo se tiene la suma acumulada (`np.cumsum()`) o un producto acumulado  (`np.cumprod()`)\n",
        "\n",
        "* Ejemplo con arreglo de dos dimensiones:"
      ]
    },
    {
      "cell_type": "code",
      "execution_count": null,
      "metadata": {
        "id": "QwUfCNEVHgP0",
        "outputId": "d3bf3151-8abf-4c7d-d34d-ce580b24db05"
      },
      "outputs": [
        {
          "name": "stdout",
          "output_type": "stream",
          "text": [
            "[[ 3000  6500 10500]\n",
            " [ 4500  9500 15000]\n",
            " [ 2800  6000  9600]]\n",
            "\n",
            " [[ 3000  3500  4000]\n",
            " [ 7500  8500  9500]\n",
            " [10300 11700 13100]]\n"
          ]
        }
      ],
      "source": [
        "salarios_departamentos = np.array([#Enlace #Jefe #Subdi\n",
        "                                   [3000,  3500,  4000],  # Departamento 1\n",
        "                                   [4500,  5000,  5500],  # Departamento 2\n",
        "                                   [2800,  3200,  3600]   # Departamento 3\n",
        "                                  ])\n",
        "\n",
        "#Suma acum por departamento\n",
        "suma_acum = np.cumsum(salarios_departamentos, axis=1) #axis = 1 filas\n",
        "print(f\"{suma_acum}\")\n",
        "\n",
        "#Sum acum por posición\n",
        "suma_acum_pos =  np.cumsum(salarios_departamentos, axis=0) #axis = 0 columnas\n",
        "print(f\"\\n {suma_acum_pos}\")\n"
      ]
    },
    {
      "cell_type": "markdown",
      "metadata": {
        "id": "HFfouGNoHgP0"
      },
      "source": [
        "#### **4.1.2.3 Funciones de estadística descriptiva aplicadas a arreglos**\n",
        "\n",
        "Numpy también ofrece una serie de funciones para calcular estadística descriptiva a los arreglos o conjunto de arreglos.\n",
        "\n",
        "| Operación | Sintáxis | Descripción de la operación |\n",
        "|-----------|----------|-------------|\n",
        "| Suma | `sum(x), nansum(x)` | Suma de los elementos de x (nansum(x) no toma en cuenta valores NaN) |\n",
        "| Media | `mean(x), nanmean() `| Promedio de x |\n",
        "| Mediana | `median(x), nanmedian()` | Mediana de x |\n",
        "| Promedio ponderado | `average(x)` | Promedio de x (posibilidad de usar pesos con el argumento weight) |\n",
        "| Mínimo | `min(x), nanmin()` | Valor mínimo de x |\n",
        "| Máximo | `max(x), nanmax()` | Valor máximo de x |\n",
        "| Percentil | ``percentile(x,p), nanpercentile(n,p)`` | Percentil P de x |\n",
        "| Varianza | ``var(x), nanvar(x)`` | Varianza de x |\n",
        "| Desviación estándar | `std(x), nanstd()` | Desviación estándar de x |\n",
        "| Covarianza | `cov(x)` | Covarianza de x |\n",
        "| Coeficiente de correlación | `corrcoef(x)` | Coeficiente de correlación |\n",
        "| Moda | `mode(x) `| Valor más frecuente en x |\n",
        "| Asimetría | `skew(x)` | Medida de asimetría de la distribución |\n",
        "| Curtosis | `kurtosis(x) `| Medida de la forma de la distribución |\n",
        "| Rango intercuartil | `iqr(x)` | Diferencia entre Q3 y Q1 |\n"
      ]
    },
    {
      "cell_type": "code",
      "execution_count": 42,
      "metadata": {
        "id": "AviSiyZeHgP0",
        "outputId": "71a91013-ce91-4be8-ee8e-b11f0679e67c",
        "colab": {
          "base_uri": "https://localhost:8080/"
        }
      },
      "outputs": [
        {
          "output_type": "stream",
          "name": "stdout",
          "text": [
            "Estadísticas de salarios en la empresa:\n",
            "Media: $3900.00\n",
            "Mediana: $3600.00\n",
            "Desviación estándar: $875.60\n",
            "Mínimo: $2800\n",
            "Máximo: $5500\n"
          ]
        }
      ],
      "source": [
        "#Continuamos con arreglo de salarios\n",
        "\n",
        "salarios_empre = np.array([3000, 3500, 4000, 4500, 5000, 5500, 2800, 3200, 3600])\n",
        "\n",
        "# Estadísticas básicas\n",
        "print(\"Estadísticas de salarios en la empresa:\")\n",
        "print(f\"Media: ${np.mean(salarios_empre):.2f}\")\n",
        "print(f\"Mediana: ${np.median(salarios_empre):.2f}\")\n",
        "print(f\"Desviación estándar: ${np.std(salarios_empre):.2f}\")\n",
        "print(f\"Mínimo: ${np.min(salarios_empre)}\")\n",
        "print(f\"Máximo: ${np.max(salarios_empre)}\")\n",
        "\n",
        "\n",
        "\n"
      ]
    },
    {
      "cell_type": "code",
      "source": [
        "# Percentiles\n",
        "print(\"\\nPercentiles:\")\n",
        "print(f\"25% (Q1): ${np.percentile(salarios_empre, 25):.2f}\")\n",
        "print(f\"75% (Q3): ${np.percentile(salarios_empre, 75):.2f}\")\n"
      ],
      "metadata": {
        "id": "YDhzHpLwECi-",
        "outputId": "18ea3d29-42d4-4a37-e7b6-3eafb60e2f52",
        "colab": {
          "base_uri": "https://localhost:8080/"
        }
      },
      "execution_count": 43,
      "outputs": [
        {
          "output_type": "stream",
          "name": "stdout",
          "text": [
            "\n",
            "Percentiles:\n",
            "25% (Q1): $3200.00\n",
            "75% (Q3): $4500.00\n"
          ]
        }
      ]
    },
    {
      "cell_type": "code",
      "source": [
        "# Rango intercuartil\n",
        "q75, q25 = np.percentile(salarios_empre, [75, 25])\n",
        "iqr = q75 - q25\n",
        "print(f\"Rango intercuartil: ${iqr:.2f}\")\n",
        "\n",
        "# Varianza\n",
        "print(f\"\\nVarianza: ${np.std(salarios_empre):.2f}\")"
      ],
      "metadata": {
        "id": "yNdNTi4FEGej",
        "outputId": "5a6bf246-6a1e-4112-ee42-2c56a52b3610",
        "colab": {
          "base_uri": "https://localhost:8080/"
        }
      },
      "execution_count": 44,
      "outputs": [
        {
          "output_type": "stream",
          "name": "stdout",
          "text": [
            "Rango intercuartil: $1300.00\n",
            "\n",
            "Varianza: $875.60\n"
          ]
        }
      ]
    },
    {
      "cell_type": "markdown",
      "metadata": {
        "id": "LLOfyRTCHgP0"
      },
      "source": [
        "* Ejemplo de cálculo de covarianza con la función `np.cov`:\n",
        "\n",
        "   * Suponemos que también tenemos los años de experiencia de los empleados"
      ]
    },
    {
      "cell_type": "code",
      "execution_count": null,
      "metadata": {
        "id": "sxfwpym3HgP1",
        "outputId": "73c8e8fe-0396-431d-88f7-660edda77fbb"
      },
      "outputs": [
        {
          "name": "stdout",
          "output_type": "stream",
          "text": [
            "\n",
            "Matriz de varianzas y covarianzas entre salarios y años de experiencia:\n",
            "[[8.625e+05 1.850e+03]\n",
            " [1.850e+03 4.000e+00]]\n"
          ]
        }
      ],
      "source": [
        "#Definir areglo de años de experiencia\n",
        "anos_experiencia = np.array([2, 3, 4, 5, 6, 7, 1, 2, 3])\n",
        "\n",
        "# Calculamos la covarianza entre salarios y años de experiencia\n",
        "covarianza = np.cov(salarios_empre, anos_experiencia)\n",
        "print(\"\\nMatriz de varianzas y covarianzas entre salarios y años de experiencia:\")\n",
        "print(covarianza)"
      ]
    },
    {
      "cell_type": "markdown",
      "metadata": {
        "id": "C-tm72dGHgP1"
      },
      "source": [
        "* Ejemplo de cálculo de correlación entre salarios y años de experiencia utilizando la función `np.corrcoef()`:"
      ]
    },
    {
      "cell_type": "code",
      "execution_count": null,
      "metadata": {
        "id": "ntOWiZ2VHgP1",
        "outputId": "55dfae21-95c3-4076-b2e3-7868befda146"
      },
      "outputs": [
        {
          "name": "stdout",
          "output_type": "stream",
          "text": [
            "\n",
            "Coeficiente de correlación: 0.9960\n"
          ]
        }
      ],
      "source": [
        "# Coeficiente de correlación\n",
        "correlacion = np.corrcoef(salarios_empre, anos_experiencia)\n",
        "print(f\"\\nCoeficiente de correlación: {correlacion[0,1]:.4f}\")"
      ]
    },
    {
      "cell_type": "markdown",
      "metadata": {
        "id": "gMfIWL3THgP1"
      },
      "source": [
        "\n",
        "> **Nota**: Los valores `np.nan` representan valores faltantes o indefinidos en datos numéricos, los cuales pueden contaminar los resultados.\n",
        "> Para ignorar éstos se pueden utilizar las funciones `np.nanmean()`, `np.nanmedian()`, `np.nansum()`,etc.\n",
        ">\n",
        ">  * A continuación se presentan ejemplos con funciones que ignoran los valores `nan`:"
      ]
    },
    {
      "cell_type": "markdown",
      "metadata": {
        "id": "jrhq2vlHHgP1"
      },
      "source": [
        ">"
      ]
    },
    {
      "cell_type": "code",
      "execution_count": null,
      "metadata": {
        "id": "xeBPyqJ6HgP2",
        "outputId": "a1015a36-a439-45e2-97ec-b21e14fa0a56"
      },
      "outputs": [
        {
          "name": "stdout",
          "output_type": "stream",
          "text": [
            "La media de salarios es nan, e ignorando los valores nan es 3950.0\n",
            "La mediana de salarios es nan, e ignorando los valores nan es 3800.0\n"
          ]
        }
      ],
      "source": [
        "#Definir arreglo con nanS:\n",
        "salarios_empre_nan = np.array([3000, np.nan, 4000, 4500, 5000, np.nan ,5500, 2800, 3200, 3600])\n",
        "\n",
        "#Aplicar mean para ignorar nans:\n",
        "print( f'La media de salarios es {np.mean(salarios_empre_nan)}, e ignorando los valores nan es {np.nanmean(salarios_empre_nan)}' )\n",
        "\n"
      ]
    },
    {
      "cell_type": "code",
      "source": [
        "\n",
        "print( f'La mediana de salarios es {np.median(salarios_empre_nan)}, e ignorando los valores nan es {np.nanmedian(salarios_empre_nan)}' )"
      ],
      "metadata": {
        "id": "VsL8hThHELwE",
        "outputId": "621aa43a-107b-4546-e03b-c1bec2d4f591",
        "colab": {
          "base_uri": "https://localhost:8080/"
        }
      },
      "execution_count": 45,
      "outputs": [
        {
          "output_type": "stream",
          "name": "stdout",
          "text": [
            "La mediana de salarios es nan, e ignorando los valores nan es 3800.0\n"
          ]
        }
      ]
    },
    {
      "cell_type": "markdown",
      "source": [
        "- **Identificar y eliminar valors nulos**"
      ],
      "metadata": {
        "id": "EuzaTweREOce"
      }
    },
    {
      "cell_type": "code",
      "source": [
        "#Identificar nulos\n",
        "salarios_empre_nan = np.array([3000, np.nan, 4000, 4500, 5000, np.nan, 5500, 2800, 3200, 3600])\n",
        "print(np.isnan(salarios_empre_nan))"
      ],
      "metadata": {
        "id": "FnRnji-NEWR1",
        "outputId": "89e445e5-ec67-4567-a639-d55b31b2026c",
        "colab": {
          "base_uri": "https://localhost:8080/"
        }
      },
      "execution_count": 46,
      "outputs": [
        {
          "output_type": "stream",
          "name": "stdout",
          "text": [
            "[False  True False False False  True False False False False]\n"
          ]
        }
      ]
    },
    {
      "cell_type": "code",
      "source": [
        "#Eliminar\n",
        "salarios_sin_nan = salarios_empre_nan[~np.isnan(salarios_empre_nan)]\n",
        "print(salarios_sin_nan)"
      ],
      "metadata": {
        "id": "AMb4P0AdESYF",
        "outputId": "cb4696b2-bf52-4c6a-b60c-9ece030c06b7",
        "colab": {
          "base_uri": "https://localhost:8080/"
        }
      },
      "execution_count": 47,
      "outputs": [
        {
          "output_type": "stream",
          "name": "stdout",
          "text": [
            "[3000. 4000. 4500. 5000. 5500. 2800. 3200. 3600.]\n"
          ]
        }
      ]
    },
    {
      "cell_type": "markdown",
      "source": [
        "#### Reemplazo de valores condicionalmente\n",
        "\n",
        "Para el reemplazo de valores utilizamos la función `np.where`\n",
        "\n",
        "Sintáxis\n",
        "\n",
        "```Python\n",
        "np.where(condición, True, False)\n",
        "```\n",
        "\n"
      ],
      "metadata": {
        "id": "y0z1Cn8EEmpo"
      }
    },
    {
      "cell_type": "code",
      "source": [
        "# Reemplazamos NaN por 0\n",
        "print(salarios_empre_nan)\n",
        "salarios_con_0 = np.where(np.isnan(salarios_empre_nan), 0, salarios_empre_nan)\n",
        "\n",
        "print(salarios_con_0 )"
      ],
      "metadata": {
        "id": "ILyukrXTE7Re",
        "outputId": "de8fd983-53af-44c1-af74-0c592b8deebd",
        "colab": {
          "base_uri": "https://localhost:8080/"
        }
      },
      "execution_count": 49,
      "outputs": [
        {
          "output_type": "stream",
          "name": "stdout",
          "text": [
            "[3000.   nan 4000. 4500. 5000.   nan 5500. 2800. 3200. 3600.]\n",
            "[3000.    0. 4000. 4500. 5000.    0. 5500. 2800. 3200. 3600.]\n"
          ]
        }
      ]
    }
  ],
  "metadata": {
    "kernelspec": {
      "display_name": "Python 3",
      "language": "python",
      "name": "python3"
    },
    "language_info": {
      "codemirror_mode": {
        "name": "ipython",
        "version": 3
      },
      "file_extension": ".py",
      "mimetype": "text/x-python",
      "name": "python",
      "nbconvert_exporter": "python",
      "pygments_lexer": "ipython3",
      "version": "3.12.1"
    },
    "colab": {
      "provenance": [],
      "include_colab_link": true
    }
  },
  "nbformat": 4,
  "nbformat_minor": 0
}