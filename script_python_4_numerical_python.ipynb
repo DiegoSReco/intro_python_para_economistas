{
 "cells": [
  {
   "cell_type": "markdown",
   "metadata": {},
   "source": [
    "# **4. Introducción a `numpy`**\n",
    "\n",
    "`Numpy` (o *Numerical Python*) es uno de los modulos más importantes en Python, ya que muchos otros sistemas o modulos utilizan  arreglos de N-dimensiones  (`ndarray`) los cuales son la estrcutura de datos proncipal en este paquete. Además, este tipo de estrucutras son la base para casi todos los ecosistemas de computación científica en Python como son los modulos de procesamiento de datos, áljebra lineal, modelos estadísticos, machine learning y deep learning. \n"
   ]
  },
  {
   "cell_type": "markdown",
   "metadata": {},
   "source": [
    "## **4.1 Arreglos en `numpy`**\n",
    "\n",
    "Los arreglos son estructuras de datos conformadas por una o multiples listas con valores homogéneos que permiten realizar operaciones matemáticas y estadísticas eficientemente. \n",
    "\n",
    "Para definir un arreglo debemos tener importar el modulo numpy de la siguiente forma:"
   ]
  },
  {
   "cell_type": "code",
   "execution_count": 3,
   "metadata": {},
   "outputs": [],
   "source": [
    "import numpy as np"
   ]
  },
  {
   "cell_type": "markdown",
   "metadata": {},
   "source": [
    "El modulo`numpy` se define con la palabra clave `np`. \n",
    "\n",
    "**Sintáxis**\n",
    "\n",
    "Para definir un arregalo utilizaremos la función `array()` con la palabra clave :\n",
    "```Python \n",
    "np.array(lista)\n",
    "```\n",
    "\n",
    "Lo anterior de define como arreglo de una , pero se puede tener tener arreglos de dos dimensiones:\n",
    "\n",
    "```Python \n",
    "np.array([lista_1, lista_2, lista_3,...,lista_n])\n",
    "```\n",
    "\n",
    "Los arreglos de dos dimensiones se consideran **matrices** y son gran utilidad para la construcción de modelos estadísticos que utilicen vectores y matrices para su construcción\n",
    "\n",
    "Ejemplos de definición de arreglos:\n",
    "\n",
    "* Arreglo de una dimensión"
   ]
  },
  {
   "cell_type": "code",
   "execution_count": 5,
   "metadata": {},
   "outputs": [
    {
     "name": "stdout",
     "output_type": "stream",
     "text": [
      "[ 100  404  404   55   44   55  150  700 1000   38] <class 'numpy.ndarray'>\n"
     ]
    }
   ],
   "source": [
    "#Definir arreglo \n",
    "array_1 = np.array( [100, 404, 404, 55, 44, 55, 150, 700, 1000, 38])\n",
    "#Imprimir\n",
    "print(array_1, type(array_1))"
   ]
  },
  {
   "cell_type": "markdown",
   "metadata": {},
   "source": [
    "* Arreglo de dos dimensiones"
   ]
  },
  {
   "cell_type": "code",
   "execution_count": 6,
   "metadata": {},
   "outputs": [
    {
     "name": "stdout",
     "output_type": "stream",
     "text": [
      "[[ 3  4  4]\n",
      " [ 4 10 32]\n",
      " [24 33 43]]\n"
     ]
    }
   ],
   "source": [
    "#Crear arreglo\n",
    "array_2 = np.array([ [3,4,4] , \n",
    "                     [4,10,32],\n",
    "                     [24,33,43] ])\n",
    "\n",
    "print(array_2)"
   ]
  },
  {
   "cell_type": "markdown",
   "metadata": {},
   "source": [
    "Una de las características más importante de los arreglos es que sólo recibe **valores homogéneos** en las listas, y si no son homogéneos los transforma. Por ejemplo."
   ]
  },
  {
   "cell_type": "code",
   "execution_count": 7,
   "metadata": {},
   "outputs": [
    {
     "name": "stdout",
     "output_type": "stream",
     "text": [
      "[[ 1  0  1]\n",
      " [ 4 10 32]\n",
      " [24 33 43]]\n"
     ]
    }
   ],
   "source": [
    "#Crear arreglo\n",
    "array_3 = np.array([ [True,False, True] , \n",
    "                     [4,10,32],\n",
    "                     [24,33,43] ])\n",
    "\n",
    "\n",
    "print(array_3)"
   ]
  },
  {
   "cell_type": "markdown",
   "metadata": {},
   "source": [
    "### **4.1.1 Creación y manejo de arreglos**"
   ]
  },
  {
   "cell_type": "markdown",
   "metadata": {},
   "source": [
    "### **4.1.1.1 Creación de arreglos**\n",
    "En `numpy` existen una serie de funciones para crear arreglos que contengan ceros, unos, números generados de forma aleatoria, muestras a partir de distribuciones de probabilidad discretas y continuas, etc.\n",
    "\n",
    "1. Para crear arreglos con zeros se utiliza la función `np.zeros(shape)` , en donde el argumento será el tamaño del arreglo de ceros de una dimensión:\n"
   ]
  },
  {
   "cell_type": "code",
   "execution_count": 10,
   "metadata": {},
   "outputs": [
    {
     "name": "stdout",
     "output_type": "stream",
     "text": [
      "[0. 0. 0. 0. 0.]\n"
     ]
    }
   ],
   "source": [
    "#Crear arreglos de ceros 1D\n",
    "array_ceros_1d = np.zeros(5)\n",
    "\n",
    "print(array_ceros_1d)"
   ]
  },
  {
   "cell_type": "markdown",
   "metadata": {},
   "source": [
    "  * Para crear una matriz o arreglo de dos dimensiones:"
   ]
  },
  {
   "cell_type": "code",
   "execution_count": 11,
   "metadata": {},
   "outputs": [
    {
     "name": "stdout",
     "output_type": "stream",
     "text": [
      "[[0. 0. 0. 0. 0.]\n",
      " [0. 0. 0. 0. 0.]\n",
      " [0. 0. 0. 0. 0.]\n",
      " [0. 0. 0. 0. 0.]\n",
      " [0. 0. 0. 0. 0.]]\n"
     ]
    }
   ],
   "source": [
    "#Crear arreglos de ceros de 2D \n",
    "array_ceros_2d = np.zeros((5,5))\n",
    "\n",
    "print(array_ceros_2d)"
   ]
  },
  {
   "cell_type": "markdown",
   "metadata": {},
   "source": [
    "2. Para crear arreglos con el número uno se utiliza la función `np.ones(shape)` con la misma sintáxis que en la de los ceros:\n"
   ]
  },
  {
   "cell_type": "code",
   "execution_count": 12,
   "metadata": {},
   "outputs": [
    {
     "name": "stdout",
     "output_type": "stream",
     "text": [
      "[1. 1. 1. 1. 1.]\n",
      "[[1. 1. 1. 1. 1.]\n",
      " [1. 1. 1. 1. 1.]\n",
      " [1. 1. 1. 1. 1.]\n",
      " [1. 1. 1. 1. 1.]\n",
      " [1. 1. 1. 1. 1.]]\n"
     ]
    }
   ],
   "source": [
    "#Crear arreglos de unos 1D\n",
    "array_unos_1d = np.ones(5)\n",
    "\n",
    "print(array_unos_1d)\n",
    "\n",
    "#Crear arreglos de ceros de 2D \n",
    "array_unos_2d = np.ones((5,5))\n",
    "\n",
    "print(array_unos_2d)"
   ]
  },
  {
   "cell_type": "markdown",
   "metadata": {},
   "source": [
    "3. Creación de arreglos de números aleatorios:\n",
    "\n",
    "   La sintáxis será la siguiente: \n",
    "\n",
    "   ```Python  \n",
    "   np.random.randint(inicio, final, tamaño)\n",
    "   ```\n",
    " \n"
   ]
  },
  {
   "cell_type": "code",
   "execution_count": 13,
   "metadata": {},
   "outputs": [
    {
     "name": "stdout",
     "output_type": "stream",
     "text": [
      "Arreglo de una dimensión:\n",
      " [0 9 2 4 2]\n",
      "Arreglo de dos dimensiones o matriz:\n",
      " [[9 9 5 2 2]\n",
      " [8 0 0 4 1]\n",
      " [7 5 3 4 4]\n",
      " [4 4 1 3 5]\n",
      " [6 2 2 6 3]]\n"
     ]
    }
   ],
   "source": [
    "#Definir arreglo 1D\n",
    "array_random_1D = np.random.randint(0, 10, 5)\n",
    "#Resultado\n",
    "print( f\"Arreglo de una dimensión:\\n {array_random_1D}\" )\n",
    "\n",
    "#Definir arreglo 2D\n",
    "array_random_2D = np.random.randint(0, 10, (5,5))\n",
    "#Resultado\n",
    "print( f\"Arreglo de dos dimensiones o matriz:\\n {array_random_2D}\" )"
   ]
  },
  {
   "cell_type": "markdown",
   "metadata": {},
   "source": [
    "3. Creación de un arreglo con muestra de variables alteorias a partir de una distribución binomial:\n",
    "\n",
    "   La sintáxis será la siguiente: \n",
    "\n",
    "   ```Python  \n",
    "   random.binomial(n, p, size=None)\n",
    "   ```\n",
    "   Donde: \n",
    "\n",
    "   `n`: Número de ensayos por experimento.\n",
    "\n",
    "   `p`: Probabilidad de éxito en cada ensayo.\n",
    "\n",
    "   `tamaño`: Número de experimentos independientes que se realizarán.\n"
   ]
  },
  {
   "cell_type": "code",
   "execution_count": 14,
   "metadata": {},
   "outputs": [
    {
     "name": "stdout",
     "output_type": "stream",
     "text": [
      "Arreglo de una dimensión :\n",
      " [3 8 5 4]\n",
      "Arreglo de dos dimensiones :\n",
      " [[7 6 3 7 5]\n",
      " [5 2 7 5 5]\n",
      " [8 3 4 6 6]\n",
      " [4 6 6 7 7]]\n"
     ]
    }
   ],
   "source": [
    "#Creación de arreglo\n",
    "array_binom_1d = np.random.binomial(10, .5, size= 4)\n",
    "#Imprimir resultado\n",
    "print( f\"Arreglo de una dimensión :\\n {array_binom_1d}\" )\n",
    "\n",
    "#Creación de arreglo\n",
    "array_binom_2d = np.random.binomial(10, .5, size= (4,5))\n",
    "#Imprimir resultado\n",
    "\n",
    "print( f\"Arreglo de dos dimensiones :\\n {array_binom_2d}\" )"
   ]
  },
  {
   "cell_type": "markdown",
   "metadata": {},
   "source": [
    "Numpy ofrece una gran cantidad de funciones para crear muestreos de variables a aleatorias a partir de cierta distribución de probabilidad (las veremos más adelante). Para consultar todas las funciones disponibles:   [NumPy](https://numpy.org/)"
   ]
  },
  {
   "cell_type": "markdown",
   "metadata": {},
   "source": [
    "### **4.1.1.2 Manejo de arreglos**\n",
    "\n",
    "Como mencionamos, los arreglos en numpy se crean a  partir de listas por lo que heredan las caráterísticas de **mutabilidad**. En otras palabras, podemos acceder, sustituir, agregar y eliminar elementos de un arreglo en numpy.\n",
    "\n",
    "**Tamaño del arreglo y dimensión**\n",
    "\n",
    "Para saber el tamaño (número de elementos) y las dimensiones que tiene los arreglos con los que trabajamos se utilizan una serie de funciones de de base así como del modulo numpy.\n",
    "\n",
    "* Las funciones `size` y  `np.size()` muestran el número de elementos independientemente si trabajamos con arreglos de una o más dimensiones. \n",
    "\n",
    "  Ejemplo:\n"
   ]
  },
  {
   "cell_type": "code",
   "execution_count": 15,
   "metadata": {},
   "outputs": [
    {
     "name": "stdout",
     "output_type": "stream",
     "text": [
      "4\n",
      "20\n"
     ]
    }
   ],
   "source": [
    "#Tamaño del arreglo\n",
    "print(array_binom_1d.size)\n",
    "\n",
    "#Tamaño del arreglo\n",
    "print(np.size(array_binom_2d))"
   ]
  },
  {
   "cell_type": "markdown",
   "metadata": {},
   "source": [
    "* La función `shape` regresa una tupla que indica la dimensión del arreglo.\n",
    "   \n",
    "   Ejemplo:"
   ]
  },
  {
   "cell_type": "code",
   "execution_count": 16,
   "metadata": {},
   "outputs": [
    {
     "name": "stdout",
     "output_type": "stream",
     "text": [
      "(4,)\n",
      "(4, 5)\n"
     ]
    }
   ],
   "source": [
    "#Tamaño del arreglo\n",
    "print(array_binom_1d.shape)\n",
    "\n",
    "#Tamaño del arreglo\n",
    "print(array_binom_2d.shape)"
   ]
  },
  {
   "cell_type": "markdown",
   "metadata": {},
   "source": [
    "**Acceso a elementos**\n",
    "\n",
    "Para acceder a los elementos de un arreglo usamos la misma sintáxis que en las lista. Especificamente, se utilizan los corchetes cuadrados:\n",
    "\n",
    "\n",
    "* Arreglo de una dimensión \n",
    "\n",
    "   ```Python\n",
    "   array_1d[posición]\n",
    "   \n",
    "   ```\n",
    "\n",
    "* Para el arreglo de dos dimensiones (matriz) se utiliza la posición fila, columna para extraer el elemento de interes\n",
    "\n",
    "   ```Python\n",
    "   matriz[posición_fila, posición_col]\n",
    "   \n",
    "   ```\n",
    "  Ejemplo:"
   ]
  },
  {
   "cell_type": "code",
   "execution_count": 17,
   "metadata": {},
   "outputs": [
    {
     "name": "stdout",
     "output_type": "stream",
     "text": [
      "3\n",
      "7\n"
     ]
    }
   ],
   "source": [
    "#Acceder primer valor de arrelo de una dimensión \n",
    "print(array_binom_1d[0])\n",
    "#Acceder primer elemento de una matriz\n",
    "print(array_binom_2d[0,0])"
   ]
  },
  {
   "cell_type": "markdown",
   "metadata": {},
   "source": [
    "Para acceder a multiples elementos, al igual que en las listas, se utilizan `:` con los cuales definiremos el rango de elementos a lque queremos acceder."
   ]
  },
  {
   "cell_type": "markdown",
   "metadata": {},
   "source": [
    "* Arreglo de una dimensión \n",
    "\n",
    "   ```Python\n",
    "\n",
    "   array_1d[posición_inicial : posición_final ]\n",
    "   \n",
    "   ```\n",
    "\n",
    "* Para el arreglo de dos dimensiones (matriz) se utiliza la posición fila, columna para extraer el elemento de interes\n",
    "\n",
    "   ```Python\n",
    "   matriz[posición_fila_inicial : posición_fila_final , posición_col_inicial :posición_col_final ]\n",
    "   \n",
    "   ```\n",
    "\n",
    "   Ejemplo:"
   ]
  },
  {
   "cell_type": "code",
   "execution_count": 18,
   "metadata": {},
   "outputs": [
    {
     "name": "stdout",
     "output_type": "stream",
     "text": [
      "[3 8]\n",
      "[[7 6 3 7 5]\n",
      " [5 2 7 5 5]]\n"
     ]
    }
   ],
   "source": [
    "#Acceder a primeros dos valores \n",
    "print(array_binom_1d[0:2])\n",
    "\n",
    "#Acceder a primeras dos filas completas\n",
    "print(array_binom_2d[0:2, 0:])"
   ]
  },
  {
   "cell_type": "code",
   "execution_count": 19,
   "metadata": {},
   "outputs": [
    {
     "data": {
      "text/plain": [
       "array([[7, 6, 3, 7, 5],\n",
       "       [5, 2, 7, 5, 5]], dtype=int32)"
      ]
     },
     "execution_count": 19,
     "metadata": {},
     "output_type": "execute_result"
    }
   ],
   "source": [
    "#Otra forma de acceder a arreglos es por listas anidadas \n",
    "array_binom_2d[[0,1], :]"
   ]
  },
  {
   "cell_type": "markdown",
   "metadata": {},
   "source": [
    "**Sustitución de elementos**\n",
    "\n",
    "Dado que un arreglo es mutable podemos reemplazar sus elementos  a partir de la selección de un elemento o un rango de elementos y asignando nuevos valores con el signo =.\n",
    "\n",
    "**Sintáxis** \n",
    "\n",
    "```Python\n",
    "   array[elemento] = [elemento_nuevo]\n",
    "   ```\n",
    "Ejemplo:"
   ]
  },
  {
   "cell_type": "code",
   "execution_count": 20,
   "metadata": {},
   "outputs": [
    {
     "name": "stdout",
     "output_type": "stream",
     "text": [
      "Seguimos con el arreglo de muestreo de una distribución binomial [3 8 5 4]\n",
      "[4 8 5 4]\n"
     ]
    }
   ],
   "source": [
    "print(\"Seguimos con el arreglo de muestreo de una distribución binomial\", array_binom_1d)\n",
    "#Remplazar valor 1 con un 4\n",
    "array_binom_1d[0] = 4\n",
    "print(array_binom_1d)"
   ]
  },
  {
   "cell_type": "code",
   "execution_count": 21,
   "metadata": {},
   "outputs": [
    {
     "name": "stdout",
     "output_type": "stream",
     "text": [
      "Seguimos con el arreglo de muestreo de una distribución binomial \n",
      " [[7 6 3 7 5]\n",
      " [5 2 7 5 5]\n",
      " [8 3 4 6 6]\n",
      " [4 6 6 7 7]]\n",
      "[[7 6 3 7 5]\n",
      " [1 1 1 1 1]\n",
      " [8 3 4 6 6]\n",
      " [4 6 6 7 7]]\n"
     ]
    }
   ],
   "source": [
    "print(\"Seguimos con el arreglo de muestreo de una distribución binomial \\n\",  array_binom_2d)\n",
    "\n",
    "#Reemplazar fila dos por 1 \n",
    "array_binom_2d[1,:] = 1\n",
    "#array_binom_2d[1,:] = [1,1,1,1,1]\n",
    "print(array_binom_2d)\n"
   ]
  },
  {
   "cell_type": "code",
   "execution_count": 22,
   "metadata": {},
   "outputs": [
    {
     "name": "stdout",
     "output_type": "stream",
     "text": [
      "[[0 0 0 0 0]\n",
      " [0 0 0 0 0]\n",
      " [0 0 0 0 0]\n",
      " [0 0 0 0 0]]\n"
     ]
    }
   ],
   "source": [
    "#Reemplazar todo con 0 \n",
    "array_binom_2d[:] = 0\n",
    "print(array_binom_2d)"
   ]
  },
  {
   "cell_type": "markdown",
   "metadata": {},
   "source": [
    "**Agregar elementos**\n",
    "\n",
    "Para agregar elementos nuevos a un arreglo se utiliza la función `np.append()` es la versión numpy de la que utilizamos con las listas (`append()`).\n",
    "\n",
    "**Sintáxis** \n",
    "```Python\n",
    "   array_new = np.append(array_old, valor_nuevo)\n",
    "   ```\n",
    "Ejemplo:"
   ]
  },
  {
   "cell_type": "code",
   "execution_count": 90,
   "metadata": {},
   "outputs": [
    {
     "name": "stdout",
     "output_type": "stream",
     "text": [
      "Seguimos con el arreglo de muestreo de una distribución binomial [4 4 6 5]\n",
      "[4 4 6 5 0]\n"
     ]
    }
   ],
   "source": [
    "print(\"Seguimos con el arreglo de muestreo de una distribución binomial\", array_binom_1d)\n",
    "#Agregar un valor 0 al arreglo\n",
    "array_binom_1d = np.append(array_binom_1d,0)\n",
    "print(array_binom_1d)"
   ]
  },
  {
   "cell_type": "markdown",
   "metadata": {},
   "source": [
    "* Para agregar en una posición específica se utiliza la función `np.insert()` de la siguiente forma:"
   ]
  },
  {
   "cell_type": "code",
   "execution_count": 91,
   "metadata": {},
   "outputs": [
    {
     "name": "stdout",
     "output_type": "stream",
     "text": [
      "[0 4 4 6 5 0]\n"
     ]
    }
   ],
   "source": [
    "#Agregar un valor 0  en la primera posición\n",
    "array_binom_1d = np.insert(array_binom_1d,0,0 )\n",
    "print(array_binom_1d)"
   ]
  },
  {
   "cell_type": "markdown",
   "metadata": {},
   "source": [
    "Para los arreglos de dos dimensiones o matrices la sintáxis es diferente, ya que podemos agregar filas o columnas completas:\n",
    "\n",
    "* Columnas \n",
    "  \n",
    "   Para las columnas se utiliza la función append con la siguiente sitnáxis:\n",
    "    ```Python\n",
    "    matriz_new = np.append(matriz_old, col_new, axis=1)\n",
    "    ```\n"
   ]
  },
  {
   "cell_type": "code",
   "execution_count": 23,
   "metadata": {},
   "outputs": [
    {
     "name": "stdout",
     "output_type": "stream",
     "text": [
      "[[0 0 0 0 0 1]\n",
      " [0 0 0 0 0 1]\n",
      " [0 0 0 0 0 1]\n",
      " [0 0 0 0 0 1]]\n"
     ]
    }
   ],
   "source": [
    "#Agregar el siguiente arreglo como columna\n",
    "array_col = np.array([[1], [1], [1], [1]])\n",
    "\n",
    "#Agregamos arreglo como columna\n",
    "array_binom_2d  =  np.append(array_binom_2d, array_col , axis = 1)\n",
    "\n",
    "#Imrpimir resultado\n",
    "print(array_binom_2d)"
   ]
  },
  {
   "cell_type": "markdown",
   "metadata": {},
   "source": [
    "* Filas\n",
    "\n",
    "   Para agregar toda una fila a una matriz utilizaremos la función  `np.vstack()` con la siguiente sintáxis:\n",
    "    ```Python\n",
    "    matriz_new = np.vstack([ matriz_old, row_new])\n",
    "    ```"
   ]
  },
  {
   "cell_type": "code",
   "execution_count": 24,
   "metadata": {},
   "outputs": [
    {
     "name": "stdout",
     "output_type": "stream",
     "text": [
      "[[0 0 0 0 0 1]\n",
      " [0 0 0 0 0 1]\n",
      " [0 0 0 0 0 1]\n",
      " [0 0 0 0 0 1]\n",
      " [1 1 1 1 1 1]]\n"
     ]
    }
   ],
   "source": [
    "#Agregar el siguiente arreglo como fila\n",
    "array_row = np.array([1,1,1,1,1,1])\n",
    "\n",
    "#Agregamos arreglo como columna\n",
    "array_binom_2d  =  np.vstack([array_binom_2d,array_row])\n",
    "\n",
    "#Imrpimir resultado\n",
    "print(array_binom_2d)"
   ]
  },
  {
   "cell_type": "markdown",
   "metadata": {},
   "source": [
    "**Eliminar elementos de un arreglo**\n",
    "\n",
    "Para eliminar elementos de un arreglo se utiliza la función `np.delete()` de la siguiente forma: \n",
    "\n",
    "**Sintáxis**\n",
    "\n",
    "* Eliminar un elemento \n",
    "  ```Python\n",
    "    array_new = np.delete(array_old,(posición_elemento))\n",
    "  ``` \n",
    "\n",
    "* Eliminar más de un elemento\n",
    "  ```Python\n",
    "    array_new = np.delete(array_old, [posición_0,..., posición_n])\n",
    "   ```\n",
    "Ejemplo:\n",
    "\n",
    "Eliminar ultimo elemento: "
   ]
  },
  {
   "cell_type": "code",
   "execution_count": 28,
   "metadata": {},
   "outputs": [
    {
     "name": "stdout",
     "output_type": "stream",
     "text": [
      "[4 8 5 4] \n",
      " [4 8 5]\n",
      "[4 8 5] \n",
      " [5]\n"
     ]
    }
   ],
   "source": [
    "#Eliminar último\n",
    "array_binom_n =  np.delete(array_binom_1d, (-1))\n",
    "print(array_binom_1d,\"\\n\", array_binom_n)\n",
    "\n",
    "#Eliminar los dos primeros\n",
    "array_binom_n1 =  np.delete(array_binom_n, [0,1])\n",
    "print(array_binom_n,\"\\n\", array_binom_n1)\n"
   ]
  },
  {
   "cell_type": "markdown",
   "metadata": {},
   "source": [
    "Cuando tenemos un matriz podemos eliminar filas o columnas con la siguiente sintáxis:\n",
    "\n",
    "\n",
    "* Eliminar columna\n",
    "\n",
    "  ```Python\n",
    "    matriz_new = np.delete( matriz_old ,(posición_fila), axis=1 ) \n",
    "  ``` \n",
    "\n",
    "* Eliminar filas\n",
    "  ```Python\n",
    "    matriz_new = np.delete( matriz_old ,(posición_fila), axis=0 ) \n",
    "   ```\n",
    "\n",
    "\n",
    ">Nota: Cuando trabajamos con estructura de datos de dos dimensiones como arreglos o data frames el `axis = 1` siempre se usa para indicar que la función se aplicará a las columnas. mientras que `axis = 0` se utilizá para trabajar en las filas.\n",
    "\n",
    "  \n",
    "\n",
    "Ejemplo:\n",
    "\n",
    "* Eliminar última columna"
   ]
  },
  {
   "cell_type": "code",
   "execution_count": 32,
   "metadata": {},
   "outputs": [
    {
     "name": "stdout",
     "output_type": "stream",
     "text": [
      "[[0 0 0 0 0 1]\n",
      " [0 0 0 0 0 1]\n",
      " [0 0 0 0 0 1]\n",
      " [0 0 0 0 0 1]\n",
      " [1 1 1 1 1 1]] \n",
      "\n",
      " [[0 0 0 0 0]\n",
      " [0 0 0 0 0]\n",
      " [0 0 0 0 0]\n",
      " [0 0 0 0 0]\n",
      " [1 1 1 1 1]]\n"
     ]
    }
   ],
   "source": [
    "#Eliminar última columna\n",
    "matriz_n =  np.delete(array_binom_2d, (-1), axis=1)\n",
    "\n",
    "print(array_binom_2d, 2*\"\\n\", matriz_n)\n"
   ]
  },
  {
   "cell_type": "markdown",
   "metadata": {},
   "source": [
    "* Eliminar primera fila"
   ]
  },
  {
   "cell_type": "code",
   "execution_count": 31,
   "metadata": {},
   "outputs": [
    {
     "name": "stdout",
     "output_type": "stream",
     "text": [
      "[[0 0 0 0 0 1]\n",
      " [0 0 0 0 0 1]\n",
      " [0 0 0 0 0 1]\n",
      " [0 0 0 0 0 1]\n",
      " [1 1 1 1 1 1]] \n",
      "\n",
      " [[0 0 0 0 1]\n",
      " [0 0 0 0 1]\n",
      " [0 0 0 0 1]\n",
      " [0 0 0 0 1]\n",
      " [1 1 1 1 1]]\n"
     ]
    }
   ],
   "source": [
    "#Eliminar primera fila\n",
    "matriz_n1 =  np.delete(array_binom_2d, (0), axis=1)\n",
    "\n",
    "print(array_binom_2d,2*\"\\n\", matriz_n1)"
   ]
  },
  {
   "cell_type": "markdown",
   "metadata": {},
   "source": [
    "**Ordenar arreglos**\n",
    "\n",
    "El ordenamiento es otro de los cambios aplicables a los arreglos. Para ello se utiliza la función `np.sort()` de la siguiente forma: \n",
    "\n",
    "* Arreglo de una dimensión: \n",
    "\n",
    "  ```Python\n",
    "  np.sort(array)\n",
    "  ```"
   ]
  },
  {
   "cell_type": "code",
   "execution_count": 44,
   "metadata": {},
   "outputs": [
    {
     "name": "stdout",
     "output_type": "stream",
     "text": [
      "[4 4 5 8]\n"
     ]
    }
   ],
   "source": [
    "#Ordenar arreglo\n",
    "array_sort = np.sort(array_binom_1d)\n",
    "\n",
    "print(array_sort)"
   ]
  },
  {
   "cell_type": "code",
   "execution_count": 50,
   "metadata": {},
   "outputs": [
    {
     "name": "stdout",
     "output_type": "stream",
     "text": [
      "[8 5 4 4]\n"
     ]
    }
   ],
   "source": [
    "#Ordenar descendente \n",
    "array_sort_desc = np.sort(array_binom_1d)[::-1]\n",
    "\n",
    "print(array_sort_desc)"
   ]
  },
  {
   "cell_type": "markdown",
   "metadata": {},
   "source": [
    "Para arreglos de dos dimensiones:\n",
    "\n",
    "* Se utiliza para ordenar por columna\n",
    "  ```Python\n",
    "  matriz_sort = np.sort(matriz_old, axis = 0)\n",
    "  ```\n",
    "\n",
    "* Se utiliza para ordenar por fila\n",
    "  ```Python\n",
    "  matriz_sort = np.sort(matriz_old axis = 1)\n",
    "  ```"
   ]
  },
  {
   "cell_type": "code",
   "execution_count": 49,
   "metadata": {},
   "outputs": [
    {
     "name": "stdout",
     "output_type": "stream",
     "text": [
      "[[6 5 3 5 7]\n",
      " [4 4 4 7 5]\n",
      " [6 2 5 5 7]\n",
      " [4 4 7 7 6]] \n",
      "\n",
      " [[4 2 3 5 5]\n",
      " [4 4 4 5 6]\n",
      " [6 4 5 7 7]\n",
      " [6 5 7 7 7]]\n"
     ]
    }
   ],
   "source": [
    "#Definimos  matriz\n",
    "matriz_binom  = np.random.binomial(10, .5, size= (4,5))\n",
    "\n",
    "#Matriz ordenada\n",
    "matriz_sort = np.sort(matriz_binom, axis = 0)\n",
    "\n",
    "print(matriz_binom, 2*\"\\n\", matriz_sort)\n"
   ]
  },
  {
   "cell_type": "markdown",
   "metadata": {},
   "source": [
    "### **4.1.2 Funciones matemáticas y estadísticas para arreglos**\n",
    "\n",
    "Las funciones matemáticas y estadísticas para arreglos en Python son herramientas fundamentales que nos permiten realizar cálculos y análisis sobre conjuntos de datos de manera eficiente. Python, especialmente a través de bibliotecas como NumPy, proporciona una amplia gama de funciones predefinidas que simplifican el procesamiento de datos numéricos en arreglos.\n",
    "\n",
    "Estas funciones son especialmente útiles cuando trabajamos con grandes conjuntos de datos, ya que están optimizadas para operar sobre arreglos completos sin necesidad de escribir bucles explícitos. Esto no solo hace que nuestro código sea más limpio y legible, sino que también mejora significativamente el rendimiento de nuestras aplicaciones.\n",
    "\n",
    "Entre las operaciones más comunes que podemos realizar encontramos:\n",
    "\n",
    "* Cálculos básicos como suma, resta, multiplicación y división de arreglos\n",
    "* Funciones estadísticas como media, mediana, moda y desviación estándar\n",
    "* Operaciones de agregación y reducción\n",
    "* Transformaciones matemáticas como exponenciales, logaritmos y funciones trigonométricas\n",
    "\n"
   ]
  },
  {
   "cell_type": "markdown",
   "metadata": {},
   "source": [
    "#### **4.1.2.1 Operaciones básicas entre arreglos**\n",
    "\n",
    "Numpy ofrece una amplía variedad de funciones que realizan operaciones matemáticas aplicables a arreglos. En la siguiente tabla se presentan algunas operaciones entre arreglos:\n",
    "\n",
    "| Operación | Sintáxis | Descripción de la acción |\n",
    "|-----------|---------------------------|------------------------|\n",
    "| **Suma** | `x + y` o `np.add(x, y)` | Suma elemento por elemento de los arrays |\n",
    "| **Resta** | `x - y` o `np.subtract(x, y)` | Resta elemento por elemento de los arrays |\n",
    "| **Multiplicación** | `x * y` o `np.multiply(x, y)` | Multiplica elemento por elemento |\n",
    "| **División** | `x / y` o `np.divide(x, y)` | Divide elemento por elemento |\n",
    "| **Potencia** | `x ** 2` o `np.square(x)` | Eleva cada elemento a una potencia |\n",
    "\n",
    "Para operar entre arreglo se tienen que cumplir  algunas reglas parecidas a las que se aplican para operar entre vectores y matrices en aljebra lineal, pero para los arreglos son más flexibles. A esta operación entre arreglos se le conoce como  ***broadcasting***.\n",
    "\n",
    "**Caso 1: Array 1D con escalar**"
   ]
  },
  {
   "cell_type": "code",
   "execution_count": 4,
   "metadata": {},
   "outputs": [
    {
     "name": "stdout",
     "output_type": "stream",
     "text": [
      "[ 7 14  9]\n",
      "[12 40 20]\n"
     ]
    }
   ],
   "source": [
    "#Arreglos y escalar\n",
    "import numpy as np\n",
    "a = np.array([3, 10,5])           # 1D array (3,)\n",
    "b = 4 \n",
    "\n",
    "print(np.add(a,b))\n",
    "print(np.multiply(a,b))"
   ]
  },
  {
   "cell_type": "markdown",
   "metadata": {},
   "source": [
    "**Caso 2: Array 1D con Array de 1D**"
   ]
  },
  {
   "cell_type": "code",
   "execution_count": 5,
   "metadata": {},
   "outputs": [
    {
     "name": "stdout",
     "output_type": "stream",
     "text": [
      "[ 4 11  6] \n",
      "\n",
      "[ 3 10  5]\n"
     ]
    }
   ],
   "source": [
    "#Arreglos de \n",
    "a = np.array([3, 10,5])           # 1D array (3,)\n",
    "c = np.array([1, 1, 1])\n",
    "\n",
    "print(np.add(a,c), '\\n')\n",
    "print(np.multiply(a,c))"
   ]
  },
  {
   "cell_type": "markdown",
   "metadata": {},
   "source": [
    "**Caso 3: Array 1D con Array de 2D**"
   ]
  },
  {
   "cell_type": "code",
   "execution_count": 6,
   "metadata": {},
   "outputs": [
    {
     "name": "stdout",
     "output_type": "stream",
     "text": [
      "[[ 4 12  8]\n",
      " [ 7 15 11]] \n",
      "\n",
      "[[ 3 20 15]\n",
      " [12 50 30]]\n"
     ]
    }
   ],
   "source": [
    "a_arr2d = np.array([[1, 2, 3],\n",
    "                  [4, 5, 6]])\n",
    "\n",
    "print(np.add(a, a_arr2d), '\\n') \n",
    "print(np.multiply(a,a_arr2d))"
   ]
  },
  {
   "cell_type": "markdown",
   "metadata": {},
   "source": [
    "**Caso 4: Array 2D con Array de 2D**"
   ]
  },
  {
   "cell_type": "code",
   "execution_count": 7,
   "metadata": {},
   "outputs": [
    {
     "name": "stdout",
     "output_type": "stream",
     "text": [
      "[[11 36 48]\n",
      " [19 26 38]] \n",
      "\n",
      "[[ 10  68 135]\n",
      " [ 60 105 192]]\n"
     ]
    }
   ],
   "source": [
    "b_arr2d = np.array([[10, 34, 45],\n",
    "                    [15, 21, 32]])\n",
    "\n",
    "print(np.add(a_arr2d, b_arr2d), '\\n') \n",
    "\n",
    "print(np.multiply(a_arr2d, b_arr2d))"
   ]
  },
  {
   "cell_type": "markdown",
   "metadata": {},
   "source": [
    "**Casos 5: No válidos**\n",
    "\n",
    "Para que se pueda realizar la operación entre arreglos se tiene que cumplir : \n",
    "\n",
    "* Igualdad en el tamaño del arreglo\n",
    "* Uno de ellos sea n = 1 \n",
    "* Uno de ellos no existe\n",
    "\n",
    "Ejemplo de operación no válida :\n"
   ]
  },
  {
   "cell_type": "code",
   "execution_count": 8,
   "metadata": {},
   "outputs": [
    {
     "ename": "ValueError",
     "evalue": "operands could not be broadcast together with shapes (3,) (1,4) ",
     "output_type": "error",
     "traceback": [
      "\u001b[1;31m---------------------------------------------------------------------------\u001b[0m",
      "\u001b[1;31mValueError\u001b[0m                                Traceback (most recent call last)",
      "Cell \u001b[1;32mIn[8], line 5\u001b[0m\n\u001b[0;32m      2\u001b[0m a \u001b[38;5;241m=\u001b[39m np\u001b[38;5;241m.\u001b[39marray([\u001b[38;5;241m1\u001b[39m, \u001b[38;5;241m2\u001b[39m, \u001b[38;5;241m3\u001b[39m])           \u001b[38;5;66;03m# (1,)\u001b[39;00m\n\u001b[0;32m      3\u001b[0m b \u001b[38;5;241m=\u001b[39m np\u001b[38;5;241m.\u001b[39marray([[\u001b[38;5;241m1\u001b[39m, \u001b[38;5;241m2\u001b[39m , \u001b[38;5;241m3\u001b[39m, \u001b[38;5;241m4\u001b[39m]])    \u001b[38;5;66;03m# (4,)\u001b[39;00m\n\u001b[1;32m----> 5\u001b[0m \u001b[38;5;28mprint\u001b[39m(\u001b[43mnp\u001b[49m\u001b[38;5;241;43m.\u001b[39;49m\u001b[43madd\u001b[49m\u001b[43m(\u001b[49m\u001b[43ma\u001b[49m\u001b[43m,\u001b[49m\u001b[43m \u001b[49m\u001b[43mb\u001b[49m\u001b[43m)\u001b[49m, \u001b[38;5;124m'\u001b[39m\u001b[38;5;130;01m\\n\u001b[39;00m\u001b[38;5;124m'\u001b[39m) \n\u001b[0;32m      7\u001b[0m \u001b[38;5;28mprint\u001b[39m(np\u001b[38;5;241m.\u001b[39mmultiply(a, b))\n",
      "\u001b[1;31mValueError\u001b[0m: operands could not be broadcast together with shapes (3,) (1,4) "
     ]
    }
   ],
   "source": [
    "a = np.array([1, 2, 3])           # (1,)\n",
    "b = np.array([[1, 2 , 3, 4]])    # (4,)\n",
    "\n",
    "print(np.add(a, b), '\\n') \n",
    "\n",
    "print(np.multiply(a, b))"
   ]
  },
  {
   "cell_type": "markdown",
   "metadata": {},
   "source": [
    "Como buena práctica se puede utilizar la combinación de las funciones `shape` y `np.broadcast_shapes()` par veririficar si es posible operar diferentes arreglos:\n",
    "\n",
    "**Sintáxis**\n",
    " ```Python \n",
    "    np.broadcast_shapes(shape(array1), shape(array2))\n",
    " ```\n",
    "Ejemplo:"
   ]
  },
  {
   "cell_type": "code",
   "execution_count": null,
   "metadata": {},
   "outputs": [
    {
     "ename": "ValueError",
     "evalue": "shape mismatch: objects cannot be broadcast to a single shape.  Mismatch is between arg 0 with shape (3,) and arg 1 with shape (1, 4).",
     "output_type": "error",
     "traceback": [
      "\u001b[1;31m---------------------------------------------------------------------------\u001b[0m",
      "\u001b[1;31mValueError\u001b[0m                                Traceback (most recent call last)",
      "Cell \u001b[1;32mIn[10], line 6\u001b[0m\n\u001b[0;32m      2\u001b[0m a \u001b[38;5;241m=\u001b[39m np\u001b[38;5;241m.\u001b[39marray([\u001b[38;5;241m1\u001b[39m, \u001b[38;5;241m2\u001b[39m, \u001b[38;5;241m3\u001b[39m])           \u001b[38;5;66;03m# (1,)\u001b[39;00m\n\u001b[0;32m      4\u001b[0m b \u001b[38;5;241m=\u001b[39m np\u001b[38;5;241m.\u001b[39marray([[\u001b[38;5;241m4\u001b[39m,\u001b[38;5;241m5\u001b[39m,\u001b[38;5;241m3\u001b[39m,\u001b[38;5;241m5\u001b[39m]])    \u001b[38;5;66;03m# (4,)\u001b[39;00m\n\u001b[1;32m----> 6\u001b[0m \u001b[43mnp\u001b[49m\u001b[38;5;241;43m.\u001b[39;49m\u001b[43mbroadcast_shapes\u001b[49m\u001b[43m(\u001b[49m\u001b[43ma\u001b[49m\u001b[38;5;241;43m.\u001b[39;49m\u001b[43mshape\u001b[49m\u001b[43m,\u001b[49m\u001b[43m \u001b[49m\u001b[43mb\u001b[49m\u001b[38;5;241;43m.\u001b[39;49m\u001b[43mshape\u001b[49m\u001b[43m)\u001b[49m\n",
      "File \u001b[1;32mc:\\Users\\Diego\\AppData\\Local\\Programs\\Python\\Python312\\Lib\\site-packages\\numpy\\lib\\_stride_tricks_impl.py:482\u001b[0m, in \u001b[0;36mbroadcast_shapes\u001b[1;34m(*args)\u001b[0m\n\u001b[0;32m    444\u001b[0m \u001b[38;5;250m\u001b[39m\u001b[38;5;124;03m\"\"\"\u001b[39;00m\n\u001b[0;32m    445\u001b[0m \u001b[38;5;124;03mBroadcast the input shapes into a single shape.\u001b[39;00m\n\u001b[0;32m    446\u001b[0m \n\u001b[1;32m   (...)\u001b[0m\n\u001b[0;32m    479\u001b[0m \u001b[38;5;124;03m(5, 6, 7)\u001b[39;00m\n\u001b[0;32m    480\u001b[0m \u001b[38;5;124;03m\"\"\"\u001b[39;00m\n\u001b[0;32m    481\u001b[0m arrays \u001b[38;5;241m=\u001b[39m [np\u001b[38;5;241m.\u001b[39mempty(x, dtype\u001b[38;5;241m=\u001b[39m[]) \u001b[38;5;28;01mfor\u001b[39;00m x \u001b[38;5;129;01min\u001b[39;00m args]\n\u001b[1;32m--> 482\u001b[0m \u001b[38;5;28;01mreturn\u001b[39;00m \u001b[43m_broadcast_shape\u001b[49m\u001b[43m(\u001b[49m\u001b[38;5;241;43m*\u001b[39;49m\u001b[43marrays\u001b[49m\u001b[43m)\u001b[49m\n",
      "File \u001b[1;32mc:\\Users\\Diego\\AppData\\Local\\Programs\\Python\\Python312\\Lib\\site-packages\\numpy\\lib\\_stride_tricks_impl.py:431\u001b[0m, in \u001b[0;36m_broadcast_shape\u001b[1;34m(*args)\u001b[0m\n\u001b[0;32m    426\u001b[0m \u001b[38;5;250m\u001b[39m\u001b[38;5;124;03m\"\"\"Returns the shape of the arrays that would result from broadcasting the\u001b[39;00m\n\u001b[0;32m    427\u001b[0m \u001b[38;5;124;03msupplied arrays against each other.\u001b[39;00m\n\u001b[0;32m    428\u001b[0m \u001b[38;5;124;03m\"\"\"\u001b[39;00m\n\u001b[0;32m    429\u001b[0m \u001b[38;5;66;03m# use the old-iterator because np.nditer does not handle size 0 arrays\u001b[39;00m\n\u001b[0;32m    430\u001b[0m \u001b[38;5;66;03m# consistently\u001b[39;00m\n\u001b[1;32m--> 431\u001b[0m b \u001b[38;5;241m=\u001b[39m \u001b[43mnp\u001b[49m\u001b[38;5;241;43m.\u001b[39;49m\u001b[43mbroadcast\u001b[49m\u001b[43m(\u001b[49m\u001b[38;5;241;43m*\u001b[39;49m\u001b[43margs\u001b[49m\u001b[43m[\u001b[49m\u001b[43m:\u001b[49m\u001b[38;5;241;43m32\u001b[39;49m\u001b[43m]\u001b[49m\u001b[43m)\u001b[49m\n\u001b[0;32m    432\u001b[0m \u001b[38;5;66;03m# unfortunately, it cannot handle 32 or more arguments directly\u001b[39;00m\n\u001b[0;32m    433\u001b[0m \u001b[38;5;28;01mfor\u001b[39;00m pos \u001b[38;5;129;01min\u001b[39;00m \u001b[38;5;28mrange\u001b[39m(\u001b[38;5;241m32\u001b[39m, \u001b[38;5;28mlen\u001b[39m(args), \u001b[38;5;241m31\u001b[39m):\n\u001b[0;32m    434\u001b[0m     \u001b[38;5;66;03m# ironically, np.broadcast does not properly handle np.broadcast\u001b[39;00m\n\u001b[0;32m    435\u001b[0m     \u001b[38;5;66;03m# objects (it treats them as scalars)\u001b[39;00m\n\u001b[0;32m    436\u001b[0m     \u001b[38;5;66;03m# use broadcasting to avoid allocating the full array\u001b[39;00m\n",
      "\u001b[1;31mValueError\u001b[0m: shape mismatch: objects cannot be broadcast to a single shape.  Mismatch is between arg 0 with shape (3,) and arg 1 with shape (1, 4)."
     ]
    }
   ],
   "source": [
    "#Verificar si es posible el broadcast\n",
    "a = np.array([1, 2, 3])           # (1,)\n",
    "\n",
    "b = np.array([[4,5,3,5]])    # (4,)\n",
    "\n",
    "#Verificar\n",
    "np.broadcast_shapes(a.shape, b.shape)"
   ]
  },
  {
   "cell_type": "code",
   "execution_count": 16,
   "metadata": {},
   "outputs": [
    {
     "name": "stdout",
     "output_type": "stream",
     "text": [
      "(1, 3)\n"
     ]
    }
   ],
   "source": [
    "#Verificar si es posible el broadcast\n",
    "a = np.array([1,2,3])           # (1,)\n",
    "c = np.array([4,4,3])  \n",
    "\n",
    "\n",
    "print(np.broadcast_shapes(a.shape, c.shape))"
   ]
  },
  {
   "cell_type": "markdown",
   "metadata": {},
   "source": [
    "#### **4.1.2.2 Funciones matemáticas básicas aplicadas a arreglos**\n",
    "\n",
    "Numpy tiene funciones que se pueden aplicar a cada elemento de un arreglo o bien hacer una operación con todos los elementos del arreglo. \n",
    "\n",
    "\n",
    "\n",
    "| Operación | Sintáxis | Descripción de la acción |\n",
    "|-----------|---------------------------|------------------------|\n",
    "| **Raíz Cuadrada** | `np.sqrt(x)` | Calcula raíz cuadrada de cada elemento |\n",
    "| **Exponencial** | `np.exp(x)` | Calcula e elevado a cada elemento |\n",
    "| **Logaritmo** | `np.log(x)` | Calcula logaritmo natural de cada elemento |\n",
    "| **Valor Absoluto** | `np.abs(x)` | Obtiene valor absoluto de cada elemento |\n",
    "| **Redondeo** | `np.round(x)` | Redondea cada elemento al entero más cercano |\n",
    "| **Suma Total** | `np.sum(x)` | Suma todos los elementos del array |\n",
    "| **Máximo** | `np.max(x)` | Encuentra el valor máximo del array |\n",
    "| **Mínimo** | `np.min(x)` | Encuentra el valor mínimo del array |\n",
    "| **Producto** | `np.prod(x)` | Multiplica todos los elementos |\n",
    "| **Acumulado** | `np.cumsum(x)` | Suma acumulativa de elementos |\n",
    "| **Producto Acumulado** | `np.cumprod(x)` | Producto acumulativo de elementos |\n",
    "| **Ordenar** | `np.sort(x)` | Ordena los elementos del array |\n",
    "\n",
    "\n",
    "\n",
    "Como  ejemplo se utilizan las funciones `np.sqrt()` para calcular la raiz cuadrada de cada elementos o utilizar `np.log()` para calcular el logaritmo natural de cada elemento:\n"
   ]
  },
  {
   "cell_type": "code",
   "execution_count": 20,
   "metadata": {},
   "outputs": [
    {
     "name": "stdout",
     "output_type": "stream",
     "text": [
      "[54.77225575 59.16079783 63.2455532  67.08203932 70.71067812 74.16198487\n",
      " 52.91502622 56.56854249 60.        ]\n",
      "[8.00636757 8.16051825 8.29404964 8.41183268 8.51719319 8.61250337\n",
      " 7.9373747  8.07090609 8.18868912]\n"
     ]
    }
   ],
   "source": [
    "#Definir arreglo\n",
    "salarios_empre = np.array([3000, 3500, 4000 , 4500, 5000, 5500, 2800, 3200, 3600])\n",
    "#Aplicar raíz cuadrada \n",
    "sqrt_salarios = np.sqrt(salarios_empre)\n",
    "print(sqrt_salarios)\n",
    "\n",
    "#Aplicar logarítmo \n",
    "ln_salarios = np.log(salarios_empre)\n",
    "print(ln_salarios)\n"
   ]
  },
  {
   "cell_type": "markdown",
   "metadata": {},
   "source": [
    "Como ejemplo de funciones que operan todos los elemenots de un arreglo se tiene la suma acumulada (`np.cumsum()`) o un producto acumulado  (`np.cumprod()`)\n",
    "\n",
    "* Ejemplo con arreglo de dos dimensiones:"
   ]
  },
  {
   "cell_type": "code",
   "execution_count": 29,
   "metadata": {},
   "outputs": [
    {
     "name": "stdout",
     "output_type": "stream",
     "text": [
      "[[ 3000  6500 10500]\n",
      " [ 4500  9500 15000]\n",
      " [ 2800  6000  9600]]\n",
      "\n",
      " [[ 3000  3500  4000]\n",
      " [ 7500  8500  9500]\n",
      " [10300 11700 13100]]\n"
     ]
    }
   ],
   "source": [
    "salarios_departamentos = np.array([#Enlace #Jefe #Subdi\n",
    "                                   [3000,  3500,  4000],  # Departamento 1\n",
    "                                   [4500,  5000,  5500],  # Departamento 2\n",
    "                                   [2800,  3200,  3600]   # Departamento 3\n",
    "                                  ])\n",
    "\n",
    "#Suma acum por departamento\n",
    "suma_acum = np.cumsum(salarios_departamentos, axis=1) #axis = 1 filas \n",
    "print(f\"{suma_acum}\")\n",
    "\n",
    "#Sum acum por posición\n",
    "suma_acum_pos =  np.cumsum(salarios_departamentos, axis=0) #axis = 0 columnas\n",
    "print(f\"\\n {suma_acum_pos}\")\n"
   ]
  },
  {
   "cell_type": "markdown",
   "metadata": {},
   "source": [
    "#### **4.1.2.3 Funciones estadística descriptiva aplicadas a arreglos**\n",
    "\n"
   ]
  },
  {
   "cell_type": "markdown",
   "metadata": {},
   "source": [
    "#### **4.1.2.3 Generación de números aleatorios y distribuciones de probabilidad**\n"
   ]
  }
 ],
 "metadata": {
  "kernelspec": {
   "display_name": "Python 3",
   "language": "python",
   "name": "python3"
  },
  "language_info": {
   "codemirror_mode": {
    "name": "ipython",
    "version": 3
   },
   "file_extension": ".py",
   "mimetype": "text/x-python",
   "name": "python",
   "nbconvert_exporter": "python",
   "pygments_lexer": "ipython3",
   "version": "3.12.1"
  }
 },
 "nbformat": 4,
 "nbformat_minor": 2
}
