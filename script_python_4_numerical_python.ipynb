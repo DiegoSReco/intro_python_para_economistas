{
 "cells": [
  {
   "cell_type": "markdown",
   "metadata": {},
   "source": [
    "# **4. Introducción al uso de Arreglos con `numpy`**\n",
    "\n",
    "`Numpy` (o *Numerical Python*) es uno de los modulos más importantes en Python, ya que muchos otros sistemas o modulos utilizan  arreglos de N-dimensiones  (`ndarray`) los cuales son la estrcutura de datos proncipal en este paquete. Además, este tipo de estrucutras son la base para casi todos los ecosistemas de computación científica en Python como son los modulos de procesamiento de datos, áljebra lineal, modelos estadísticos, machine learning y deep learning. \n"
   ]
  },
  {
   "cell_type": "markdown",
   "metadata": {},
   "source": [
    "## **4.1 Arreglos en `numpy`**\n",
    "\n",
    "Los arreglos son estructuras de datos conformadas por una o multiples listas con valores homogéneos que permiten realizar operaciones matemáticas y estadísticas eficientemente. \n",
    "\n",
    "Para definir un arreglo debemos tener importar el modulo numpy de la siguiente forma:"
   ]
  },
  {
   "cell_type": "code",
   "execution_count": 1,
   "metadata": {},
   "outputs": [],
   "source": [
    "import numpy as np"
   ]
  },
  {
   "cell_type": "markdown",
   "metadata": {},
   "source": [
    "El modulo`numpy` se define con la palabra clave `np`. \n",
    "\n",
    "**Sintáxis**\n",
    "\n",
    "Para definir un arregalo utilizaremos la función `array()` con la palabra clave :\n",
    "```Python \n",
    "np.array(lista)\n",
    "```\n",
    "\n",
    "Lo anterior de define como arreglo de una , pero se puede tener tener arreglos de dos dimensiones:\n",
    "\n",
    "```Python \n",
    "np.array([lista_1, lista_2, lista_3,...,lista_n])\n",
    "```\n",
    "\n",
    "Los arreglos de dos dimensiones se consideran **matrices** y son gran utilidad para la construcción de modelos estadísticos que utilicen vectores y matrices para su construcción\n",
    "\n",
    "Ejemplos de definición de arreglos:\n",
    "\n",
    "* Arreglo de una dimensión"
   ]
  },
  {
   "cell_type": "code",
   "execution_count": 6,
   "metadata": {},
   "outputs": [
    {
     "name": "stdout",
     "output_type": "stream",
     "text": [
      "[ 100  404  404   55   44   55  150  700 1000   38] <class 'numpy.ndarray'>\n"
     ]
    }
   ],
   "source": [
    "#Definir arreglo \n",
    "array_1 = np.array( [100, 404, 404, 55, 44, 55, 150, 700, 1000, 38])\n",
    "#Imprimir\n",
    "print(array_1, type(array_1))"
   ]
  },
  {
   "cell_type": "markdown",
   "metadata": {},
   "source": [
    "* Arreglo de dos dimensiones"
   ]
  },
  {
   "cell_type": "code",
   "execution_count": 9,
   "metadata": {},
   "outputs": [
    {
     "name": "stdout",
     "output_type": "stream",
     "text": [
      "[[ 3  4  4]\n",
      " [ 4 10 32]\n",
      " [24 33 43]]\n"
     ]
    }
   ],
   "source": [
    "#Crear arreglo\n",
    "array_2 = np.array([ [3,4,4] , \n",
    "                     [4,10,32],\n",
    "                     [24,33,43] ])\n",
    "\n",
    "print(array_2)"
   ]
  },
  {
   "cell_type": "markdown",
   "metadata": {},
   "source": [
    "Una de las características más importante de los arreglos es que sólo recibe **valores homogéneos** en las listas, y si no son homogéneos los transforma. Por ejemplo."
   ]
  },
  {
   "cell_type": "code",
   "execution_count": 12,
   "metadata": {},
   "outputs": [
    {
     "name": "stdout",
     "output_type": "stream",
     "text": [
      "[[ 1  0  1]\n",
      " [ 4 10 32]\n",
      " [24 33 43]]\n"
     ]
    }
   ],
   "source": [
    "#Crear arreglo\n",
    "array_3 = np.array([ [True,False, True] , \n",
    "                     [4,10,32],\n",
    "                     [24,33,43] ])\n",
    "\n",
    "\n",
    "print(array_3)"
   ]
  },
  {
   "cell_type": "markdown",
   "metadata": {},
   "source": [
    "### **4.1.1 Creación y manejo de arreglos**"
   ]
  },
  {
   "cell_type": "markdown",
   "metadata": {},
   "source": [
    "### **4.1.1.1 Creación de arreglos**\n",
    "En `numpy` existen una serie de funciones para crear arreglos que contengan ceros, unos, números generados de forma aleatoria, muestras a partir de distribuciones de probabilidad discretas y continuas, etc.\n",
    "\n",
    "1. Para crear arreglos con zeros se utiliza la función `np.zeros(shape)` , en donde el argumento será el tamaño del arreglo de ceros de una dimensión:\n"
   ]
  },
  {
   "cell_type": "code",
   "execution_count": 19,
   "metadata": {},
   "outputs": [
    {
     "name": "stdout",
     "output_type": "stream",
     "text": [
      "[0. 0. 0. 0. 0.]\n"
     ]
    }
   ],
   "source": [
    "#Crear arreglos de ceros 1D\n",
    "array_ceros_1d = np.zeros(5)\n",
    "\n",
    "print(array_ceros_1d)\n",
    "\n"
   ]
  },
  {
   "cell_type": "markdown",
   "metadata": {},
   "source": [
    "  * Para crear una matriz o arreglo de dos dimensiones:"
   ]
  },
  {
   "cell_type": "code",
   "execution_count": 21,
   "metadata": {},
   "outputs": [
    {
     "name": "stdout",
     "output_type": "stream",
     "text": [
      "[[0. 0. 0. 0. 0.]\n",
      " [0. 0. 0. 0. 0.]\n",
      " [0. 0. 0. 0. 0.]\n",
      " [0. 0. 0. 0. 0.]\n",
      " [0. 0. 0. 0. 0.]]\n"
     ]
    }
   ],
   "source": [
    "#Crear arreglos de ceros de 2D \n",
    "array_ceros_2d = np.zeros((5,5))\n",
    "\n",
    "print(array_ceros_2d)"
   ]
  },
  {
   "cell_type": "markdown",
   "metadata": {},
   "source": [
    "2. Para crear arreglos con el número uno se utiliza la función `np.ones(shape)` con la misma sintáxis que en la de los ceros:\n"
   ]
  },
  {
   "cell_type": "code",
   "execution_count": 27,
   "metadata": {},
   "outputs": [
    {
     "name": "stdout",
     "output_type": "stream",
     "text": [
      "[1. 1. 1. 1. 1.]\n",
      "[[1. 1. 1. 1. 1.]\n",
      " [1. 1. 1. 1. 1.]\n",
      " [1. 1. 1. 1. 1.]\n",
      " [1. 1. 1. 1. 1.]\n",
      " [1. 1. 1. 1. 1.]]\n"
     ]
    }
   ],
   "source": [
    "#Crear arreglos de unos 1D\n",
    "array_unos_1d = np.ones(5)\n",
    "\n",
    "print(array_unos_1d)\n",
    "\n",
    "#Crear arreglos de ceros de 2D \n",
    "array_unos_2d = np.ones((5,5))\n",
    "\n",
    "print(array_unos_2d)"
   ]
  },
  {
   "cell_type": "markdown",
   "metadata": {},
   "source": [
    "3. Creación de arreglos de números aleatorios:\n",
    "\n",
    "   La sintáxis será la siguiente: \n",
    "\n",
    "   ```Python  \n",
    "   np.random.randint(inicio, final, tamaño)\n",
    "   ```\n",
    " \n"
   ]
  },
  {
   "cell_type": "code",
   "execution_count": 34,
   "metadata": {},
   "outputs": [
    {
     "name": "stdout",
     "output_type": "stream",
     "text": [
      "Arreglo de una dimensión:\n",
      " [2 3 5 7 3]\n",
      "Arreglo de dos dimensiones o matriz:\n",
      " [[7 9 4 5 1]\n",
      " [5 8 9 3 6]\n",
      " [3 2 4 2 9]\n",
      " [0 8 7 3 7]\n",
      " [6 9 8 8 3]]\n"
     ]
    }
   ],
   "source": [
    "#Definir arreglo 1D\n",
    "array_random_1D = np.random.randint(0, 10, 5)\n",
    "#Resultado\n",
    "print( f\"Arreglo de una dimensión:\\n {array_random_1D}\" )\n",
    "\n",
    "#Definir arreglo 2D\n",
    "array_random_2D = np.random.randint(0, 10, (5,5))\n",
    "#Resultado\n",
    "print( f\"Arreglo de dos dimensiones o matriz:\\n {array_random_2D}\" )"
   ]
  },
  {
   "cell_type": "markdown",
   "metadata": {},
   "source": [
    "3. Creación de un arreglo con muestra de variables alteorias a partir de una distribución binomial:\n",
    "\n",
    "   La sintáxis será la siguiente: \n",
    "\n",
    "   ```Python  \n",
    "   random.binomial(n, p, size=None)\n",
    "   ```\n",
    "   Donde: \n",
    "\n",
    "   `n`: Número de ensayos por experimento.\n",
    "\n",
    "   `p`: Probabilidad de éxito en cada ensayo.\n",
    "\n",
    "   `tamaño`: Número de experimentos independientes que se realizarán.\n"
   ]
  },
  {
   "cell_type": "code",
   "execution_count": 47,
   "metadata": {},
   "outputs": [
    {
     "name": "stdout",
     "output_type": "stream",
     "text": [
      "Arreglo de una dimensión :\n",
      " [6 3 3 2]\n",
      "Arreglo de dos dimensiones :\n",
      " [[4 8 3 5 6]\n",
      " [6 9 8 5 5]\n",
      " [7 4 4 7 3]\n",
      " [4 8 7 3 2]]\n"
     ]
    }
   ],
   "source": [
    "#Creación de arreglo\n",
    "array_binom_1d = np.random.binomial(10, .5, size= 4)\n",
    "#Imprimir resultado\n",
    "print( f\"Arreglo de una dimensión :\\n {array_binom_1d}\" )\n",
    "\n",
    "#Creación de arreglo\n",
    "array_binom_2d = np.random.binomial(10, .5, size= (4,5))\n",
    "#Imprimir resultado\n",
    "\n",
    "print( f\"Arreglo de dos dimensiones :\\n {array_binom_2d}\" )"
   ]
  },
  {
   "cell_type": "markdown",
   "metadata": {},
   "source": [
    "Numpy ofrece una gran cantidad de funciones para crear muestreos de variables a aleatorias a partir de cierta distribución de probabilidad (las veremos más adelante). Para consultar todas las funciones disponibles:   [NumPy](https://numpy.org/)"
   ]
  },
  {
   "cell_type": "markdown",
   "metadata": {},
   "source": [
    "### **4.1.1.2 Manejo de arreglos**"
   ]
  },
  {
   "cell_type": "markdown",
   "metadata": {},
   "source": [
    "### **4.1.2 Aljebra lineal con numpy**"
   ]
  },
  {
   "cell_type": "markdown",
   "metadata": {},
   "source": [
    "### **4.1.3 Funciones estadísticas aplicadas a los arreglos**"
   ]
  }
 ],
 "metadata": {
  "kernelspec": {
   "display_name": "Python 3",
   "language": "python",
   "name": "python3"
  },
  "language_info": {
   "codemirror_mode": {
    "name": "ipython",
    "version": 3
   },
   "file_extension": ".py",
   "mimetype": "text/x-python",
   "name": "python",
   "nbconvert_exporter": "python",
   "pygments_lexer": "ipython3",
   "version": "3.12.1"
  }
 },
 "nbformat": 4,
 "nbformat_minor": 2
}
