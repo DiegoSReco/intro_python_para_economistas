{
 "cells": [
  {
   "cell_type": "markdown",
   "metadata": {},
   "source": [
    "# **4. Arreglos, vectores y matrices con `numpy`**\n",
    "\n",
    "`Numpy` (o *Numerical Python*) es uno de los modulos más importantes en Python, ya que muchos otros sistemas o modulos utilizan  arreglos de N-dimensiones  (`ndarray`)\n"
   ]
  },
  {
   "cell_type": "markdown",
   "metadata": {},
   "source": [
    "## **4.1 ¿Qué son los arreglos?**"
   ]
  }
 ],
 "metadata": {
  "language_info": {
   "name": "python"
  }
 },
 "nbformat": 4,
 "nbformat_minor": 2
}
