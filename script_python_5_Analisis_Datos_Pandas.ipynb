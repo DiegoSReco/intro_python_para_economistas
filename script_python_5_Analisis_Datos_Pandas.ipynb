{
 "cells": [
  {
   "cell_type": "markdown",
   "metadata": {},
   "source": [
    "# **5. Introducción al manejo de datos con `Pandas` 🐼**\n",
    "\n",
    "Pandas es una librería de Python, que se ha convertido en una herramienta indispensable para científicos de datos, analistas y profesionales que trabajan con datos estructurados.\n",
    "\n",
    "**¿Por qué Pandas?**\n",
    "\n",
    "Pandas destaca por su capacidad para manejar datos de manera eficiente y flexible. Sus principales ventajas incluyen:\n",
    "\n",
    "* La habilidad para procesar tanto datos estructurados como no estructurados\n",
    "* Potentes herramientas para limpieza y transformación de datos\n",
    "* Funcionalidades avanzadas para el análisis estadístico\n",
    "* Integración perfecta con otras librerías (numpy, seaborn matplot, statsmodels)\n",
    "\n",
    "\n",
    "El análisis de datos con Pandas típicamente sigue un **flujo de trabajo estructurado**:\n",
    "\n",
    "* **Importación  de Datos**: Pandas facilita la lectura de diversos formatos como CSV, Excel, SQL y JSON, entre otros.\n",
    "* **Limpieza de Datos**: Una fase crítica que incluye el manejo de valores faltantes, eliminación de duplicados y corrección de inconsistencias.\n",
    "* **Transformación**: Proceso de reestructuración de datos mediante operaciones como filtrado, agregación y pivoteo.\n",
    "* **Análisis Exploratorio**: Utilización de estadísticas descriptivas y visualizaciones para comprender patrones y relaciones en los datos.\n",
    "\n",
    "Para comenzar a utilizar Pandas se tiene que ejecutar el comando: \n",
    "\n",
    "```Python \n",
    "   import pandas as pd \n",
    "\n",
    "```\n",
    "\n",
    "En este caso se utiliza la abreviación `pd` para ejecutar funciones que pertenecen a esta librería. "
   ]
  },
  {
   "cell_type": "markdown",
   "metadata": {},
   "source": [
    "## **5.1 Objetos básicos en Pandas**\n",
    "\n",
    "**Estructuras de Datos Fundamentales**\n",
    "\n",
    "Pandas se basa en dos estructuras de datos principales u objetos:\n",
    "\n",
    "* **Series**: Arreglos unidimensionales etiquetados, similares a una lista, un arreglo (una dimensión) o una columna en una hoja de Excel.\n",
    "\n",
    "* **DataFrame**: Estructuras bidimensionales que pueden verse como una tabla de base de datos.\n"
   ]
  },
  {
   "cell_type": "markdown",
   "metadata": {},
   "source": [
    "### **5.1.1 Series**\n",
    "\n",
    "Una **Serie** en Python (``pandas.Series``) es una estructura de datos unidimensional etiquetada (indexados) que puede contener cualquier tipo de datos (números, cadenas, objetos Python, datos personalizados) y pueden ser creadas a partir de listas, arreglos, diccionarios, etc.\n",
    "\n",
    "**Sintáxis**\n",
    "\n",
    "Para definir una serie en Pandas se utiliza la siguiente sintáxis.\n",
    "\n",
    "```Python \n",
    "   pd.Series([e_1,...e_n])\n",
    "``` \n",
    "Ejemplo: \n",
    "\n",
    "* Creación de Serie a partir de una **diccionario**.\n",
    "\n",
    "  En este caso los valores están indexados o etiquetados por las claves del diccionario:"
   ]
  },
  {
   "cell_type": "code",
   "execution_count": 70,
   "metadata": {},
   "outputs": [
    {
     "name": "stdout",
     "output_type": "stream",
     "text": [
      "2021    130.97\n",
      "2022    140.89\n",
      "Name: Salario_Promedio_MXN, dtype: float64\n"
     ]
    }
   ],
   "source": [
    "#Importamos librería\n",
    "import pandas as pd \n",
    "\n",
    "#Creación diccionario\n",
    "salarios_data = {\n",
    "    \n",
    "                '2021': 130.97,  # Salario promedio 2021\n",
    "                '2022': 140.89   # Salario promedio 2022\n",
    "                 }\n",
    "# Crear la serie\n",
    "serie_salarios = pd.Series(salarios_data, name='Salario_Promedio_MXN')\n",
    "\n",
    "print(serie_salarios)"
   ]
  },
  {
   "cell_type": "markdown",
   "metadata": {},
   "source": [
    "* Creación de Serie a partir de una lista \n",
    "\n",
    "  Para el caso de las **listas** la indexación será por la posición del valor en ésta:\n"
   ]
  },
  {
   "cell_type": "code",
   "execution_count": 71,
   "metadata": {},
   "outputs": [
    {
     "name": "stdout",
     "output_type": "stream",
     "text": [
      "0    120.36\n",
      "1    130.97\n",
      "2    140.89\n",
      "Name: Salario_Promedio_MXN, dtype: float64\n"
     ]
    }
   ],
   "source": [
    "#Lista\n",
    "salarios_data = [ \n",
    "                 120.36,  # Salario promedio 2020\n",
    "                 130.97,  # Salario promedio 2021\n",
    "                 140.89   # Salario promedio 2022\n",
    "                 ]\n",
    "\n",
    "# Crear la serie\n",
    "serie_salarios2 = pd.Series(salarios_data, name='Salario_Promedio_MXN')\n",
    "\n",
    "print(serie_salarios2)"
   ]
  },
  {
   "cell_type": "markdown",
   "metadata": {},
   "source": [
    "Por lo tanto, las **Series** tendran dos propiedad valores (*values*) e índices (*index*): "
   ]
  },
  {
   "cell_type": "code",
   "execution_count": 72,
   "metadata": {},
   "outputs": [
    {
     "name": "stdout",
     "output_type": "stream",
     "text": [
      "[130.97 140.89]\n",
      "Index(['2021', '2022'], dtype='object')\n"
     ]
    }
   ],
   "source": [
    "#Valores \n",
    "print(serie_salarios.values)\n",
    "#Index\n",
    "print(serie_salarios.index)"
   ]
  },
  {
   "cell_type": "markdown",
   "metadata": {},
   "source": [
    "Para el manejo y operación con series se combina características de diccionarios, listas y arreglos como :\n",
    "\n",
    "* Acceso a elementos:  se puede acceder a elementos por su posición usando índices numéricos, igual que en listaso bien por la etiqueta no númerica definida.\n",
    "\n",
    "* Operación: las series se operan de forma simiar a las listas y se le aplican funciones similares vistas en la **sección 2.2.1**\n",
    "\n",
    "* Mutabilidad: A diferencia de listas y diccionarios, no puedes modificar elementos directamente por posición sin crear una nueva serie (aunque puedes modificar valores existentes).\n"
   ]
  },
  {
   "cell_type": "markdown",
   "metadata": {},
   "source": [
    "### **5.1.2 Dataframes**\n",
    "\n",
    "Un **Dataframe (DF)** en Python (``pandas.Series``) es una estructura de datos formada por columnas y filas, y al igual que las Series también puede está indexado. Este tipo de estructura en Pandas es la más común en el análisis de datos ya que es compatible con un gran número de librarías para el desarrollo de modelos econométricos y estadísticos. Los DF se forman a patir de otras estructuras más simples como lo son las listas, series, arreglos y diccionarios.\n",
    "\n",
    "\n",
    " * **Creación de Dataframe a partir de un diccionario**\n",
    "\n",
    "     **Sintáxis**\n",
    "     \n",
    "     Para definir una DF en  Pandas a partir de un **diccionari**o se utiliza la siguiente sintáxis:\n",
    "     \n",
    "     ```Python \n",
    "        pd.DataFrame(dict)\n",
    "     ``` \n",
    "     \n",
    "     Ejemplo: \n",
    "     \n",
    "      Se tiene un diccionario con datos de porcentaje de la población en situación de pobreza por estado en México ([CONEVAL 2022](https://www.coneval.org.mx/Medicion/MP/Paginas/Pobreza_2022.aspx)):\n",
    "\n",
    "\n"
   ]
  },
  {
   "cell_type": "code",
   "execution_count": 128,
   "metadata": {},
   "outputs": [
    {
     "name": "stdout",
     "output_type": "stream",
     "text": [
      "El diccionario tiene como clavesdict_keys(['Estados', 'TasaPobreza', 'TasaDesempleo', 'Region'])\n"
     ]
    }
   ],
   "source": [
    "#Diccionario\n",
    "dic_estados = {\n",
    "    \"Estados\": [\"Chiapas\", \"Guerrero\", \"Oaxaca\", \"Puebla\", \"Tlaxcala\", \"Veracruz\", \"Tabasco\", \"Campeche\", \"Zacatecas\", \"México\", \"Michoacán\", \"Morelos\", \"Hidalgo\", \"Yucatán\", \"San Luis Potosí\", \"Durango\", \"Guanajuato\", \"Nayarit\", \"Quintana Roo\", \"Tamaulipas\", \"Ciudad de México\", \"Aguascalientes\", \"Jalisco\", \"Sonora\", \"Querétaro\", \"Sinaloa\", \"Colima\", \"Coahuila\", \"Chihuahua\", \"Nuevo León\", \"Baja California\", \"Baja California Sur\"],\n",
    "    \"TasaPobreza\": [67.4, 60.4, 58.4, 54.0, 52.5, 51.7, 46.5, 45.1, 44.2, 42.9, 41.7, 41.1, 41.0, 38.8, 35.5, 34.3, 33.0, 29.3, 27.0, 26.8, 24.0, 23.7, 21.8, 21.7, 21.7, 21.6, 20.5, 18.2, 17.6, 16.0, 13.4, 13.3],\n",
    "    \"TasaDesempleo\": [3.5, 2.8, 2.7, 3.0, 3.2, 3.3, 4.1, 3.8, 3.7, 4.0, 3.6, 3.5, 3.2, 2.9, 3.4, 3.6, 3.8, 3.3, 3.5, 4.2, 5.1, 3.9, 3.7, 3.5, 4.0, 3.6, 3.4, 3.2, 3.0, 3.1, 3.5, 3.2],\n",
    "    \"Region\": [\"Sur\", \"Sur\", \"Sur\", \"Centro\", \"Centro\", \"Sur\", \"Sur\", \"Sur\", \"Centro\", \"Centro\", \"Centro\", \"Centro\", \"Centro\", \"Sur\", \"Centro\", \"Norte\", \"Centro\", \"Centro\", \"Sur\", \"Norte\", \"Centro\", \"Centro\", \"Centro\", \"Norte\", \"Centro\", \"Norte\", \"Centro\", \"Norte\", \"Norte\", \"Norte\", \"Norte\", \"Norte\"]\n",
    "             }\n",
    "\n",
    "print(fr\"El diccionario tiene como claves{dic_estados.keys()}\")\n",
    "\n"
   ]
  },
  {
   "cell_type": "code",
   "execution_count": null,
   "metadata": {},
   "outputs": [
    {
     "name": "stdout",
     "output_type": "stream",
     "text": [
      "                Estados  TasaPobreza  TasaDesempleo  Region\n",
      "0               Chiapas         67.4            3.5     Sur\n",
      "1              Guerrero         60.4            2.8     Sur\n",
      "2                Oaxaca         58.4            2.7     Sur\n",
      "3                Puebla         54.0            3.0  Centro\n",
      "4              Tlaxcala         52.5            3.2  Centro\n",
      "5              Veracruz         51.7            3.3     Sur\n",
      "6               Tabasco         46.5            4.1     Sur\n",
      "7              Campeche         45.1            3.8     Sur\n",
      "8             Zacatecas         44.2            3.7  Centro\n",
      "9                México         42.9            4.0  Centro\n",
      "10            Michoacán         41.7            3.6  Centro\n",
      "11              Morelos         41.1            3.5  Centro\n",
      "12              Hidalgo         41.0            3.2  Centro\n",
      "13              Yucatán         38.8            2.9     Sur\n",
      "14      San Luis Potosí         35.5            3.4  Centro\n",
      "15              Durango         34.3            3.6   Norte\n",
      "16           Guanajuato         33.0            3.8  Centro\n",
      "17              Nayarit         29.3            3.3  Centro\n",
      "18         Quintana Roo         27.0            3.5     Sur\n",
      "19           Tamaulipas         26.8            4.2   Norte\n",
      "20     Ciudad de México         24.0            5.1  Centro\n",
      "21       Aguascalientes         23.7            3.9  Centro\n",
      "22              Jalisco         21.8            3.7  Centro\n",
      "23               Sonora         21.7            3.5   Norte\n",
      "24            Querétaro         21.7            4.0  Centro\n",
      "25              Sinaloa         21.6            3.6   Norte\n",
      "26               Colima         20.5            3.4  Centro\n",
      "27             Coahuila         18.2            3.2   Norte\n",
      "28            Chihuahua         17.6            3.0   Norte\n",
      "29           Nuevo León         16.0            3.1   Norte\n",
      "30      Baja California         13.4            3.5   Norte\n",
      "31  Baja California Sur         13.3            3.2   Norte \n",
      " <class 'pandas.core.frame.DataFrame'> \n",
      "\n"
     ]
    }
   ],
   "source": [
    "#Crear DataFrame\n",
    "df_estados = pd.DataFrame(dic_estados)\n",
    "\n",
    "print(df_estados ,\"\\n\", type(df_estados), \"\\n\")"
   ]
  },
  {
   "cell_type": "markdown",
   "metadata": {},
   "source": [
    "Como se observa en la salida anterior, los DF son estructuras bidimensionales que están indexadas por las **filas** y también por las **columnas**.\n"
   ]
  },
  {
   "cell_type": "markdown",
   "metadata": {},
   "source": [
    "### **Manejo y Funciones básicas en Data Frames**\n",
    "\n",
    "\n",
    "\n",
    "#### **Funciones en dataframes**\n",
    "\n"
   ]
  },
  {
   "cell_type": "code",
   "execution_count": 75,
   "metadata": {},
   "outputs": [
    {
     "data": {
      "text/plain": [
       "Index(['Estados', 'TasaPobreza', 'TasaDesempleo', 'Region'], dtype='object')"
      ]
     },
     "execution_count": 75,
     "metadata": {},
     "output_type": "execute_result"
    }
   ],
   "source": [
    "#Columnas del Dataframe\n",
    "df_estados.columns"
   ]
  },
  {
   "cell_type": "markdown",
   "metadata": {},
   "source": [
    "Para obtener el número de filas y columnas de un Df podemo aplicar el comando  `shape`:"
   ]
  },
  {
   "cell_type": "code",
   "execution_count": 76,
   "metadata": {},
   "outputs": [
    {
     "data": {
      "text/plain": [
       "(32, 4)"
      ]
     },
     "execution_count": 76,
     "metadata": {},
     "output_type": "execute_result"
    }
   ],
   "source": [
    "#Dimensión de Dataframe\n",
    "df_estados.shape"
   ]
  },
  {
   "cell_type": "markdown",
   "metadata": {},
   "source": [
    "Además, si se requiere dar un vistazo a las primeras  o últimas `n` filas de DF se utilizarán las funciones `head()` y `tail()`:\n"
   ]
  },
  {
   "cell_type": "code",
   "execution_count": 77,
   "metadata": {},
   "outputs": [
    {
     "name": "stdout",
     "output_type": "stream",
     "text": [
      "    Estados  TasaPobreza  TasaDesempleo  Region\n",
      "0   Chiapas         67.4            3.5     Sur\n",
      "1  Guerrero         60.4            2.8     Sur\n",
      "2    Oaxaca         58.4            2.7     Sur\n",
      "3    Puebla         54.0            3.0  Centro\n",
      "4  Tlaxcala         52.5            3.2  Centro\n",
      "                Estados  TasaPobreza  TasaDesempleo Region\n",
      "27             Coahuila         18.2            3.2  Norte\n",
      "28            Chihuahua         17.6            3.0  Norte\n",
      "29           Nuevo León         16.0            3.1  Norte\n",
      "30      Baja California         13.4            3.5  Norte\n",
      "31  Baja California Sur         13.3            3.2  Norte\n"
     ]
    }
   ],
   "source": [
    "#Primera 5 filas\n",
    "print(df_estados.head(5))\n",
    "\n",
    "#Ultimas 5 filas\n",
    "print(df_estados.tail(5))"
   ]
  },
  {
   "cell_type": "markdown",
   "metadata": {},
   "source": [
    "- **Información del DF**"
   ]
  },
  {
   "cell_type": "code",
   "execution_count": 78,
   "metadata": {},
   "outputs": [
    {
     "name": "stdout",
     "output_type": "stream",
     "text": [
      "<class 'pandas.core.frame.DataFrame'>\n",
      "RangeIndex: 32 entries, 0 to 31\n",
      "Data columns (total 4 columns):\n",
      " #   Column         Non-Null Count  Dtype  \n",
      "---  ------         --------------  -----  \n",
      " 0   Estados        32 non-null     object \n",
      " 1   TasaPobreza    32 non-null     float64\n",
      " 2   TasaDesempleo  32 non-null     float64\n",
      " 3   Region         32 non-null     object \n",
      "dtypes: float64(2), object(2)\n",
      "memory usage: 1.1+ KB\n"
     ]
    }
   ],
   "source": [
    "# Información sobre el DataFrame\n",
    "df_estados.info()  \n"
   ]
  },
  {
   "cell_type": "code",
   "execution_count": 79,
   "metadata": {},
   "outputs": [
    {
     "data": {
      "application/vnd.microsoft.datawrangler.viewer.v0+json": {
       "columns": [
        {
         "name": "index",
         "rawType": "object",
         "type": "string"
        },
        {
         "name": "TasaPobreza",
         "rawType": "float64",
         "type": "float"
        },
        {
         "name": "TasaDesempleo",
         "rawType": "float64",
         "type": "float"
        }
       ],
       "conversionMethod": "pd.DataFrame",
       "ref": "e653a90b-1747-479d-918c-af41740e1da7",
       "rows": [
        [
         "count",
         "32.0",
         "32.0"
        ],
        [
         "mean",
         "34.534375",
         "3.509375"
        ],
        [
         "std",
         "14.934234526318942",
         "0.47407592627233003"
        ],
        [
         "min",
         "13.3",
         "2.7"
        ],
        [
         "25%",
         "21.7",
         "3.2"
        ],
        [
         "50%",
         "33.65",
         "3.5"
        ],
        [
         "75%",
         "44.425000000000004",
         "3.725"
        ],
        [
         "max",
         "67.4",
         "5.1"
        ]
       ],
       "shape": {
        "columns": 2,
        "rows": 8
       }
      },
      "text/html": [
       "<div>\n",
       "<style scoped>\n",
       "    .dataframe tbody tr th:only-of-type {\n",
       "        vertical-align: middle;\n",
       "    }\n",
       "\n",
       "    .dataframe tbody tr th {\n",
       "        vertical-align: top;\n",
       "    }\n",
       "\n",
       "    .dataframe thead th {\n",
       "        text-align: right;\n",
       "    }\n",
       "</style>\n",
       "<table border=\"1\" class=\"dataframe\">\n",
       "  <thead>\n",
       "    <tr style=\"text-align: right;\">\n",
       "      <th></th>\n",
       "      <th>TasaPobreza</th>\n",
       "      <th>TasaDesempleo</th>\n",
       "    </tr>\n",
       "  </thead>\n",
       "  <tbody>\n",
       "    <tr>\n",
       "      <th>count</th>\n",
       "      <td>32.000000</td>\n",
       "      <td>32.000000</td>\n",
       "    </tr>\n",
       "    <tr>\n",
       "      <th>mean</th>\n",
       "      <td>34.534375</td>\n",
       "      <td>3.509375</td>\n",
       "    </tr>\n",
       "    <tr>\n",
       "      <th>std</th>\n",
       "      <td>14.934235</td>\n",
       "      <td>0.474076</td>\n",
       "    </tr>\n",
       "    <tr>\n",
       "      <th>min</th>\n",
       "      <td>13.300000</td>\n",
       "      <td>2.700000</td>\n",
       "    </tr>\n",
       "    <tr>\n",
       "      <th>25%</th>\n",
       "      <td>21.700000</td>\n",
       "      <td>3.200000</td>\n",
       "    </tr>\n",
       "    <tr>\n",
       "      <th>50%</th>\n",
       "      <td>33.650000</td>\n",
       "      <td>3.500000</td>\n",
       "    </tr>\n",
       "    <tr>\n",
       "      <th>75%</th>\n",
       "      <td>44.425000</td>\n",
       "      <td>3.725000</td>\n",
       "    </tr>\n",
       "    <tr>\n",
       "      <th>max</th>\n",
       "      <td>67.400000</td>\n",
       "      <td>5.100000</td>\n",
       "    </tr>\n",
       "  </tbody>\n",
       "</table>\n",
       "</div>"
      ],
      "text/plain": [
       "       TasaPobreza  TasaDesempleo\n",
       "count    32.000000      32.000000\n",
       "mean     34.534375       3.509375\n",
       "std      14.934235       0.474076\n",
       "min      13.300000       2.700000\n",
       "25%      21.700000       3.200000\n",
       "50%      33.650000       3.500000\n",
       "75%      44.425000       3.725000\n",
       "max      67.400000       5.100000"
      ]
     },
     "execution_count": 79,
     "metadata": {},
     "output_type": "execute_result"
    }
   ],
   "source": [
    "#Estadística descriptiva de variables númericas \n",
    "df_estados.describe()"
   ]
  },
  {
   "cell_type": "markdown",
   "metadata": {},
   "source": [
    "#### **Selección de elementos  y modificación**\n",
    "\n",
    "##### **Columnas**"
   ]
  },
  {
   "cell_type": "code",
   "execution_count": 80,
   "metadata": {},
   "outputs": [
    {
     "data": {
      "text/plain": [
       "0                 Chiapas\n",
       "1                Guerrero\n",
       "2                  Oaxaca\n",
       "3                  Puebla\n",
       "4                Tlaxcala\n",
       "5                Veracruz\n",
       "6                 Tabasco\n",
       "7                Campeche\n",
       "8               Zacatecas\n",
       "9                  México\n",
       "10              Michoacán\n",
       "11                Morelos\n",
       "12                Hidalgo\n",
       "13                Yucatán\n",
       "14        San Luis Potosí\n",
       "15                Durango\n",
       "16             Guanajuato\n",
       "17                Nayarit\n",
       "18           Quintana Roo\n",
       "19             Tamaulipas\n",
       "20       Ciudad de México\n",
       "21         Aguascalientes\n",
       "22                Jalisco\n",
       "23                 Sonora\n",
       "24              Querétaro\n",
       "25                Sinaloa\n",
       "26                 Colima\n",
       "27               Coahuila\n",
       "28              Chihuahua\n",
       "29             Nuevo León\n",
       "30        Baja California\n",
       "31    Baja California Sur\n",
       "Name: Estados, dtype: object"
      ]
     },
     "execution_count": 80,
     "metadata": {},
     "output_type": "execute_result"
    }
   ],
   "source": [
    "#Columnas \n",
    "df_estados['Estados']"
   ]
  },
  {
   "cell_type": "code",
   "execution_count": 81,
   "metadata": {},
   "outputs": [
    {
     "name": "stdout",
     "output_type": "stream",
     "text": [
      "                Estados  TasaPobreza\n",
      "0               Chiapas         67.4\n",
      "1              Guerrero         60.4\n",
      "2                Oaxaca         58.4\n",
      "3                Puebla         54.0\n",
      "4              Tlaxcala         52.5\n",
      "5              Veracruz         51.7\n",
      "6               Tabasco         46.5\n",
      "7              Campeche         45.1\n",
      "8             Zacatecas         44.2\n",
      "9                México         42.9\n",
      "10            Michoacán         41.7\n",
      "11              Morelos         41.1\n",
      "12              Hidalgo         41.0\n",
      "13              Yucatán         38.8\n",
      "14      San Luis Potosí         35.5\n",
      "15              Durango         34.3\n",
      "16           Guanajuato         33.0\n",
      "17              Nayarit         29.3\n",
      "18         Quintana Roo         27.0\n",
      "19           Tamaulipas         26.8\n",
      "20     Ciudad de México         24.0\n",
      "21       Aguascalientes         23.7\n",
      "22              Jalisco         21.8\n",
      "23               Sonora         21.7\n",
      "24            Querétaro         21.7\n",
      "25              Sinaloa         21.6\n",
      "26               Colima         20.5\n",
      "27             Coahuila         18.2\n",
      "28            Chihuahua         17.6\n",
      "29           Nuevo León         16.0\n",
      "30      Baja California         13.4\n",
      "31  Baja California Sur         13.3\n"
     ]
    }
   ],
   "source": [
    "#Seleccionar multiples columnas \n",
    "df_estados_2 = df_estados[['Estados', 'TasaPobreza']]\n",
    "\n",
    "print(df_estados_2)\n"
   ]
  },
  {
   "cell_type": "markdown",
   "metadata": {},
   "source": [
    "##### **Columnas**"
   ]
  },
  {
   "cell_type": "code",
   "execution_count": 102,
   "metadata": {},
   "outputs": [
    {
     "data": {
      "text/plain": [
       "Estados          Chiapas\n",
       "TasaPobreza         67.4\n",
       "TasaDesempleo        3.5\n",
       "Region               Sur\n",
       "Name: 0, dtype: object"
      ]
     },
     "execution_count": 102,
     "metadata": {},
     "output_type": "execute_result"
    }
   ],
   "source": [
    "#Primera Fila \n",
    "df_estados.iloc[0]"
   ]
  },
  {
   "cell_type": "code",
   "execution_count": null,
   "metadata": {},
   "outputs": [
    {
     "ename": "KeyError",
     "evalue": "0",
     "output_type": "error",
     "traceback": [
      "\u001b[1;31m---------------------------------------------------------------------------\u001b[0m",
      "\u001b[1;31mKeyError\u001b[0m                                  Traceback (most recent call last)",
      "File \u001b[1;32mc:\\Users\\Diego\\AppData\\Local\\Programs\\Python\\Python312\\Lib\\site-packages\\pandas\\core\\indexes\\base.py:3805\u001b[0m, in \u001b[0;36mIndex.get_loc\u001b[1;34m(self, key)\u001b[0m\n\u001b[0;32m   3804\u001b[0m \u001b[38;5;28;01mtry\u001b[39;00m:\n\u001b[1;32m-> 3805\u001b[0m     \u001b[38;5;28;01mreturn\u001b[39;00m \u001b[38;5;28;43mself\u001b[39;49m\u001b[38;5;241;43m.\u001b[39;49m\u001b[43m_engine\u001b[49m\u001b[38;5;241;43m.\u001b[39;49m\u001b[43mget_loc\u001b[49m\u001b[43m(\u001b[49m\u001b[43mcasted_key\u001b[49m\u001b[43m)\u001b[49m\n\u001b[0;32m   3806\u001b[0m \u001b[38;5;28;01mexcept\u001b[39;00m \u001b[38;5;167;01mKeyError\u001b[39;00m \u001b[38;5;28;01mas\u001b[39;00m err:\n",
      "File \u001b[1;32mindex.pyx:167\u001b[0m, in \u001b[0;36mpandas._libs.index.IndexEngine.get_loc\u001b[1;34m()\u001b[0m\n",
      "File \u001b[1;32mindex.pyx:196\u001b[0m, in \u001b[0;36mpandas._libs.index.IndexEngine.get_loc\u001b[1;34m()\u001b[0m\n",
      "File \u001b[1;32mpandas\\\\_libs\\\\hashtable_class_helper.pxi:7081\u001b[0m, in \u001b[0;36mpandas._libs.hashtable.PyObjectHashTable.get_item\u001b[1;34m()\u001b[0m\n",
      "File \u001b[1;32mpandas\\\\_libs\\\\hashtable_class_helper.pxi:7089\u001b[0m, in \u001b[0;36mpandas._libs.hashtable.PyObjectHashTable.get_item\u001b[1;34m()\u001b[0m\n",
      "\u001b[1;31mKeyError\u001b[0m: 0",
      "\nThe above exception was the direct cause of the following exception:\n",
      "\u001b[1;31mKeyError\u001b[0m                                  Traceback (most recent call last)",
      "Cell \u001b[1;32mIn[103], line 2\u001b[0m\n\u001b[0;32m      1\u001b[0m \u001b[38;5;66;03m#Otra forma \u001b[39;00m\n\u001b[1;32m----> 2\u001b[0m \u001b[43mdf_estados\u001b[49m\u001b[43m[\u001b[49m\u001b[38;5;241;43m0\u001b[39;49m\u001b[43m]\u001b[49m\n",
      "File \u001b[1;32mc:\\Users\\Diego\\AppData\\Local\\Programs\\Python\\Python312\\Lib\\site-packages\\pandas\\core\\frame.py:4102\u001b[0m, in \u001b[0;36mDataFrame.__getitem__\u001b[1;34m(self, key)\u001b[0m\n\u001b[0;32m   4100\u001b[0m \u001b[38;5;28;01mif\u001b[39;00m \u001b[38;5;28mself\u001b[39m\u001b[38;5;241m.\u001b[39mcolumns\u001b[38;5;241m.\u001b[39mnlevels \u001b[38;5;241m>\u001b[39m \u001b[38;5;241m1\u001b[39m:\n\u001b[0;32m   4101\u001b[0m     \u001b[38;5;28;01mreturn\u001b[39;00m \u001b[38;5;28mself\u001b[39m\u001b[38;5;241m.\u001b[39m_getitem_multilevel(key)\n\u001b[1;32m-> 4102\u001b[0m indexer \u001b[38;5;241m=\u001b[39m \u001b[38;5;28;43mself\u001b[39;49m\u001b[38;5;241;43m.\u001b[39;49m\u001b[43mcolumns\u001b[49m\u001b[38;5;241;43m.\u001b[39;49m\u001b[43mget_loc\u001b[49m\u001b[43m(\u001b[49m\u001b[43mkey\u001b[49m\u001b[43m)\u001b[49m\n\u001b[0;32m   4103\u001b[0m \u001b[38;5;28;01mif\u001b[39;00m is_integer(indexer):\n\u001b[0;32m   4104\u001b[0m     indexer \u001b[38;5;241m=\u001b[39m [indexer]\n",
      "File \u001b[1;32mc:\\Users\\Diego\\AppData\\Local\\Programs\\Python\\Python312\\Lib\\site-packages\\pandas\\core\\indexes\\base.py:3812\u001b[0m, in \u001b[0;36mIndex.get_loc\u001b[1;34m(self, key)\u001b[0m\n\u001b[0;32m   3807\u001b[0m     \u001b[38;5;28;01mif\u001b[39;00m \u001b[38;5;28misinstance\u001b[39m(casted_key, \u001b[38;5;28mslice\u001b[39m) \u001b[38;5;129;01mor\u001b[39;00m (\n\u001b[0;32m   3808\u001b[0m         \u001b[38;5;28misinstance\u001b[39m(casted_key, abc\u001b[38;5;241m.\u001b[39mIterable)\n\u001b[0;32m   3809\u001b[0m         \u001b[38;5;129;01mand\u001b[39;00m \u001b[38;5;28many\u001b[39m(\u001b[38;5;28misinstance\u001b[39m(x, \u001b[38;5;28mslice\u001b[39m) \u001b[38;5;28;01mfor\u001b[39;00m x \u001b[38;5;129;01min\u001b[39;00m casted_key)\n\u001b[0;32m   3810\u001b[0m     ):\n\u001b[0;32m   3811\u001b[0m         \u001b[38;5;28;01mraise\u001b[39;00m InvalidIndexError(key)\n\u001b[1;32m-> 3812\u001b[0m     \u001b[38;5;28;01mraise\u001b[39;00m \u001b[38;5;167;01mKeyError\u001b[39;00m(key) \u001b[38;5;28;01mfrom\u001b[39;00m \u001b[38;5;21;01merr\u001b[39;00m\n\u001b[0;32m   3813\u001b[0m \u001b[38;5;28;01mexcept\u001b[39;00m \u001b[38;5;167;01mTypeError\u001b[39;00m:\n\u001b[0;32m   3814\u001b[0m     \u001b[38;5;66;03m# If we have a listlike key, _check_indexing_error will raise\u001b[39;00m\n\u001b[0;32m   3815\u001b[0m     \u001b[38;5;66;03m#  InvalidIndexError. Otherwise we fall through and re-raise\u001b[39;00m\n\u001b[0;32m   3816\u001b[0m     \u001b[38;5;66;03m#  the TypeError.\u001b[39;00m\n\u001b[0;32m   3817\u001b[0m     \u001b[38;5;28mself\u001b[39m\u001b[38;5;241m.\u001b[39m_check_indexing_error(key)\n",
      "\u001b[1;31mKeyError\u001b[0m: 0"
     ]
    }
   ],
   "source": [
    "#Listas\n",
    "df_estados[0]"
   ]
  },
  {
   "cell_type": "code",
   "execution_count": 109,
   "metadata": {},
   "outputs": [
    {
     "data": {
      "text/plain": [
       "Estados          Baja California Sur\n",
       "TasaPobreza                     13.3\n",
       "TasaDesempleo                    3.2\n",
       "Region                         Norte\n",
       "Name: 31, dtype: object"
      ]
     },
     "execution_count": 109,
     "metadata": {},
     "output_type": "execute_result"
    }
   ],
   "source": [
    "#Última fila \n",
    "df_estados.iloc[-1]"
   ]
  },
  {
   "cell_type": "code",
   "execution_count": 110,
   "metadata": {},
   "outputs": [
    {
     "data": {
      "application/vnd.microsoft.datawrangler.viewer.v0+json": {
       "columns": [
        {
         "name": "index",
         "rawType": "int64",
         "type": "integer"
        },
        {
         "name": "Estados",
         "rawType": "object",
         "type": "string"
        },
        {
         "name": "TasaPobreza",
         "rawType": "float64",
         "type": "float"
        },
        {
         "name": "TasaDesempleo",
         "rawType": "float64",
         "type": "float"
        },
        {
         "name": "Region",
         "rawType": "object",
         "type": "string"
        }
       ],
       "conversionMethod": "pd.DataFrame",
       "ref": "fb02ad66-8d9d-4679-8452-20cdfaee88e1",
       "rows": [
        [
         "0",
         "Chiapas",
         "67.4",
         "3.5",
         "Sur"
        ],
        [
         "1",
         "Guerrero",
         "60.4",
         "2.8",
         "Sur"
        ],
        [
         "2",
         "Oaxaca",
         "58.4",
         "2.7",
         "Sur"
        ]
       ],
       "shape": {
        "columns": 4,
        "rows": 3
       }
      },
      "text/html": [
       "<div>\n",
       "<style scoped>\n",
       "    .dataframe tbody tr th:only-of-type {\n",
       "        vertical-align: middle;\n",
       "    }\n",
       "\n",
       "    .dataframe tbody tr th {\n",
       "        vertical-align: top;\n",
       "    }\n",
       "\n",
       "    .dataframe thead th {\n",
       "        text-align: right;\n",
       "    }\n",
       "</style>\n",
       "<table border=\"1\" class=\"dataframe\">\n",
       "  <thead>\n",
       "    <tr style=\"text-align: right;\">\n",
       "      <th></th>\n",
       "      <th>Estados</th>\n",
       "      <th>TasaPobreza</th>\n",
       "      <th>TasaDesempleo</th>\n",
       "      <th>Region</th>\n",
       "    </tr>\n",
       "  </thead>\n",
       "  <tbody>\n",
       "    <tr>\n",
       "      <th>0</th>\n",
       "      <td>Chiapas</td>\n",
       "      <td>67.4</td>\n",
       "      <td>3.5</td>\n",
       "      <td>Sur</td>\n",
       "    </tr>\n",
       "    <tr>\n",
       "      <th>1</th>\n",
       "      <td>Guerrero</td>\n",
       "      <td>60.4</td>\n",
       "      <td>2.8</td>\n",
       "      <td>Sur</td>\n",
       "    </tr>\n",
       "    <tr>\n",
       "      <th>2</th>\n",
       "      <td>Oaxaca</td>\n",
       "      <td>58.4</td>\n",
       "      <td>2.7</td>\n",
       "      <td>Sur</td>\n",
       "    </tr>\n",
       "  </tbody>\n",
       "</table>\n",
       "</div>"
      ],
      "text/plain": [
       "    Estados  TasaPobreza  TasaDesempleo Region\n",
       "0   Chiapas         67.4            3.5    Sur\n",
       "1  Guerrero         60.4            2.8    Sur\n",
       "2    Oaxaca         58.4            2.7    Sur"
      ]
     },
     "execution_count": 110,
     "metadata": {},
     "output_type": "execute_result"
    }
   ],
   "source": [
    "#Rango de filas\n",
    "df_estados.iloc[0:3]  "
   ]
  },
  {
   "cell_type": "code",
   "execution_count": 111,
   "metadata": {},
   "outputs": [
    {
     "data": {
      "application/vnd.microsoft.datawrangler.viewer.v0+json": {
       "columns": [
        {
         "name": "index",
         "rawType": "int64",
         "type": "integer"
        },
        {
         "name": "Estados",
         "rawType": "object",
         "type": "string"
        },
        {
         "name": "TasaPobreza",
         "rawType": "float64",
         "type": "float"
        },
        {
         "name": "TasaDesempleo",
         "rawType": "float64",
         "type": "float"
        },
        {
         "name": "Region",
         "rawType": "object",
         "type": "string"
        }
       ],
       "conversionMethod": "pd.DataFrame",
       "ref": "a931ac76-b80e-4d60-a87f-4a314223a414",
       "rows": [
        [
         "0",
         "Chiapas",
         "67.4",
         "3.5",
         "Sur"
        ],
        [
         "1",
         "Guerrero",
         "60.4",
         "2.8",
         "Sur"
        ],
        [
         "2",
         "Oaxaca",
         "58.4",
         "2.7",
         "Sur"
        ],
        [
         "3",
         "Puebla",
         "54.0",
         "3.0",
         "Centro"
        ],
        [
         "4",
         "Tlaxcala",
         "52.5",
         "3.2",
         "Centro"
        ],
        [
         "5",
         "Veracruz",
         "51.7",
         "3.3",
         "Sur"
        ],
        [
         "6",
         "Tabasco",
         "46.5",
         "4.1",
         "Sur"
        ],
        [
         "7",
         "Campeche",
         "45.1",
         "3.8",
         "Sur"
        ],
        [
         "8",
         "Zacatecas",
         "44.2",
         "3.7",
         "Centro"
        ],
        [
         "9",
         "México",
         "42.9",
         "4.0",
         "Centro"
        ],
        [
         "10",
         "Michoacán",
         "41.7",
         "3.6",
         "Centro"
        ],
        [
         "11",
         "Morelos",
         "41.1",
         "3.5",
         "Centro"
        ],
        [
         "12",
         "Hidalgo",
         "41.0",
         "3.2",
         "Centro"
        ],
        [
         "13",
         "Yucatán",
         "38.8",
         "2.9",
         "Sur"
        ],
        [
         "14",
         "San Luis Potosí",
         "35.5",
         "3.4",
         "Centro"
        ],
        [
         "15",
         "Durango",
         "34.3",
         "3.6",
         "Norte"
        ],
        [
         "16",
         "Guanajuato",
         "33.0",
         "3.8",
         "Centro"
        ],
        [
         "17",
         "Nayarit",
         "29.3",
         "3.3",
         "Centro"
        ],
        [
         "18",
         "Quintana Roo",
         "27.0",
         "3.5",
         "Sur"
        ],
        [
         "19",
         "Tamaulipas",
         "26.8",
         "4.2",
         "Norte"
        ],
        [
         "20",
         "Ciudad de México",
         "24.0",
         "5.1",
         "Centro"
        ],
        [
         "21",
         "Aguascalientes",
         "23.7",
         "3.9",
         "Centro"
        ],
        [
         "22",
         "Jalisco",
         "21.8",
         "3.7",
         "Centro"
        ],
        [
         "23",
         "Sonora",
         "21.7",
         "3.5",
         "Norte"
        ],
        [
         "24",
         "Querétaro",
         "21.7",
         "4.0",
         "Centro"
        ],
        [
         "25",
         "Sinaloa",
         "21.6",
         "3.6",
         "Norte"
        ],
        [
         "26",
         "Colima",
         "20.5",
         "3.4",
         "Centro"
        ],
        [
         "27",
         "Coahuila",
         "18.2",
         "3.2",
         "Norte"
        ],
        [
         "28",
         "Chihuahua",
         "17.6",
         "3.0",
         "Norte"
        ],
        [
         "29",
         "Nuevo León",
         "16.0",
         "3.1",
         "Norte"
        ],
        [
         "30",
         "Baja California",
         "13.4",
         "3.5",
         "Norte"
        ],
        [
         "31",
         "Baja California Sur",
         "13.3",
         "3.2",
         "Norte"
        ]
       ],
       "shape": {
        "columns": 4,
        "rows": 32
       }
      },
      "text/html": [
       "<div>\n",
       "<style scoped>\n",
       "    .dataframe tbody tr th:only-of-type {\n",
       "        vertical-align: middle;\n",
       "    }\n",
       "\n",
       "    .dataframe tbody tr th {\n",
       "        vertical-align: top;\n",
       "    }\n",
       "\n",
       "    .dataframe thead th {\n",
       "        text-align: right;\n",
       "    }\n",
       "</style>\n",
       "<table border=\"1\" class=\"dataframe\">\n",
       "  <thead>\n",
       "    <tr style=\"text-align: right;\">\n",
       "      <th></th>\n",
       "      <th>Estados</th>\n",
       "      <th>TasaPobreza</th>\n",
       "      <th>TasaDesempleo</th>\n",
       "      <th>Region</th>\n",
       "    </tr>\n",
       "  </thead>\n",
       "  <tbody>\n",
       "    <tr>\n",
       "      <th>0</th>\n",
       "      <td>Chiapas</td>\n",
       "      <td>67.4</td>\n",
       "      <td>3.5</td>\n",
       "      <td>Sur</td>\n",
       "    </tr>\n",
       "    <tr>\n",
       "      <th>1</th>\n",
       "      <td>Guerrero</td>\n",
       "      <td>60.4</td>\n",
       "      <td>2.8</td>\n",
       "      <td>Sur</td>\n",
       "    </tr>\n",
       "    <tr>\n",
       "      <th>2</th>\n",
       "      <td>Oaxaca</td>\n",
       "      <td>58.4</td>\n",
       "      <td>2.7</td>\n",
       "      <td>Sur</td>\n",
       "    </tr>\n",
       "    <tr>\n",
       "      <th>3</th>\n",
       "      <td>Puebla</td>\n",
       "      <td>54.0</td>\n",
       "      <td>3.0</td>\n",
       "      <td>Centro</td>\n",
       "    </tr>\n",
       "    <tr>\n",
       "      <th>4</th>\n",
       "      <td>Tlaxcala</td>\n",
       "      <td>52.5</td>\n",
       "      <td>3.2</td>\n",
       "      <td>Centro</td>\n",
       "    </tr>\n",
       "    <tr>\n",
       "      <th>5</th>\n",
       "      <td>Veracruz</td>\n",
       "      <td>51.7</td>\n",
       "      <td>3.3</td>\n",
       "      <td>Sur</td>\n",
       "    </tr>\n",
       "    <tr>\n",
       "      <th>6</th>\n",
       "      <td>Tabasco</td>\n",
       "      <td>46.5</td>\n",
       "      <td>4.1</td>\n",
       "      <td>Sur</td>\n",
       "    </tr>\n",
       "    <tr>\n",
       "      <th>7</th>\n",
       "      <td>Campeche</td>\n",
       "      <td>45.1</td>\n",
       "      <td>3.8</td>\n",
       "      <td>Sur</td>\n",
       "    </tr>\n",
       "    <tr>\n",
       "      <th>8</th>\n",
       "      <td>Zacatecas</td>\n",
       "      <td>44.2</td>\n",
       "      <td>3.7</td>\n",
       "      <td>Centro</td>\n",
       "    </tr>\n",
       "    <tr>\n",
       "      <th>9</th>\n",
       "      <td>México</td>\n",
       "      <td>42.9</td>\n",
       "      <td>4.0</td>\n",
       "      <td>Centro</td>\n",
       "    </tr>\n",
       "    <tr>\n",
       "      <th>10</th>\n",
       "      <td>Michoacán</td>\n",
       "      <td>41.7</td>\n",
       "      <td>3.6</td>\n",
       "      <td>Centro</td>\n",
       "    </tr>\n",
       "    <tr>\n",
       "      <th>11</th>\n",
       "      <td>Morelos</td>\n",
       "      <td>41.1</td>\n",
       "      <td>3.5</td>\n",
       "      <td>Centro</td>\n",
       "    </tr>\n",
       "    <tr>\n",
       "      <th>12</th>\n",
       "      <td>Hidalgo</td>\n",
       "      <td>41.0</td>\n",
       "      <td>3.2</td>\n",
       "      <td>Centro</td>\n",
       "    </tr>\n",
       "    <tr>\n",
       "      <th>13</th>\n",
       "      <td>Yucatán</td>\n",
       "      <td>38.8</td>\n",
       "      <td>2.9</td>\n",
       "      <td>Sur</td>\n",
       "    </tr>\n",
       "    <tr>\n",
       "      <th>14</th>\n",
       "      <td>San Luis Potosí</td>\n",
       "      <td>35.5</td>\n",
       "      <td>3.4</td>\n",
       "      <td>Centro</td>\n",
       "    </tr>\n",
       "    <tr>\n",
       "      <th>15</th>\n",
       "      <td>Durango</td>\n",
       "      <td>34.3</td>\n",
       "      <td>3.6</td>\n",
       "      <td>Norte</td>\n",
       "    </tr>\n",
       "    <tr>\n",
       "      <th>16</th>\n",
       "      <td>Guanajuato</td>\n",
       "      <td>33.0</td>\n",
       "      <td>3.8</td>\n",
       "      <td>Centro</td>\n",
       "    </tr>\n",
       "    <tr>\n",
       "      <th>17</th>\n",
       "      <td>Nayarit</td>\n",
       "      <td>29.3</td>\n",
       "      <td>3.3</td>\n",
       "      <td>Centro</td>\n",
       "    </tr>\n",
       "    <tr>\n",
       "      <th>18</th>\n",
       "      <td>Quintana Roo</td>\n",
       "      <td>27.0</td>\n",
       "      <td>3.5</td>\n",
       "      <td>Sur</td>\n",
       "    </tr>\n",
       "    <tr>\n",
       "      <th>19</th>\n",
       "      <td>Tamaulipas</td>\n",
       "      <td>26.8</td>\n",
       "      <td>4.2</td>\n",
       "      <td>Norte</td>\n",
       "    </tr>\n",
       "    <tr>\n",
       "      <th>20</th>\n",
       "      <td>Ciudad de México</td>\n",
       "      <td>24.0</td>\n",
       "      <td>5.1</td>\n",
       "      <td>Centro</td>\n",
       "    </tr>\n",
       "    <tr>\n",
       "      <th>21</th>\n",
       "      <td>Aguascalientes</td>\n",
       "      <td>23.7</td>\n",
       "      <td>3.9</td>\n",
       "      <td>Centro</td>\n",
       "    </tr>\n",
       "    <tr>\n",
       "      <th>22</th>\n",
       "      <td>Jalisco</td>\n",
       "      <td>21.8</td>\n",
       "      <td>3.7</td>\n",
       "      <td>Centro</td>\n",
       "    </tr>\n",
       "    <tr>\n",
       "      <th>23</th>\n",
       "      <td>Sonora</td>\n",
       "      <td>21.7</td>\n",
       "      <td>3.5</td>\n",
       "      <td>Norte</td>\n",
       "    </tr>\n",
       "    <tr>\n",
       "      <th>24</th>\n",
       "      <td>Querétaro</td>\n",
       "      <td>21.7</td>\n",
       "      <td>4.0</td>\n",
       "      <td>Centro</td>\n",
       "    </tr>\n",
       "    <tr>\n",
       "      <th>25</th>\n",
       "      <td>Sinaloa</td>\n",
       "      <td>21.6</td>\n",
       "      <td>3.6</td>\n",
       "      <td>Norte</td>\n",
       "    </tr>\n",
       "    <tr>\n",
       "      <th>26</th>\n",
       "      <td>Colima</td>\n",
       "      <td>20.5</td>\n",
       "      <td>3.4</td>\n",
       "      <td>Centro</td>\n",
       "    </tr>\n",
       "    <tr>\n",
       "      <th>27</th>\n",
       "      <td>Coahuila</td>\n",
       "      <td>18.2</td>\n",
       "      <td>3.2</td>\n",
       "      <td>Norte</td>\n",
       "    </tr>\n",
       "    <tr>\n",
       "      <th>28</th>\n",
       "      <td>Chihuahua</td>\n",
       "      <td>17.6</td>\n",
       "      <td>3.0</td>\n",
       "      <td>Norte</td>\n",
       "    </tr>\n",
       "    <tr>\n",
       "      <th>29</th>\n",
       "      <td>Nuevo León</td>\n",
       "      <td>16.0</td>\n",
       "      <td>3.1</td>\n",
       "      <td>Norte</td>\n",
       "    </tr>\n",
       "    <tr>\n",
       "      <th>30</th>\n",
       "      <td>Baja California</td>\n",
       "      <td>13.4</td>\n",
       "      <td>3.5</td>\n",
       "      <td>Norte</td>\n",
       "    </tr>\n",
       "    <tr>\n",
       "      <th>31</th>\n",
       "      <td>Baja California Sur</td>\n",
       "      <td>13.3</td>\n",
       "      <td>3.2</td>\n",
       "      <td>Norte</td>\n",
       "    </tr>\n",
       "  </tbody>\n",
       "</table>\n",
       "</div>"
      ],
      "text/plain": [
       "                Estados  TasaPobreza  TasaDesempleo  Region\n",
       "0               Chiapas         67.4            3.5     Sur\n",
       "1              Guerrero         60.4            2.8     Sur\n",
       "2                Oaxaca         58.4            2.7     Sur\n",
       "3                Puebla         54.0            3.0  Centro\n",
       "4              Tlaxcala         52.5            3.2  Centro\n",
       "5              Veracruz         51.7            3.3     Sur\n",
       "6               Tabasco         46.5            4.1     Sur\n",
       "7              Campeche         45.1            3.8     Sur\n",
       "8             Zacatecas         44.2            3.7  Centro\n",
       "9                México         42.9            4.0  Centro\n",
       "10            Michoacán         41.7            3.6  Centro\n",
       "11              Morelos         41.1            3.5  Centro\n",
       "12              Hidalgo         41.0            3.2  Centro\n",
       "13              Yucatán         38.8            2.9     Sur\n",
       "14      San Luis Potosí         35.5            3.4  Centro\n",
       "15              Durango         34.3            3.6   Norte\n",
       "16           Guanajuato         33.0            3.8  Centro\n",
       "17              Nayarit         29.3            3.3  Centro\n",
       "18         Quintana Roo         27.0            3.5     Sur\n",
       "19           Tamaulipas         26.8            4.2   Norte\n",
       "20     Ciudad de México         24.0            5.1  Centro\n",
       "21       Aguascalientes         23.7            3.9  Centro\n",
       "22              Jalisco         21.8            3.7  Centro\n",
       "23               Sonora         21.7            3.5   Norte\n",
       "24            Querétaro         21.7            4.0  Centro\n",
       "25              Sinaloa         21.6            3.6   Norte\n",
       "26               Colima         20.5            3.4  Centro\n",
       "27             Coahuila         18.2            3.2   Norte\n",
       "28            Chihuahua         17.6            3.0   Norte\n",
       "29           Nuevo León         16.0            3.1   Norte\n",
       "30      Baja California         13.4            3.5   Norte\n",
       "31  Baja California Sur         13.3            3.2   Norte"
      ]
     },
     "execution_count": 111,
     "metadata": {},
     "output_type": "execute_result"
    }
   ],
   "source": [
    "#Toda tod \n",
    "#Rango de filas\n",
    "df_estados.iloc[:]  "
   ]
  },
  {
   "cell_type": "markdown",
   "metadata": {},
   "source": [
    "Podemos realizar la selección similar a las listas siempre y cuando sea un rango de filas"
   ]
  },
  {
   "cell_type": "code",
   "execution_count": 119,
   "metadata": {},
   "outputs": [
    {
     "data": {
      "application/vnd.microsoft.datawrangler.viewer.v0+json": {
       "columns": [
        {
         "name": "Estados",
         "rawType": "object",
         "type": "string"
        },
        {
         "name": "TasaPobreza",
         "rawType": "float64",
         "type": "float"
        },
        {
         "name": "TasaDesempleo",
         "rawType": "float64",
         "type": "float"
        },
        {
         "name": "Region",
         "rawType": "object",
         "type": "string"
        }
       ],
       "conversionMethod": "pd.DataFrame",
       "ref": "2a69e441-5e73-4676-9075-ca9d65a1b816",
       "rows": [
        [
         "Puebla",
         "54.0",
         "3.0",
         "Centro"
        ],
        [
         "Tlaxcala",
         "52.5",
         "3.2",
         "Centro"
        ],
        [
         "Veracruz",
         "51.7",
         "3.3",
         "Sur"
        ],
        [
         "Tabasco",
         "46.5",
         "4.1",
         "Sur"
        ],
        [
         "Campeche",
         "45.1",
         "3.8",
         "Sur"
        ],
        [
         "Zacatecas",
         "44.2",
         "3.7",
         "Centro"
        ],
        [
         "México",
         "42.9",
         "4.0",
         "Centro"
        ],
        [
         "Michoacán",
         "41.7",
         "3.6",
         "Centro"
        ],
        [
         "Morelos",
         "41.1",
         "3.5",
         "Centro"
        ],
        [
         "Hidalgo",
         "41.0",
         "3.2",
         "Centro"
        ],
        [
         "Yucatán",
         "38.8",
         "2.9",
         "Sur"
        ],
        [
         "San Luis Potosí",
         "35.5",
         "3.4",
         "Centro"
        ],
        [
         "Durango",
         "34.3",
         "3.6",
         "Norte"
        ],
        [
         "Guanajuato",
         "33.0",
         "3.8",
         "Centro"
        ],
        [
         "Nayarit",
         "29.3",
         "3.3",
         "Centro"
        ],
        [
         "Quintana Roo",
         "27.0",
         "3.5",
         "Sur"
        ],
        [
         "Tamaulipas",
         "26.8",
         "4.2",
         "Norte"
        ],
        [
         "Ciudad de México",
         "24.0",
         "5.1",
         "Centro"
        ],
        [
         "Aguascalientes",
         "23.7",
         "3.9",
         "Centro"
        ],
        [
         "Jalisco",
         "21.8",
         "3.7",
         "Centro"
        ],
        [
         "Sonora",
         "21.7",
         "3.5",
         "Norte"
        ],
        [
         "Querétaro",
         "21.7",
         "4.0",
         "Centro"
        ],
        [
         "Sinaloa",
         "21.6",
         "3.6",
         "Norte"
        ],
        [
         "Colima",
         "20.5",
         "3.4",
         "Centro"
        ],
        [
         "Coahuila",
         "18.2",
         "3.2",
         "Norte"
        ],
        [
         "Chihuahua",
         "17.6",
         "3.0",
         "Norte"
        ],
        [
         "Nuevo León",
         "16.0",
         "3.1",
         "Norte"
        ],
        [
         "Baja California",
         "13.4",
         "3.5",
         "Norte"
        ]
       ],
       "shape": {
        "columns": 3,
        "rows": 28
       }
      },
      "text/html": [
       "<div>\n",
       "<style scoped>\n",
       "    .dataframe tbody tr th:only-of-type {\n",
       "        vertical-align: middle;\n",
       "    }\n",
       "\n",
       "    .dataframe tbody tr th {\n",
       "        vertical-align: top;\n",
       "    }\n",
       "\n",
       "    .dataframe thead th {\n",
       "        text-align: right;\n",
       "    }\n",
       "</style>\n",
       "<table border=\"1\" class=\"dataframe\">\n",
       "  <thead>\n",
       "    <tr style=\"text-align: right;\">\n",
       "      <th></th>\n",
       "      <th>TasaPobreza</th>\n",
       "      <th>TasaDesempleo</th>\n",
       "      <th>Region</th>\n",
       "    </tr>\n",
       "    <tr>\n",
       "      <th>Estados</th>\n",
       "      <th></th>\n",
       "      <th></th>\n",
       "      <th></th>\n",
       "    </tr>\n",
       "  </thead>\n",
       "  <tbody>\n",
       "    <tr>\n",
       "      <th>Puebla</th>\n",
       "      <td>54.0</td>\n",
       "      <td>3.0</td>\n",
       "      <td>Centro</td>\n",
       "    </tr>\n",
       "    <tr>\n",
       "      <th>Tlaxcala</th>\n",
       "      <td>52.5</td>\n",
       "      <td>3.2</td>\n",
       "      <td>Centro</td>\n",
       "    </tr>\n",
       "    <tr>\n",
       "      <th>Veracruz</th>\n",
       "      <td>51.7</td>\n",
       "      <td>3.3</td>\n",
       "      <td>Sur</td>\n",
       "    </tr>\n",
       "    <tr>\n",
       "      <th>Tabasco</th>\n",
       "      <td>46.5</td>\n",
       "      <td>4.1</td>\n",
       "      <td>Sur</td>\n",
       "    </tr>\n",
       "    <tr>\n",
       "      <th>Campeche</th>\n",
       "      <td>45.1</td>\n",
       "      <td>3.8</td>\n",
       "      <td>Sur</td>\n",
       "    </tr>\n",
       "    <tr>\n",
       "      <th>Zacatecas</th>\n",
       "      <td>44.2</td>\n",
       "      <td>3.7</td>\n",
       "      <td>Centro</td>\n",
       "    </tr>\n",
       "    <tr>\n",
       "      <th>México</th>\n",
       "      <td>42.9</td>\n",
       "      <td>4.0</td>\n",
       "      <td>Centro</td>\n",
       "    </tr>\n",
       "    <tr>\n",
       "      <th>Michoacán</th>\n",
       "      <td>41.7</td>\n",
       "      <td>3.6</td>\n",
       "      <td>Centro</td>\n",
       "    </tr>\n",
       "    <tr>\n",
       "      <th>Morelos</th>\n",
       "      <td>41.1</td>\n",
       "      <td>3.5</td>\n",
       "      <td>Centro</td>\n",
       "    </tr>\n",
       "    <tr>\n",
       "      <th>Hidalgo</th>\n",
       "      <td>41.0</td>\n",
       "      <td>3.2</td>\n",
       "      <td>Centro</td>\n",
       "    </tr>\n",
       "    <tr>\n",
       "      <th>Yucatán</th>\n",
       "      <td>38.8</td>\n",
       "      <td>2.9</td>\n",
       "      <td>Sur</td>\n",
       "    </tr>\n",
       "    <tr>\n",
       "      <th>San Luis Potosí</th>\n",
       "      <td>35.5</td>\n",
       "      <td>3.4</td>\n",
       "      <td>Centro</td>\n",
       "    </tr>\n",
       "    <tr>\n",
       "      <th>Durango</th>\n",
       "      <td>34.3</td>\n",
       "      <td>3.6</td>\n",
       "      <td>Norte</td>\n",
       "    </tr>\n",
       "    <tr>\n",
       "      <th>Guanajuato</th>\n",
       "      <td>33.0</td>\n",
       "      <td>3.8</td>\n",
       "      <td>Centro</td>\n",
       "    </tr>\n",
       "    <tr>\n",
       "      <th>Nayarit</th>\n",
       "      <td>29.3</td>\n",
       "      <td>3.3</td>\n",
       "      <td>Centro</td>\n",
       "    </tr>\n",
       "    <tr>\n",
       "      <th>Quintana Roo</th>\n",
       "      <td>27.0</td>\n",
       "      <td>3.5</td>\n",
       "      <td>Sur</td>\n",
       "    </tr>\n",
       "    <tr>\n",
       "      <th>Tamaulipas</th>\n",
       "      <td>26.8</td>\n",
       "      <td>4.2</td>\n",
       "      <td>Norte</td>\n",
       "    </tr>\n",
       "    <tr>\n",
       "      <th>Ciudad de México</th>\n",
       "      <td>24.0</td>\n",
       "      <td>5.1</td>\n",
       "      <td>Centro</td>\n",
       "    </tr>\n",
       "    <tr>\n",
       "      <th>Aguascalientes</th>\n",
       "      <td>23.7</td>\n",
       "      <td>3.9</td>\n",
       "      <td>Centro</td>\n",
       "    </tr>\n",
       "    <tr>\n",
       "      <th>Jalisco</th>\n",
       "      <td>21.8</td>\n",
       "      <td>3.7</td>\n",
       "      <td>Centro</td>\n",
       "    </tr>\n",
       "    <tr>\n",
       "      <th>Sonora</th>\n",
       "      <td>21.7</td>\n",
       "      <td>3.5</td>\n",
       "      <td>Norte</td>\n",
       "    </tr>\n",
       "    <tr>\n",
       "      <th>Querétaro</th>\n",
       "      <td>21.7</td>\n",
       "      <td>4.0</td>\n",
       "      <td>Centro</td>\n",
       "    </tr>\n",
       "    <tr>\n",
       "      <th>Sinaloa</th>\n",
       "      <td>21.6</td>\n",
       "      <td>3.6</td>\n",
       "      <td>Norte</td>\n",
       "    </tr>\n",
       "    <tr>\n",
       "      <th>Colima</th>\n",
       "      <td>20.5</td>\n",
       "      <td>3.4</td>\n",
       "      <td>Centro</td>\n",
       "    </tr>\n",
       "    <tr>\n",
       "      <th>Coahuila</th>\n",
       "      <td>18.2</td>\n",
       "      <td>3.2</td>\n",
       "      <td>Norte</td>\n",
       "    </tr>\n",
       "    <tr>\n",
       "      <th>Chihuahua</th>\n",
       "      <td>17.6</td>\n",
       "      <td>3.0</td>\n",
       "      <td>Norte</td>\n",
       "    </tr>\n",
       "    <tr>\n",
       "      <th>Nuevo León</th>\n",
       "      <td>16.0</td>\n",
       "      <td>3.1</td>\n",
       "      <td>Norte</td>\n",
       "    </tr>\n",
       "    <tr>\n",
       "      <th>Baja California</th>\n",
       "      <td>13.4</td>\n",
       "      <td>3.5</td>\n",
       "      <td>Norte</td>\n",
       "    </tr>\n",
       "  </tbody>\n",
       "</table>\n",
       "</div>"
      ],
      "text/plain": [
       "                  TasaPobreza  TasaDesempleo  Region\n",
       "Estados                                             \n",
       "Puebla                   54.0            3.0  Centro\n",
       "Tlaxcala                 52.5            3.2  Centro\n",
       "Veracruz                 51.7            3.3     Sur\n",
       "Tabasco                  46.5            4.1     Sur\n",
       "Campeche                 45.1            3.8     Sur\n",
       "Zacatecas                44.2            3.7  Centro\n",
       "México                   42.9            4.0  Centro\n",
       "Michoacán                41.7            3.6  Centro\n",
       "Morelos                  41.1            3.5  Centro\n",
       "Hidalgo                  41.0            3.2  Centro\n",
       "Yucatán                  38.8            2.9     Sur\n",
       "San Luis Potosí          35.5            3.4  Centro\n",
       "Durango                  34.3            3.6   Norte\n",
       "Guanajuato               33.0            3.8  Centro\n",
       "Nayarit                  29.3            3.3  Centro\n",
       "Quintana Roo             27.0            3.5     Sur\n",
       "Tamaulipas               26.8            4.2   Norte\n",
       "Ciudad de México         24.0            5.1  Centro\n",
       "Aguascalientes           23.7            3.9  Centro\n",
       "Jalisco                  21.8            3.7  Centro\n",
       "Sonora                   21.7            3.5   Norte\n",
       "Querétaro                21.7            4.0  Centro\n",
       "Sinaloa                  21.6            3.6   Norte\n",
       "Colima                   20.5            3.4  Centro\n",
       "Coahuila                 18.2            3.2   Norte\n",
       "Chihuahua                17.6            3.0   Norte\n",
       "Nuevo León               16.0            3.1   Norte\n",
       "Baja California          13.4            3.5   Norte"
      ]
     },
     "execution_count": 119,
     "metadata": {},
     "output_type": "execute_result"
    }
   ],
   "source": [
    "#Rango de filas son función iloc \n",
    "df_estados[0:3]  \n",
    "df_estados[3:-1]  "
   ]
  },
  {
   "cell_type": "markdown",
   "metadata": {},
   "source": [
    "**Podemos agregar la selección de columnas**\n",
    "\n",
    "Sintaxis: \n",
    "\n",
    "```Python \n",
    "   df[inicio_row:final_row , incio_col: final_col ]\n",
    "``` \n",
    "\n",
    "Ejemplo: \n",
    "\n",
    "\n",
    "✅ Primeras 2 filas y todas las columnas\n",
    "\n",
    "✅ Todas las filas, primera columna (variable)"
   ]
  },
  {
   "cell_type": "code",
   "execution_count": 124,
   "metadata": {},
   "outputs": [
    {
     "name": "stdout",
     "output_type": "stream",
     "text": [
      "          TasaPobreza  TasaDesempleo Region\n",
      "Estados                                    \n",
      "Chiapas          67.4            3.5    Sur\n",
      "Guerrero         60.4            2.8    Sur\n"
     ]
    }
   ],
   "source": [
    "print(df_estados.iloc[0:2, :] )"
   ]
  },
  {
   "cell_type": "code",
   "execution_count": 125,
   "metadata": {},
   "outputs": [
    {
     "name": "stdout",
     "output_type": "stream",
     "text": [
      "Estados\n",
      "Chiapas                67.4\n",
      "Guerrero               60.4\n",
      "Oaxaca                 58.4\n",
      "Puebla                 54.0\n",
      "Tlaxcala               52.5\n",
      "Veracruz               51.7\n",
      "Tabasco                46.5\n",
      "Campeche               45.1\n",
      "Zacatecas              44.2\n",
      "México                 42.9\n",
      "Michoacán              41.7\n",
      "Morelos                41.1\n",
      "Hidalgo                41.0\n",
      "Yucatán                38.8\n",
      "San Luis Potosí        35.5\n",
      "Durango                34.3\n",
      "Guanajuato             33.0\n",
      "Nayarit                29.3\n",
      "Quintana Roo           27.0\n",
      "Tamaulipas             26.8\n",
      "Ciudad de México       24.0\n",
      "Aguascalientes         23.7\n",
      "Jalisco                21.8\n",
      "Sonora                 21.7\n",
      "Querétaro              21.7\n",
      "Sinaloa                21.6\n",
      "Colima                 20.5\n",
      "Coahuila               18.2\n",
      "Chihuahua              17.6\n",
      "Nuevo León             16.0\n",
      "Baja California        13.4\n",
      "Baja California Sur    13.3\n",
      "Name: TasaPobreza, dtype: float64\n"
     ]
    }
   ],
   "source": [
    "print(df_estados.iloc[:, 0])"
   ]
  },
  {
   "cell_type": "markdown",
   "metadata": {},
   "source": [
    "Lo DataFrames en Pandas vienen con un **índice preestablecido**, que puede ser una columna con identificadores únicos, una fecha en series temporales o una variable categórica\n",
    "\n",
    "Para establecer un índice personalizado utilizamoss la función   `.loc[]`\n",
    "\n",
    "Sintáxis\n",
    "\n",
    "```Python\n",
    "df.loc['col_index'] \n",
    "```\n"
   ]
  },
  {
   "cell_type": "code",
   "execution_count": 130,
   "metadata": {},
   "outputs": [],
   "source": [
    "#Establecer Indice\n",
    "df_estados.set_index('Estados',\n",
    "                      inplace=True) #Inplace modifica el df original sin necesidad de asignarlo"
   ]
  },
  {
   "cell_type": "code",
   "execution_count": 136,
   "metadata": {},
   "outputs": [
    {
     "data": {
      "text/plain": [
       "TasaPobreza      67.4\n",
       "TasaDesempleo     3.5\n",
       "Region            Sur\n",
       "Name: Chiapas, dtype: object"
      ]
     },
     "execution_count": 136,
     "metadata": {},
     "output_type": "execute_result"
    }
   ],
   "source": [
    "#Estado\n",
    "df_estados.loc['Chiapas']"
   ]
  },
  {
   "cell_type": "markdown",
   "metadata": {},
   "source": [
    "**.iloc[] vs .loc[]**\n",
    "\n",
    "**Ventajas de  .iloc[]**\n",
    "- Si el DF tiene un índice personalizado (ej., nombres en lugar de números), .iloc sigue funcionando con posiciones.\n",
    "\n",
    "- Si un DF (por ejemplo, se reordena o se cambia el índice), .iloc sigue funcionando, mientras que .loc podría fallar si el índice ya no existe.\n",
    "- .iloc es más Útil para seleccionar por posición en loops"
   ]
  },
  {
   "cell_type": "code",
   "execution_count": 146,
   "metadata": {},
   "outputs": [
    {
     "name": "stdout",
     "output_type": "stream",
     "text": [
      "TasaPobreza       13.3\n",
      "TasaDesempleo      3.2\n",
      "Region           Norte\n",
      "Name: Baja California Sur, dtype: object\n"
     ]
    }
   ],
   "source": [
    "print(df_estados.iloc[-1])"
   ]
  },
  {
   "cell_type": "code",
   "execution_count": 143,
   "metadata": {},
   "outputs": [
    {
     "name": "stdout",
     "output_type": "stream",
     "text": [
      "TasaPobreza      67.4\n",
      "TasaDesempleo     3.5\n",
      "Region            Sur\n",
      "Name: Chiapas, dtype: object\n",
      "TasaPobreza      60.4\n",
      "TasaDesempleo     2.8\n",
      "Region            Sur\n",
      "Name: Guerrero, dtype: object\n",
      "TasaPobreza      58.4\n",
      "TasaDesempleo     2.7\n",
      "Region            Sur\n",
      "Name: Oaxaca, dtype: object\n",
      "TasaPobreza        54.0\n",
      "TasaDesempleo       3.0\n",
      "Region           Centro\n",
      "Name: Puebla, dtype: object\n",
      "TasaPobreza        52.5\n",
      "TasaDesempleo       3.2\n",
      "Region           Centro\n",
      "Name: Tlaxcala, dtype: object\n",
      "TasaPobreza      51.7\n",
      "TasaDesempleo     3.3\n",
      "Region            Sur\n",
      "Name: Veracruz, dtype: object\n",
      "TasaPobreza      46.5\n",
      "TasaDesempleo     4.1\n",
      "Region            Sur\n",
      "Name: Tabasco, dtype: object\n",
      "TasaPobreza      45.1\n",
      "TasaDesempleo     3.8\n",
      "Region            Sur\n",
      "Name: Campeche, dtype: object\n",
      "TasaPobreza        44.2\n",
      "TasaDesempleo       3.7\n",
      "Region           Centro\n",
      "Name: Zacatecas, dtype: object\n",
      "TasaPobreza        42.9\n",
      "TasaDesempleo       4.0\n",
      "Region           Centro\n",
      "Name: México, dtype: object\n",
      "TasaPobreza        41.7\n",
      "TasaDesempleo       3.6\n",
      "Region           Centro\n",
      "Name: Michoacán, dtype: object\n",
      "TasaPobreza        41.1\n",
      "TasaDesempleo       3.5\n",
      "Region           Centro\n",
      "Name: Morelos, dtype: object\n",
      "TasaPobreza        41.0\n",
      "TasaDesempleo       3.2\n",
      "Region           Centro\n",
      "Name: Hidalgo, dtype: object\n",
      "TasaPobreza      38.8\n",
      "TasaDesempleo     2.9\n",
      "Region            Sur\n",
      "Name: Yucatán, dtype: object\n",
      "TasaPobreza        35.5\n",
      "TasaDesempleo       3.4\n",
      "Region           Centro\n",
      "Name: San Luis Potosí, dtype: object\n",
      "TasaPobreza       34.3\n",
      "TasaDesempleo      3.6\n",
      "Region           Norte\n",
      "Name: Durango, dtype: object\n",
      "TasaPobreza        33.0\n",
      "TasaDesempleo       3.8\n",
      "Region           Centro\n",
      "Name: Guanajuato, dtype: object\n",
      "TasaPobreza        29.3\n",
      "TasaDesempleo       3.3\n",
      "Region           Centro\n",
      "Name: Nayarit, dtype: object\n",
      "TasaPobreza      27.0\n",
      "TasaDesempleo     3.5\n",
      "Region            Sur\n",
      "Name: Quintana Roo, dtype: object\n",
      "TasaPobreza       26.8\n",
      "TasaDesempleo      4.2\n",
      "Region           Norte\n",
      "Name: Tamaulipas, dtype: object\n",
      "TasaPobreza        24.0\n",
      "TasaDesempleo       5.1\n",
      "Region           Centro\n",
      "Name: Ciudad de México, dtype: object\n",
      "TasaPobreza        23.7\n",
      "TasaDesempleo       3.9\n",
      "Region           Centro\n",
      "Name: Aguascalientes, dtype: object\n",
      "TasaPobreza        21.8\n",
      "TasaDesempleo       3.7\n",
      "Region           Centro\n",
      "Name: Jalisco, dtype: object\n",
      "TasaPobreza       21.7\n",
      "TasaDesempleo      3.5\n",
      "Region           Norte\n",
      "Name: Sonora, dtype: object\n",
      "TasaPobreza        21.7\n",
      "TasaDesempleo       4.0\n",
      "Region           Centro\n",
      "Name: Querétaro, dtype: object\n",
      "TasaPobreza       21.6\n",
      "TasaDesempleo      3.6\n",
      "Region           Norte\n",
      "Name: Sinaloa, dtype: object\n",
      "TasaPobreza        20.5\n",
      "TasaDesempleo       3.4\n",
      "Region           Centro\n",
      "Name: Colima, dtype: object\n",
      "TasaPobreza       18.2\n",
      "TasaDesempleo      3.2\n",
      "Region           Norte\n",
      "Name: Coahuila, dtype: object\n",
      "TasaPobreza       17.6\n",
      "TasaDesempleo      3.0\n",
      "Region           Norte\n",
      "Name: Chihuahua, dtype: object\n",
      "TasaPobreza       16.0\n",
      "TasaDesempleo      3.1\n",
      "Region           Norte\n",
      "Name: Nuevo León, dtype: object\n",
      "TasaPobreza       13.4\n",
      "TasaDesempleo      3.5\n",
      "Region           Norte\n",
      "Name: Baja California, dtype: object\n",
      "TasaPobreza       13.3\n",
      "TasaDesempleo      3.2\n",
      "Region           Norte\n",
      "Name: Baja California Sur, dtype: object\n"
     ]
    }
   ],
   "source": [
    "for i in range(len(df_estados)):\n",
    "\n",
    "    print(df_estados.iloc[i])  # : len(df_estados) - 3"
   ]
  },
  {
   "cell_type": "markdown",
   "metadata": {},
   "source": [
    "**Ventajas de  .loc[]**"
   ]
  },
  {
   "cell_type": "markdown",
   "metadata": {},
   "source": [
    " * **Creación de Dataframe a partir de Serie**\n",
    "\n",
    "     **Sintáxis**\n",
    "     \n",
    "     Para definir una DF en  Pandas a partir de un **Serie**o se utiliza la siguiente sintáxis:\n",
    "     \n",
    "     ```Python \n",
    "        pd.DataFrame(Serie)\n",
    "     ``` \n",
    "     \n",
    "     Ejemplo: \n",
    "      * Retomando la Serie de salarios promedio:\n",
    "      \n"
   ]
  },
  {
   "cell_type": "code",
   "execution_count": 17,
   "metadata": {},
   "outputs": [
    {
     "ename": "NameError",
     "evalue": "name 'salarios_data' is not defined",
     "output_type": "error",
     "traceback": [
      "\u001b[1;31m---------------------------------------------------------------------------\u001b[0m",
      "\u001b[1;31mNameError\u001b[0m                                 Traceback (most recent call last)",
      "Cell \u001b[1;32mIn[17], line 2\u001b[0m\n\u001b[0;32m      1\u001b[0m \u001b[38;5;66;03m#Retomar Serie\u001b[39;00m\n\u001b[1;32m----> 2\u001b[0m serie_salarios \u001b[38;5;241m=\u001b[39m pd\u001b[38;5;241m.\u001b[39mSeries(\u001b[43msalarios_data\u001b[49m,\n\u001b[0;32m      3\u001b[0m                           name\u001b[38;5;241m=\u001b[39m\u001b[38;5;124m'\u001b[39m\u001b[38;5;124mSalario_Promedio_MXN\u001b[39m\u001b[38;5;124m'\u001b[39m)\n\u001b[0;32m      4\u001b[0m \u001b[38;5;28mprint\u001b[39m(\u001b[38;5;28mtype\u001b[39m(serie_salarios))\n\u001b[0;32m      6\u001b[0m \u001b[38;5;66;03m#Crear DF\u001b[39;00m\n",
      "\u001b[1;31mNameError\u001b[0m: name 'salarios_data' is not defined"
     ]
    }
   ],
   "source": [
    "#Retomar Serie\n",
    "serie_salarios = pd.Series(salarios_data,\n",
    "                          name='Salario_Promedio_MXN')\n",
    "print(type(serie_salarios))\n",
    "\n",
    "#Crear DF\n",
    "df_salarios = pd.DataFrame(serie_salarios)\n",
    "\n",
    "print( fr\"Mi DF de salarios es de tamaño: {df_salarios.shape} , y tiene las columnas {df_salarios.columns}\" )\n"
   ]
  },
  {
   "cell_type": "markdown",
   "metadata": {},
   "source": [
    " * **Creación de Dataframe a partir de Arreglo de Numpy**\n",
    "\n",
    "     **Sintáxis**\n",
    "     \n",
    "     Para definir una DF en  Pandas a partir de un **Arreglo** de dos dimensiones de Numpy o se utiliza la siguiente sintáxis:\n",
    "     \n",
    "     ```Python \n",
    "        pd.DataFrame(array, columns = [\"name_col1, name_col2\"])\n",
    "     ``` \n",
    "     \n",
    "     Ejemplo: \n",
    "      * Tenemos el arreglo :\n",
    "      "
   ]
  },
  {
   "cell_type": "code",
   "execution_count": 18,
   "metadata": {},
   "outputs": [
    {
     "name": "stdout",
     "output_type": "stream",
     "text": [
      "           Países       PIB\n",
      "0  Estados Unidos  26954000\n",
      "1           China  17963170\n",
      "2           Japón   4210700\n",
      "3        Alemania   4030400\n",
      "4           India   3385090\n",
      "5     Reino Unido   3108530\n",
      "6         Francia   2780540\n",
      "7          Canadá   2117480\n",
      "8          Italia   2010350\n",
      "9          Brasil   1920960\n"
     ]
    }
   ],
   "source": [
    "# Arreglo con TOP 10 \n",
    "import  numpy as np \n",
    "pais_pib = np.array([\n",
    "                         ['Estados Unidos', 26954000],\n",
    "                         ['China', 17963170],\n",
    "                         ['Japón', 4210700],\n",
    "                         ['Alemania', 4030400],\n",
    "                         ['India', 3385090],\n",
    "                         ['Reino Unido', 3108530],\n",
    "                         ['Francia', 2780540],\n",
    "                         ['Canadá', 2117480],\n",
    "                         ['Italia', 2010350],\n",
    "                         ['Brasil', 1920960]\n",
    "                          ], dtype=object)\n",
    "\n",
    "\n",
    "#Dataframe a partir de arreglo \n",
    "\n",
    "df_pib = pd.DataFrame(pais_pib, columns= ['Países', \"PIB\"])\n",
    "\n",
    "print(df_pib)"
   ]
  },
  {
   "cell_type": "markdown",
   "metadata": {},
   "source": [
    "## **5.2 Importar y explorar diferentes tipos de datos**\n",
    "\n",
    "\n"
   ]
  },
  {
   "cell_type": "markdown",
   "metadata": {},
   "source": [
    "## **5.3 Limpieza y transformación de datos**\n"
   ]
  },
  {
   "cell_type": "markdown",
   "metadata": {},
   "source": [
    "## **5.4 Agrupación y resumen de datos**\n"
   ]
  },
  {
   "cell_type": "markdown",
   "metadata": {},
   "source": [
    "## **5.5 Trabajando con joins y merges**"
   ]
  }
 ],
 "metadata": {
  "kernelspec": {
   "display_name": "Python 3",
   "language": "python",
   "name": "python3"
  },
  "language_info": {
   "codemirror_mode": {
    "name": "ipython",
    "version": 3
   },
   "file_extension": ".py",
   "mimetype": "text/x-python",
   "name": "python",
   "nbconvert_exporter": "python",
   "pygments_lexer": "ipython3",
   "version": "3.12.1"
  }
 },
 "nbformat": 4,
 "nbformat_minor": 2
}
