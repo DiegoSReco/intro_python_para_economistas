{
 "cells": [
  {
   "cell_type": "markdown",
   "metadata": {},
   "source": [
    "# **5. Introducción al manejo de datos con `Pandas` 🐼**\n",
    "\n",
    "Pandas es una librería de Python, que se ha convertido en una herramienta indispensable para científicos de datos, analistas y profesionales que trabajan con datos estructurados.\n",
    "\n",
    "**¿Por qué Pandas?**\n",
    "\n",
    "Pandas destaca por su capacidad para manejar datos de manera eficiente y flexible. Sus principales ventajas incluyen:\n",
    "\n",
    "* La habilidad para procesar tanto datos estructurados como no estructurados\n",
    "* Potentes herramientas para limpieza y transformación de datos\n",
    "* Funcionalidades avanzadas para el análisis estadístico\n",
    "* Integración perfecta con otras librerías (numpy, seaborn matplot, statsmodels)\n",
    "\n",
    "\n",
    "El análisis de datos con Pandas típicamente sigue un **flujo de trabajo estructurado**:\n",
    "\n",
    "* **Importación  de Datos**: Pandas facilita la lectura de diversos formatos como CSV, Excel, SQL y JSON, entre otros.\n",
    "* **Limpieza de Datos**: Una fase crítica que incluye el manejo de valores faltantes, eliminación de duplicados y corrección de inconsistencias.\n",
    "* **Transformación**: Proceso de reestructuración de datos mediante operaciones como filtrado, agregación y pivoteo.\n",
    "* **Análisis Exploratorio**: Utilización de estadísticas descriptivas y visualizaciones para comprender patrones y relaciones en los datos."
   ]
  },
  {
   "cell_type": "markdown",
   "metadata": {},
   "source": [
    "## **5.1 Objetos básicos en Pandas**\n",
    "\n",
    "**Estructuras de Datos Fundamentales**\n",
    "\n",
    "Pandas se basa en dos estructuras de datos principales u objetos:\n",
    "\n",
    "* **Series**: Arreglos unidimensionales etiquetados, similares a una columna en una hoja de cálculo\n",
    "\n",
    "* **DataFrame**: Estructuras bidimensionales que pueden verse como una tabla de base de datos o una hoja de cálculo"
   ]
  },
  {
   "cell_type": "markdown",
   "metadata": {},
   "source": [
    "## **5.2 Importar y explorar diferentes tipos de datos**\n"
   ]
  },
  {
   "cell_type": "markdown",
   "metadata": {},
   "source": [
    "## **5.3 Limpieza y transformación de datos**\n"
   ]
  },
  {
   "cell_type": "markdown",
   "metadata": {},
   "source": [
    "## **5.4 Agrupación y resumen de datos**\n"
   ]
  },
  {
   "cell_type": "markdown",
   "metadata": {},
   "source": [
    "## **5.5 Trabajando con joins y merges**"
   ]
  }
 ],
 "metadata": {
  "language_info": {
   "name": "python"
  }
 },
 "nbformat": 4,
 "nbformat_minor": 2
}
