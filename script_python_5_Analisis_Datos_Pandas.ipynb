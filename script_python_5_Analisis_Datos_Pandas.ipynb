{
 "cells": [
  {
   "cell_type": "markdown",
   "metadata": {},
   "source": [
    "# **5. Introducción al manejo de datos con `Pandas` 🐼**\n",
    "\n",
    "Pandas es una librería de Python, que se ha convertido en una herramienta indispensable para científicos de datos, analistas y profesionales que trabajan con datos estructurados.\n",
    "\n",
    "**¿Por qué Pandas?**\n",
    "\n",
    "Pandas destaca por su capacidad para manejar datos de manera eficiente y flexible. Sus principales ventajas incluyen:\n",
    "\n",
    "* La habilidad para procesar tanto datos estructurados como no estructurados\n",
    "* Potentes herramientas para limpieza y transformación de datos\n",
    "* Funcionalidades avanzadas para el análisis estadístico\n",
    "* Integración perfecta con otras librerías (numpy, seaborn matplot, statsmodels)\n",
    "\n",
    "\n",
    "El análisis de datos con Pandas típicamente sigue un **flujo de trabajo estructurado**:\n",
    "\n",
    "* **Importación  de Datos**: Pandas facilita la lectura de diversos formatos como CSV, Excel, SQL y JSON, entre otros.\n",
    "* **Limpieza de Datos**: Una fase crítica que incluye el manejo de valores faltantes, eliminación de duplicados y corrección de inconsistencias.\n",
    "* **Transformación**: Proceso de reestructuración de datos mediante operaciones como filtrado, agregación y pivoteo.\n",
    "* **Análisis Exploratorio**: Utilización de estadísticas descriptivas y visualizaciones para comprender patrones y relaciones en los datos.\n",
    "\n",
    "Para comenzar a utilizar Pandas se tiene que ejecutar el comando: \n",
    "\n",
    "```Python \n",
    "   import pandas as pd \n",
    "\n",
    "```\n",
    "\n",
    "En este caso se utiliza la abreviación `pd` para ejecutar funciones que pertenecen a esta librería. "
   ]
  },
  {
   "cell_type": "markdown",
   "metadata": {},
   "source": [
    "## **5.1 Objetos básicos en Pandas**\n",
    "\n",
    "**Estructuras de Datos Fundamentales**\n",
    "\n",
    "Pandas se basa en dos estructuras de datos principales u objetos:\n",
    "\n",
    "* **Series**: Arreglos unidimensionales etiquetados, similares a una lista, un arreglo (una dimensión) o una columna en una hoja de Excel.\n",
    "\n",
    "* **DataFrame**: Estructuras bidimensionales que pueden verse como una tabla de base de datos.\n"
   ]
  },
  {
   "cell_type": "markdown",
   "metadata": {},
   "source": [
    "### **5.1.1 Series**\n",
    "\n",
    "Una **Serie** en Python (``pandas.Series``) es una estructura de datos unidimensional etiquetada (indexados) que puede contener cualquier tipo de datos (números, cadenas, objetos Python, datos personalizados) y pueden ser creadas a partir de listas, arreglos, diccionarios, etc.\n",
    "\n",
    "**Sintáxis**\n",
    "\n",
    "Para definir una serie en Pandas se utiliza la siguiente sintáxis.\n",
    "\n",
    "```Python \n",
    "   pd.Series([e_1,...e_n])\n",
    "``` \n",
    "Ejemplo: \n",
    "\n",
    "* Creación de Serie a partir de una **diccionario**.\n",
    "\n",
    "  En este caso los valores están indexados o etiquetados por las claves del diccionario:"
   ]
  },
  {
   "cell_type": "code",
   "execution_count": 11,
   "metadata": {},
   "outputs": [
    {
     "name": "stdout",
     "output_type": "stream",
     "text": [
      "2020    120.36\n",
      "2021    130.97\n",
      "2022    140.89\n",
      "Name: Salario_Promedio_MXN, dtype: float64\n"
     ]
    }
   ],
   "source": [
    "#Importamos librería\n",
    "import pandas as pd \n",
    "\n",
    "#Creaos diccionario\n",
    "salarios_data = {\n",
    "                '2020': 120.36,  # Salario promedio 2020\n",
    "                '2021': 130.97,  # Salario promedio 2021\n",
    "                '2022': 140.89   # Salario promedio 2022\n",
    "}\n",
    "\n",
    "# Crear la serie\n",
    "\n",
    "serie_salarios = pd.Series(salarios_data, name='Salario_Promedio_MXN')\n",
    "\n",
    "print(serie_salarios)"
   ]
  },
  {
   "cell_type": "markdown",
   "metadata": {},
   "source": [
    "* Creación de Serie a partir de una lista \n",
    "\n",
    "  Para el caso de las **listas** la indexación será por la posición del valor en ésta:\n"
   ]
  },
  {
   "cell_type": "code",
   "execution_count": 16,
   "metadata": {},
   "outputs": [
    {
     "name": "stdout",
     "output_type": "stream",
     "text": [
      "0    120.36\n",
      "1    130.97\n",
      "2    140.89\n",
      "Name: Salario_Promedio_MXN, dtype: float64\n"
     ]
    }
   ],
   "source": [
    "#Lista\n",
    "salarios_data = [ \n",
    "                 120.36,  # Salario promedio 2020\n",
    "                 130.97,  # Salario promedio 2021\n",
    "                 140.89   # Salario promedio 2022\n",
    "                 ]\n",
    "\n",
    "# Crear la serie\n",
    "serie_salarios2 = pd.Series(salarios_data, name='Salario_Promedio_MXN')\n",
    "\n",
    "print(serie_salarios2)"
   ]
  },
  {
   "cell_type": "markdown",
   "metadata": {},
   "source": [
    "Por lo tanto, las **Series** tendran dos propiedad valores (*values*) e índices (*index*): "
   ]
  },
  {
   "cell_type": "code",
   "execution_count": 17,
   "metadata": {},
   "outputs": [
    {
     "name": "stdout",
     "output_type": "stream",
     "text": [
      "[120.36 130.97 140.89]\n",
      "Index(['2020', '2021', '2022'], dtype='object')\n"
     ]
    }
   ],
   "source": [
    "#Valores \n",
    "print(serie_salarios.values)\n",
    "#Index\n",
    "print(serie_salarios.index)"
   ]
  },
  {
   "cell_type": "markdown",
   "metadata": {},
   "source": [
    "El "
   ]
  },
  {
   "cell_type": "markdown",
   "metadata": {},
   "source": [
    "### **5.1.2 Dataframes**\n",
    "\n",
    "Un **Dataframe** en Python (``pandas.Series``) es una estructura de datos unidimensional etiquetada (indexados) que puede contener cualquier tipo de datos (números, cadenas, objetos Python, datos personalizados) y pueden ser creadas a partir de listas, arreglos, diccionarios, etc.\n",
    "\n",
    "**Sintáxis**\n",
    "\n",
    "Para definir una serie en Pandas se utiliza la siguiente sintáxis.\n",
    "\n",
    "```Python \n",
    "   pd.Series([e_1,...e_n])\n",
    "``` \n",
    "Ejemplo: \n",
    "\n",
    "* Creación de Serie a partir de una **diccionario**.\n",
    "\n",
    "  En este caso los valores están indexados o etiquetados por las claves del diccionario:"
   ]
  },
  {
   "cell_type": "markdown",
   "metadata": {},
   "source": [
    "## **5.2 Importar y explorar diferentes tipos de datos**\n"
   ]
  },
  {
   "cell_type": "markdown",
   "metadata": {},
   "source": [
    "## **5.3 Limpieza y transformación de datos**\n"
   ]
  },
  {
   "cell_type": "markdown",
   "metadata": {},
   "source": [
    "## **5.4 Agrupación y resumen de datos**\n"
   ]
  },
  {
   "cell_type": "markdown",
   "metadata": {},
   "source": [
    "## **5.5 Trabajando con joins y merges**"
   ]
  }
 ],
 "metadata": {
  "kernelspec": {
   "display_name": "Python 3",
   "language": "python",
   "name": "python3"
  },
  "language_info": {
   "codemirror_mode": {
    "name": "ipython",
    "version": 3
   },
   "file_extension": ".py",
   "mimetype": "text/x-python",
   "name": "python",
   "nbconvert_exporter": "python",
   "pygments_lexer": "ipython3",
   "version": "3.12.1"
  }
 },
 "nbformat": 4,
 "nbformat_minor": 2
}
