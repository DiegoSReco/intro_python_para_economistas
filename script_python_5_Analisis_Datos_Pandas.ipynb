{
 "cells": [
  {
   "cell_type": "markdown",
   "metadata": {},
   "source": [
    "# **5. Introducción al manejo de datos con `Pandas` 🐼**\n",
    "\n",
    "Pandas es una librería de Python, que se ha convertido en una herramienta indispensable para científicos de datos, analistas y profesionales que trabajan con datos estructurados.\n",
    "\n",
    "**¿Por qué Pandas?**\n",
    "\n",
    "Pandas destaca por su capacidad para manejar datos de manera eficiente y flexible. Sus principales ventajas incluyen:\n",
    "\n",
    "* La habilidad para procesar tanto datos estructurados como no estructurados\n",
    "* Potentes herramientas para limpieza y transformación de datos\n",
    "* Funcionalidades avanzadas para el análisis estadístico\n",
    "* Integración perfecta con otras librerías (numpy, seaborn matplot, statsmodels)\n",
    "\n",
    "\n",
    "El análisis de datos con Pandas típicamente sigue un **flujo de trabajo estructurado**:\n",
    "\n",
    "* **Importación  de Datos**: Pandas facilita la lectura de diversos formatos como CSV, Excel, SQL y JSON, entre otros.\n",
    "* **Limpieza de Datos**: Una fase crítica que incluye el manejo de valores faltantes, eliminación de duplicados y corrección de inconsistencias.\n",
    "* **Transformación**: Proceso de reestructuración de datos mediante operaciones como filtrado, agregación y pivoteo.\n",
    "* **Análisis Exploratorio**: Utilización de estadísticas descriptivas y visualizaciones para comprender patrones y relaciones en los datos.\n",
    "\n",
    "Para comenzar a utilizar Pandas se tiene que ejecutar el comando: \n",
    "\n",
    "```Python \n",
    "   import pandas as pd \n",
    "\n",
    "```\n",
    "\n",
    "En este caso se utiliza la abreviación `pd` para ejecutar funciones que pertenecen a esta librería. "
   ]
  },
  {
   "cell_type": "markdown",
   "metadata": {},
   "source": [
    "## **5.1 Objetos básicos en Pandas**\n",
    "\n",
    "**Estructuras de Datos Fundamentales**\n",
    "\n",
    "Pandas se basa en dos estructuras de datos principales u objetos:\n",
    "\n",
    "* **Series**: Arreglos unidimensionales etiquetados, similares a una lista, un arreglo (una dimensión) o una columna en una hoja de Excel.\n",
    "\n",
    "* **DataFrame**: Estructuras bidimensionales que pueden verse como una tabla de base de datos.\n"
   ]
  },
  {
   "cell_type": "markdown",
   "metadata": {},
   "source": [
    "### **5.1.1 Series**\n",
    "\n",
    "Una **Serie** en Python (``pandas.Series``) es una estructura de datos unidimensional etiquetada (indexados) que puede contener cualquier tipo de datos (números, cadenas, objetos Python, datos personalizados) y pueden ser creadas a partir de listas, arreglos, diccionarios, etc.\n",
    "\n",
    "**Sintáxis**\n",
    "\n",
    "Para definir una serie en Pandas se utiliza la siguiente sintáxis.\n",
    "\n",
    "```Python \n",
    "   pd.Series([e_1,...e_n])\n",
    "``` \n",
    "Ejemplo: \n",
    "\n",
    "* Creación de Serie a partir de una **diccionario**.\n",
    "\n",
    "  En este caso los valores están indexados o etiquetados por las claves del diccionario:"
   ]
  },
  {
   "cell_type": "code",
   "execution_count": 11,
   "metadata": {},
   "outputs": [
    {
     "name": "stdout",
     "output_type": "stream",
     "text": [
      "2020    120.36\n",
      "2021    130.97\n",
      "2022    140.89\n",
      "Name: Salario_Promedio_MXN, dtype: float64\n"
     ]
    }
   ],
   "source": [
    "#Importamos librería\n",
    "import pandas as pd \n",
    "\n",
    "#Creación diccionario\n",
    "salarios_data = {\n",
    "                '2020': 120.36,  # Salario promedio 2020\n",
    "                '2021': 130.97,  # Salario promedio 2021\n",
    "                '2022': 140.89   # Salario promedio 2022\n",
    "}\n",
    "\n",
    "# Crear la serie\n",
    "\n",
    "serie_salarios = pd.Series(salarios_data, name='Salario_Promedio_MXN')\n",
    "\n",
    "print(serie_salarios)"
   ]
  },
  {
   "cell_type": "markdown",
   "metadata": {},
   "source": [
    "* Creación de Serie a partir de una lista \n",
    "\n",
    "  Para el caso de las **listas** la indexación será por la posición del valor en ésta:\n"
   ]
  },
  {
   "cell_type": "code",
   "execution_count": 16,
   "metadata": {},
   "outputs": [
    {
     "name": "stdout",
     "output_type": "stream",
     "text": [
      "0    120.36\n",
      "1    130.97\n",
      "2    140.89\n",
      "Name: Salario_Promedio_MXN, dtype: float64\n"
     ]
    }
   ],
   "source": [
    "#Lista\n",
    "salarios_data = [ \n",
    "                 120.36,  # Salario promedio 2020\n",
    "                 130.97,  # Salario promedio 2021\n",
    "                 140.89   # Salario promedio 2022\n",
    "                 ]\n",
    "\n",
    "# Crear la serie\n",
    "serie_salarios2 = pd.Series(salarios_data, name='Salario_Promedio_MXN')\n",
    "\n",
    "print(serie_salarios2)"
   ]
  },
  {
   "cell_type": "markdown",
   "metadata": {},
   "source": [
    "Por lo tanto, las **Series** tendran dos propiedad valores (*values*) e índices (*index*): "
   ]
  },
  {
   "cell_type": "code",
   "execution_count": 17,
   "metadata": {},
   "outputs": [
    {
     "name": "stdout",
     "output_type": "stream",
     "text": [
      "[120.36 130.97 140.89]\n",
      "Index(['2020', '2021', '2022'], dtype='object')\n"
     ]
    }
   ],
   "source": [
    "#Valores \n",
    "print(serie_salarios.values)\n",
    "#Index\n",
    "print(serie_salarios.index)"
   ]
  },
  {
   "cell_type": "markdown",
   "metadata": {},
   "source": [
    "Para el manejo y operación con series se combina características de diccionarios, listas y arreglos como :\n",
    "\n",
    "* Acceso a elementos:  se puede acceder a elementos por su posición usando índices numéricos, igual que en listaso bien por la etiqueta no númerica definida.\n",
    "\n",
    "* Operación: las series se operan de forma simiar a las listas y se le aplican funciones similares vistas en la **sección 2.2.1**\n",
    "\n",
    "* Mutabilidad: A diferencia de listas y diccionarios, no puedes modificar elementos directamente por posición sin crear una nueva serie (aunque puedes modificar valores existentes).\n"
   ]
  },
  {
   "cell_type": "markdown",
   "metadata": {},
   "source": [
    "### **5.1.2 Dataframes**\n",
    "\n",
    "Un **Dataframe (DF)** en Python (``pandas.Series``) es una estructura de datos formada por columnas y filas, y al igual que las Series también puede está indexado. Este tipo de estructura en Pandas es la más común en el análisis de datos ya que es compatible con un gran número de librarías para el desarrollo de modelos econométricos y estadísticos. Los DF se forman a patir de otras estructuras más simples como lo son las listas, series, arreglos y diccionarios.\n",
    "\n",
    "\n",
    " * **Creación de Dataframe a partir de un diccionario**\n",
    "\n",
    "     **Sintáxis**\n",
    "     \n",
    "     Para definir una DF en  Pandas a partir de un **diccionari**o se utiliza la siguiente sintáxis:\n",
    "     \n",
    "     ```Python \n",
    "        pd.DataFrame(dict)\n",
    "     ``` \n",
    "     \n",
    "     Ejemplo: \n",
    "     \n",
    "      Se tiene un diccionario con datos de porcentaje de la población en situación de pobreza por estado en México ([CONEVAL 2022](https://www.coneval.org.mx/Medicion/MP/Paginas/Pobreza_2022.aspx)):\n",
    "\n",
    "\n"
   ]
  },
  {
   "cell_type": "code",
   "execution_count": null,
   "metadata": {},
   "outputs": [
    {
     "name": "stdout",
     "output_type": "stream",
     "text": [
      "El diccionario tiene como clavesdict_keys(['Estados', 'TasaPobreza'])\n",
      "                Estados  TasaPobreza\n",
      "0               Chiapas         67.4\n",
      "1              Guerrero         60.4\n",
      "2                Oaxaca         58.4\n",
      "3                Puebla         54.0\n",
      "4              Tlaxcala         52.5\n",
      "5              Veracruz         51.7\n",
      "6               Tabasco         46.5\n",
      "7              Campeche         45.1\n",
      "8             Zacatecas         44.2\n",
      "9                México         42.9\n",
      "10            Michoacán         41.7\n",
      "11              Morelos         41.1\n",
      "12              Hidalgo         41.0\n",
      "13              Yucatán         38.8\n",
      "14      San Luis Potosí         35.5\n",
      "15              Durango         34.3\n",
      "16           Guanajuato         33.0\n",
      "17              Nayarit         29.3\n",
      "18         Quintana Roo         27.0\n",
      "19           Tamaulipas         26.8\n",
      "20     Ciudad de México         24.0\n",
      "21       Aguascalientes         23.7\n",
      "22              Jalisco         21.8\n",
      "23               Sonora         21.7\n",
      "24            Querétaro         21.7\n",
      "25              Sinaloa         21.6\n",
      "26               Colima         20.5\n",
      "27             Coahuila         18.2\n",
      "28            Chihuahua         17.6\n",
      "29           Nuevo León         16.0\n",
      "30      Baja California         13.4\n",
      "31  Baja California Sur         13.3 \n",
      " <class 'pandas.core.frame.DataFrame'>\n"
     ]
    }
   ],
   "source": [
    "#Definir Diccionario\n",
    "dic_estados = { \"Estados\": [\"Chiapas\", \"Guerrero\", \"Oaxaca\", \"Puebla\", \"Tlaxcala\", \"Veracruz\", \"Tabasco\", \"Campeche\", \"Zacatecas\", \"México\", \"Michoacán\", \"Morelos\", \"Hidalgo\", \"Yucatán\", \"San Luis Potosí\", \"Durango\", \"Guanajuato\", \"Nayarit\", \"Quintana Roo\", \"Tamaulipas\", \"Ciudad de México\", \"Aguascalientes\", \"Jalisco\", \"Sonora\", \"Querétaro\", \"Sinaloa\", \"Colima\", \"Coahuila\", \"Chihuahua\", \"Nuevo León\", \"Baja California\", \"Baja California Sur\"],\n",
    "                \"TasaPobreza\": [67.4, 60.4, 58.4, 54.0, 52.5, 51.7, 46.5, 45.1, 44.2, 42.9, 41.7, 41.1, 41.0, 38.8, 35.5, 34.3, 33.0, 29.3, 27.0, 26.8, 24.0, 23.7, 21.8, 21.7, 21.7, 21.6, 20.5, 18.2, 17.6, 16.0, 13.4, 13.3]\n",
    "}\n",
    "print(fr\"El diccionario tiene como claves{dic_estados.keys()}\")\n",
    "\n",
    "#Crear DataFrame\n",
    "df_estados = pd.DataFrame(dic_estados)\n",
    "\n",
    "print(df_estados ,\"\\n\", type(df_estados), \"\\n\")"
   ]
  },
  {
   "cell_type": "markdown",
   "metadata": {},
   "source": [
    "Como se observa en la salida anterior, los DF son estructuras bidimensionales que están indexadas por las **filas** y también por las **columnas**. Para ver el índice  de las columnas utilizamos el comando `columns`:"
   ]
  },
  {
   "cell_type": "code",
   "execution_count": 40,
   "metadata": {},
   "outputs": [
    {
     "data": {
      "text/plain": [
       "Index(['Estados', 'TasaPobreza'], dtype='object')"
      ]
     },
     "execution_count": 40,
     "metadata": {},
     "output_type": "execute_result"
    }
   ],
   "source": [
    "#Columnas del Dataframe\n",
    "df_estados.columns"
   ]
  },
  {
   "cell_type": "markdown",
   "metadata": {},
   "source": [
    "Para obtener el número de filas y columnas de un Df podemo aplicar el comando  `shape`:"
   ]
  },
  {
   "cell_type": "code",
   "execution_count": 39,
   "metadata": {},
   "outputs": [
    {
     "data": {
      "text/plain": [
       "(32, 2)"
      ]
     },
     "execution_count": 39,
     "metadata": {},
     "output_type": "execute_result"
    }
   ],
   "source": [
    "#Dimensión de Dataframe\n",
    "df_estados.shape"
   ]
  },
  {
   "cell_type": "markdown",
   "metadata": {},
   "source": [
    "Además, si se requiere dar un vistazo a las primeras  o últimas `n` filas de DF se utilizarán las funciones `head()` y `tail()`:\n"
   ]
  },
  {
   "cell_type": "code",
   "execution_count": 44,
   "metadata": {},
   "outputs": [
    {
     "name": "stdout",
     "output_type": "stream",
     "text": [
      "    Estados  TasaPobreza\n",
      "0   Chiapas         67.4\n",
      "1  Guerrero         60.4\n",
      "2    Oaxaca         58.4\n",
      "3    Puebla         54.0\n",
      "4  Tlaxcala         52.5\n",
      "                Estados  TasaPobreza\n",
      "27             Coahuila         18.2\n",
      "28            Chihuahua         17.6\n",
      "29           Nuevo León         16.0\n",
      "30      Baja California         13.4\n",
      "31  Baja California Sur         13.3\n"
     ]
    }
   ],
   "source": [
    "#Primera 5 filas\n",
    "print(df_estados.head(5))\n",
    "\n",
    "#Ultimas 5 filas\n",
    "print(df_estados.tail(5))"
   ]
  },
  {
   "cell_type": "markdown",
   "metadata": {},
   "source": [
    " * **Creación de Dataframe a partir de Serie**\n",
    "\n",
    "     **Sintáxis**\n",
    "     \n",
    "     Para definir una DF en  Pandas a partir de un **Serie**o se utiliza la siguiente sintáxis:\n",
    "     \n",
    "     ```Python \n",
    "        pd.DataFrame(Serie)\n",
    "     ``` \n",
    "     \n",
    "     Ejemplo: \n",
    "      * Retomando la Serie de salarios promedio:\n",
    "      \n"
   ]
  },
  {
   "cell_type": "code",
   "execution_count": 64,
   "metadata": {},
   "outputs": [
    {
     "name": "stdout",
     "output_type": "stream",
     "text": [
      "<class 'pandas.core.series.Series'>\n",
      "Mi DF de salarios es de tamaño: (3, 1) , y tiene las columnas Index(['Salario_Promedio_MXN'], dtype='object')\n"
     ]
    }
   ],
   "source": [
    "#Retomar Serie\n",
    "serie_salarios = pd.Series(salarios_data, name='Salario_Promedio_MXN')\n",
    "print(type(serie_salarios))\n",
    "\n",
    "#Crear DF\n",
    "df_salarios = pd.DataFrame(serie_salarios)\n",
    "\n",
    "print( fr\"Mi DF de salarios es de tamaño: {df_salarios.shape} , y tiene las columnas {df_salarios.columns}\" )"
   ]
  },
  {
   "cell_type": "markdown",
   "metadata": {},
   "source": [
    " * **Creación de Dataframe a partir de Arreglo de Numpy**\n",
    "\n",
    "     **Sintáxis**\n",
    "     \n",
    "     Para definir una DF en  Pandas a partir de un **Arreglo** de dos dimensiones de Numpy o se utiliza la siguiente sintáxis:\n",
    "     \n",
    "     ```Python \n",
    "        pd.DataFrame(array, columns = [\"nombres\"])\n",
    "     ``` \n",
    "     \n",
    "     Ejemplo: \n",
    "      * Tenemos el arreglo :\n",
    "      "
   ]
  },
  {
   "cell_type": "markdown",
   "metadata": {},
   "source": [
    "## **5.2 Importar y explorar diferentes tipos de datos**\n"
   ]
  },
  {
   "cell_type": "markdown",
   "metadata": {},
   "source": [
    "## **5.3 Limpieza y transformación de datos**\n"
   ]
  },
  {
   "cell_type": "markdown",
   "metadata": {},
   "source": [
    "## **5.4 Agrupación y resumen de datos**\n"
   ]
  },
  {
   "cell_type": "markdown",
   "metadata": {},
   "source": [
    "## **5.5 Trabajando con joins y merges**"
   ]
  }
 ],
 "metadata": {
  "kernelspec": {
   "display_name": "Python 3",
   "language": "python",
   "name": "python3"
  },
  "language_info": {
   "codemirror_mode": {
    "name": "ipython",
    "version": 3
   },
   "file_extension": ".py",
   "mimetype": "text/x-python",
   "name": "python",
   "nbconvert_exporter": "python",
   "pygments_lexer": "ipython3",
   "version": "3.12.1"
  }
 },
 "nbformat": 4,
 "nbformat_minor": 2
}
