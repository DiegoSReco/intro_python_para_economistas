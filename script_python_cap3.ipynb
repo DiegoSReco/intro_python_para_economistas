{
  "cells": [
    {
      "cell_type": "markdown",
      "metadata": {
        "colab_type": "text",
        "id": "view-in-github"
      },
      "source": [
        "<a href=\"https://colab.research.google.com/github/DiegoSReco/python_para_economistas/blob/main/script_python_cap3.ipynb\" target=\"_parent\"><img src=\"https://colab.research.google.com/assets/colab-badge.svg\" alt=\"Open In Colab\"/></a>"
      ]
    },
    {
      "cell_type": "markdown",
      "metadata": {
        "id": "Fg2VI9p82ss9"
      },
      "source": [
        "# **3. Estructuras de Datos**\n",
        "\n",
        "Python ofrece un conjunto de flexibles de estructuras que permiten organizar, almacenar y manipular datos de manera efectiva, convirtiendo información aparentemente caótica en sistemas ordenados y manejables. En esta sección exploraremos estruturas enfocadas en el analisis de datos las cuales son: **listas, conjuntos, arreglos, tuplas, diccionarios y dataframes.**\n",
        "\n",
        "**¿Por qué es importante entender el funcionamiento de cada uno de éstas?**\n",
        "\n",
        "- Manipular grandes volúmenes de información\n",
        "- Gestionar la memoria de forma efectiva\n",
        "- Optimizar el rendimiento de nuestros modelos o programas\n",
        "- Resolver problemas  de forma eficiente"
      ]
    },
    {
      "cell_type": "markdown",
      "metadata": {
        "id": "pnYzMMYO5zKX"
      },
      "source": [
        "## Listas (`list`)\n",
        "### **¿Qué són las listas?**\n",
        "\n",
        "Una secuencia mutable que puede contener elementos de diferentes tipos ya sea númericos, cadenas de texto, booleanos, fechas o la mezcla de ellos. Por éstas características las listas son estructuras de datos flexibles.\n",
        "\n",
        "**Sintáxis**\n",
        "\n",
        "Para definir una lista en Python usaremos dos corchetes y los elementos dentro se separan por comas: \n",
        "\n",
        "  ```python\n",
        "lista = [e_1, e_2, e_3,...,n]  \n",
        "  ```\n",
        "Por ejemplo:"
      ]
    },
    {
      "cell_type": "code",
      "execution_count": 162,
      "metadata": {},
      "outputs": [
        {
          "name": "stdout",
          "output_type": "stream",
          "text": [
            "[3.4, 2.7, 2.4, 2.0, 3.7, 2.1, 1.6, 2.5, 4.0, 2.8, 2.9, 1.0, 2.4, 2.2, 3.3, 1.7, 1.6, 2.2, 2.6, 1.2, 2.3, 2.7, 2.6, 2.6, 2.4, 3.6, 4.0, 3.4, 2.4, 2.0, 1.8, 2.9] \n",
            " ¿Qué clase objeto es list_lenguajes? <class 'list'>\n"
          ]
        }
      ],
      "source": [
        "# Definir lLista de tasas de desocupación segundo trimestre 2024 (Fuente: INEGI https://www.inegi.org.mx/app/saladeprensa/noticia/9251)\n",
        "list_tasas_desc = [ 3.4, 2.7, 2.4, 2.0, 3.7, 2.1, 1.6, 2.5, 4.0,\n",
        "                   2.8, 2.9, 1.0, 2.4, 2.2, 3.3, 1.7, 1.6, 2.2,\n",
        "                   2.6, 1.2, 2.3, 2.7, 2.6, 2.6, 2.4, 3.6, 4.0,\n",
        "                   3.4, 2.4, 2.0, 1.8, 2.9 ]\n",
        "\n",
        "#Definir lista de estados\n",
        "list_estados = [\"Aguascalientes\", \"Baja California\", \"Baja California Sur\", \"Campeche\",\n",
        "                 \"Coahuila de Zaragoza\", \"Colima\", \"Chiapas\", \"Chihuahua\", \"Ciudad de México\",\n",
        "                 \"Durango\", \"Guanajuato\", \"Guerrero\", \"Hidalgo\", \"Jalisco\", \"México\",\n",
        "                 \"Michoacán de Ocampo\", \"Morelos\", \"Nayarit\", \"Nuevo León\", \"Oaxaca\",\n",
        "                 \"Puebla\", \"Querétaro\", \"Quintana Roo\", \"San Luis Potosí\", \"Sinaloa\",\n",
        "                 \"Sonora\", \"Tabasco\", \"Tamaulipas\", \"Tlaxcala\", \n",
        "                 \"Veracruz de Ignacio de la Llave\", \"Yucatán\", \"Zacatecas\"]\n",
        "#Imprimir contenido \n",
        "print(  list_tasas_desc, \"\\n\" , \"¿Qué clase objeto es list_lenguajes?\", type(list_estados))\n"
      ]
    },
    {
      "cell_type": "markdown",
      "metadata": {},
      "source": [
        "* Las listas pueden contener distintos tipos de variables:"
      ]
    },
    {
      "cell_type": "code",
      "execution_count": 163,
      "metadata": {},
      "outputs": [
        {
          "name": "stdout",
          "output_type": "stream",
          "text": [
            "['Aguascalientes', 3.4, 'Baja California', 2.7]\n"
          ]
        }
      ],
      "source": [
        "#Definir lista\n",
        "list_ags = [\"Aguascalientes\", 3.4, \"Baja California\", 2.7]\n",
        "#Imprimir contenido \n",
        "\n",
        "print(list_ags)"
      ]
    },
    {
      "cell_type": "markdown",
      "metadata": {},
      "source": [
        "* Incluso pueden contener listas por lo que podemos anidar listas en listas: \n"
      ]
    },
    {
      "cell_type": "code",
      "execution_count": 164,
      "metadata": {},
      "outputs": [
        {
          "name": "stdout",
          "output_type": "stream",
          "text": [
            "[[3.4, 2.7, 2.4, 2.0, 3.7, 2.1, 1.6, 2.5, 4.0, 2.8, 2.9, 1.0, 2.4, 2.2, 3.3, 1.7, 1.6, 2.2, 2.6, 1.2, 2.3, 2.7, 2.6, 2.6, 2.4, 3.6, 4.0, 3.4, 2.4, 2.0, 1.8, 2.9], ['Aguascalientes', 'Baja California', 'Baja California Sur', 'Campeche', 'Coahuila de Zaragoza', 'Colima', 'Chiapas', 'Chihuahua', 'Ciudad de México', 'Durango', 'Guanajuato', 'Guerrero', 'Hidalgo', 'Jalisco', 'México', 'Michoacán de Ocampo', 'Morelos', 'Nayarit', 'Nuevo León', 'Oaxaca', 'Puebla', 'Querétaro', 'Quintana Roo', 'San Luis Potosí', 'Sinaloa', 'Sonora', 'Tabasco', 'Tamaulipas', 'Tlaxcala', 'Veracruz de Ignacio de la Llave', 'Yucatán', 'Zacatecas']]\n"
          ]
        }
      ],
      "source": [
        "#Definir lita anidadad\n",
        "list_estados_estados = [list_tasas_desc, list_estados] \n",
        "\n",
        "print(list_estados_estados)"
      ]
    },
    {
      "cell_type": "markdown",
      "metadata": {},
      "source": [
        "### **Manejo y operaciones en listas**\n",
        "\n",
        "Por ser uno de los objetos más flexibles las listas permiten realizar una serie de acciones sobre sus elementos como: el ordenamiento, reemplazo, modificación, operaciones aritméticas, etc.\n",
        "\n",
        "#### **Extracción de elementos  y modificación**\n",
        "\n",
        "* El tamaño o número de elementos en una lista los podemos calcular con la función ```len()```"
      ]
    },
    {
      "cell_type": "code",
      "execution_count": 165,
      "metadata": {},
      "outputs": [
        {
          "name": "stdout",
          "output_type": "stream",
          "text": [
            "32\n"
          ]
        }
      ],
      "source": [
        "#Tamaño lista \n",
        "n_tasas = len(list_estados)\n",
        "n_estados = len(list_tasas_desc)\n",
        "\n",
        "print(n_tasas)"
      ]
    },
    {
      "cell_type": "markdown",
      "metadata": {},
      "source": [
        "##### **Extracción**\n",
        "\n",
        "* Para la extracción de ciertos elementos de una lista usaremos la idexación: \n",
        "\n",
        "  ```lista[i]```\n",
        "  \n",
        "  Ejemplo:"
      ]
    },
    {
      "cell_type": "code",
      "execution_count": 166,
      "metadata": {},
      "outputs": [
        {
          "name": "stdout",
          "output_type": "stream",
          "text": [
            "El primer elemento es 3.4  y el último es 2.9\n"
          ]
        }
      ],
      "source": [
        "#Extraer primer elemento de la lista de tasas\n",
        "e_1 = list_tasas_desc[0]\n",
        "\n",
        "#Extraer último \n",
        "e_n = list_tasas_desc[-1]\n",
        "\n",
        "#Otra forma de calcular último elemento \n",
        "e_n = list_tasas_desc[n_tasas - 1 ]\n",
        "\n",
        "print(f\"El primer elemento es {e_1}  y el último es {e_n}\")"
      ]
    },
    {
      "cell_type": "markdown",
      "metadata": {},
      "source": [
        "* Es posible extraer un rango de elementos a partir de los índices separados por ```:``` :"
      ]
    },
    {
      "cell_type": "code",
      "execution_count": 167,
      "metadata": {},
      "outputs": [
        {
          "name": "stdout",
          "output_type": "stream",
          "text": [
            "[3.4, 2.7, 2.4, 2.0, 3.7]\n",
            "[3.4, 2.7, 2.4, 2.0, 3.7]\n",
            "[3.4, 2.4, 2.0, 1.8, 2.9]\n",
            "[3.4, 2.4, 2.0, 1.8, 2.9]\n"
          ]
        }
      ],
      "source": [
        "#Extraer primeros 5 elementos\n",
        "print(list_tasas_desc[0:5])\n",
        "\n",
        "#Extraer primeros 5 elementos (otra opción)\n",
        "print(list_tasas_desc[:5])\n",
        "\n",
        "#Extraer ultimos 5 elementos  (otra opción)\n",
        "print(list_tasas_desc[-5:])\n",
        "print(list_tasas_desc[n_tasas - 5:])\n",
        "\n"
      ]
    },
    {
      "cell_type": "markdown",
      "metadata": {},
      "source": [
        "##### **Modificación**\n",
        "\n",
        "\n",
        "Otra de las características de las listas es la **mutabilidad**, es decir, podemos modificar el contenido de una lista que ya está creada. Por lo que es posible reemplazar, borrar y agregar elementos a una lista.\n",
        "\n",
        "**Borrar elementos**\n",
        "\n",
        "Para borrar elementos de una lista se puede utiliza dos métodos: \n",
        "\n",
        "* Valor de elemento \n",
        "   \n",
        "    ```remove()``` "
      ]
    },
    {
      "cell_type": "code",
      "execution_count": 168,
      "metadata": {},
      "outputs": [
        {
          "name": "stdout",
          "output_type": "stream",
          "text": [
            "['Aguascalientes', 'Baja California', 'Baja California Sur', 'Campeche', 'Coahuila de Zaragoza', 'Colima', 'Chiapas', 'Chihuahua', 'Ciudad de México', 'Durango', 'Guanajuato', 'Guerrero', 'Hidalgo', 'Jalisco', 'México', 'Michoacán de Ocampo', 'Morelos', 'Nayarit', 'Nuevo León', 'Oaxaca', 'Puebla', 'Querétaro', 'Quintana Roo', 'San Luis Potosí', 'Sinaloa', 'Sonora', 'Tabasco', 'Tamaulipas', 'Tlaxcala', 'Veracruz de Ignacio de la Llave', 'Yucatán', 'Zacatecas']\n",
            "['Baja California', 'Baja California Sur', 'Campeche', 'Coahuila de Zaragoza', 'Colima', 'Chiapas', 'Chihuahua', 'Ciudad de México', 'Durango', 'Guanajuato', 'Guerrero', 'Hidalgo', 'Jalisco', 'México', 'Michoacán de Ocampo', 'Morelos', 'Nayarit', 'Nuevo León', 'Oaxaca', 'Puebla', 'Querétaro', 'Quintana Roo', 'San Luis Potosí', 'Sinaloa', 'Sonora', 'Tabasco', 'Tamaulipas', 'Tlaxcala', 'Veracruz de Ignacio de la Llave', 'Yucatán', 'Zacatecas']\n"
          ]
        }
      ],
      "source": [
        "#Lista de estados \n",
        "print(list_estados)\n",
        "\n",
        "#Aplicar remove para eliminar Aguascalientes\n",
        "list_estados.remove(\"Aguascalientes\")\n",
        "print(list_estados)\n"
      ]
    },
    {
      "cell_type": "markdown",
      "metadata": {},
      "source": [
        " * Para hacerlo el índice utilizamos:\n",
        "     \n",
        "   ```del```"
      ]
    },
    {
      "cell_type": "code",
      "execution_count": 169,
      "metadata": {},
      "outputs": [
        {
          "name": "stdout",
          "output_type": "stream",
          "text": [
            "Baja California\n",
            "Baja California Sur\n"
          ]
        }
      ],
      "source": [
        "#Imprimir primero elemento \n",
        "print(list_estados[0])\n",
        "\n",
        "#Borrar primero elemento \n",
        "del list_estados[0]\n",
        "\n",
        "#Imprimier nuevo primero elemento\n",
        "print(list_estados[0])"
      ]
    },
    {
      "cell_type": "markdown",
      "metadata": {},
      "source": [
        "**Reemplazar elementos**\n",
        "\n",
        "Para reemplazar elementos utilizaremos los índices, es decir, por su posición en lista de un elemento.\n",
        "\n",
        "> **Nota**: Para encontrar la posición de algún elemento en la lista usamos la función ```index()```. Con la siguiente sintáxis ```lista.index(\"Valor\")```\n"
      ]
    },
    {
      "cell_type": "code",
      "execution_count": 170,
      "metadata": {},
      "outputs": [
        {
          "name": "stdout",
          "output_type": "stream",
          "text": [
            "6\n",
            "['Baja California Sur', 'Campeche', 'Coahuila de Zaragoza', 'Colima', 'Chiapas', 'Chihuahua', 'CDMX', 'Durango', 'Guanajuato', 'Guerrero', 'Hidalgo', 'Jalisco', 'México', 'Michoacán de Ocampo', 'Morelos', 'Nayarit', 'Nuevo León', 'Oaxaca', 'Puebla', 'Querétaro', 'Quintana Roo', 'San Luis Potosí', 'Sinaloa', 'Sonora', 'Tabasco', 'Tamaulipas', 'Tlaxcala', 'Veracruz de Ignacio de la Llave', 'Yucatán', 'Zacatecas']\n"
          ]
        }
      ],
      "source": [
        "#Encontrar Ciudad de México \n",
        "posi_cdmx = list_estados.index(\"Ciudad de México\")\n",
        "print(posi_cdmx)\n",
        "\n",
        "#Reemplazar \n",
        "list_estados[posi_cdmx] = \"CDMX\"\n",
        "#Imprimir lista modificada \n",
        "print(list_estados)"
      ]
    },
    {
      "cell_type": "markdown",
      "metadata": {},
      "source": [
        "**Agregar elementos**\n",
        "\n",
        "Agregar elementos a una lista es sencillo y se usa la funciones: \n",
        "\n",
        "*  ``append()`` cuando se agrega un elemento al final de la lista \n"
      ]
    },
    {
      "cell_type": "code",
      "execution_count": 171,
      "metadata": {},
      "outputs": [
        {
          "name": "stdout",
          "output_type": "stream",
          "text": [
            "['Baja California Sur', 'Campeche', 'Coahuila de Zaragoza', 'Colima', 'Chiapas', 'Chihuahua', 'CDMX', 'Durango', 'Guanajuato', 'Guerrero', 'Hidalgo', 'Jalisco', 'México', 'Michoacán de Ocampo', 'Morelos', 'Nayarit', 'Nuevo León', 'Oaxaca', 'Puebla', 'Querétaro', 'Quintana Roo', 'San Luis Potosí', 'Sinaloa', 'Sonora', 'Tabasco', 'Tamaulipas', 'Tlaxcala', 'Veracruz de Ignacio de la Llave', 'Yucatán', 'Zacatecas', 'Aguascalientes']\n"
          ]
        }
      ],
      "source": [
        "#Agregar al final \n",
        "list_estados.append(\"Aguascalientes\")\n",
        "print(list_estados)"
      ]
    },
    {
      "cell_type": "markdown",
      "metadata": {},
      "source": [
        "*  ``` insert()``` cuando se agrega element a alguna posición específica"
      ]
    },
    {
      "cell_type": "code",
      "execution_count": 172,
      "metadata": {},
      "outputs": [
        {
          "name": "stdout",
          "output_type": "stream",
          "text": [
            "['Aguascalientes', 'Baja California Sur', 'Campeche', 'Coahuila de Zaragoza', 'Colima', 'Chiapas', 'Chihuahua', 'CDMX', 'Durango', 'Guanajuato', 'Guerrero', 'Hidalgo', 'Jalisco', 'México', 'Michoacán de Ocampo', 'Morelos', 'Nayarit', 'Nuevo León', 'Oaxaca', 'Puebla', 'Querétaro', 'Quintana Roo', 'San Luis Potosí', 'Sinaloa', 'Sonora', 'Tabasco', 'Tamaulipas', 'Tlaxcala', 'Veracruz de Ignacio de la Llave', 'Yucatán', 'Zacatecas', 'Aguascalientes']\n"
          ]
        }
      ],
      "source": [
        "#Agregar en posición específica \n",
        "list_estados.insert(0,\"Aguascalientes\")\n",
        "print(list_estados)"
      ]
    },
    {
      "cell_type": "markdown",
      "metadata": {},
      "source": [
        "#### **Ordenamiento y otras operaciones**\n",
        "\n",
        "Las listas también pueden ser ordenadas ya sea alfabéticamente si contienen valores strings, o por el valor del elemento sin son numéricos. Además podemos saber cuales son los valores más altos o más bajos contenidos en una lista.\n",
        "\n",
        "##### **Ordenamiento**\n",
        "\n",
        "Para ordenar una lista se utiliza la función ```sort()```:\n"
      ]
    },
    {
      "cell_type": "code",
      "execution_count": 173,
      "metadata": {},
      "outputs": [
        {
          "name": "stdout",
          "output_type": "stream",
          "text": [
            "[1.0, 1.2, 1.6, 1.6, 1.7, 1.8, 2.0, 2.0, 2.1, 2.2, 2.2, 2.3, 2.4, 2.4, 2.4, 2.4, 2.5, 2.6, 2.6, 2.6, 2.7, 2.7, 2.8, 2.9, 2.9, 3.3, 3.4, 3.4, 3.6, 3.7, 4.0, 4.0]\n"
          ]
        }
      ],
      "source": [
        "#Ordernar lista de forma ascendente\n",
        "list_tasas_desc.sort() # Ordena descendente\n",
        "print(list_tasas_desc)"
      ]
    },
    {
      "cell_type": "code",
      "execution_count": 174,
      "metadata": {},
      "outputs": [
        {
          "name": "stdout",
          "output_type": "stream",
          "text": [
            "[4.0, 4.0, 3.7, 3.6, 3.4, 3.4, 3.3, 2.9, 2.9, 2.8, 2.7, 2.7, 2.6, 2.6, 2.6, 2.5, 2.4, 2.4, 2.4, 2.4, 2.3, 2.2, 2.2, 2.1, 2.0, 2.0, 1.8, 1.7, 1.6, 1.6, 1.2, 1.0]\n"
          ]
        }
      ],
      "source": [
        "#Ordernar lista de forma descendente\n",
        "list_tasas_desc.sort(reverse= True ) # Ordena descendente\n",
        "print(list_tasas_desc)"
      ]
    },
    {
      "cell_type": "markdown",
      "metadata": {},
      "source": [
        "##### **Obtener elementos máximos y mínimos**\n",
        "\n",
        "Para saber cuales son los elementos de mayor valor en una lista ya sea númerico o alfabético utilizamos las funciones  ```min()``` y ```max()```:"
      ]
    },
    {
      "cell_type": "code",
      "execution_count": 175,
      "metadata": {},
      "outputs": [
        {
          "name": "stdout",
          "output_type": "stream",
          "text": [
            "1.0\n",
            "4.0\n"
          ]
        }
      ],
      "source": [
        "#Computar valor mínimo\n",
        "n_min = min(list_tasas_desc)\n",
        "print(n_min)\n",
        "\n",
        "#Computar valor máximo\n",
        "n_max = max(list_tasas_desc)\n",
        "print(n_max)"
      ]
    },
    {
      "cell_type": "code",
      "execution_count": 176,
      "metadata": {},
      "outputs": [
        {
          "name": "stdout",
          "output_type": "stream",
          "text": [
            "Aguascalientes\n",
            "Zacatecas\n"
          ]
        }
      ],
      "source": [
        "#Computar valor mínimo\n",
        "n_min = min(list_estados)\n",
        "print(n_min)\n",
        "\n",
        "#Computar valor máximo\n",
        "n_max = max(list_estados)\n",
        "print(n_max)"
      ]
    },
    {
      "cell_type": "markdown",
      "metadata": {},
      "source": [
        "##### **Otras Operaciones**\n",
        "\n",
        "Además podemos realizar ciertas operaciones aritméticas con listas o sus elememntos.\n",
        "\n",
        "**Suma de listas**\n",
        "\n",
        "Las suma de listas es una concatenación de los elementos de las listas que sumemos.\n",
        "\n"
      ]
    },
    {
      "cell_type": "code",
      "execution_count": 177,
      "metadata": {},
      "outputs": [
        {
          "name": "stdout",
          "output_type": "stream",
          "text": [
            "[4.0, 4.0, 3.7, 3.6, 3.4, 3.4, 3.3, 2.9, 2.9, 2.8, 2.7, 2.7, 2.6, 2.6, 2.6, 2.5, 2.4, 2.4, 2.4, 2.4, 2.3, 2.2, 2.2, 2.1, 2.0, 2.0, 1.8, 1.7, 1.6, 1.6, 1.2, 1.0, 'Aguascalientes', 'Baja California Sur', 'Campeche', 'Coahuila de Zaragoza', 'Colima', 'Chiapas', 'Chihuahua', 'CDMX', 'Durango', 'Guanajuato', 'Guerrero', 'Hidalgo', 'Jalisco', 'México', 'Michoacán de Ocampo', 'Morelos', 'Nayarit', 'Nuevo León', 'Oaxaca', 'Puebla', 'Querétaro', 'Quintana Roo', 'San Luis Potosí', 'Sinaloa', 'Sonora', 'Tabasco', 'Tamaulipas', 'Tlaxcala', 'Veracruz de Ignacio de la Llave', 'Yucatán', 'Zacatecas', 'Aguascalientes']\n"
          ]
        }
      ],
      "source": [
        "#Suma de lista \n",
        "suma_list = list_tasas_desc + list_estados\n",
        "\n",
        "print(suma_list)"
      ]
    },
    {
      "cell_type": "markdown",
      "metadata": {},
      "source": [
        "**Suma de los elementos de una lista**\n",
        "\n",
        "Si tenemos un lista con valores numéricos podemos realizar la suma se sus elementos con la función ```sum()```"
      ]
    },
    {
      "cell_type": "code",
      "execution_count": 178,
      "metadata": {},
      "outputs": [
        {
          "name": "stdout",
          "output_type": "stream",
          "text": [
            "81.0\n"
          ]
        }
      ],
      "source": [
        "#Suma de las tasas de desocupación \n",
        "sum_tasas_desocup = sum(list_tasas_desc )\n",
        "#Imprimir\n",
        "print(sum_tasas_desocup)"
      ]
    },
    {
      "cell_type": "markdown",
      "metadata": {},
      "source": [
        "Es útil cuando queremos realizar ciertas operaciones que utilizan la suma, como podría ser un promedio.\n",
        "\n",
        "Por ejemplo:\n",
        "\n",
        "* ¿Cuáles el promedio de la tasa de desocupación en México para el segundo trimestre de 2024?"
      ]
    },
    {
      "cell_type": "code",
      "execution_count": 179,
      "metadata": {},
      "outputs": [
        {
          "name": "stdout",
          "output_type": "stream",
          "text": [
            "El promedio es 2.53125\n"
          ]
        }
      ],
      "source": [
        "#Calcular promedio\n",
        "promedio_tasas =  sum_tasas_desocup/len(list_estados)\n",
        "\n",
        "print(\"El promedio es\", promedio_tasas)"
      ]
    },
    {
      "cell_type": "markdown",
      "metadata": {},
      "source": [
        "**Verificación de elementos**\n",
        "\n",
        "Un operador que podemos utilizar en listas es  ```in```, que sirva para verificar si existe un determinado elemento: \n",
        "\n",
        "Por ejemplo:\n"
      ]
    },
    {
      "cell_type": "code",
      "execution_count": 180,
      "metadata": {},
      "outputs": [
        {
          "name": "stdout",
          "output_type": "stream",
          "text": [
            "False\n",
            "True\n"
          ]
        }
      ],
      "source": [
        "#Aplicar operador in \n",
        "print(\"Ciudad de México\" in list_estados) #El resultado será un booleano (True)\n",
        "\n",
        "print(\"CDMX\" in list_estados) #El resultado será un booleano (False)"
      ]
    },
    {
      "cell_type": "markdown",
      "metadata": {
        "id": "ZT9EKqfe7jSB"
      },
      "source": [
        "## Tuplas (`tuple`)"
      ]
    },
    {
      "cell_type": "markdown",
      "metadata": {},
      "source": [
        "### **¿Qués son las tuplas?**\n",
        "\n",
        "Las tuplas son una una secuencia ordenada de elementos separados por comas. Al igual que las listas, las tuplas permiten la combinación de diferentes tipos de elementos en una misma, pero a diferencia de las listas,  las tuplas son **inmutables**. Por tanto, una vez creada una tupla no se puede modificar.\n",
        "\n",
        "**Sintáxis**\n",
        "\n",
        "Para definir un tupla en Python podemos hacerlo de dos formas:\n",
        "\n",
        "1. Separando los elemento por comas:\n",
        "\n",
        "```python\n",
        "tuple_1 = e_1, e_2, e_3,...,n  \n",
        "\n",
        "```\n",
        "2. Separando los elemento por comas y encerrándolos en paréntesis:\n",
        "\n",
        "```python\n",
        "tuple_1 = (e_1, e_2, e_3,...,n  )\n",
        "```\n"
      ]
    },
    {
      "cell_type": "code",
      "execution_count": 181,
      "metadata": {},
      "outputs": [
        {
          "name": "stdout",
          "output_type": "stream",
          "text": [
            "Tipo de elemento <class 'tuple'>\n"
          ]
        }
      ],
      "source": [
        "#Definir tupla\n",
        "tuple_tasas =  3.4, 2.7, 2.4, 2.0, 3.7\n",
        "\n",
        "print(\"Tipo de elemento\", type(tuple_tasas))"
      ]
    },
    {
      "cell_type": "markdown",
      "metadata": {},
      "source": [
        "### **Manejo y operaciones en tupla**\n",
        "\n",
        "El manejo y operaciones con tuplas es más restrictivo dado su condición de inmutabilidad.\n"
      ]
    },
    {
      "cell_type": "markdown",
      "metadata": {},
      "source": [
        "#### **Extracción de elementos  y modificación**\n",
        "\n",
        "##### **Extracción**\n",
        "\n",
        "La extracción de elementos en una tupla de realiza de la misma forma que en las listas, a partir de la posición del elemento.\n"
      ]
    },
    {
      "cell_type": "code",
      "execution_count": 182,
      "metadata": {},
      "outputs": [
        {
          "name": "stdout",
          "output_type": "stream",
          "text": [
            "5\n"
          ]
        }
      ],
      "source": [
        "#Definimos tamaño de la tupla\n",
        "n_tasas  = len(tuple_tasas)\n",
        "\n",
        "print(n_tasas)"
      ]
    },
    {
      "cell_type": "code",
      "execution_count": 183,
      "metadata": {},
      "outputs": [
        {
          "name": "stdout",
          "output_type": "stream",
          "text": [
            "El primer elemento es 3.4  y el último es 3.7\n"
          ]
        }
      ],
      "source": [
        "#Extraer primer elemento de la tupla de tasas\n",
        "e_1 = tuple_tasas[0]\n",
        "\n",
        "#Extraer último \n",
        "e_n = tuple_tasas[-1]\n",
        "\n",
        "#Otra forma de calcular último elemento \n",
        "e_n =  tuple_tasas[n_tasas - 1 ]\n",
        "\n",
        "print(f\"El primer elemento es {e_1}  y el último es {e_n}\")"
      ]
    },
    {
      "cell_type": "markdown",
      "metadata": {},
      "source": [
        "##### **Modificación**\n",
        "Dado su condición de inmutabilidad no podemos modificar tuplas, por lo tanto no podemos reemplazar elementos, agregar o borrar elementos. Lo que obtendremos será un error tipo  `TypeError`, en este caso el tipo de dato es incorrecto porque una tupla es inalterable.\n",
        "\n",
        "Ejemplo:\n"
      ]
    },
    {
      "cell_type": "code",
      "execution_count": 184,
      "metadata": {},
      "outputs": [
        {
          "ename": "TypeError",
          "evalue": "'tuple' object does not support item assignment",
          "output_type": "error",
          "traceback": [
            "\u001b[1;31m---------------------------------------------------------------------------\u001b[0m",
            "\u001b[1;31mTypeError\u001b[0m                                 Traceback (most recent call last)",
            "Cell \u001b[1;32mIn[184], line 2\u001b[0m\n\u001b[0;32m      1\u001b[0m \u001b[38;5;66;03m#Reemplazar el primer elemento\u001b[39;00m\n\u001b[1;32m----> 2\u001b[0m \u001b[43mtuple_tasas\u001b[49m\u001b[43m[\u001b[49m\u001b[38;5;241;43m0\u001b[39;49m\u001b[43m]\u001b[49m \u001b[38;5;241m=\u001b[39m \u001b[38;5;241m5.4\u001b[39m\n",
            "\u001b[1;31mTypeError\u001b[0m: 'tuple' object does not support item assignment"
          ]
        }
      ],
      "source": [
        "#Reemplazar el primer elemento\n",
        "tuple_tasas[0] = 5.4"
      ]
    },
    {
      "cell_type": "markdown",
      "metadata": {},
      "source": [
        "#### **Otras operaciones**\n",
        "\n",
        "\n",
        "##### **Obtener elementos máximos y mínimos**\n",
        "\n",
        "Para saber cuales son los elementos de mayor valor en una lista ya sea númerico o alfabético utilizamos las funciones  ```min()``` y ```max()```:"
      ]
    },
    {
      "cell_type": "code",
      "execution_count": 127,
      "metadata": {},
      "outputs": [
        {
          "name": "stdout",
          "output_type": "stream",
          "text": [
            "2.0\n",
            "3.7\n"
          ]
        }
      ],
      "source": [
        "#Computar valor mínimo\n",
        "n_min = min(tuple_tasas)\n",
        "print(n_min)\n",
        "\n",
        "#Computar valor máximo\n",
        "n_max = max(tuple_tasas)\n",
        "print(n_max)"
      ]
    },
    {
      "cell_type": "markdown",
      "metadata": {},
      "source": [
        "##### **Desempaquetado de tuplas**\n",
        "\n",
        "Unas de las utilidades de las tuplas es que se pueden asignar sus elementos a variables, por eso es que muchos de los resultados o salidas en Python son tuplas.\n",
        "\n",
        "Ejemplo:"
      ]
    },
    {
      "cell_type": "code",
      "execution_count": 131,
      "metadata": {},
      "outputs": [
        {
          "name": "stdout",
          "output_type": "stream",
          "text": [
            "La coordenada x será 10 y la y 20\n"
          ]
        }
      ],
      "source": [
        "#Definir tupla de coordenadas\n",
        "coordenadas = (10, 20)\n",
        "#Asignar a variables\n",
        "x, y = coordenadas\n",
        "print(f\"La coordenada x será {x} y la y {y}\")"
      ]
    },
    {
      "cell_type": "markdown",
      "metadata": {},
      "source": [
        "##### **¿En qué situaciones son útiles las tuplas?**\n",
        "\n",
        "Las tuplas son especialmente útiles cuando:\n",
        "\n",
        "* Se necesita garantizar que los datos no cambiarán\n",
        "* Queremos representar colecciones de datos relacionados (como coordenadas)\n",
        "* Buscamos mejor rendimiento que con listas\n",
        "* Necesitamos usar la estructura como clave en un diccionario\n",
        "* Trabajamos con valores de retorno múltiples en funciones"
      ]
    },
    {
      "cell_type": "markdown",
      "metadata": {},
      "source": [
        "## Conjuntos (`set`)"
      ]
    },
    {
      "cell_type": "markdown",
      "metadata": {
        "id": "VAwUM_7C7maS"
      },
      "source": [
        "### **¿Qué son los conjuntos?**\n",
        "Un conjunto en Python es una colección desordenada de elemento únicos. Dado que un conjunto no está ordenado, sus elementos no tienen posición única por lo que no se puede acceder a los elementos de un conjunto pero si se puede agregar y eliminar elementos.\n",
        "\n",
        "**Sintáxis**\n",
        "\n",
        "Para definir un conjunto se utilizan corchetes  ```{}``` y utilizar la función  ```set() ``` de la siguienete forma:\n",
        "\n",
        "*  `set_1 = set({e_3, e_2, e_1, ... e_n})`\n"
      ]
    },
    {
      "cell_type": "code",
      "execution_count": null,
      "metadata": {},
      "outputs": [
        {
          "name": "stdout",
          "output_type": "stream",
          "text": [
            "¿Qué tipo de elemento es set estados <class 'set'>\n"
          ]
        }
      ],
      "source": [
        "#Definir set de estados\n",
        "set_estados = set({\"Aguascalientes\", \"Baja California\", \"Baja California Sur\", \"Campeche\",\n",
        "                 \"Coahuila de Zaragoza\", \"Colima\", \"Chiapas\", \"Chihuahua\", \"Ciudad de México\",\n",
        "                 \"Durango\", \"Guanajuato\", \"Guerrero\", \"Hidalgo\", \"Jalisco\", \"México\",\n",
        "                 \"Michoacán de Ocampo\", \"Morelos\", \"Nayarit\", \"Nuevo León\", \"Oaxaca\", \"Oaxaca\",\"Oaxaca\",\"Oaxaca\"\n",
        "                 \"Puebla\", \"Querétaro\", \"Quintana Roo\", \"San Luis Potosí\", \"Sinaloa\",\n",
        "                 \"Sonora\", \"Tabasco\", \"Tamaulipas\", \"Tlaxcala\", \n",
        "                 \"Veracruz de Ignacio de la Llave\", \"Yucatán\", \"Zacatecas\"})\n",
        "\n",
        "print(\"¿Qué tipo de elemento es set estados\", type(set_estados))"
      ]
    },
    {
      "cell_type": "markdown",
      "metadata": {},
      "source": [
        "### **Manejo y operaciones en conjuntos**\n",
        "\n",
        "A pesar de que los elementos de un conjunto no están ordenados y no podemos acceder a ellos mediante una posición específica, los conjuntos son estructuras dinámicas que permiten modificaciones. Además, podemos realizar operaciones propias de la Teoría de Conjuntos, como la unión, intersección, diferencia y otras, para analizar y manipular datos de manera eficiente.\n",
        "\n",
        "#### **Modificación de conjuntos**\n",
        "\n",
        "\n",
        "**Tamaño  de conjunto**\n",
        "\n",
        "* El tamaño o número de elementos en un conjunto los podemos calcular con la función ```len()```"
      ]
    },
    {
      "cell_type": "code",
      "execution_count": 153,
      "metadata": {},
      "outputs": [
        {
          "name": "stdout",
          "output_type": "stream",
          "text": [
            "32\n"
          ]
        }
      ],
      "source": [
        "#Tamaño de conjunto\n",
        "len_set = len(set_estados)\n",
        "\n",
        "print(len_set)"
      ]
    },
    {
      "cell_type": "markdown",
      "metadata": {},
      "source": [
        "**Borrar elementos**\n",
        "\n",
        "Para borrar elementos de una conjunto se utiliza la función `remove(valor)` y utiliza el valor a eliminar como argumento de la función."
      ]
    },
    {
      "cell_type": "code",
      "execution_count": 157,
      "metadata": {},
      "outputs": [
        {
          "name": "stdout",
          "output_type": "stream",
          "text": [
            "{'Baja California', 'OaxacaPuebla', 'Tlaxcala', 'Sinaloa', 'Baja California Sur', 'Chiapas', 'Morelos', 'Guerrero', 'Coahuila de Zaragoza', 'Tamaulipas', 'Michoacán de Ocampo', 'Nuevo León', 'Veracruz de Ignacio de la Llave', 'San Luis Potosí', 'Hidalgo', 'Oaxaca', 'Nayarit', 'Yucatán', 'Colima', 'Jalisco', 'Campeche', 'Quintana Roo', 'México', 'Tabasco', 'Chihuahua', 'Durango', 'Querétaro', 'Aguascalientes', 'Sonora', 'Ciudad de México', 'Guanajuato'}\n"
          ]
        }
      ],
      "source": [
        "#Eliminar Zacatecas \n",
        "set_estados.remove('Zacatecas')\n",
        "\n",
        "#Imprimir set\n",
        "print(set_estados, len(set_estados))"
      ]
    },
    {
      "cell_type": "markdown",
      "metadata": {},
      "source": [
        "**Agregar elementos**\n",
        "\n",
        "Para agregar elementos a un conjunto se puede utiliza dos métodos se utiliza la función `add(valor)` y utiliza el valor que se agregará como argumento de la función."
      ]
    },
    {
      "cell_type": "code",
      "execution_count": 158,
      "metadata": {},
      "outputs": [
        {
          "name": "stdout",
          "output_type": "stream",
          "text": [
            "{'Baja California', 'OaxacaPuebla', 'Tlaxcala', 'Sinaloa', 'Baja California Sur', 'Chiapas', 'Morelos', 'Guerrero', 'Coahuila de Zaragoza', 'Tamaulipas', 'Michoacán de Ocampo', 'Nuevo León', 'Zacatecas', 'Veracruz de Ignacio de la Llave', 'San Luis Potosí', 'Hidalgo', 'Oaxaca', 'Nayarit', 'Yucatán', 'Colima', 'Jalisco', 'Campeche', 'Quintana Roo', 'México', 'Tabasco', 'Chihuahua', 'Durango', 'Querétaro', 'Aguascalientes', 'Sonora', 'Ciudad de México', 'Guanajuato'} 32\n"
          ]
        }
      ],
      "source": [
        "#Eliminar Zacatecas \n",
        "set_estados.add('Zacatecas')\n",
        "\n",
        "#Imprimir set y tamaño del set \n",
        "print(set_estados)\n",
        "print(len(set_estados))"
      ]
    },
    {
      "cell_type": "markdown",
      "metadata": {},
      "source": [
        "#### **Operaciones de conjuntos**\n",
        "\n",
        "Las operaciones de conjuntos son útiles para comparar y analizar datos, como encontrar similitudes o diferencias entre colecciones de elementos.\n",
        "\n"
      ]
    },
    {
      "cell_type": "markdown",
      "metadata": {},
      "source": [
        "#### **Unión**\n",
        "\n",
        "Permite combinar elementos de dos conjuntos sin duplicados y para definir esta operación en Python se utilizan dos métodos: \n",
        "\n",
        "- Símbolo | :\n",
        "\n",
        "  ```union = set_1 | set_2```\n",
        "\n",
        "- Función union:\n",
        "  \n",
        "  ```union = set_1.union(set_2)```\n",
        "   \n",
        "\n",
        "Ejemplo:"
      ]
    },
    {
      "cell_type": "code",
      "execution_count": 14,
      "metadata": {},
      "outputs": [
        {
          "name": "stdout",
          "output_type": "stream",
          "text": [
            "5\n",
            "5\n"
          ]
        }
      ],
      "source": [
        "#Definir set 1 \n",
        "set_top5_pib = set({'Ciudad de México', 'Estado de México', 'Nuevo León', 'Jalisco', 'Guanajuato'})\n",
        "print(len(set_top5_pib))\n",
        "\n",
        "#Definir set 2\n",
        "set_top5_mayor_desocup = set({'Tabasco', 'Coahuila de Zaragoza', 'Ciudad de México', 'Sonora', 'Aguascalientes'})\n",
        "print(len(set_top5_pib))"
      ]
    },
    {
      "cell_type": "code",
      "execution_count": 15,
      "metadata": {},
      "outputs": [
        {
          "name": "stdout",
          "output_type": "stream",
          "text": [
            "{'Nuevo León', 'Sonora', 'Guanajuato', 'Ciudad de México', 'Jalisco', 'Coahuila de Zaragoza', 'Tabasco', 'Aguascalientes', 'Estado de México'}\n",
            "¿Cuántos elementos tiene el conjunto unión? 9\n"
          ]
        }
      ],
      "source": [
        "#Unión \n",
        "#1\n",
        "print(set_top5_pib | set_top5_mayor_desocup)\n",
        "\n",
        "#2\n",
        "set_union = set_top5_pib.union(set_top5_mayor_desocup)\n",
        "\n",
        "print( \"¿Cuántos elementos tiene el conjunto unión?\", len(set_union))"
      ]
    },
    {
      "cell_type": "markdown",
      "metadata": {},
      "source": [
        "##### **Intersección**\n",
        "\n",
        "La intersección permite obtener elementos que coinciden entre dos conjuntos.\n",
        "\n",
        "**Sintáxis**\n",
        "\n",
        "Para definir la intersección se pueden utilizar dos métodos:\n",
        "\n",
        "- Signo & :\n",
        "\n",
        "  ```intersect = set_1 | set_2```\n",
        "\n",
        "- Función intersection():\n",
        "  \n",
        "  ```intersect = set_1.union(set_2)```\n",
        "   \n",
        "\n",
        "Ejemplo:"
      ]
    },
    {
      "cell_type": "code",
      "execution_count": 19,
      "metadata": {},
      "outputs": [
        {
          "name": "stdout",
          "output_type": "stream",
          "text": [
            "{'Ciudad de México'}\n",
            "¿Cuántos elementos tiene el conjunto intersección? 1\n"
          ]
        }
      ],
      "source": [
        "#Unión \n",
        "#1\n",
        "print(set_top5_pib & set_top5_mayor_desocup)\n",
        "\n",
        "#2\n",
        "set_intersect = set_top5_pib.intersection(set_top5_mayor_desocup)\n",
        "\n",
        "print( \"¿Cuántos elementos tiene el conjunto intersección?\", len(set_intersect))"
      ]
    },
    {
      "cell_type": "markdown",
      "metadata": {},
      "source": [
        "##### **Diferencia**\n",
        "\n",
        "La operación diferencia permite conocer los elementos que no se encuentran en determinado conjunto. \n",
        "\n",
        "**Sintáxis**\n",
        "\n",
        "Para definir la diferencia de dos conjuntos se pueden utilizar dos métodos:\n",
        "\n",
        "- Signo - :\n",
        "\n",
        "  ```diff = set_1 - set_2```\n",
        "\n",
        "- Función difference():\n",
        "  \n",
        "  ```diff = set_1.difference(set_2)```\n",
        "   \n",
        "\n",
        "Ejemplo:"
      ]
    },
    {
      "cell_type": "code",
      "execution_count": 25,
      "metadata": {},
      "outputs": [
        {
          "name": "stdout",
          "output_type": "stream",
          "text": [
            "{'Sonora', 'Aguascalientes', 'Tabasco', 'Coahuila de Zaragoza'}\n",
            "¿Cuántos elementos no contiene en el conjunto 1 (top 5 mayor PIB)? 4\n"
          ]
        }
      ],
      "source": [
        "#Diferencia\n",
        "#1\n",
        "print(set_top5_mayor_desocup - set_top5_pib )\n",
        "\n",
        "#2\n",
        "set_diff = set_top5_pib.difference(set_top5_mayor_desocup)\n",
        "\n",
        "print( \"¿Cuántos elementos no contiene en el conjunto 1 (top 5 mayor PIB)?\", len(set_diff))"
      ]
    },
    {
      "cell_type": "markdown",
      "metadata": {},
      "source": [
        "##### **Subconjunto**\n",
        "\n",
        "También podremos saber si un conjunto es subconjunto de otro más grande.\n",
        "\n",
        "**Sintáxis**\n",
        "\n",
        "Se pueden aplicar dos tipos de sintáxis para validar si un conjunto es subcounto de otro más grande.\n",
        "\n",
        "- Operador <= :\n",
        "\n",
        "  ```es_subconjunto = set_pequeño <= set_grande```\n",
        "\n",
        "- Función difference():\n",
        "  \n",
        "  ```es_subconjunto = set_pequeño.issubset(set_grande)```\n",
        "   \n",
        "\n",
        "Ejemplo:"
      ]
    },
    {
      "cell_type": "code",
      "execution_count": 37,
      "metadata": {},
      "outputs": [
        {
          "name": "stdout",
          "output_type": "stream",
          "text": [
            "3\n",
            "True\n",
            "¿El conjunto top 3 es subconjunto  del top 5? True\n"
          ]
        }
      ],
      "source": [
        "#Definir conjunto \n",
        "set_top3_pib = set({'Ciudad de México', 'Estado de México', 'Nuevo León'})\n",
        "print(len(set_top3_pib))\n",
        "\n",
        "#Es subconjunto \n",
        "#1\n",
        "print(set_top3_pib  <= set_top5_pib )\n",
        "#2\n",
        "is_subset = set_top3_pib.issubset(set_top5_pib)\n",
        "\n",
        "print( \"¿El conjunto top 3 es subconjunto  del top 5?\", is_subset)"
      ]
    },
    {
      "cell_type": "markdown",
      "metadata": {},
      "source": [
        "## Diccionarios (`dict`):\n",
        " "
      ]
    },
    {
      "cell_type": "markdown",
      "metadata": {},
      "source": [
        "### **¿Qué son los diccionarios?**\n",
        "\n",
        "Un diccionario en Python es un objeto con estructura de **clave-valor**, en el que los valores están indexados a la clave.\n",
        "\n",
        "**Sintáxis**\n",
        "\n",
        "Para definir un diccionario se utilizan `{}`  y se separan los pares de clave-valor por   `:`, y cada par debe ser separado por comas de la siguienete forma:\n",
        "\n",
        "  ```Python\n",
        "  dict_1  = {'clave_1': 'valor_1',\n",
        "             'clave_2': 'valor_2',\n",
        "             'clave_3': 'valor_3',\n",
        "                     ...         ,\n",
        "             'clave_n': 'valor_n'} \n",
        "\n",
        "```\n",
        "Ejemplo:\n",
        "\n",
        "* Para definir un diccionario vacío sólo utilizamos `{}`:"
      ]
    },
    {
      "cell_type": "code",
      "execution_count": 42,
      "metadata": {},
      "outputs": [
        {
          "name": "stdout",
          "output_type": "stream",
          "text": [
            "<class 'dict'>\n"
          ]
        }
      ],
      "source": [
        "#Definir  diccionario vacío\n",
        "dict_vacío = {}\n",
        "\n",
        "print(type(dict_vacío))"
      ]
    },
    {
      "cell_type": "markdown",
      "metadata": {},
      "source": [
        "* Se define un diccionario de la siguiente forma:"
      ]
    },
    {
      "cell_type": "code",
      "execution_count": 46,
      "metadata": {},
      "outputs": [
        {
          "name": "stdout",
          "output_type": "stream",
          "text": [
            "{'India': 6.8, 'Indonesia': 5.1, 'China': 4.9, 'Russia': 3.9, 'Türkiye': 3.5, 'Brazil': 3.2, 'Spain': 3.0, 'United States': 2.8, 'Korea': 2.3, 'Mexico': 1.4, 'Canada': 1.1, 'Australia': 1.1, 'France': 1.1, 'Saudi Arabia': 1.0, 'South Africa': 1.0, 'United Kingdom': 0.9, 'Euro area': 0.8, 'Italy': 0.5, 'Germany': 0.0, 'Japan': -0.3, 'Argentina': -3.8}\n",
            "<class 'dict'>\n"
          ]
        }
      ],
      "source": [
        "#Definir diccionario de proyecciones de crecimient de la OCDE para el año 2024 (Fuente: https://web-archive.oecd.org/espanol/index.htm)\n",
        "\n",
        "dict_growth_2024 = { \"India\": 6.8,\n",
        "                     \"Indonesia\": 5.1,\n",
        "                     \"China\": 4.9,\n",
        "                     \"Russia\": 3.9,\n",
        "                     \"Türkiye\": 3.5,\n",
        "                     \"Brazil\": 3.2,\n",
        "                     \"Spain\": 3.0,\n",
        "                     \"United States\": 2.8,\n",
        "                     \"Korea\": 2.3,\n",
        "                     \"México\": 1.4,\n",
        "                     \"Canada\": 1.1,\n",
        "                     \"Australia\": 1.1,\n",
        "                     \"France\": 1.1,\n",
        "                     \"Saudi Arabia\": 1.0,\n",
        "                     \"South Africa\": 1.0,\n",
        "                     \"United Kingdom\": 0.9,\n",
        "                     \"Euro area\": 0.8,\n",
        "                     \"Italy\": 0.5,\n",
        "                     \"Germany\": 0.0,\n",
        "                     \"Japan\": -0.3,\n",
        "                     \"Argentina\": -3.8 }\n",
        "#Imprimir diccionario \n",
        "print(dict_growth_2024)  \n",
        "#Imprimir tipo de clase que es dict_growth_2024            \n",
        "print(type(dict_growth_2024))       "
      ]
    },
    {
      "cell_type": "markdown",
      "metadata": {},
      "source": [
        "### **Manejo y operaciones en diccionarios**\n"
      ]
    },
    {
      "cell_type": "markdown",
      "metadata": {},
      "source": [
        "**Tamaño de un diccionario**\n",
        "\n",
        "Al igual que en las listas, tuplas conjuntos para saber el tamaño de un diccionario, en este caso el número de pares clave-valor que contiene se utiliza la función `len()`."
      ]
    },
    {
      "cell_type": "code",
      "execution_count": 48,
      "metadata": {},
      "outputs": [
        {
          "name": "stdout",
          "output_type": "stream",
          "text": [
            "21\n"
          ]
        }
      ],
      "source": [
        "#Tamaño de un diccionario\n",
        "print(len(dict_growth_2024))"
      ]
    },
    {
      "cell_type": "markdown",
      "metadata": {},
      "source": [
        "#### **Acceso a elementos de un diccionario**\n",
        "\n",
        "Como se mencionó los diccionarios contiene pares de claves y valores por lo que podemos tener acceso a estos elementos.\n",
        "\n",
        "Para ello utilizaremos las funciones `key(), value(), items()` con la siguiente sintáxis:\n",
        "\n",
        "   * Para acceder a las claves: \n",
        "    \n",
        "     `dict_1.key()`\n",
        "\n",
        "     Ejemplo:\n",
        "\n",
        " "
      ]
    },
    {
      "cell_type": "code",
      "execution_count": 56,
      "metadata": {},
      "outputs": [
        {
          "name": "stdout",
          "output_type": "stream",
          "text": [
            "dict_keys(['India', 'Indonesia', 'China', 'Russia', 'Türkiye', 'Brazil', 'Spain', 'United States', 'Korea', 'Mexico', 'Canada', 'Australia', 'France', 'Saudi Arabia', 'South Africa', 'United Kingdom', 'Euro area', 'Italy', 'Germany', 'Japan', 'Argentina'])\n",
            "<class 'dict_keys'>\n"
          ]
        }
      ],
      "source": [
        "#Definir claves de diccionario\n",
        "claves = dict_growth_2024.keys()\n",
        "\n",
        "print(claves)\n",
        "print(type(claves))\n"
      ]
    },
    {
      "cell_type": "markdown",
      "metadata": {},
      "source": [
        "* Para acceder a los valores: \n",
        "    \n",
        "     `dict_1.values()`\n",
        "\n",
        "     Ejemplo:"
      ]
    },
    {
      "cell_type": "code",
      "execution_count": 55,
      "metadata": {},
      "outputs": [
        {
          "name": "stdout",
          "output_type": "stream",
          "text": [
            "dict_values([6.8, 5.1, 4.9, 3.9, 3.5, 3.2, 3.0, 2.8, 2.3, 1.4, 1.1, 1.1, 1.1, 1.0, 1.0, 0.9, 0.8, 0.5, 0.0, -0.3, -3.8])\n",
            "<class 'dict_values'>\n"
          ]
        }
      ],
      "source": [
        "#Definir valores del diccionario\n",
        "valores = dict_growth_2024.values()\n",
        "\n",
        "print(valores)\n",
        "print(type(valores))"
      ]
    },
    {
      "cell_type": "markdown",
      "metadata": {},
      "source": [
        "* Para acceder tanto a las claves como valores en forma de tuplas: \n",
        "    \n",
        "     `dict_1.items()`\n",
        "\n",
        "     Ejemplo:"
      ]
    },
    {
      "cell_type": "code",
      "execution_count": 61,
      "metadata": {},
      "outputs": [
        {
          "name": "stdout",
          "output_type": "stream",
          "text": [
            "dict_items([('India', 6.8), ('Indonesia', 5.1), ('China', 4.9), ('Russia', 3.9), ('Türkiye', 3.5), ('Brazil', 3.2), ('Spain', 3.0), ('United States', 2.8), ('Korea', 2.3), ('Mexico', 1.4), ('Canada', 1.1), ('Australia', 1.1), ('France', 1.1), ('Saudi Arabia', 1.0), ('South Africa', 1.0), ('United Kingdom', 0.9), ('Euro area', 0.8), ('Italy', 0.5), ('Germany', 0.0), ('Japan', -0.3), ('Argentina', -3.8)])\n",
            "<class 'dict_items'>\n"
          ]
        }
      ],
      "source": [
        "#Definir valores del diccionario\n",
        "clave_valor = dict_growth_2024.items()\n",
        "\n",
        "print(clave_valor)\n",
        "print(type(clave_valor))"
      ]
    },
    {
      "cell_type": "markdown",
      "metadata": {},
      "source": [
        "#### **Extracción de valores específicos**\n",
        "\n",
        "Como la listas, los valores de los diccionarios están indexados pero en este caso por las claves, por lo tanto podemos utilizar las claves para extraer a algún valor específico.\n",
        "\n",
        "**Sintáxis**\n",
        "\n",
        "Al igual que en las listas se utilizan corchetes cuadrados y como argumento las claves.\n",
        "\n",
        " `dict_1['clave']`\n",
        "\n",
        " Ejemplo:\n"
      ]
    },
    {
      "cell_type": "code",
      "execution_count": 73,
      "metadata": {},
      "outputs": [
        {
          "name": "stdout",
          "output_type": "stream",
          "text": [
            "1.4 \n",
            " -3.8\n"
          ]
        }
      ],
      "source": [
        "#Extraer valores específicos\n",
        "tasa_mex = dict_growth_2024['Mexico']\n",
        "\n",
        "tasa_argentina = dict_growth_2024['Argentina']\n",
        "\n",
        "print(tasa_mex,\"\\n\", tasa_argentina)"
      ]
    },
    {
      "cell_type": "markdown",
      "metadata": {},
      "source": [
        "También podemos utilizar la función `get()`:"
      ]
    },
    {
      "cell_type": "code",
      "execution_count": 82,
      "metadata": {},
      "outputs": [
        {
          "name": "stdout",
          "output_type": "stream",
          "text": [
            "1.4 \n",
            " -3.8\n"
          ]
        }
      ],
      "source": [
        "#Extraer valor específico con función get\n",
        "tasa_mex = dict_growth_2024.get('Mexico')\n",
        "tasa_argentina = dict_growth_2024.get('Argentina')\n",
        "\n",
        "print(tasa_mex,\"\\n\", tasa_argentina)"
      ]
    },
    {
      "cell_type": "markdown",
      "metadata": {},
      "source": [
        "#### **Reemplazo y eliminación de valores específicos**\n",
        "\n",
        "Los diccionarios también son un objeto mutable por lo que podemos eliminar, agregar y reemplazar pares de claves y valores.\n"
      ]
    },
    {
      "cell_type": "markdown",
      "metadata": {},
      "source": [
        "#####  **Reemplazo**\n",
        "\n",
        "Para reemplazar o actualizar el valor de una clave en específico utilizamos lo siguiente.\n",
        "\n",
        "**Sintáxis**\n",
        "\n",
        "1. `del`\n",
        "\n",
        "   ```Python  \n",
        "    dict_1['clave'] = 'nuevo_valor'\n",
        "   ```\n",
        "Ejemplo:"
      ]
    },
    {
      "cell_type": "code",
      "execution_count": 93,
      "metadata": {},
      "outputs": [
        {
          "name": "stdout",
          "output_type": "stream",
          "text": [
            "-3.8\n",
            "-2.9\n"
          ]
        }
      ],
      "source": [
        "#¿Cuál es la tasa de crecimiento proyectada para Argentina?\n",
        "print(dict_growth_2024['Argentina'])\n",
        "\n",
        "#Reemplazar el valor de Argentina \n",
        "dict_growth_2024['Argentina'] = -2.9\n",
        "#Comprobar si se modificó\n",
        "print(dict_growth_2024['Argentina'])"
      ]
    },
    {
      "cell_type": "markdown",
      "metadata": {},
      "source": [
        "#####  **Eliminación**\n",
        "\n",
        "Existen diversas formas de eliminar elementos en una listas, las más comunes son las siguientes.\n",
        "\n",
        "**Sintáxis**\n",
        "\n",
        "1. `del`\n",
        "\n",
        "   ```Python  \n",
        "    del dict_1['clave']\n",
        "   ```\n",
        "\n",
        "1. `pop()`\n",
        "\n",
        "    ```Python  \n",
        "    dict_1.pop('clave')\n",
        "    ```\n",
        "\n",
        "\n",
        " Ejemplo:"
      ]
    },
    {
      "cell_type": "code",
      "execution_count": 84,
      "metadata": {},
      "outputs": [
        {
          "ename": "KeyError",
          "evalue": "'Mexico'",
          "output_type": "error",
          "traceback": [
            "\u001b[1;31m---------------------------------------------------------------------------\u001b[0m",
            "\u001b[1;31mKeyError\u001b[0m                                  Traceback (most recent call last)",
            "Cell \u001b[1;32mIn[84], line 3\u001b[0m\n\u001b[0;32m      1\u001b[0m \u001b[38;5;66;03m#Aplicar función del \u001b[39;00m\n\u001b[1;32m----> 3\u001b[0m \u001b[38;5;28;01mdel\u001b[39;00m \u001b[43mdict_growth_2024\u001b[49m\u001b[43m[\u001b[49m\u001b[38;5;124;43m'\u001b[39;49m\u001b[38;5;124;43mMexico\u001b[39;49m\u001b[38;5;124;43m'\u001b[39;49m\u001b[43m]\u001b[49m\n\u001b[0;32m      5\u001b[0m \u001b[38;5;28mprint\u001b[39m(dict_growth_2024)\n",
            "\u001b[1;31mKeyError\u001b[0m: 'Mexico'"
          ]
        }
      ],
      "source": [
        "#Aplicar función del \n",
        "del dict_growth_2024['Mexico']\n",
        "\n",
        "print(dict_growth_2024)\n",
        "\n",
        "#Aplicar pop\n",
        "dict_growth_2024.pop('China')\n",
        "\n",
        "print(dict_growth_2024)"
      ]
    },
    {
      "cell_type": "markdown",
      "metadata": {},
      "source": [
        "#####  **Agregar elemento**\n",
        "\n",
        "Para agregar elementos a las listas se utiliza la función `update()`.\n",
        "\n",
        "**Sintáxis**\n",
        "``` Python\n",
        "dict_1.update(dict_2) \n",
        " ```\n",
        "\n",
        " Ejemplo:"
      ]
    },
    {
      "cell_type": "code",
      "execution_count": 86,
      "metadata": {},
      "outputs": [
        {
          "name": "stdout",
          "output_type": "stream",
          "text": [
            "{'India': 6.8, 'Indonesia': 5.1, 'Russia': 3.9, 'Türkiye': 3.5, 'Brazil': 3.2, 'Spain': 3.0, 'United States': 2.8, 'Korea': 2.3, 'Canada': 1.1, 'Australia': 1.1, 'France': 1.1, 'Saudi Arabia': 1.0, 'South Africa': 1.0, 'United Kingdom': 0.9, 'Euro area': 0.8, 'Italy': 0.5, 'Germany': 0.0, 'Japan': -0.3, 'Argentina': -3.8, 'México': 4.1, 'China': 6.3}\n"
          ]
        }
      ],
      "source": [
        "#Definir nuevo diccionario\n",
        "dict_nuevo = {'México': 4.1, \n",
        "              'China' : 6.3 }\n",
        "\n",
        "dict_growth_2024.update(dict_nuevo)\n",
        "\n",
        "print(dict_growth_2024)"
      ]
    },
    {
      "cell_type": "markdown",
      "metadata": {},
      "source": [
        "#####  **Validar presencia de elementos**\n",
        "\n",
        "Para veririficar la presencia de un elemento por su clave en un diccionario se utiliza el operador `in`.\n",
        "\n",
        "**Sintáxis**\n",
        "``` Python\n",
        "'elemento_a_validar' in claves\n",
        " ```\n",
        "\n",
        " Ejemplo:"
      ]
    },
    {
      "cell_type": "code",
      "execution_count": 90,
      "metadata": {},
      "outputs": [
        {
          "name": "stdout",
          "output_type": "stream",
          "text": [
            "False\n",
            "True\n"
          ]
        }
      ],
      "source": [
        "#Definir claves de un diccionario \n",
        "\n",
        "claves = dict_growth_2024.keys()\n",
        "\n",
        "#Verificar si encontramos una clave \n",
        "print('Estados Unidos' in claves )\n",
        "\n",
        "print('United States' in claves )\n",
        "\n"
      ]
    },
    {
      "cell_type": "markdown",
      "metadata": {},
      "source": [
        "#####  **Copiar diccionarios**\n",
        "\n",
        "Para hacer una copia de un diccionario se utiliza la función `copy()`\n",
        "\n",
        "**Sintáxis**\n",
        "\n",
        "``` Python\n",
        "dict_copia = dict_1.copy()\n",
        " ```\n",
        "\n",
        " Ejemplo:"
      ]
    },
    {
      "cell_type": "code",
      "execution_count": 98,
      "metadata": {},
      "outputs": [],
      "source": [
        "#Definir nuevo diccionario\n",
        "dict_growth_2024_copy = dict_growth_2024.copy()"
      ]
    },
    {
      "cell_type": "markdown",
      "metadata": {},
      "source": [
        "#### **Diccionarios con listas como valores**\n",
        "\n",
        "Lo valores de los diccionarios también pueden ser listas que contengan una serie de valores del mismo tipo o bien de diferentes tipos de valores.\n",
        "\n",
        "**Sintáxis**\n",
        "\n",
        "Para definir un diccionario se utilizan `{}`  y se separan los pares de clave-valor por   `:`, y el valor en este caso será una lista que se define por los `[]`:\n",
        "\n",
        "  ```Python\n",
        "  dict_1  = {'clave_1': lista_1,\n",
        "             'clave_2': lista_2,\n",
        "             'clave_3': lista_3,\n",
        "                     ...         ,\n",
        "             'clave_n': lista_n} \n",
        "\n",
        "```\n",
        "\n",
        "Ejemplo:\n",
        "\n",
        "* El diccionario de proyecciones de crecimiento de los países de la OCDE para el año 2024, ahora también tendrá las proyecciones para el año 2025."
      ]
    },
    {
      "cell_type": "code",
      "execution_count": 4,
      "metadata": {},
      "outputs": [
        {
          "name": "stdout",
          "output_type": "stream",
          "text": [
            "{'India': [6.8, 6.9], 'Indonesia': [5.1, 5.2], 'China': [4.9, 4.7], 'Russia': [3.9, 1.1], 'Türkiye': [3.5, 2.6], 'G20': [3.3, 3.3], 'Brazil': [3.2, 2.3], 'Spain': [3.0, 2.3], 'United States': [2.8, 2.4], 'Korea': [2.3, 2.1], 'Mexico': [1.4, 1.2], 'Canada': [1.1, 2.0], 'Australia': [1.1, 1.9], 'France': [1.1, 0.9], 'Saudi Arabia': [1.0, 3.6], 'South Africa': [1.0, 1.5], 'United Kingdom': [0.9, 1.7], 'Euro area': [0.8, 1.3], 'Italy': [0.5, 0.9], 'Germany': [0.0, 0.7], 'Japan': [-0.3, 1.5], 'Argentina': [-3.8, 3.6]}\n"
          ]
        }
      ],
      "source": [
        "#Definir diccionario de proyecciones de crecimient de la OCDE (Fuente: https://web-archive.oecd.org/espanol/index.htm)\n",
        "dict_growth_2024_2025 = {\n",
        "    'India': [6.8, 6.9],\n",
        "    'Indonesia': [5.1, 5.2],\n",
        "    'China': [4.9, 4.7],\n",
        "    'Russia': [3.9, 1.1],\n",
        "    'Türkiye': [3.5, 2.6],\n",
        "    'G20': [3.3, 3.3],\n",
        "    'Brazil': [3.2, 2.3],\n",
        "    'Spain': [3.0, 2.3],\n",
        "    'United States': [2.8, 2.4],\n",
        "    'Korea': [2.3, 2.1],\n",
        "    'Mexico': [1.4, 1.2],\n",
        "    'Canada': [1.1, 2.0],\n",
        "    'Australia': [1.1, 1.9],\n",
        "    'France': [1.1, 0.9],\n",
        "    'Saudi Arabia': [1.0, 3.6],\n",
        "    'South Africa': [1.0, 1.5],\n",
        "    'United Kingdom': [0.9, 1.7],\n",
        "    'Euro area': [0.8, 1.3],\n",
        "    'Italy': [0.5, 0.9],\n",
        "    'Germany': [0.0, 0.7],\n",
        "    'Japan': [-0.3, 1.5],\n",
        "    'Argentina': [-3.8, 3.6] }\n",
        "\n",
        "print(dict_growth_2024_2025)\n"
      ]
    },
    {
      "cell_type": "markdown",
      "metadata": {},
      "source": [
        "Cuando un diccionario contenga listas como valores se podrá aplicar todas las funciones y operaciones que vimos hasta el momento.\n",
        "\n",
        "Ejemplo:\n",
        "\n",
        "* Extraer claves y valores:"
      ]
    },
    {
      "cell_type": "code",
      "execution_count": 13,
      "metadata": {},
      "outputs": [
        {
          "name": "stdout",
          "output_type": "stream",
          "text": [
            "dict_keys(['India', 'Indonesia', 'China', 'Russia', 'Türkiye', 'G20', 'Brazil', 'Spain', 'United States', 'Korea', 'Mexico', 'Canada', 'Australia', 'France', 'Saudi Arabia', 'South Africa', 'United Kingdom', 'Euro area', 'Italy', 'Germany', 'Japan', 'Argentina'])\n",
            "dict_values([[6.8, 6.9], [5.1, 5.2], [4.9, 4.7], [3.9, 1.1], [3.5, 2.6], [3.3, 3.3], [3.2, 2.3], [3.0, 2.3], [2.8, 2.4], [2.3, 2.1], [1.4, 1.2], [1.1, 2.0], [1.1, 1.9], [1.1, 0.9], [1.0, 3.6], [1.0, 1.5], [0.9, 1.7], [0.8, 1.3], [0.5, 0.9], [0.0, 0.7], [-0.3, 1.5], [-3.8, 3.6]])\n"
          ]
        }
      ],
      "source": [
        "#Extraer claves\n",
        "claves = dict_growth_2024_2025.keys()\n",
        "print(claves)\n",
        "\n",
        "#Extraer valores\n",
        "valores_2024_2025 = dict_growth_2024_2025.values()\n",
        "\n",
        "print(valores_2024_2025)\n"
      ]
    },
    {
      "cell_type": "markdown",
      "metadata": {},
      "source": [
        "* Extraer valores de determinada clave:"
      ]
    },
    {
      "cell_type": "code",
      "execution_count": 33,
      "metadata": {},
      "outputs": [
        {
          "name": "stdout",
          "output_type": "stream",
          "text": [
            "Tipo de objeto [3.2, 2.3] es <class 'list'> \n"
          ]
        }
      ],
      "source": [
        "#Extraer tasas de Brasil\n",
        "tasas_Brazil = dict_growth_2024_2025['Brazil']\n",
        "\n",
        "print(f\"Tipo de objeto {tasas_Brazil} es {type(tasas_Brazil)} \")"
      ]
    },
    {
      "cell_type": "markdown",
      "metadata": {
        "id": "vRnTeFgA7zXI"
      },
      "source": [
        "## Arreglos (`array` del módulo `array`):\n",
        "   - Descripción: Una versión más compacta y eficiente de las listas, almacenando elementos del mismo tipo.\n",
        "   - Ejemplo:\n",
        "     ```python\n",
        "     from array import array\n",
        "     my_array = array(\"i\", [1, 2, 3])\n",
        "     ``` \n"
      ]
    },
    {
      "cell_type": "markdown",
      "metadata": {
        "id": "jC6x-cor8E3o"
      },
      "source": [
        "## Dataframes (`Dataframes`):\n",
        "   - Descripción: Una colección de pares clave-valor, donde cada valor está asociado con una clave única.\n",
        "   - Ejemplo:\n",
        "\n",
        "\n",
        "\n",
        "``` python\n",
        "    data = {\n",
        "    'nombre': ['Ana', 'Juan', 'María'],\n",
        "    'edad': [25, 30, 35],\n",
        "    'ciudad': ['Madrid', 'Barcelona', 'Sevilla']\n",
        "}\n",
        "\n",
        "df = pd.DataFrame(data)\n",
        "```\n",
        "\n",
        "\n"
      ]
    }
  ],
  "metadata": {
    "colab": {
      "authorship_tag": "ABX9TyOdFf8eKAQbVFuyoZHjlN4O",
      "include_colab_link": true,
      "provenance": [],
      "toc_visible": true
    },
    "kernelspec": {
      "display_name": "Python 3",
      "name": "python3"
    },
    "language_info": {
      "codemirror_mode": {
        "name": "ipython",
        "version": 3
      },
      "file_extension": ".py",
      "mimetype": "text/x-python",
      "name": "python",
      "nbconvert_exporter": "python",
      "pygments_lexer": "ipython3",
      "version": "3.12.1"
    }
  },
  "nbformat": 4,
  "nbformat_minor": 0
}
