{
  "cells": [
    {
      "cell_type": "markdown",
      "metadata": {
        "colab_type": "text",
        "id": "view-in-github"
      },
      "source": [
        "<a href=\"https://colab.research.google.com/github/DiegoSReco/python_para_economistas/blob/main/script_python_cap3.ipynb\" target=\"_parent\"><img src=\"https://colab.research.google.com/assets/colab-badge.svg\" alt=\"Open In Colab\"/></a>"
      ]
    },
    {
      "cell_type": "markdown",
      "metadata": {
        "id": "Fg2VI9p82ss9"
      },
      "source": [
        "# **3. Estructuras de Datos**\n",
        "\n",
        "Python ofrece un conjunto de flexibles de estructuras que permiten organizar, almacenar y manipular datos de manera efectiva, convirtiendo información aparentemente caótica en sistemas ordenados y manejables. En esta sección exploraremos estruturas enfocadas en el analisis de datos las cuales son: **listas, conjuntos, arreglos, tuplas, diccionarios y dataframes.**\n",
        "\n",
        "**¿Por qué es importante entender el funcionamiento de cada uno de éstas?**\n",
        "\n",
        "- Manipular grandes volúmenes de información\n",
        "- Gestionar la memoria de forma efectiva\n",
        "- Optimizar el rendimiento de nuestros modelos o programas\n",
        "- Resolver problemas  de forma eficiente"
      ]
    },
    {
      "cell_type": "markdown",
      "metadata": {
        "id": "pnYzMMYO5zKX"
      },
      "source": [
        "## Listas (`list`)\n",
        "### **¿Qué són las listas?**\n",
        "\n",
        "Una secuencia mutable que puede contener elementos de diferentes tipos ya sea númericos, cadenas de texto, booleanos, fechas o la mezcla de ellos. Por éstas características las listas son estructuras de datos flexibles.\n",
        "\n",
        "**Sintáxis**\n",
        "\n",
        "Para definir una lista en Python usaremos dos corchetes y los elementos dentro se separan por comas: \n",
        "\n",
        "  ```python\n",
        "lista = [e_1, e_2,...e_N]  \n",
        "  ```\n",
        "Donde: \n",
        "$$ \n",
        "n = 1,2,3,..., N\n",
        "$$\n",
        "\n",
        "Por ejemplo:"
      ]
    },
    {
      "cell_type": "code",
      "execution_count": 91,
      "metadata": {},
      "outputs": [
        {
          "name": "stdout",
          "output_type": "stream",
          "text": [
            "[3.4, 2.7, 2.4, 2.0, 3.7, 2.1, 1.6, 2.5, 4.0, 2.8, 2.9, 1.0, 2.4, 2.2, 3.3, 1.7, 1.6, 2.2, 2.6, 1.2, 2.3, 2.7, 2.6, 2.6, 2.4, 3.6, 4.0, 3.4, 2.4, 2.0, 1.8, 2.9] \n",
            " ¿Qué clase objeto es list_lenguajes? <class 'list'>\n"
          ]
        }
      ],
      "source": [
        "# Definir lLista de tasas de desocupación segundo trimestre 2024 (Fuente: INEGI)\n",
        "list_tasas_desc = [ 3.4, 2.7, 2.4, 2.0, 3.7, 2.1, 1.6, 2.5, 4.0,\n",
        "                   2.8, 2.9, 1.0, 2.4, 2.2, 3.3, 1.7, 1.6, 2.2,\n",
        "                   2.6, 1.2, 2.3, 2.7, 2.6, 2.6, 2.4, 3.6, 4.0,\n",
        "                   3.4, 2.4, 2.0, 1.8, 2.9 ]\n",
        "\n",
        "#Definir lista de estados\n",
        "list_estados = [\"Aguascalientes\", \"Baja California\", \"Baja California Sur\", \"Campeche\",\n",
        "                 \"Coahuila de Zaragoza\", \"Colima\", \"Chiapas\", \"Chihuahua\", \"Ciudad de México\",\n",
        "                 \"Durango\", \"Guanajuato\", \"Guerrero\", \"Hidalgo\", \"Jalisco\", \"México\",\n",
        "                 \"Michoacán de Ocampo\", \"Morelos\", \"Nayarit\", \"Nuevo León\", \"Oaxaca\",\n",
        "                 \"Puebla\", \"Querétaro\", \"Quintana Roo\", \"San Luis Potosí\", \"Sinaloa\",\n",
        "                 \"Sonora\", \"Tabasco\", \"Tamaulipas\", \"Tlaxcala\", \n",
        "                 \"Veracruz de Ignacio de la Llave\", \"Yucatán\", \"Zacatecas\"]\n",
        "#Imprimir contenido \n",
        "print(  list_tasas_desc, \"\\n\" , \"¿Qué clase objeto es list_lenguajes?\", type(list_estados))\n"
      ]
    },
    {
      "cell_type": "markdown",
      "metadata": {},
      "source": [
        "* Las listas pueden contener distintos tipos de variables:"
      ]
    },
    {
      "cell_type": "code",
      "execution_count": 27,
      "metadata": {},
      "outputs": [
        {
          "name": "stdout",
          "output_type": "stream",
          "text": [
            "['Aguascalientes', 3.4, 'Baja California', 2.7]\n"
          ]
        }
      ],
      "source": [
        "#Definir lista\n",
        "list_ags = [\"Aguascalientes\", 3.4, \"Baja California\", 2.7]\n",
        "#Imprimir contenido \n",
        "\n",
        "print(list_ags)"
      ]
    },
    {
      "cell_type": "markdown",
      "metadata": {},
      "source": [
        "* Incluso pueden contener listas por lo que podemos anidar listas en listas: \n"
      ]
    },
    {
      "cell_type": "code",
      "execution_count": 29,
      "metadata": {},
      "outputs": [
        {
          "name": "stdout",
          "output_type": "stream",
          "text": [
            "[[3.4, 2.7, 2.4, 2.0, 3.7, 2.1, 1.6, 2.5, 4.0, 2.8, 2.9, 1.0, 2.4, 2.2, 3.3, 1.7, 1.6, 2.2, 2.6, 1.2, 2.3, 2.7, 2.6, 2.6, 2.4, 3.6, 4.0, 3.4, 2.4, 2.0, 1.8, 2.9], ['Aguascalientes', 'Baja California', 'Baja California Sur', 'Campeche', 'Coahuila de Zaragoza', 'Colima', 'Chiapas', 'Chihuahua', 'Ciudad de México', 'Durango', 'Guanajuato', 'Guerrero', 'Hidalgo', 'Jalisco', 'México', 'Michoacán de Ocampo', 'Morelos', 'Nayarit', 'Nuevo León', 'Oaxaca', 'Puebla', 'Querétaro', 'Quintana Roo', 'San Luis Potosí', 'Sinaloa', 'Sonora', 'Tabasco', 'Tamaulipas', 'Tlaxcala', 'Veracruz de Ignacio de la Llave', 'Yucatán', 'Zacatecas']]\n"
          ]
        }
      ],
      "source": [
        "#Definir lita anidadad\n",
        "list_estados_estados = [list_tasas_desc, list_estados] \n",
        "\n",
        "print(list_estados_estados)"
      ]
    },
    {
      "cell_type": "markdown",
      "metadata": {},
      "source": [
        "### **Manejo y operaciones en listas**\n",
        "\n",
        "Por ser uno de los objetos más flexibles las listas permiten realizar una serie de acciones sobre sus elementos como: el ordenamiento, reemplazo, modificación, operaciones aritméticas, etc.\n",
        "\n",
        "#### **Extracción de elementos  y modificación**\n",
        "\n",
        "* El tamaño o número de elementos en una lista los podemos calcular con la función ```len()```"
      ]
    },
    {
      "cell_type": "code",
      "execution_count": 41,
      "metadata": {},
      "outputs": [
        {
          "name": "stdout",
          "output_type": "stream",
          "text": [
            "32\n"
          ]
        }
      ],
      "source": [
        "#Tamaño lista \n",
        "n_tasas = len(list_estados)\n",
        "n_estados = len(list_tasas_desc)\n",
        "\n",
        "print(n_tasas)"
      ]
    },
    {
      "cell_type": "markdown",
      "metadata": {},
      "source": [
        "##### **Extracción**\n",
        "\n",
        "* Para la extracción de ciertos elementos de una lista usaremos la idexación: \n",
        "\n",
        "  ```lista[i]```\n",
        "  \n",
        "  Ejemplo:"
      ]
    },
    {
      "cell_type": "code",
      "execution_count": 43,
      "metadata": {},
      "outputs": [
        {
          "name": "stdout",
          "output_type": "stream",
          "text": [
            "El primer elemento es 3.4  y el último es 2.9\n"
          ]
        }
      ],
      "source": [
        "#Extraer primer elemento de la lista de tasas\n",
        "e_1 = list_tasas_desc[0]\n",
        "\n",
        "#Extraer último \n",
        "e_n = list_tasas_desc[-1]\n",
        "\n",
        "#Otra forma de calcular último elemento \n",
        "e_n = list_tasas_desc[n_tasas - 1 ]\n",
        "\n",
        "print(f\"El primer elemento es {e_1}  y el último es {e_n}\")"
      ]
    },
    {
      "cell_type": "markdown",
      "metadata": {},
      "source": [
        "* Es posible extraer un rango de elementos a partir de los índices separados por ```:``` :"
      ]
    },
    {
      "cell_type": "code",
      "execution_count": 56,
      "metadata": {},
      "outputs": [
        {
          "name": "stdout",
          "output_type": "stream",
          "text": [
            "[3.4, 2.7, 2.4, 2.0, 3.7]\n",
            "[3.4, 2.7, 2.4, 2.0, 3.7]\n",
            "[3.4, 2.4, 2.0, 1.8, 2.9]\n",
            "[3.4, 2.4, 2.0, 1.8, 2.9]\n"
          ]
        }
      ],
      "source": [
        "#Extraer primeros 5 elementos\n",
        "print(list_tasas_desc[0:5])\n",
        "\n",
        "#Extraer primeros 5 elementos (otra opción)\n",
        "print(list_tasas_desc[:5])\n",
        "\n",
        "#Extraer ultimos 5 elementos  (otra opción)\n",
        "print(list_tasas_desc[-5:])\n",
        "print(list_tasas_desc[n_tasas - 5:])\n",
        "\n"
      ]
    },
    {
      "cell_type": "markdown",
      "metadata": {},
      "source": [
        "##### **Modificación**\n",
        "\n",
        "\n",
        "Otra de las características de las listas es la **mutabilidad**, es decir, podemos modificar el contenido de una lista que ya está creada. Por lo que es posible reemplazar, borrar y agregar elementos a una lista.\n",
        "\n",
        "**Borrar elementos**\n",
        "\n",
        "Para borrar elementos de una lista se puede utiliza dos métodos: \n",
        "\n",
        "* Valor de elemento \n",
        "   \n",
        "    ```remove()``` "
      ]
    },
    {
      "cell_type": "code",
      "execution_count": null,
      "metadata": {},
      "outputs": [
        {
          "name": "stdout",
          "output_type": "stream",
          "text": [
            "['Baja California', 'Baja California Sur', 'Campeche', 'Coahuila de Zaragoza', 'Colima', 'Chiapas', 'Chihuahua', 'Ciudad de México', 'Durango', 'Guanajuato', 'Guerrero', 'Hidalgo', 'Jalisco', 'México', 'Michoacán de Ocampo', 'Morelos', 'Nayarit', 'Nuevo León', 'Oaxaca', 'Puebla', 'Querétaro', 'Quintana Roo', 'San Luis Potosí', 'Sinaloa', 'Sonora', 'Tabasco', 'Tamaulipas', 'Tlaxcala', 'Veracruz de Ignacio de la Llave', 'Yucatán', 'Zacatecas']\n"
          ]
        },
        {
          "ename": "ValueError",
          "evalue": "list.remove(x): x not in list",
          "output_type": "error",
          "traceback": [
            "\u001b[1;31m---------------------------------------------------------------------------\u001b[0m",
            "\u001b[1;31mValueError\u001b[0m                                Traceback (most recent call last)",
            "Cell \u001b[1;32mIn[62], line 6\u001b[0m\n\u001b[0;32m      2\u001b[0m \u001b[38;5;28mprint\u001b[39m(list_estados)\n\u001b[0;32m      4\u001b[0m \u001b[38;5;66;03m#Aplicar remove para eliminar Aguascalientes\u001b[39;00m\n\u001b[1;32m----> 6\u001b[0m \u001b[43mlist_estados\u001b[49m\u001b[38;5;241;43m.\u001b[39;49m\u001b[43mremove\u001b[49m\u001b[43m(\u001b[49m\u001b[38;5;124;43m\"\u001b[39;49m\u001b[38;5;124;43mAguascalientes\u001b[39;49m\u001b[38;5;124;43m\"\u001b[39;49m\u001b[43m)\u001b[49m\n\u001b[0;32m      8\u001b[0m \u001b[38;5;28mprint\u001b[39m(list_estados)\n\u001b[0;32m     11\u001b[0m \u001b[38;5;66;03m#Aplicar remove\u001b[39;00m\n",
            "\u001b[1;31mValueError\u001b[0m: list.remove(x): x not in list"
          ]
        }
      ],
      "source": [
        "#Lista de estados \n",
        "print(list_estados)\n",
        "\n",
        "#Aplicar remove para eliminar Aguascalientes\n",
        "list_estados.remove(\"Aguascalientes\")\n",
        "print(list_estados)\n"
      ]
    },
    {
      "cell_type": "markdown",
      "metadata": {},
      "source": [
        " * Para hacerlo el índice utilizamos:\n",
        "     \n",
        "   ```del```"
      ]
    },
    {
      "cell_type": "code",
      "execution_count": 64,
      "metadata": {},
      "outputs": [
        {
          "name": "stdout",
          "output_type": "stream",
          "text": [
            "Baja California\n",
            "Baja California Sur\n"
          ]
        }
      ],
      "source": [
        "#Imprimir primero elemento \n",
        "print(list_estados[0])\n",
        "\n",
        "#Borrar primero elemento \n",
        "del list_estados[0]\n",
        "\n",
        "#Imprimier nuevo primero elemento\n",
        "print(list_estados[0])"
      ]
    },
    {
      "cell_type": "markdown",
      "metadata": {},
      "source": [
        "**Reemplazar elementos**\n",
        "\n",
        "Para reemplazar elementos utilizaremos los índices, es decir, por su posición en lista de un elemento.\n",
        "\n",
        "> **Nota**: Para encontrar la posición de algún elemento en la lista usamos la función ```index()```. Con la siguiente sintáxis ```lista.index(\"Valor\")```\n"
      ]
    },
    {
      "cell_type": "code",
      "execution_count": 68,
      "metadata": {},
      "outputs": [
        {
          "name": "stdout",
          "output_type": "stream",
          "text": [
            "6\n",
            "['Baja California Sur', 'Campeche', 'Coahuila de Zaragoza', 'Colima', 'Chiapas', 'Chihuahua', 'CDMX', 'Durango', 'Guanajuato', 'Guerrero', 'Hidalgo', 'Jalisco', 'México', 'Michoacán de Ocampo', 'Morelos', 'Nayarit', 'Nuevo León', 'Oaxaca', 'Puebla', 'Querétaro', 'Quintana Roo', 'San Luis Potosí', 'Sinaloa', 'Sonora', 'Tabasco', 'Tamaulipas', 'Tlaxcala', 'Veracruz de Ignacio de la Llave', 'Yucatán', 'Zacatecas']\n"
          ]
        }
      ],
      "source": [
        "#Encontrar Ciudad de México \n",
        "posi_cdmx = list_estados.index(\"Ciudad de México\")\n",
        "print(posi_cdmx)\n",
        "\n",
        "#Reemplazar \n",
        "list_estados[posi_cdmx] = \"CDMX\"\n",
        "#Imprimir lista modificada \n",
        "print(list_estados)"
      ]
    },
    {
      "cell_type": "markdown",
      "metadata": {},
      "source": [
        "**Agregar elementos**\n",
        "\n",
        "Agregar elementos a una lista es sencillo y se usa la funciones: \n",
        "\n",
        "*  ``append()`` cuando se agrega un elemento al final de la lista \n"
      ]
    },
    {
      "cell_type": "code",
      "execution_count": null,
      "metadata": {},
      "outputs": [],
      "source": [
        "#Agregar al final \n",
        "list_estados.append(\"Aguascalientes\")\n",
        "print(list_estados)"
      ]
    },
    {
      "cell_type": "markdown",
      "metadata": {},
      "source": [
        "*  ``` insert()``` cuando se agrega element a alguna posición específica"
      ]
    },
    {
      "cell_type": "code",
      "execution_count": 70,
      "metadata": {},
      "outputs": [
        {
          "name": "stdout",
          "output_type": "stream",
          "text": [
            "['Aguascalientes', 'Baja California Sur', 'Campeche', 'Coahuila de Zaragoza', 'Colima', 'Chiapas', 'Chihuahua', 'CDMX', 'Durango', 'Guanajuato', 'Guerrero', 'Hidalgo', 'Jalisco', 'México', 'Michoacán de Ocampo', 'Morelos', 'Nayarit', 'Nuevo León', 'Oaxaca', 'Puebla', 'Querétaro', 'Quintana Roo', 'San Luis Potosí', 'Sinaloa', 'Sonora', 'Tabasco', 'Tamaulipas', 'Tlaxcala', 'Veracruz de Ignacio de la Llave', 'Yucatán', 'Zacatecas', 'Aguascalientes']\n"
          ]
        }
      ],
      "source": [
        "#Agregar en posición específica \n",
        "list_estados.insert(0,\"Aguascalientes\")\n",
        "print(list_estados)"
      ]
    },
    {
      "cell_type": "markdown",
      "metadata": {},
      "source": [
        "#### **Ordenamiento y otras operaciones**\n",
        "\n",
        "Las listas también pueden ser ordenadas ya sea alfabéticamente si contienen valores strings, o por el valor del elemento sin son numéricos. Además podemos saber cuales son los valores más altos o más bajos contenidos en una lista.\n",
        "\n",
        "##### **Ordenamiento**\n",
        "\n",
        "Para ordenar una lista se utiliza la función ```sort()```:\n"
      ]
    },
    {
      "cell_type": "code",
      "execution_count": 73,
      "metadata": {},
      "outputs": [
        {
          "name": "stdout",
          "output_type": "stream",
          "text": [
            "[1.0, 1.2, 1.6, 1.6, 1.7, 1.8, 2.0, 2.0, 2.1, 2.2, 2.2, 2.3, 2.4, 2.4, 2.4, 2.4, 2.5, 2.6, 2.6, 2.6, 2.7, 2.7, 2.8, 2.9, 2.9, 3.3, 3.4, 3.4, 3.6, 3.7, 4.0, 4.0]\n"
          ]
        }
      ],
      "source": [
        "#Ordernar lista de forma ascendente\n",
        "list_tasas_desc.sort() # Ordena descendente\n",
        "print(list_tasas_desc)"
      ]
    },
    {
      "cell_type": "code",
      "execution_count": 74,
      "metadata": {},
      "outputs": [
        {
          "name": "stdout",
          "output_type": "stream",
          "text": [
            "[4.0, 4.0, 3.7, 3.6, 3.4, 3.4, 3.3, 2.9, 2.9, 2.8, 2.7, 2.7, 2.6, 2.6, 2.6, 2.5, 2.4, 2.4, 2.4, 2.4, 2.3, 2.2, 2.2, 2.1, 2.0, 2.0, 1.8, 1.7, 1.6, 1.6, 1.2, 1.0]\n"
          ]
        }
      ],
      "source": [
        "#Ordernar lista de forma descendente\n",
        "list_tasas_desc.sort(reverse= True ) # Ordena descendente\n",
        "print(list_tasas_desc)"
      ]
    },
    {
      "cell_type": "markdown",
      "metadata": {},
      "source": [
        "##### **Elementos más altos o más bajos**\n",
        "\n",
        "Para saber cuales son los elementos de mayor valor en una lista ya sea númerico o alfabético utilizamos las funciones  ```min()``` y ```max()```:"
      ]
    },
    {
      "cell_type": "code",
      "execution_count": 83,
      "metadata": {},
      "outputs": [
        {
          "name": "stdout",
          "output_type": "stream",
          "text": [
            "1.0\n",
            "4.0\n"
          ]
        }
      ],
      "source": [
        "#Computar valor mínimo\n",
        "n_min = min(list_tasas_desc)\n",
        "print(n_min)\n",
        "\n",
        "#Computar valor máximo\n",
        "n_max = max(list_tasas_desc)\n",
        "print(n_max)"
      ]
    },
    {
      "cell_type": "code",
      "execution_count": 84,
      "metadata": {},
      "outputs": [
        {
          "name": "stdout",
          "output_type": "stream",
          "text": [
            "Aguascalientes\n",
            "Zacatecas\n"
          ]
        }
      ],
      "source": [
        "#Computar valor mínimo\n",
        "n_min = min(list_estados)\n",
        "print(n_min)\n",
        "\n",
        "#Computar valor máximo\n",
        "n_max = max(list_estados)\n",
        "print(n_max)"
      ]
    },
    {
      "cell_type": "markdown",
      "metadata": {},
      "source": [
        "##### **Otras Operaciones**\n",
        "\n",
        "Además podemos realizar ciertas operaciones aritméticas con listas o sus elememntos.\n",
        "\n",
        "**Suma de listas**\n",
        "\n",
        "Las suma de listas es una concatenación de los elementos de las listas que sumemos.\n",
        "\n"
      ]
    },
    {
      "cell_type": "code",
      "execution_count": 100,
      "metadata": {},
      "outputs": [
        {
          "name": "stdout",
          "output_type": "stream",
          "text": [
            "[3.4, 2.7, 2.4, 2.0, 3.7, 2.1, 1.6, 2.5, 4.0, 2.8, 2.9, 1.0, 2.4, 2.2, 3.3, 1.7, 1.6, 2.2, 2.6, 1.2, 2.3, 2.7, 2.6, 2.6, 2.4, 3.6, 4.0, 3.4, 2.4, 2.0, 1.8, 2.9, 'Aguascalientes', 'Baja California', 'Baja California Sur', 'Campeche', 'Coahuila de Zaragoza', 'Colima', 'Chiapas', 'Chihuahua', 'Ciudad de México', 'Durango', 'Guanajuato', 'Guerrero', 'Hidalgo', 'Jalisco', 'México', 'Michoacán de Ocampo', 'Morelos', 'Nayarit', 'Nuevo León', 'Oaxaca', 'Puebla', 'Querétaro', 'Quintana Roo', 'San Luis Potosí', 'Sinaloa', 'Sonora', 'Tabasco', 'Tamaulipas', 'Tlaxcala', 'Veracruz de Ignacio de la Llave', 'Yucatán', 'Zacatecas']\n"
          ]
        }
      ],
      "source": [
        "#Suma de lista \n",
        "suma_list = list_tasas_desc + list_estados\n",
        "\n",
        "print(suma_list)"
      ]
    },
    {
      "cell_type": "markdown",
      "metadata": {},
      "source": [
        "**Suma de los elementos de una lista**\n",
        "\n",
        "Si tenemos un lista con valores numéricos podemos realizar la suma se sus elementos con la función ```sum()```"
      ]
    },
    {
      "cell_type": "code",
      "execution_count": 102,
      "metadata": {},
      "outputs": [
        {
          "name": "stdout",
          "output_type": "stream",
          "text": [
            "81.0\n"
          ]
        }
      ],
      "source": [
        "#Suma de las tasas de desocupación \n",
        "sum_tasas_desocup = sum(list_tasas_desc )\n",
        "#Imprimir\n",
        "print(sum_tasas_desocup)"
      ]
    },
    {
      "cell_type": "markdown",
      "metadata": {},
      "source": [
        "Es útil cuando queremos realizar ciertas operaciones que utilizan la suma, como podría ser un promedio.\n",
        "\n",
        "Por ejemplo:\n",
        "\n",
        "* ¿Cuáles el promedio de la tasa de desocupación en México para el segundo trimestre de 2024?"
      ]
    },
    {
      "cell_type": "code",
      "execution_count": 104,
      "metadata": {},
      "outputs": [
        {
          "name": "stdout",
          "output_type": "stream",
          "text": [
            "El promedio es 2.53125\n"
          ]
        }
      ],
      "source": [
        "#Calcular promedio\n",
        "promedio_tasas =  sum_tasas_desocup/len(list_estados)\n",
        "\n",
        "print(\"El promedio es\", promedio_tasas)"
      ]
    },
    {
      "cell_type": "markdown",
      "metadata": {
        "id": "ZT9EKqfe7jSB"
      },
      "source": [
        "\n",
        "## Tuplas (`tuple`):\n",
        "   - Descripción: Similar a las listas, pero inmutable.\n",
        "   - Ejemplo:\n",
        "     ```python\n",
        "     my_tuple = (1, \"dos\", 3.0, True)\n",
        "     ```"
      ]
    },
    {
      "cell_type": "markdown",
      "metadata": {
        "id": "VAwUM_7C7maS"
      },
      "source": [
        "\n",
        "## Conjuntos (`set`):\n",
        "   - Descripción: Una colección no ordenada y sin elementos duplicados.\n",
        "   - Ejemplo:\n",
        "     ```python\n",
        "     my_set = {1, 2, 3, 3, 4}\n",
        "     ```\n",
        "\n",
        "\n",
        "\n",
        "     \n"
      ]
    },
    {
      "cell_type": "markdown",
      "metadata": {
        "id": "vRnTeFgA7zXI"
      },
      "source": [
        "## Arreglos (`array` del módulo `array`):\n",
        "   - Descripción: Una versión más compacta y eficiente de las listas, almacenando elementos del mismo tipo.\n",
        "   - Ejemplo:\n",
        "     ```python\n",
        "     from array import array\n",
        "     my_array = array(\"i\", [1, 2, 3])\n",
        "     ```\n"
      ]
    },
    {
      "cell_type": "markdown",
      "metadata": {
        "id": "XX4_BtjG8CAu"
      },
      "source": [
        "## Diccionarios (`dict`):\n",
        "   - Descripción: Una colección de pares clave-valor, donde cada valor está asociado con una clave única.\n",
        "   - Ejemplo:\n",
        "     ```python\n",
        "     my_dict = {\"clave1\": \"valor1\", \"clave2\": 2, \"clave3\": [1, 2, 3]}\n",
        "     ```"
      ]
    },
    {
      "cell_type": "markdown",
      "metadata": {
        "id": "jC6x-cor8E3o"
      },
      "source": [
        "## Dataframes (`Dataframes`):\n",
        "   - Descripción: Una colección de pares clave-valor, donde cada valor está asociado con una clave única.\n",
        "   - Ejemplo:\n",
        "\n",
        "\n",
        "\n",
        "``` python\n",
        "    data = {\n",
        "    'nombre': ['Ana', 'Juan', 'María'],\n",
        "    'edad': [25, 30, 35],\n",
        "    'ciudad': ['Madrid', 'Barcelona', 'Sevilla']\n",
        "}\n",
        "\n",
        "df = pd.DataFrame(data)\n",
        "```\n",
        "\n",
        "\n"
      ]
    },
    {
      "cell_type": "code",
      "execution_count": null,
      "metadata": {
        "id": "poR6-s452qYC"
      },
      "outputs": [],
      "source": [
        "# Datos ficticios de PIB por estado (en miles de millones de pesos)\n",
        "datos_pib = {\n",
        "    \"Aguascalientes\": \"{150.2}\",\n",
        "    \"Baja California\": \"{320.5}\",\n",
        "    \"Chiapas\": \"{220.8}\",\n",
        "    \"Ciudad de México\": \"{1990.7}\",\n",
        "    \"Jalisco\": \"{720.3}\",\n",
        "    \"Nuevo León\": \"{890.6}\",\n",
        "    \"Yucatán\": \"{310.1}\",\n",
        "    \"Zacatecas\": \"{140.4}\"\n",
        "}\n",
        "\n",
        "# Limpiar los valores usando strip() y convertirlos a float\n",
        "datos_pib_limpios = {estado: float(pib.strip(\"{}\")) for estado, pib in datos_pib.items()}\n",
        "\n",
        "# Calcular el PIB total y el promedio por estado\n",
        "pib_total = sum(datos_pib_limpios.values())\n",
        "pib_promedio = pib_total / len(datos_pib_limpios)\n",
        "\n",
        "# Mostrar resultados\n",
        "print(\"PIB por estado (limpio):\", datos_pib_limpios)\n",
        "print(f\"PIB total: {pib_total:.2f} mil millones de pesos\")\n",
        "print(f\"PIB promedio por estado: {pib_promedio:.2f} mil millones de pesos\")"
      ]
    }
  ],
  "metadata": {
    "colab": {
      "authorship_tag": "ABX9TyOdFf8eKAQbVFuyoZHjlN4O",
      "include_colab_link": true,
      "provenance": [],
      "toc_visible": true
    },
    "kernelspec": {
      "display_name": "Python 3",
      "name": "python3"
    },
    "language_info": {
      "codemirror_mode": {
        "name": "ipython",
        "version": 3
      },
      "file_extension": ".py",
      "mimetype": "text/x-python",
      "name": "python",
      "nbconvert_exporter": "python",
      "pygments_lexer": "ipython3",
      "version": "3.12.1"
    }
  },
  "nbformat": 4,
  "nbformat_minor": 0
}
