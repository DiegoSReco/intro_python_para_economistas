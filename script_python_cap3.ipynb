{
  "nbformat": 4,
  "nbformat_minor": 0,
  "metadata": {
    "colab": {
      "provenance": [],
      "toc_visible": true,
      "authorship_tag": "ABX9TyOdFf8eKAQbVFuyoZHjlN4O",
      "include_colab_link": true
    },
    "kernelspec": {
      "name": "python3",
      "display_name": "Python 3"
    },
    "language_info": {
      "name": "python"
    }
  },
  "cells": [
    {
      "cell_type": "markdown",
      "metadata": {
        "id": "view-in-github",
        "colab_type": "text"
      },
      "source": [
        "<a href=\"https://colab.research.google.com/github/DiegoSReco/python_para_economistas/blob/main/script_python_cap3.ipynb\" target=\"_parent\"><img src=\"https://colab.research.google.com/assets/colab-badge.svg\" alt=\"Open In Colab\"/></a>"
      ]
    },
    {
      "cell_type": "markdown",
      "source": [
        "# **3. Estructuras de Datos**\n",
        "\n",
        "Python ofrece un conjunto de flexibles de estructuras que permiten organizar, almacenar y manipular datos de manera efectiva, convirtiendo información aparentemente caótica en sistemas ordenados y manejables. En esta sección exploraremos estruturas enfocadas en el analisis de datos las cuales son: listas, conjuntos, arreglos, tuplas, diccionarios y dataframes.\n",
        "\n",
        "\n",
        "\n",
        "**¿Por qué es importante entender el funcionamiento de cada uno de éstas?**\n",
        "\n",
        "- Manipular grandes volúmenes de información\n",
        "- Gestionar la memoria de forma efectiva\n",
        "- Optimizar el rendimiento de nuestros modelos o programas\n",
        "- Resolver problemas  de forma eficiente"
      ],
      "metadata": {
        "id": "Fg2VI9p82ss9"
      }
    },
    {
      "cell_type": "markdown",
      "source": [
        "## Listas (`list`):\n",
        "   - Descripción: Una secuencia mutable que puede contener elementos de diferentes tipos.\n",
        "   - Ejemplo:\n",
        "     ```python\n",
        "     my_list = [1, \"dos\", 3.0, True]\n",
        "     ```"
      ],
      "metadata": {
        "id": "pnYzMMYO5zKX"
      }
    },
    {
      "cell_type": "markdown",
      "source": [
        "\n",
        "## Tuplas (`tuple`):\n",
        "   - Descripción: Similar a las listas, pero inmutable.\n",
        "   - Ejemplo:\n",
        "     ```python\n",
        "     my_tuple = (1, \"dos\", 3.0, True)\n",
        "     ```"
      ],
      "metadata": {
        "id": "ZT9EKqfe7jSB"
      }
    },
    {
      "cell_type": "markdown",
      "source": [
        "\n",
        "## Conjuntos (`set`):\n",
        "   - Descripción: Una colección no ordenada y sin elementos duplicados.\n",
        "   - Ejemplo:\n",
        "     ```python\n",
        "     my_set = {1, 2, 3, 3, 4}\n",
        "     ```\n",
        "\n",
        "\n",
        "\n",
        "     \n"
      ],
      "metadata": {
        "id": "VAwUM_7C7maS"
      }
    },
    {
      "cell_type": "markdown",
      "source": [
        "## Arreglos (`array` del módulo `array`):\n",
        "   - Descripción: Una versión más compacta y eficiente de las listas, almacenando elementos del mismo tipo.\n",
        "   - Ejemplo:\n",
        "     ```python\n",
        "     from array import array\n",
        "     my_array = array(\"i\", [1, 2, 3])\n",
        "     ```\n"
      ],
      "metadata": {
        "id": "vRnTeFgA7zXI"
      }
    },
    {
      "cell_type": "markdown",
      "source": [
        "## Diccionarios (`dict`):\n",
        "   - Descripción: Una colección de pares clave-valor, donde cada valor está asociado con una clave única.\n",
        "   - Ejemplo:\n",
        "     ```python\n",
        "     my_dict = {\"clave1\": \"valor1\", \"clave2\": 2, \"clave3\": [1, 2, 3]}\n",
        "     ```"
      ],
      "metadata": {
        "id": "XX4_BtjG8CAu"
      }
    },
    {
      "cell_type": "markdown",
      "source": [
        "## Dataframes (`Dataframes`):\n",
        "   - Descripción: Una colección de pares clave-valor, donde cada valor está asociado con una clave única.\n",
        "   - Ejemplo:\n",
        "\n",
        "\n",
        "\n",
        "``` python\n",
        "    data = {\n",
        "    'nombre': ['Ana', 'Juan', 'María'],\n",
        "    'edad': [25, 30, 35],\n",
        "    'ciudad': ['Madrid', 'Barcelona', 'Sevilla']\n",
        "}\n",
        "\n",
        "df = pd.DataFrame(data)\n",
        "```\n",
        "\n",
        "\n",
        ""
      ],
      "metadata": {
        "id": "jC6x-cor8E3o"
      }
    },
    {
      "cell_type": "code",
      "source": [
        "# Datos ficticios de PIB por estado (en miles de millones de pesos)\n",
        "datos_pib = {\n",
        "    \"Aguascalientes\": \"{150.2}\",\n",
        "    \"Baja California\": \"{320.5}\",\n",
        "    \"Chiapas\": \"{220.8}\",\n",
        "    \"Ciudad de México\": \"{1990.7}\",\n",
        "    \"Jalisco\": \"{720.3}\",\n",
        "    \"Nuevo León\": \"{890.6}\",\n",
        "    \"Yucatán\": \"{310.1}\",\n",
        "    \"Zacatecas\": \"{140.4}\"\n",
        "}\n",
        "\n",
        "# Limpiar los valores usando strip() y convertirlos a float\n",
        "datos_pib_limpios = {estado: float(pib.strip(\"{}\")) for estado, pib in datos_pib.items()}\n",
        "\n",
        "# Calcular el PIB total y el promedio por estado\n",
        "pib_total = sum(datos_pib_limpios.values())\n",
        "pib_promedio = pib_total / len(datos_pib_limpios)\n",
        "\n",
        "# Mostrar resultados\n",
        "print(\"PIB por estado (limpio):\", datos_pib_limpios)\n",
        "print(f\"PIB total: {pib_total:.2f} mil millones de pesos\")\n",
        "print(f\"PIB promedio por estado: {pib_promedio:.2f} mil millones de pesos\")"
      ],
      "metadata": {
        "id": "poR6-s452qYC"
      },
      "execution_count": null,
      "outputs": []
    }
  ]
}